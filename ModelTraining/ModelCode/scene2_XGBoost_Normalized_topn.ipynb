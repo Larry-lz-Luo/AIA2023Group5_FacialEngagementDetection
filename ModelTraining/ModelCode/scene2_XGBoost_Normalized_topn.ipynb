{
 "cells": [
  {
   "cell_type": "code",
   "execution_count": 1,
   "metadata": {
    "colab": {
     "base_uri": "https://localhost:8080/"
    },
    "executionInfo": {
     "elapsed": 2711,
     "status": "ok",
     "timestamp": 1683134156932,
     "user": {
      "displayName": "洪啟豪",
      "userId": "08277187360257942838"
     },
     "user_tz": -480
    },
    "id": "a_02Aqmvm22h",
    "outputId": "7ee8ae1a-b701-4473-f60a-32a709cd7633"
   },
   "outputs": [
    {
     "name": "stdout",
     "output_type": "stream",
     "text": [
      "Populating the interactive namespace from numpy and matplotlib\n"
     ]
    }
   ],
   "source": [
    "from xgboost import XGBClassifier\n",
    "from sklearn.model_selection import train_test_split\n",
    "from sklearn.metrics import accuracy_score\n",
    "from sklearn.metrics import f1_score\n",
    "import pandas as pd\n",
    "import matplotlib.pyplot as plt\n",
    "%pylab inline"
   ]
  },
  {
   "cell_type": "markdown",
   "metadata": {},
   "source": [
    "## 去除雜訊"
   ]
  },
  {
   "cell_type": "code",
   "execution_count": 2,
   "metadata": {},
   "outputs": [],
   "source": [
    "def RemoveNoise(dataset, remove_condition):\n",
    "    # Remove data with gaze vector X, Y, Z have value 0.\n",
    "    print(f'Total count: {len(dataset)}, gaze vector zero count: {len(dataset[remove_condition])}')\n",
    "\n",
    "    dataset = dataset.drop(dataset[remove_condition].index)\n",
    "\n",
    "    print(f'Total count: {len(dataset)}')\n",
    "    \n",
    "    return dataset"
   ]
  },
  {
   "cell_type": "markdown",
   "metadata": {
    "id": "EXdjv-qYnqdl"
   },
   "source": [
    "## 載入資料集"
   ]
  },
  {
   "cell_type": "code",
   "execution_count": 3,
   "metadata": {
    "id": "X7ybsCSfnPbD"
   },
   "outputs": [
    {
     "name": "stdout",
     "output_type": "stream",
     "text": [
      "/project/xt121-group5/scene2_data/alice/2023-05-01 232058.csv\n",
      "Total count: 420, gaze vector zero count: 311\n",
      "Total count: 109\n",
      "/project/xt121-group5/scene2_data/alice/2023-05-01 231925.csv\n",
      "Total count: 412, gaze vector zero count: 16\n",
      "Total count: 396\n",
      "/project/xt121-group5/scene2_data/pinsian/2023-05-13 142553_c.csv\n",
      "Total count: 280, gaze vector zero count: 0\n",
      "Total count: 280\n",
      "/project/xt121-group5/scene2_data/pinsian/2023-05-13 142611 nc.csv\n",
      "Total count: 280, gaze vector zero count: 28\n",
      "Total count: 252\n",
      "/project/xt121-group5/scene2_data/larry/2023-05-01 232448.csv\n",
      "Total count: 469, gaze vector zero count: 0\n",
      "Total count: 469\n",
      "/project/xt121-group5/scene2_data/larry/2023-05-01 232329.csv\n",
      "Total count: 305, gaze vector zero count: 0\n",
      "Total count: 305\n",
      "/project/xt121-group5/scene2_data/charlie/2023-05-05 103150_c.csv\n",
      "Total count: 655, gaze vector zero count: 0\n",
      "Total count: 655\n",
      "/project/xt121-group5/scene2_data/charlie/2023-05-17 103748.csv\n",
      "Total count: 2186, gaze vector zero count: 901\n",
      "Total count: 1285\n",
      "/project/xt121-group5/scene2_data/charlie/2023-05-17 103617.csv\n",
      "Total count: 2368, gaze vector zero count: 385\n",
      "Total count: 1983\n",
      "/project/xt121-group5/scene2_data/charlie/2023-05-05 103233_nc.csv\n",
      "Total count: 1097, gaze vector zero count: 278\n",
      "Total count: 819\n",
      "/project/xt121-group5/scene2_data/jason/2023-05-05 151434.csv\n",
      "Total count: 590, gaze vector zero count: 196\n",
      "Total count: 394\n",
      "/project/xt121-group5/scene2_data/jason/2023-05-17 102413.csv\n",
      "Total count: 601, gaze vector zero count: 9\n",
      "Total count: 592\n",
      "/project/xt121-group5/scene2_data/jason/2023-05-17 102634.csv\n",
      "Total count: 801, gaze vector zero count: 172\n",
      "Total count: 629\n",
      "/project/xt121-group5/scene2_data/jason/2023-05-05 151410.csv\n",
      "Total count: 510, gaze vector zero count: 57\n",
      "Total count: 453\n",
      "/project/xt121-group5/scene2_data/jason/2023-05-05 145529.csv\n",
      "Total count: 461, gaze vector zero count: 4\n",
      "Total count: 457\n",
      "/project/xt121-group5/scene2_data/jason/2023-05-05 145621.csv\n",
      "Total count: 240, gaze vector zero count: 0\n",
      "Total count: 240\n",
      "/project/xt121-group5/scene2_data/jason/2023-05-17 102348.csv\n",
      "Total count: 760, gaze vector zero count: 224\n",
      "Total count: 536\n",
      "/project/xt121-group5/scene2_data/jason/2023-05-05 145600.csv\n",
      "Total count: 360, gaze vector zero count: 44\n",
      "Total count: 316\n",
      "/project/xt121-group5/scene2_data/jason/2023-05-05 145633.csv\n",
      "Total count: 203, gaze vector zero count: 0\n",
      "Total count: 203\n",
      "/project/xt121-group5/scene2_data/jason/2023-05-17 102327.csv\n",
      "Total count: 511, gaze vector zero count: 5\n",
      "Total count: 506\n",
      "/project/xt121-group5/scene2_data/jason/2023-05-17 102452.csv\n",
      "Total count: 845, gaze vector zero count: 0\n",
      "Total count: 845\n",
      "/project/xt121-group5/scene2_data/jason/2023-05-05 145640.csv\n",
      "Total count: 157, gaze vector zero count: 1\n",
      "Total count: 156\n",
      "/project/xt121-group5/scene2_data/jason/2023-05-17 102604.csv\n",
      "Total count: 758, gaze vector zero count: 5\n",
      "Total count: 753\n",
      "/project/xt121-group5/scene2_data/jason/2023-05-05 151354.csv\n",
      "Total count: 343, gaze vector zero count: 31\n",
      "Total count: 312\n",
      "/project/xt121-group5/scene2_data/jason/2023-05-05 151333.csv\n",
      "Total count: 459, gaze vector zero count: 74\n",
      "Total count: 385\n",
      "/project/xt121-group5/scene2_data/jason/2023-05-17 102531.csv\n",
      "Total count: 668, gaze vector zero count: 15\n",
      "Total count: 653\n",
      "/project/xt121-group5/scene2_data/jason/.ipynb_checkpoints/2023-05-05 145633-checkpoint.csv\n",
      "Total count: 203, gaze vector zero count: 0\n",
      "Total count: 203\n"
     ]
    }
   ],
   "source": [
    "import os\n",
    "df_train = pd.core.frame.DataFrame()\n",
    "for dirname, _, filenames in os.walk('/project/xt121-group5/scene2_data/'):\n",
    "    for filename in filenames:\n",
    "        if dirname.split('/')[-1] != 'test_data':\n",
    "            print(os.path.join(dirname, filename))\n",
    "            df_train2 = pd.read_csv(os.path.join(dirname, filename))\n",
    "            df_train2 = RemoveNoise(df_train2, \n",
    "                                    (df_train2['GazeVector_X'] == 0) & \n",
    "                                    (df_train2['GazeVector_Y'] == 0) & \n",
    "                                    (df_train2['GazeVector_Z'] == 0))\n",
    "            df_train = pd.concat([df_train, df_train2])\n",
    "        \n",
    "df_train = df_train.drop(labels = ['RecordTime'], axis = 1) # 移除 RecordTime"
   ]
  },
  {
   "cell_type": "code",
   "execution_count": 4,
   "metadata": {
    "colab": {
     "base_uri": "https://localhost:8080/"
    },
    "executionInfo": {
     "elapsed": 504,
     "status": "ok",
     "timestamp": 1683134191466,
     "user": {
      "displayName": "洪啟豪",
      "userId": "08277187360257942838"
     },
     "user_tz": -480
    },
    "id": "h93qCpsSnWfz",
    "outputId": "7d802664-f27d-4f03-ee8e-c014eec2244d"
   },
   "outputs": [
    {
     "name": "stdout",
     "output_type": "stream",
     "text": [
      "(14186, 103)\n",
      "RecordType\n",
      "0    6235\n",
      "1    7951\n",
      "Name: RecordType, dtype: int64\n"
     ]
    }
   ],
   "source": [
    "print(df_train.shape)\n",
    "print(df_train.groupby('RecordType')['RecordType'].count())"
   ]
  },
  {
   "cell_type": "markdown",
   "metadata": {},
   "source": [
    "## 資料前處理"
   ]
  },
  {
   "cell_type": "markdown",
   "metadata": {},
   "source": [
    "### 前處理－臉部特徵座標平移"
   ]
  },
  {
   "cell_type": "code",
   "execution_count": 5,
   "metadata": {},
   "outputs": [],
   "source": [
    "def FaceLandmarksPreprocessing(df_data, verbose = False):\n",
    "    for col_name in df_data.columns.to_list():\n",
    "        if col_name.find('FaceLandmarks_') == 0 or \\\n",
    "        col_name.find('EyeLandmarks_') == 0 or \\\n",
    "        col_name.find('LeftEyeBoundingBox_') == 0 or \\\n",
    "        col_name.find('RightEyeBoundingBox_') == 0 or \\\n",
    "        col_name.find('LeftEyeMidPoint_') == 0 or \\\n",
    "        col_name.find('RightEyeMidPoint_') == 0:\n",
    "            if col_name.find('_X') == len(col_name) - 2:\n",
    "                df_data[col_name] = df_data[col_name] - df_data['FaceBoundingBox_X']\n",
    "                if verbose:\n",
    "                    print(f'Column {col_name} is subtracted by FaceBoundingBox_X.')\n",
    "            elif col_name.find('_Y') == len(col_name) - 2:\n",
    "                df_data[col_name] = df_data[col_name] - df_data['FaceBoundingBox_Y']\n",
    "                if verbose:\n",
    "                    print(f'Column {col_name} is subtracted by FaceBoundingBox_Y.')\n",
    "            else:\n",
    "#                 print(f'Ignore column {col_name}.')\n",
    "                pass\n",
    "        else:\n",
    "#             print(f'Ignore column {col_name}')\n",
    "            pass\n",
    "    return df_data"
   ]
  },
  {
   "cell_type": "code",
   "execution_count": 6,
   "metadata": {},
   "outputs": [
    {
     "name": "stdout",
     "output_type": "stream",
     "text": [
      "    FaceBoundingBox_X  FaceBoundingBox_Y  FaceBoundingBox_W  \\\n",
      "0                 524                166                253   \n",
      "1                 525                161                255   \n",
      "2                 525                163                255   \n",
      "3                 526                168                255   \n",
      "15                532                243                205   \n",
      "\n",
      "    FaceBoundingBox_H  FaceLandmarks_1_X  FaceLandmarks_1_Y  \\\n",
      "0                 253                632                257   \n",
      "1                 255                634                254   \n",
      "2                 255                634                256   \n",
      "3                 255                639                268   \n",
      "15                205                632                366   \n",
      "\n",
      "    FaceLandmarks_2_X  FaceLandmarks_2_Y  FaceLandmarks_3_X  \\\n",
      "0                 602                255                679   \n",
      "1                 603                252                681   \n",
      "2                 604                255                681   \n",
      "3                 612                266                681   \n",
      "15                620                371                649   \n",
      "\n",
      "    FaceLandmarks_3_Y  ...  EyeLandmarks_4_X  EyeLandmarks_4_Y  \\\n",
      "0                 258  ...               708               256   \n",
      "1                 254  ...               711               252   \n",
      "2                 256  ...               710               254   \n",
      "3                 268  ...               707               266   \n",
      "15                354  ...               659               343   \n",
      "\n",
      "    LeftEyeMidPoint_X  LeftEyeMidPoint_Y  RightEyeMidPoint_X  \\\n",
      "0               617.0              256.0               693.5   \n",
      "1               618.5              253.0               696.0   \n",
      "2               619.0              255.5               695.5   \n",
      "3               625.5              267.0               694.0   \n",
      "15              626.0              368.5               654.0   \n",
      "\n",
      "    RightEyeMidPoint_Y  GazeVector_X  GazeVector_Y  GazeVector_Z  RecordType  \n",
      "0                257.0     -0.094805     -0.014327     -0.995393           0  \n",
      "1                253.0     -0.047574     -0.034673     -0.998266           0  \n",
      "2                255.0      0.012142     -0.065674     -0.997767           0  \n",
      "3                267.0     -0.003677     -0.079957     -0.996792           0  \n",
      "15               348.5     -0.251138     -0.201785     -0.946685           0  \n",
      "\n",
      "[5 rows x 103 columns]\n"
     ]
    }
   ],
   "source": [
    "print(df_train.head())"
   ]
  },
  {
   "cell_type": "code",
   "execution_count": 7,
   "metadata": {},
   "outputs": [
    {
     "name": "stdout",
     "output_type": "stream",
     "text": [
      "Column FaceLandmarks_1_X is subtracted by FaceBoundingBox_X.\n",
      "Column FaceLandmarks_1_Y is subtracted by FaceBoundingBox_Y.\n",
      "Column FaceLandmarks_2_X is subtracted by FaceBoundingBox_X.\n",
      "Column FaceLandmarks_2_Y is subtracted by FaceBoundingBox_Y.\n",
      "Column FaceLandmarks_3_X is subtracted by FaceBoundingBox_X.\n",
      "Column FaceLandmarks_3_Y is subtracted by FaceBoundingBox_Y.\n",
      "Column FaceLandmarks_4_X is subtracted by FaceBoundingBox_X.\n",
      "Column FaceLandmarks_4_Y is subtracted by FaceBoundingBox_Y.\n",
      "Column FaceLandmarks_5_X is subtracted by FaceBoundingBox_X.\n",
      "Column FaceLandmarks_5_Y is subtracted by FaceBoundingBox_Y.\n",
      "Column FaceLandmarks_6_X is subtracted by FaceBoundingBox_X.\n",
      "Column FaceLandmarks_6_Y is subtracted by FaceBoundingBox_Y.\n",
      "Column FaceLandmarks_7_X is subtracted by FaceBoundingBox_X.\n",
      "Column FaceLandmarks_7_Y is subtracted by FaceBoundingBox_Y.\n",
      "Column FaceLandmarks_8_X is subtracted by FaceBoundingBox_X.\n",
      "Column FaceLandmarks_8_Y is subtracted by FaceBoundingBox_Y.\n",
      "Column FaceLandmarks_9_X is subtracted by FaceBoundingBox_X.\n",
      "Column FaceLandmarks_9_Y is subtracted by FaceBoundingBox_Y.\n",
      "Column FaceLandmarks_10_X is subtracted by FaceBoundingBox_X.\n",
      "Column FaceLandmarks_10_Y is subtracted by FaceBoundingBox_Y.\n",
      "Column FaceLandmarks_11_X is subtracted by FaceBoundingBox_X.\n",
      "Column FaceLandmarks_11_Y is subtracted by FaceBoundingBox_Y.\n",
      "Column FaceLandmarks_12_X is subtracted by FaceBoundingBox_X.\n",
      "Column FaceLandmarks_12_Y is subtracted by FaceBoundingBox_Y.\n",
      "Column FaceLandmarks_13_X is subtracted by FaceBoundingBox_X.\n",
      "Column FaceLandmarks_13_Y is subtracted by FaceBoundingBox_Y.\n",
      "Column FaceLandmarks_14_X is subtracted by FaceBoundingBox_X.\n",
      "Column FaceLandmarks_14_Y is subtracted by FaceBoundingBox_Y.\n",
      "Column FaceLandmarks_15_X is subtracted by FaceBoundingBox_X.\n",
      "Column FaceLandmarks_15_Y is subtracted by FaceBoundingBox_Y.\n",
      "Column FaceLandmarks_16_X is subtracted by FaceBoundingBox_X.\n",
      "Column FaceLandmarks_16_Y is subtracted by FaceBoundingBox_Y.\n",
      "Column FaceLandmarks_17_X is subtracted by FaceBoundingBox_X.\n",
      "Column FaceLandmarks_17_Y is subtracted by FaceBoundingBox_Y.\n",
      "Column FaceLandmarks_18_X is subtracted by FaceBoundingBox_X.\n",
      "Column FaceLandmarks_18_Y is subtracted by FaceBoundingBox_Y.\n",
      "Column FaceLandmarks_19_X is subtracted by FaceBoundingBox_X.\n",
      "Column FaceLandmarks_19_Y is subtracted by FaceBoundingBox_Y.\n",
      "Column FaceLandmarks_20_X is subtracted by FaceBoundingBox_X.\n",
      "Column FaceLandmarks_20_Y is subtracted by FaceBoundingBox_Y.\n",
      "Column FaceLandmarks_21_X is subtracted by FaceBoundingBox_X.\n",
      "Column FaceLandmarks_21_Y is subtracted by FaceBoundingBox_Y.\n",
      "Column FaceLandmarks_22_X is subtracted by FaceBoundingBox_X.\n",
      "Column FaceLandmarks_22_Y is subtracted by FaceBoundingBox_Y.\n",
      "Column FaceLandmarks_23_X is subtracted by FaceBoundingBox_X.\n",
      "Column FaceLandmarks_23_Y is subtracted by FaceBoundingBox_Y.\n",
      "Column FaceLandmarks_24_X is subtracted by FaceBoundingBox_X.\n",
      "Column FaceLandmarks_24_Y is subtracted by FaceBoundingBox_Y.\n",
      "Column FaceLandmarks_25_X is subtracted by FaceBoundingBox_X.\n",
      "Column FaceLandmarks_25_Y is subtracted by FaceBoundingBox_Y.\n",
      "Column FaceLandmarks_26_X is subtracted by FaceBoundingBox_X.\n",
      "Column FaceLandmarks_26_Y is subtracted by FaceBoundingBox_Y.\n",
      "Column FaceLandmarks_27_X is subtracted by FaceBoundingBox_X.\n",
      "Column FaceLandmarks_27_Y is subtracted by FaceBoundingBox_Y.\n",
      "Column FaceLandmarks_28_X is subtracted by FaceBoundingBox_X.\n",
      "Column FaceLandmarks_28_Y is subtracted by FaceBoundingBox_Y.\n",
      "Column FaceLandmarks_29_X is subtracted by FaceBoundingBox_X.\n",
      "Column FaceLandmarks_29_Y is subtracted by FaceBoundingBox_Y.\n",
      "Column FaceLandmarks_30_X is subtracted by FaceBoundingBox_X.\n",
      "Column FaceLandmarks_30_Y is subtracted by FaceBoundingBox_Y.\n",
      "Column FaceLandmarks_31_X is subtracted by FaceBoundingBox_X.\n",
      "Column FaceLandmarks_31_Y is subtracted by FaceBoundingBox_Y.\n",
      "Column FaceLandmarks_32_X is subtracted by FaceBoundingBox_X.\n",
      "Column FaceLandmarks_32_Y is subtracted by FaceBoundingBox_Y.\n",
      "Column FaceLandmarks_33_X is subtracted by FaceBoundingBox_X.\n",
      "Column FaceLandmarks_33_Y is subtracted by FaceBoundingBox_Y.\n",
      "Column FaceLandmarks_34_X is subtracted by FaceBoundingBox_X.\n",
      "Column FaceLandmarks_34_Y is subtracted by FaceBoundingBox_Y.\n",
      "Column FaceLandmarks_35_X is subtracted by FaceBoundingBox_X.\n",
      "Column FaceLandmarks_35_Y is subtracted by FaceBoundingBox_Y.\n",
      "Column LeftEyeBoundingBox_X is subtracted by FaceBoundingBox_X.\n",
      "Column LeftEyeBoundingBox_Y is subtracted by FaceBoundingBox_Y.\n",
      "Column RightEyeBoundingBox_X is subtracted by FaceBoundingBox_X.\n",
      "Column RightEyeBoundingBox_Y is subtracted by FaceBoundingBox_Y.\n",
      "Column EyeLandmarks_1_X is subtracted by FaceBoundingBox_X.\n",
      "Column EyeLandmarks_1_Y is subtracted by FaceBoundingBox_Y.\n",
      "Column EyeLandmarks_2_X is subtracted by FaceBoundingBox_X.\n",
      "Column EyeLandmarks_2_Y is subtracted by FaceBoundingBox_Y.\n",
      "Column EyeLandmarks_3_X is subtracted by FaceBoundingBox_X.\n",
      "Column EyeLandmarks_3_Y is subtracted by FaceBoundingBox_Y.\n",
      "Column EyeLandmarks_4_X is subtracted by FaceBoundingBox_X.\n",
      "Column EyeLandmarks_4_Y is subtracted by FaceBoundingBox_Y.\n",
      "Column LeftEyeMidPoint_X is subtracted by FaceBoundingBox_X.\n",
      "Column LeftEyeMidPoint_Y is subtracted by FaceBoundingBox_Y.\n",
      "Column RightEyeMidPoint_X is subtracted by FaceBoundingBox_X.\n",
      "Column RightEyeMidPoint_Y is subtracted by FaceBoundingBox_Y.\n"
     ]
    }
   ],
   "source": [
    "df_train = FaceLandmarksPreprocessing(df_train, True)"
   ]
  },
  {
   "cell_type": "code",
   "execution_count": 8,
   "metadata": {},
   "outputs": [
    {
     "name": "stdout",
     "output_type": "stream",
     "text": [
      "    FaceBoundingBox_X  FaceBoundingBox_Y  FaceBoundingBox_W  \\\n",
      "0                 524                166                253   \n",
      "1                 525                161                255   \n",
      "2                 525                163                255   \n",
      "3                 526                168                255   \n",
      "15                532                243                205   \n",
      "\n",
      "    FaceBoundingBox_H  FaceLandmarks_1_X  FaceLandmarks_1_Y  \\\n",
      "0                 253                108                 91   \n",
      "1                 255                109                 93   \n",
      "2                 255                109                 93   \n",
      "3                 255                113                100   \n",
      "15                205                100                123   \n",
      "\n",
      "    FaceLandmarks_2_X  FaceLandmarks_2_Y  FaceLandmarks_3_X  \\\n",
      "0                  78                 89                155   \n",
      "1                  78                 91                156   \n",
      "2                  79                 92                156   \n",
      "3                  86                 98                155   \n",
      "15                 88                128                117   \n",
      "\n",
      "    FaceLandmarks_3_Y  ...  EyeLandmarks_4_X  EyeLandmarks_4_Y  \\\n",
      "0                  92  ...               184                90   \n",
      "1                  93  ...               186                91   \n",
      "2                  93  ...               185                91   \n",
      "3                 100  ...               181                98   \n",
      "15                111  ...               127               100   \n",
      "\n",
      "    LeftEyeMidPoint_X  LeftEyeMidPoint_Y  RightEyeMidPoint_X  \\\n",
      "0                93.0               90.0               169.5   \n",
      "1                93.5               92.0               171.0   \n",
      "2                94.0               92.5               170.5   \n",
      "3                99.5               99.0               168.0   \n",
      "15               94.0              125.5               122.0   \n",
      "\n",
      "    RightEyeMidPoint_Y  GazeVector_X  GazeVector_Y  GazeVector_Z  RecordType  \n",
      "0                 91.0     -0.094805     -0.014327     -0.995393           0  \n",
      "1                 92.0     -0.047574     -0.034673     -0.998266           0  \n",
      "2                 92.0      0.012142     -0.065674     -0.997767           0  \n",
      "3                 99.0     -0.003677     -0.079957     -0.996792           0  \n",
      "15               105.5     -0.251138     -0.201785     -0.946685           0  \n",
      "\n",
      "[5 rows x 103 columns]\n"
     ]
    }
   ],
   "source": [
    "print(df_train.head())"
   ]
  },
  {
   "cell_type": "markdown",
   "metadata": {
    "id": "CdJVL8ygnnyv"
   },
   "source": [
    "### 前處理－檢查缺失值"
   ]
  },
  {
   "cell_type": "code",
   "execution_count": 9,
   "metadata": {
    "colab": {
     "base_uri": "https://localhost:8080/"
    },
    "executionInfo": {
     "elapsed": 4,
     "status": "ok",
     "timestamp": 1683134238809,
     "user": {
      "displayName": "洪啟豪",
      "userId": "08277187360257942838"
     },
     "user_tz": -480
    },
    "id": "lByl9PTOnY-F",
    "outputId": "0119a5ec-e6ab-44ab-9e39-205e1ce81646"
   },
   "outputs": [
    {
     "name": "stdout",
     "output_type": "stream",
     "text": [
      "Before data clean(NAN mount): 0\n"
     ]
    }
   ],
   "source": [
    "# checked missing data\n",
    "print(\"Before data clean(NAN mount):\", len(np.where(np.isnan(df_train) == 1)[0]))"
   ]
  },
  {
   "cell_type": "code",
   "execution_count": 10,
   "metadata": {
    "id": "JPd8gtYOnk1F"
   },
   "outputs": [],
   "source": [
    "# Find columns with only unique value.\n",
    "# unique_col = []\n",
    "# for i in df_train.columns:\n",
    "#     if np.unique(df_train[i]).shape[0]==1:\n",
    "#         print(f'Get column {i} with only unique value.')\n",
    "#         unique_col.append(i) "
   ]
  },
  {
   "cell_type": "code",
   "execution_count": 11,
   "metadata": {
    "id": "wgFEqJtqn0iz"
   },
   "outputs": [],
   "source": [
    "# print(unique_col)"
   ]
  },
  {
   "cell_type": "code",
   "execution_count": 12,
   "metadata": {
    "id": "YdvZ779Dn20X"
   },
   "outputs": [],
   "source": [
    "# df_train.describe()[unique_col]"
   ]
  },
  {
   "cell_type": "code",
   "execution_count": 13,
   "metadata": {
    "id": "4Be2lkSkn4MD"
   },
   "outputs": [],
   "source": [
    "# Drop columns with only unique value.\n",
    "# df_train = df_train.drop(unique_col, axis=1)"
   ]
  },
  {
   "cell_type": "markdown",
   "metadata": {},
   "source": [
    "### 前處理－保留重要特徵"
   ]
  },
  {
   "cell_type": "code",
   "execution_count": 14,
   "metadata": {
    "id": "GIqFHaOSn5oF"
   },
   "outputs": [],
   "source": [
    "# 列出重要的特徵。\n",
    "col_high_rel = ['HeadPoseAngles_Y', 'GazeVector_X', 'GazeVector_Z', 'GazeVector_Y', 'HeadPoseAngles_Z']\n",
    "col_deleted = ['FaceBoundingBox_X', 'FaceBoundingBox_Y']"
   ]
  },
  {
   "cell_type": "code",
   "execution_count": 15,
   "metadata": {
    "id": "VFcIvO6FofFD"
   },
   "outputs": [
    {
     "name": "stdout",
     "output_type": "stream",
     "text": [
      "(14186,)\n"
     ]
    }
   ],
   "source": [
    "# 取目標值。\n",
    "y = df_train['RecordType'].values\n",
    "print(y.shape)"
   ]
  },
  {
   "cell_type": "code",
   "execution_count": 16,
   "metadata": {
    "id": "ykVqh8LsoCgk"
   },
   "outputs": [],
   "source": [
    "# 刪除沒有被列在重要特徵列表的特徵。\n",
    "def ReserveImportColumns(df_data, col_reserved):\n",
    "    for col_name in df_data.columns.to_list():\n",
    "        if col_name not in col_reserved:\n",
    "            df_data = df_data.drop(col_name, axis = 1)\n",
    "    return df_data"
   ]
  },
  {
   "cell_type": "code",
   "execution_count": 17,
   "metadata": {},
   "outputs": [
    {
     "name": "stdout",
     "output_type": "stream",
     "text": [
      "(14186, 5)\n",
      "Index(['HeadPoseAngles_Y', 'HeadPoseAngles_Z', 'GazeVector_X', 'GazeVector_Y',\n",
      "       'GazeVector_Z'],\n",
      "      dtype='object')\n"
     ]
    }
   ],
   "source": [
    "df_train.drop(col_deleted, axis = 1)\n",
    "df_train = ReserveImportColumns(df_train, col_high_rel)\n",
    "\n",
    "print(shape(df_train))\n",
    "print(df_train.columns)"
   ]
  },
  {
   "cell_type": "code",
   "execution_count": 18,
   "metadata": {
    "id": "fRDtN4THoFaT"
   },
   "outputs": [],
   "source": [
    "# from sklearn.preprocessing import StandardScaler\n",
    "# from sklearn.preprocessing import MinMaxScaler"
   ]
  },
  {
   "cell_type": "code",
   "execution_count": 19,
   "metadata": {
    "id": "s5RxZZWkoGuM"
   },
   "outputs": [],
   "source": [
    "# def data_preprocessing(df_input, train=True, sc=None):\n",
    "#     # numeric feature standardization\n",
    "#     if train:\n",
    "#         sc = StandardScaler()\n",
    "# #         sc = MinMaxScaler()\n",
    "#         df = sc.fit_transform(df_input.iloc[:, 0:-1])\n",
    "#     else:\n",
    "#         df = sc.transform(df_input)\n",
    "#     return df, sc"
   ]
  },
  {
   "cell_type": "code",
   "execution_count": 20,
   "metadata": {
    "id": "5SLy0ziNoNa1"
   },
   "outputs": [],
   "source": [
    "# X, train_sc = data_preprocessing(df_train)"
   ]
  },
  {
   "cell_type": "code",
   "execution_count": 21,
   "metadata": {
    "id": "YD5cLbO2oQWH"
   },
   "outputs": [],
   "source": [
    "# print(X.shape)"
   ]
  },
  {
   "cell_type": "code",
   "execution_count": 22,
   "metadata": {
    "id": "Ne9F-x99oZY9"
   },
   "outputs": [],
   "source": [
    "# print(train_sc.mean_)"
   ]
  },
  {
   "cell_type": "code",
   "execution_count": 23,
   "metadata": {
    "id": "wQN9qy2iocZX"
   },
   "outputs": [],
   "source": [
    "# print(train_sc.var_)"
   ]
  },
  {
   "cell_type": "code",
   "execution_count": 24,
   "metadata": {
    "colab": {
     "base_uri": "https://localhost:8080/"
    },
    "executionInfo": {
     "elapsed": 4,
     "status": "ok",
     "timestamp": 1683134509554,
     "user": {
      "displayName": "洪啟豪",
      "userId": "08277187360257942838"
     },
     "user_tz": -480
    },
    "id": "y6Ne7Y_8ojln",
    "outputId": "ff4b155a-1e69-4c06-dcea-bb34a167f23d"
   },
   "outputs": [
    {
     "name": "stdout",
     "output_type": "stream",
     "text": [
      "[0 0 0 ... 1 1 1]\n"
     ]
    }
   ],
   "source": [
    "np.unique(y)\n",
    "print(y)"
   ]
  },
  {
   "cell_type": "markdown",
   "metadata": {
    "id": "xE8GmGCOpenc"
   },
   "source": [
    "## 切割訓練集"
   ]
  },
  {
   "cell_type": "code",
   "execution_count": 25,
   "metadata": {
    "id": "tghkbwmwopjK"
   },
   "outputs": [],
   "source": [
    "x_train, x_valid, y_train, y_valid = train_test_split(df_train, y, test_size = 0.25, random_state = 17, stratify = y)"
   ]
  },
  {
   "cell_type": "markdown",
   "metadata": {},
   "source": [
    "## 訓練模型"
   ]
  },
  {
   "cell_type": "code",
   "execution_count": 26,
   "metadata": {
    "colab": {
     "base_uri": "https://localhost:8080/",
     "height": 612
    },
    "executionInfo": {
     "elapsed": 643,
     "status": "ok",
     "timestamp": 1683134874585,
     "user": {
      "displayName": "洪啟豪",
      "userId": "08277187360257942838"
     },
     "user_tz": -480
    },
    "id": "20eJyXYepj93",
    "outputId": "a04b2eee-d94c-4679-c066-93bdb9ba2026"
   },
   "outputs": [
    {
     "name": "stdout",
     "output_type": "stream",
     "text": [
      "<class 'pandas.core.frame.DataFrame'>\n",
      "<class 'numpy.ndarray'>\n",
      "[0]\tvalidation_0-auc:0.945267\n",
      "[1]\tvalidation_0-auc:0.946899\n",
      "[2]\tvalidation_0-auc:0.952149\n",
      "[3]\tvalidation_0-auc:0.95436\n",
      "[4]\tvalidation_0-auc:0.955778\n",
      "[5]\tvalidation_0-auc:0.957858\n",
      "[6]\tvalidation_0-auc:0.957993\n",
      "[7]\tvalidation_0-auc:0.960638\n",
      "[8]\tvalidation_0-auc:0.961015\n",
      "[9]\tvalidation_0-auc:0.961142\n",
      "[10]\tvalidation_0-auc:0.961871\n",
      "[11]\tvalidation_0-auc:0.961872\n",
      "[12]\tvalidation_0-auc:0.962942\n",
      "[13]\tvalidation_0-auc:0.963494\n",
      "[14]\tvalidation_0-auc:0.964893\n",
      "[15]\tvalidation_0-auc:0.965263\n",
      "[16]\tvalidation_0-auc:0.965403\n",
      "[17]\tvalidation_0-auc:0.966218\n",
      "[18]\tvalidation_0-auc:0.967146\n",
      "[19]\tvalidation_0-auc:0.967558\n",
      "[20]\tvalidation_0-auc:0.967678\n",
      "[21]\tvalidation_0-auc:0.967844\n",
      "[22]\tvalidation_0-auc:0.968171\n",
      "[23]\tvalidation_0-auc:0.971566\n",
      "[24]\tvalidation_0-auc:0.972003\n",
      "[25]\tvalidation_0-auc:0.972461\n",
      "[26]\tvalidation_0-auc:0.974751\n",
      "[27]\tvalidation_0-auc:0.976199\n",
      "[28]\tvalidation_0-auc:0.976381\n",
      "[29]\tvalidation_0-auc:0.978531\n",
      "[30]\tvalidation_0-auc:0.978879\n",
      "[31]\tvalidation_0-auc:0.979291\n",
      "[32]\tvalidation_0-auc:0.97979\n",
      "[33]\tvalidation_0-auc:0.979754\n",
      "[34]\tvalidation_0-auc:0.979747\n",
      "[35]\tvalidation_0-auc:0.980857\n",
      "[36]\tvalidation_0-auc:0.981063\n",
      "[37]\tvalidation_0-auc:0.98183\n",
      "[38]\tvalidation_0-auc:0.98185\n",
      "[39]\tvalidation_0-auc:0.981918\n",
      "[40]\tvalidation_0-auc:0.981947\n",
      "[41]\tvalidation_0-auc:0.982031\n",
      "[42]\tvalidation_0-auc:0.982532\n",
      "[43]\tvalidation_0-auc:0.983054\n",
      "[44]\tvalidation_0-auc:0.982844\n",
      "[45]\tvalidation_0-auc:0.98304\n",
      "[46]\tvalidation_0-auc:0.983048\n",
      "[47]\tvalidation_0-auc:0.983064\n",
      "[48]\tvalidation_0-auc:0.983186\n",
      "[49]\tvalidation_0-auc:0.983175\n",
      "[50]\tvalidation_0-auc:0.983316\n",
      "[51]\tvalidation_0-auc:0.983563\n",
      "[52]\tvalidation_0-auc:0.983613\n",
      "[53]\tvalidation_0-auc:0.983649\n",
      "[54]\tvalidation_0-auc:0.983689\n",
      "[55]\tvalidation_0-auc:0.983977\n",
      "[56]\tvalidation_0-auc:0.983986\n",
      "[57]\tvalidation_0-auc:0.984081\n",
      "[58]\tvalidation_0-auc:0.984093\n",
      "[59]\tvalidation_0-auc:0.984142\n",
      "[60]\tvalidation_0-auc:0.984179\n",
      "[61]\tvalidation_0-auc:0.984354\n",
      "[62]\tvalidation_0-auc:0.984456\n",
      "[63]\tvalidation_0-auc:0.984478\n",
      "[64]\tvalidation_0-auc:0.984507\n",
      "[65]\tvalidation_0-auc:0.98475\n",
      "[66]\tvalidation_0-auc:0.984687\n",
      "[67]\tvalidation_0-auc:0.985047\n",
      "[68]\tvalidation_0-auc:0.985178\n",
      "[69]\tvalidation_0-auc:0.985184\n",
      "[70]\tvalidation_0-auc:0.985164\n",
      "[71]\tvalidation_0-auc:0.985369\n",
      "[72]\tvalidation_0-auc:0.985449\n",
      "[73]\tvalidation_0-auc:0.98547\n",
      "[74]\tvalidation_0-auc:0.985471\n",
      "[75]\tvalidation_0-auc:0.98556\n",
      "[76]\tvalidation_0-auc:0.985587\n",
      "[77]\tvalidation_0-auc:0.985817\n",
      "[78]\tvalidation_0-auc:0.985879\n",
      "[79]\tvalidation_0-auc:0.985941\n",
      "[80]\tvalidation_0-auc:0.986021\n",
      "[81]\tvalidation_0-auc:0.98598\n",
      "[82]\tvalidation_0-auc:0.986002\n",
      "[83]\tvalidation_0-auc:0.986029\n",
      "[84]\tvalidation_0-auc:0.986042\n",
      "[85]\tvalidation_0-auc:0.98613\n",
      "[86]\tvalidation_0-auc:0.986197\n",
      "[87]\tvalidation_0-auc:0.986294\n",
      "[88]\tvalidation_0-auc:0.986544\n",
      "[89]\tvalidation_0-auc:0.986549\n",
      "[90]\tvalidation_0-auc:0.98655\n",
      "[91]\tvalidation_0-auc:0.986645\n",
      "[92]\tvalidation_0-auc:0.986694\n",
      "[93]\tvalidation_0-auc:0.986751\n",
      "[94]\tvalidation_0-auc:0.986747\n",
      "[95]\tvalidation_0-auc:0.98675\n",
      "[96]\tvalidation_0-auc:0.98677\n",
      "[97]\tvalidation_0-auc:0.986844\n",
      "[98]\tvalidation_0-auc:0.98688\n",
      "[99]\tvalidation_0-auc:0.986956\n"
     ]
    },
    {
     "data": {
      "text/plain": [
       "XGBClassifier(base_score=0.5, booster='gbtree', colsample_bylevel=1,\n",
       "              colsample_bynode=1, colsample_bytree=1, early_stopping_rounds=10,\n",
       "              eval_metric='auc', gamma=0, learning_rate=0.1, max_delta_step=0,\n",
       "              max_depth=3, min_child_weight=1, missing=None, n_estimators=100,\n",
       "              n_jobs=1, nthread=None, objective='binary:logistic',\n",
       "              random_state=0, reg_alpha=0, reg_lambda=1, scale_pos_weight=1,\n",
       "              seed=None, silent=None, subsample=1, verbosity=1)"
      ]
     },
     "execution_count": 26,
     "metadata": {},
     "output_type": "execute_result"
    }
   ],
   "source": [
    "# eval_metrics can selecy rmse, logloss, error,\\\n",
    "# auc, merror, mlogloss or custom define\n",
    "eval_set = [(x_valid, y_valid)]\n",
    "model = XGBClassifier(early_stopping_rounds = 10, \n",
    "                      eval_metric = \"auc\")\n",
    "print(type(x_train))\n",
    "print(type(y_train))\n",
    "model.fit(x_train, \n",
    "          y_train, \n",
    "          eval_set = eval_set, \n",
    "          verbose = True)"
   ]
  },
  {
   "cell_type": "code",
   "execution_count": 27,
   "metadata": {
    "colab": {
     "base_uri": "https://localhost:8080/"
    },
    "executionInfo": {
     "elapsed": 3,
     "status": "ok",
     "timestamp": 1683134910280,
     "user": {
      "displayName": "洪啟豪",
      "userId": "08277187360257942838"
     },
     "user_tz": -480
    },
    "id": "njTW4TC-p_3y",
    "outputId": "5830effb-a8c5-4cfa-fd7f-311773337001"
   },
   "outputs": [
    {
     "data": {
      "text/plain": [
       "array([[3.2289505e-02, 9.6771049e-01],\n",
       "       [3.1933963e-02, 9.6806604e-01],\n",
       "       [9.9906772e-01, 9.3230413e-04],\n",
       "       [3.4155786e-02, 9.6584421e-01],\n",
       "       [1.4191604e-01, 8.5808396e-01]], dtype=float32)"
      ]
     },
     "execution_count": 27,
     "metadata": {},
     "output_type": "execute_result"
    }
   ],
   "source": [
    "# model.predict_proba will return the probility\n",
    "# model.predict will return the predict label (use 0.5 as threshold)\n",
    "y_pred = model.predict_proba(x_valid)\n",
    "y_pred[:5]"
   ]
  },
  {
   "cell_type": "code",
   "execution_count": 28,
   "metadata": {
    "colab": {
     "base_uri": "https://localhost:8080/"
    },
    "executionInfo": {
     "elapsed": 3,
     "status": "ok",
     "timestamp": 1683134942359,
     "user": {
      "displayName": "洪啟豪",
      "userId": "08277187360257942838"
     },
     "user_tz": -480
    },
    "id": "Oso8thXbqIg5",
    "outputId": "78a780da-d518-450a-8754-2727f3941633"
   },
   "outputs": [
    {
     "name": "stdout",
     "output_type": "stream",
     "text": [
      "Accuracy: 96.05%\n"
     ]
    }
   ],
   "source": [
    "# we use model.predict to get the label\n",
    "y_pred = model.predict(x_valid)\n",
    "accuracy = accuracy_score(y_valid, y_pred)\n",
    "print(\"Accuracy: %.2f%%\" % (accuracy * 100.0))"
   ]
  },
  {
   "cell_type": "code",
   "execution_count": 29,
   "metadata": {},
   "outputs": [
    {
     "name": "stdout",
     "output_type": "stream",
     "text": [
      "f1 score: 96.52%\n"
     ]
    }
   ],
   "source": [
    "# f1 score\n",
    "f1_score_value = f1_score(y_valid, y_pred)\n",
    "print(\"f1 score: %.2f%%\" % (f1_score_value * 100.0))"
   ]
  },
  {
   "cell_type": "code",
   "execution_count": 30,
   "metadata": {
    "colab": {
     "base_uri": "https://localhost:8080/"
    },
    "executionInfo": {
     "elapsed": 4,
     "status": "ok",
     "timestamp": 1683134951978,
     "user": {
      "displayName": "洪啟豪",
      "userId": "08277187360257942838"
     },
     "user_tz": -480
    },
    "id": "l9UbyLg5qQNp",
    "outputId": "f6c6523e-4243-410d-e324-a2286fc0f5b1"
   },
   "outputs": [
    {
     "name": "stdout",
     "output_type": "stream",
     "text": [
      "[0.08319025 0.1012467  0.06393696 0.11232767 0.63929844]\n"
     ]
    }
   ],
   "source": [
    "# we can show the feature importances for our features\n",
    "print(model.feature_importances_)"
   ]
  },
  {
   "cell_type": "code",
   "execution_count": 31,
   "metadata": {
    "colab": {
     "base_uri": "https://localhost:8080/",
     "height": 472
    },
    "executionInfo": {
     "elapsed": 421,
     "status": "ok",
     "timestamp": 1683134977043,
     "user": {
      "displayName": "洪啟豪",
      "userId": "08277187360257942838"
     },
     "user_tz": -480
    },
    "id": "cRSb2yIAqS0u",
    "outputId": "adedcae8-6d48-45c5-fc86-437dc960b788"
   },
   "outputs": [
    {
     "data": {
      "image/png": "[encoded data removed]",
      "text/plain": [
       "<Figure size 432x288 with 1 Axes>"
      ]
     },
     "metadata": {
      "needs_background": "light"
     },
     "output_type": "display_data"
    }
   ],
   "source": [
    "# import the plot_importance function to visualize the feature importance\n",
    "from xgboost import plot_importance\n",
    "plot_importance(model)\n",
    "plt.show()"
   ]
  },
  {
   "cell_type": "code",
   "execution_count": 32,
   "metadata": {},
   "outputs": [
    {
     "name": "stdout",
     "output_type": "stream",
     "text": [
      "Requirement already satisfied: graphviz in /opt/conda/lib/python3.7/site-packages (0.8.2)\n"
     ]
    }
   ],
   "source": [
    "!pip install graphviz"
   ]
  },
  {
   "cell_type": "code",
   "execution_count": 33,
   "metadata": {},
   "outputs": [
    {
     "data": {
      "text/plain": [
       "<Figure size 864x864 with 0 Axes>"
      ]
     },
     "metadata": {},
     "output_type": "display_data"
    },
    {
     "data": {
      "image/png": "[encoded data removed]",
      "text/plain": [
       "<Figure size 432x288 with 1 Axes>"
      ]
     },
     "metadata": {
      "needs_background": "light"
     },
     "output_type": "display_data"
    }
   ],
   "source": [
    "from xgboost import plot_tree\n",
    "from matplotlib.pylab import rcParams\n",
    "\n",
    "plt.figure(figsize=(12,12))\n",
    "plot_tree(model, num_trees = 1)\n",
    "plt.title(\"max_depth = 100, with gamma = 10\")\n",
    "plt.savefig(\"plot_tree_xgboost_norm_topn\", dpi = 300)"
   ]
  },
  {
   "cell_type": "markdown",
   "metadata": {
    "id": "tlkxP6ExqiBs"
   },
   "source": [
    "## 模型測試"
   ]
  },
  {
   "cell_type": "code",
   "execution_count": 34,
   "metadata": {},
   "outputs": [],
   "source": [
    "def GetScene2AccuractFromTest(arrTestAns, correctAns):\n",
    "    accurate_rate = np.count_nonzero(arrTestAns == correctAns) / len(arrTestAns)\n",
    "#     print(accurate_rate)\n",
    "    return accurate_rate"
   ]
  },
  {
   "cell_type": "code",
   "execution_count": 35,
   "metadata": {
    "id": "5_HZfqeiqY3_"
   },
   "outputs": [
    {
     "name": "stdout",
     "output_type": "stream",
     "text": [
      "Total count: 1082, gaze vector zero count: 0\n",
      "Total count: 1082\n"
     ]
    }
   ],
   "source": [
    "# Test\n",
    "# 測試一個答案全部為1的資料。\n",
    "df_test = pd.read_csv('/project/xt121-group5/scene2_data/test_data/2023-05-17 194144 c.csv')\n",
    "df_test = RemoveNoise(df_test, \n",
    "                      (df_test['GazeVector_X'] == 0) & \n",
    "                      (df_test['GazeVector_Y'] == 0) & \n",
    "                      (df_test['GazeVector_Z'] == 0))\n",
    "df_test = FaceLandmarksPreprocessing(df_test)\n",
    "df_test = df_test.drop(col_deleted, axis = 1)\n",
    "df_test = ReserveImportColumns(df_test, col_high_rel)\n",
    "# test, _ = data_preprocessing(df_test, train=False, sc=train_sc)"
   ]
  },
  {
   "cell_type": "code",
   "execution_count": 36,
   "metadata": {
    "colab": {
     "base_uri": "https://localhost:8080/"
    },
    "executionInfo": {
     "elapsed": 2,
     "status": "ok",
     "timestamp": 1683135170048,
     "user": {
      "displayName": "洪啟豪",
      "userId": "08277187360257942838"
     },
     "user_tz": -480
    },
    "id": "PjsKhuRRqv3I",
    "outputId": "b3b686d0-d546-4139-e281-d627e6e8b043"
   },
   "outputs": [
    {
     "name": "stdout",
     "output_type": "stream",
     "text": [
      "Index(['HeadPoseAngles_Y', 'HeadPoseAngles_Z', 'GazeVector_X', 'GazeVector_Y',\n",
      "       'GazeVector_Z'],\n",
      "      dtype='object')\n",
      "(1082,)\n",
      "<class 'numpy.ndarray'>\n"
     ]
    }
   ],
   "source": [
    "print(df_test.columns)\n",
    "pred = model.predict(df_test)\n",
    "print(pred.shape)\n",
    "print(type(pred))"
   ]
  },
  {
   "cell_type": "code",
   "execution_count": 37,
   "metadata": {
    "colab": {
     "base_uri": "https://localhost:8080/"
    },
    "executionInfo": {
     "elapsed": 2,
     "status": "ok",
     "timestamp": 1683135172225,
     "user": {
      "displayName": "洪啟豪",
      "userId": "08277187360257942838"
     },
     "user_tz": -480
    },
    "id": "wVYu5vY6qwdR",
    "outputId": "a8978941-8fbd-4e84-9406-f87e5746206f"
   },
   "outputs": [
    {
     "name": "stdout",
     "output_type": "stream",
     "text": [
      "[1 1 1 ... 1 1 1]\n",
      "Test accurate rate: 0.987985212569316\n"
     ]
    }
   ],
   "source": [
    "print(pred)\n",
    "print(f'Test accurate rate: {GetScene2AccuractFromTest(pred, 1)}')"
   ]
  },
  {
   "cell_type": "code",
   "execution_count": 38,
   "metadata": {
    "id": "-ngdGic-q5pr"
   },
   "outputs": [
    {
     "name": "stdout",
     "output_type": "stream",
     "text": [
      "Total count: 956, gaze vector zero count: 70\n",
      "Total count: 886\n"
     ]
    }
   ],
   "source": [
    "# Test\n",
    "# 測試一個答案全部為0的資料。\n",
    "# df_test = pd.read_csv('/project/xt121-group5/scene2_data/test_data/2023-05-06 135847_nc.csv')\n",
    "df_test = pd.read_csv('/project/xt121-group5/scene2_data/test_data/2023-05-17 194223 nc.csv')\n",
    "df_test = RemoveNoise(df_test, \n",
    "                      (df_test['GazeVector_X'] == 0) & \n",
    "                      (df_test['GazeVector_Y'] == 0) & \n",
    "                      (df_test['GazeVector_Z'] == 0))\n",
    "df_test = FaceLandmarksPreprocessing(df_test)\n",
    "df_test = df_test.drop(col_deleted, axis = 1)\n",
    "df_test = ReserveImportColumns(df_test, col_high_rel)\n",
    "# test, _ = data_preprocessing(df_test, train=False, sc=train_sc)"
   ]
  },
  {
   "cell_type": "code",
   "execution_count": 39,
   "metadata": {
    "colab": {
     "base_uri": "https://localhost:8080/"
    },
    "executionInfo": {
     "elapsed": 278,
     "status": "ok",
     "timestamp": 1683135222297,
     "user": {
      "displayName": "洪啟豪",
      "userId": "08277187360257942838"
     },
     "user_tz": -480
    },
    "id": "KbbnQFEsrPsF",
    "outputId": "86a1c541-fe4d-4f8b-9c82-44d843bf14dc"
   },
   "outputs": [
    {
     "name": "stdout",
     "output_type": "stream",
     "text": [
      "[0 0 0 0 0 0 0 0 0 0 0 0 0 0 0 0 0 0 0 0 0 0 0 0 0 0 0 0 0 0 0 0 0 0 0 0 0\n",
      " 0 0 0 0 0 0 0 0 0 0 0 0 0 0 0 0 0 0 0 0 0 0 0 0 0 0 0 0 0 0 0 0 0 0 0 0 0\n",
      " 0 0 0 0 0 0 0 0 0 0 0 0 0 0 0 0 0 0 0 0 0 0 0 0 0 0 0 0 0 0 0 0 0 0 0 0 0\n",
      " 0 0 0 0 0 0 0 0 0 0 0 0 0 0 0 0 0 0 0 0 0 0 0 0 0 0 0 0 0 0 0 0 0 0 0 0 0\n",
      " 1 0 1 0 1 0 0 0 0 0 0 0 0 0 0 0 0 0 0 0 0 0 0 0 0 0 0 0 0 0 0 0 0 0 0 0 0\n",
      " 0 0 0 0 0 0 0 0 0 0 0 0 0 0 0 0 0 0 0 0 0 0 0 0 0 0 0 0 0 0 0 0 0 0 0 0 0\n",
      " 0 0 0 0 0 0 0 0 0 0 0 0 0 0 0 1 0 1 0 1 1 1 0 0 1 1 1 0 0 0 0 0 0 0 0 0 0\n",
      " 0 0 0 0 0 0 0 0 0 0 0 0 0 0 0 0 0 0 0 0 0 0 0 0 0 0 0 0 0 0 0 0 0 0 0 0 0\n",
      " 0 0 0 0 0 0 0 0 0 0 0 0 0 0 0 0 0 0 0 0 0 0 0 0 0 0 0 0 0 0 0 0 0 0 0 0 0\n",
      " 0 0 0 0 0 0 0 0 0 0 0 0 0 0 0 0 0 0 0 0 0 0 0 0 0 0 0 0 0 0 0 0 0 0 0 0 0\n",
      " 0 0 0 0 0 0 0 0 0 0 0 0 0 0 0 0 0 0 0 0 0 0 0 0 0 0 0 0 0 0 0 0 0 0 0 0 0\n",
      " 0 0 0 0 0 0 0 0 0 0 0 0 0 0 0 0 0 0 0 0 0 0 0 0 0 0 0 0 0 0 0 0 0 0 0 0 0\n",
      " 0 0 0 0 0 0 0 0 0 0 0 0 0 0 0 0 0 0 0 0 0 0 0 0 0 0 0 0 0 0 0 0 0 0 0 0 0\n",
      " 0 0 0 0 0 0 0 0 0 0 0 0 0 0 0 0 0 0 0 0 0 0 0 0 0 0 0 0 0 0 0 0 0 0 0 0 0\n",
      " 0 0 0 0 0 0 0 0 0 0 0 0 0 0 0 0 0 0 0 0 0 0 0 0 0 0 0 0 0 0 0 0 0 0 0 0 0\n",
      " 0 0 0 0 0 0 0 0 0 0 0 0 0 0 0 0 0 0 0 0 0 0 0 0 0 0 0 0 0 0 0 0 0 0 0 0 0\n",
      " 0 0 0 0 0 0 0 0 0 0 0 0 0 0 0 0 0 0 0 0 0 0 0 0 0 0 0 0 0 0 0 0 0 0 0 0 0\n",
      " 0 0 0 0 0 0 0 0 0 0 0 0 0 0 0 0 0 0 0 0 0 0 0 0 0 0 0 0 0 0 0 0 0 0 0 0 0\n",
      " 0 0 0 0 0 0 0 0 0 0 0 0 0 0 0 0 0 0 0 0 0 0 0 0 0 0 0 0 0 0 0 0 0 0 0 0 0\n",
      " 0 0 0 0 0 0 0 0 0 0 0 0 0 0 0 0 0 0 0 0 0 0 0 0 0 0 0 0 0 0 0 0 0 1 0 0 0\n",
      " 0 0 0 0 0 1 0 0 0 0 0 0 0 0 0 0 0 0 0 0 0 0 0 0 0 0 0 0 0 0 0 0 0 0 0 0 0\n",
      " 0 0 0 0 0 0 0 0 0 0 0 0 0 0 0 0 0 0 0 0 0 0 0 0 0 0 0 0 0 0 0 0 0 0 1 0 0\n",
      " 0 0 0 0 0 0 0 0 0 0 0 0 0 0 0 0 0 0 0 1 1 1 1 0 0 1 0 0 0 0 0 1 0 0 0 0 0\n",
      " 0 0 0 0 0 0 0 0 0 0 0 0 0 0 0 0 0 0 0 0 0 0 0 0 0 0 0 0 0 0 0 0 0 0 0]\n",
      "Test accurate rate: 0.9774266365688488\n"
     ]
    }
   ],
   "source": [
    "pred = model.predict(df_test)\n",
    "print(pred)\n",
    "print(f'Test accurate rate: {GetScene2AccuractFromTest(pred, 0)}')"
   ]
  },
  {
   "cell_type": "markdown",
   "metadata": {},
   "source": [
    "## 儲存模型"
   ]
  },
  {
   "cell_type": "markdown",
   "metadata": {},
   "source": [
    "### 方法1. joblib"
   ]
  },
  {
   "cell_type": "code",
   "execution_count": 40,
   "metadata": {},
   "outputs": [
    {
     "name": "stdout",
     "output_type": "stream",
     "text": [
      "[0 0 0 0 0 0 0 0 0 0 0 0 0 0 0 0 0 0 0 0 0 0 0 0 0 0 0 0 0 0 0 0 0 0 0 0 0\n",
      " 0 0 0 0 0 0 0 0 0 0 0 0 0 0 0 0 0 0 0 0 0 0 0 0 0 0 0 0 0 0 0 0 0 0 0 0 0\n",
      " 0 0 0 0 0 0 0 0 0 0 0 0 0 0 0 0 0 0 0 0 0 0 0 0 0 0 0 0 0 0 0 0 0 0 0 0 0\n",
      " 0 0 0 0 0 0 0 0 0 0 0 0 0 0 0 0 0 0 0 0 0 0 0 0 0 0 0 0 0 0 0 0 0 0 0 0 0\n",
      " 1 0 1 0 1 0 0 0 0 0 0 0 0 0 0 0 0 0 0 0 0 0 0 0 0 0 0 0 0 0 0 0 0 0 0 0 0\n",
      " 0 0 0 0 0 0 0 0 0 0 0 0 0 0 0 0 0 0 0 0 0 0 0 0 0 0 0 0 0 0 0 0 0 0 0 0 0\n",
      " 0 0 0 0 0 0 0 0 0 0 0 0 0 0 0 1 0 1 0 1 1 1 0 0 1 1 1 0 0 0 0 0 0 0 0 0 0\n",
      " 0 0 0 0 0 0 0 0 0 0 0 0 0 0 0 0 0 0 0 0 0 0 0 0 0 0 0 0 0 0 0 0 0 0 0 0 0\n",
      " 0 0 0 0 0 0 0 0 0 0 0 0 0 0 0 0 0 0 0 0 0 0 0 0 0 0 0 0 0 0 0 0 0 0 0 0 0\n",
      " 0 0 0 0 0 0 0 0 0 0 0 0 0 0 0 0 0 0 0 0 0 0 0 0 0 0 0 0 0 0 0 0 0 0 0 0 0\n",
      " 0 0 0 0 0 0 0 0 0 0 0 0 0 0 0 0 0 0 0 0 0 0 0 0 0 0 0 0 0 0 0 0 0 0 0 0 0\n",
      " 0 0 0 0 0 0 0 0 0 0 0 0 0 0 0 0 0 0 0 0 0 0 0 0 0 0 0 0 0 0 0 0 0 0 0 0 0\n",
      " 0 0 0 0 0 0 0 0 0 0 0 0 0 0 0 0 0 0 0 0 0 0 0 0 0 0 0 0 0 0 0 0 0 0 0 0 0\n",
      " 0 0 0 0 0 0 0 0 0 0 0 0 0 0 0 0 0 0 0 0 0 0 0 0 0 0 0 0 0 0 0 0 0 0 0 0 0\n",
      " 0 0 0 0 0 0 0 0 0 0 0 0 0 0 0 0 0 0 0 0 0 0 0 0 0 0 0 0 0 0 0 0 0 0 0 0 0\n",
      " 0 0 0 0 0 0 0 0 0 0 0 0 0 0 0 0 0 0 0 0 0 0 0 0 0 0 0 0 0 0 0 0 0 0 0 0 0\n",
      " 0 0 0 0 0 0 0 0 0 0 0 0 0 0 0 0 0 0 0 0 0 0 0 0 0 0 0 0 0 0 0 0 0 0 0 0 0\n",
      " 0 0 0 0 0 0 0 0 0 0 0 0 0 0 0 0 0 0 0 0 0 0 0 0 0 0 0 0 0 0 0 0 0 0 0 0 0\n",
      " 0 0 0 0 0 0 0 0 0 0 0 0 0 0 0 0 0 0 0 0 0 0 0 0 0 0 0 0 0 0 0 0 0 0 0 0 0\n",
      " 0 0 0 0 0 0 0 0 0 0 0 0 0 0 0 0 0 0 0 0 0 0 0 0 0 0 0 0 0 0 0 0 0 1 0 0 0\n",
      " 0 0 0 0 0 1 0 0 0 0 0 0 0 0 0 0 0 0 0 0 0 0 0 0 0 0 0 0 0 0 0 0 0 0 0 0 0\n",
      " 0 0 0 0 0 0 0 0 0 0 0 0 0 0 0 0 0 0 0 0 0 0 0 0 0 0 0 0 0 0 0 0 0 0 1 0 0\n",
      " 0 0 0 0 0 0 0 0 0 0 0 0 0 0 0 0 0 0 0 1 1 1 1 0 0 1 0 0 0 0 0 1 0 0 0 0 0\n",
      " 0 0 0 0 0 0 0 0 0 0 0 0 0 0 0 0 0 0 0 0 0 0 0 0 0 0 0 0 0 0 0 0 0 0 0]\n"
     ]
    }
   ],
   "source": [
    "# Save model\n",
    "import joblib\n",
    "joblib.dump(model, './XGB_joblib_normalized_model')\n",
    "\n",
    "# Load model\n",
    "loaded_xgb_model = joblib.load('./XGB_joblib_normalized_model')\n",
    "pred = loaded_xgb_model.predict(df_test)\n",
    "print(pred)"
   ]
  },
  {
   "cell_type": "markdown",
   "metadata": {},
   "source": [
    "### 方法2. save_model"
   ]
  },
  {
   "cell_type": "code",
   "execution_count": 41,
   "metadata": {},
   "outputs": [
    {
     "name": "stdout",
     "output_type": "stream",
     "text": [
      "[2.17353925e-02 1.07059833e-02 1.07059833e-02 1.07059833e-02\n",
      " 1.07059833e-02 8.68879072e-03 8.45068041e-03 1.04131727e-02\n",
      " 1.07059833e-02 8.45068041e-03 2.11473852e-02 2.11473852e-02\n",
      " 1.04131727e-02 1.04131727e-02 2.17353925e-02 2.11473852e-02\n",
      " 2.70466246e-02 2.77940053e-02 2.77940053e-02 2.77940053e-02\n",
      " 2.17353925e-02 8.68879072e-03 1.07059833e-02 1.07059833e-02\n",
      " 1.07059833e-02 2.17353925e-02 1.07059833e-02 2.17353925e-02\n",
      " 1.07059833e-02 2.17353925e-02 1.07059833e-02 2.17353925e-02\n",
      " 2.77940053e-02 8.45068041e-03 1.07059833e-02 2.79965103e-02\n",
      " 2.79965103e-02 2.17353925e-02 1.07059833e-02 2.17353925e-02\n",
      " 1.07059833e-02 1.07059833e-02 9.62592568e-03 1.04131727e-02\n",
      " 8.68879072e-03 1.07059833e-02 2.67873500e-02 1.28161637e-02\n",
      " 9.80906654e-03 4.15020128e-04 8.10013735e-04 8.10013735e-04\n",
      " 8.10013735e-04 4.15020128e-04 8.10013735e-04 8.10013735e-04\n",
      " 9.90715576e-04 3.67857370e-04 3.67857370e-04 9.90715576e-04\n",
      " 8.10013735e-04 3.67857370e-04 3.67857370e-04 4.15020128e-04\n",
      " 3.67857370e-04 4.15020128e-04 3.67857370e-04 3.67857370e-04\n",
      " 4.15020128e-04 6.15139375e-04 4.15020128e-04 6.15139375e-04\n",
      " 4.15020128e-04 8.69784970e-04 4.15020128e-04 4.15020128e-04\n",
      " 4.15020128e-04 4.15020128e-04 6.15139375e-04 8.69784970e-04\n",
      " 7.89384008e-04 8.69784970e-04 7.89384008e-04 6.15139375e-04\n",
      " 6.15139375e-04 6.15139375e-04 1.20036677e-03 8.69784970e-04\n",
      " 2.26889644e-03 8.69784970e-04 3.67857370e-04 1.46802259e-03\n",
      " 1.36528281e-03 6.99708471e-04 3.69129027e-03 1.51354994e-03\n",
      " 1.88340002e-03 3.87736270e-03 1.03121228e-03 1.16332434e-03\n",
      " 4.62272251e-03 1.37292687e-03 1.37292687e-03 1.16332434e-03\n",
      " 1.16332434e-03 1.37292687e-03 1.37292687e-03 5.18065132e-03\n",
      " 2.53134128e-03 1.99158071e-03 2.85509066e-03 2.24645203e-03\n",
      " 2.01536641e-02 2.55245958e-02 2.09545940e-02 7.84904603e-03\n",
      " 7.84904603e-03 2.66705304e-02 8.84687062e-03 2.01536641e-02\n",
      " 7.84904603e-03 8.84687062e-03 2.09545940e-02 1.99158071e-03\n",
      " 1.99158071e-03 1.99158071e-03 2.24645203e-03 1.99158071e-03\n",
      " 1.99158071e-03 1.99158071e-03 1.99158071e-03 1.99158071e-03\n",
      " 1.99158071e-03 2.55245958e-02 2.09545940e-02 2.31963079e-02\n",
      " 2.09545940e-02 2.09545940e-02 2.31963079e-02 3.30982693e-02\n",
      " 2.55245958e-02 3.30982693e-02 2.09545940e-02 3.30982693e-02\n",
      " 2.55245958e-02 3.30982693e-02 3.30982693e-02 3.30982693e-02\n",
      " 5.91576278e-01 4.21933867e-02 5.91576278e-01 3.30982693e-02\n",
      " 6.29159927e-01 3.30982693e-02 3.30982693e-02 4.21933867e-02\n",
      " 4.21933867e-02 3.30982693e-02 2.66705304e-02 3.30982693e-02\n",
      " 2.42321268e-02 1.70944586e-01 9.90480632e-02 4.93201286e-01\n",
      " 2.54150271e-01 3.00629679e-02 1.89308211e-01 2.72285175e-02\n",
      " 2.81054191e-02 6.52413175e-04 9.85792838e-03 3.43322242e-03\n",
      " 5.51523699e-04 3.63025954e-03 4.27433243e-03 3.63025954e-03\n",
      " 3.43322242e-03 4.27433243e-03 3.43322242e-03 4.27433243e-03\n",
      " 4.27433243e-03 5.14790229e-03 3.70535837e-03 5.14790229e-03\n",
      " 3.43322242e-03 5.60321473e-03 4.38432815e-03 4.38432815e-03\n",
      " 4.13221354e-03 3.16807907e-03 4.62984527e-03 3.05053685e-03\n",
      " 2.60618329e-03 4.38871793e-03 4.98148240e-03 5.11180609e-03\n",
      " 4.62984527e-03 4.62984527e-03 4.62984527e-03 4.75101313e-03\n",
      " 4.34116181e-03 4.34116181e-03 4.75181593e-03 6.80911494e-03\n",
      " 4.34116181e-03 4.34116181e-03 4.38871793e-03 6.98691607e-03\n",
      " 3.91629664e-03 4.62984527e-03 5.79580991e-03 6.98691607e-03\n",
      " 6.53715245e-03 5.32316649e-03 5.94731001e-03 4.50324686e-03\n",
      " 4.84232744e-03 4.84232744e-03 4.52998606e-03 4.84232744e-03\n",
      " 5.15876431e-03 5.28150424e-03 5.64536871e-03 5.50151756e-03\n",
      " 8.79296586e-02 8.78790952e-03 6.59134192e-03 9.39106382e-03\n",
      " 4.52998606e-03 4.09272220e-03 1.75582469e-01 1.66945547e-01\n",
      " 3.93417031e-01 1.82871204e-02 8.47191736e-02 2.21662670e-02\n",
      " 1.27711874e-02 9.35607255e-01 4.87931609e-01 6.91932559e-01\n",
      " 9.17988718e-02 8.84798408e-01 6.89269543e-01 6.12231433e-01\n",
      " 1.35674318e-02 2.91443437e-01 9.79588032e-01 8.96725237e-01\n",
      " 8.70920539e-01 1.31422028e-01 4.73599546e-02 8.57564900e-03\n",
      " 3.86336632e-02 3.86336632e-02 7.40281818e-03 7.40281818e-03\n",
      " 3.14430594e-01 3.39006931e-02 7.40281818e-03 3.98587994e-02\n",
      " 5.14720194e-03 4.80061350e-03 4.64148447e-03 4.64148447e-03\n",
      " 3.92614910e-03 4.22726385e-03 3.92614910e-03 3.28687998e-03\n",
      " 2.30918848e-03 2.30918848e-03 2.30918848e-03 2.30918848e-03\n",
      " 2.92621017e-03 6.69770990e-04 1.12200715e-03 1.72040786e-03\n",
      " 1.12200715e-03 7.32203596e-04 6.25546090e-04 6.25546090e-04\n",
      " 6.25546090e-04 6.25546090e-04 6.25546090e-04 6.25546090e-04\n",
      " 6.25546090e-04 6.25546090e-04 6.25546090e-04 6.25546090e-04\n",
      " 6.25546090e-04 6.25546090e-04 6.25546090e-04 6.25546090e-04\n",
      " 7.95377418e-04 7.95377418e-04 7.32203596e-04 6.25546090e-04\n",
      " 6.25546090e-04 7.32203596e-04 5.94625890e-04 7.95377418e-04\n",
      " 4.13758593e-04 5.24624367e-04 5.47388743e-04 4.30877320e-04\n",
      " 5.24624367e-04 9.59424186e-04 4.30877320e-04 3.20224994e-04\n",
      " 4.04503662e-04 3.20224994e-04 3.20224994e-04 4.04503662e-04\n",
      " 4.71148756e-04 4.71148756e-04 4.71148756e-04 4.71148756e-04\n",
      " 4.71148756e-04 3.20224994e-04 3.20224994e-04 2.57615087e-04\n",
      " 2.19282694e-03 5.92772476e-03 7.20845885e-04 5.06280165e-04\n",
      " 1.29944805e-04 1.29944805e-04 1.07249289e-04 1.29944805e-04\n",
      " 1.13086768e-04 1.07249289e-04 7.73581996e-05 7.73581996e-05\n",
      " 1.29944805e-04 7.95024331e-04 1.29944805e-04 1.29944805e-04\n",
      " 1.29944805e-04 7.73581996e-05 1.29944805e-04 1.07249289e-04\n",
      " 7.73581996e-05 8.01057249e-05 8.71490047e-05 7.73581996e-05\n",
      " 7.73581996e-05 7.73581996e-05 7.73581996e-05 1.29944805e-04\n",
      " 1.29944805e-04 8.71490047e-05 1.19742137e-04 7.73581996e-05\n",
      " 7.73581996e-05 1.29944805e-04 1.29944805e-04 1.13086768e-04\n",
      " 1.60812560e-04 1.60812560e-04 1.60812560e-04 1.42648787e-04\n",
      " 1.42648787e-04 1.42648787e-04 1.42648787e-04 1.42648787e-04\n",
      " 1.60812560e-04 1.42648787e-04 1.42648787e-04 1.42648787e-04\n",
      " 1.42648787e-04 1.42648787e-04 1.42648787e-04 1.42648787e-04\n",
      " 1.60812560e-04 1.60812560e-04 1.42648787e-04 1.60812560e-04\n",
      " 1.60812560e-04 1.60812560e-04 1.60812560e-04 1.60812560e-04\n",
      " 1.60812560e-04 1.60812560e-04 1.60812560e-04 1.18999893e-03\n",
      " 9.45058884e-04 4.65372315e-04 3.04733840e-04 5.78063307e-03\n",
      " 1.62022654e-03 1.01661880e-03 1.49295176e-03 2.59171147e-03\n",
      " 5.42146387e-03 3.77291581e-03 6.52413175e-04 2.75553274e-03\n",
      " 8.21115507e-04 1.53212016e-03 1.53212016e-03 1.96878985e-03\n",
      " 8.03603732e-04 7.56420195e-04 8.08786950e-04 4.49972320e-03\n",
      " 9.04552289e-04 2.14108522e-03 7.12939072e-04 7.32250337e-04\n",
      " 7.32250337e-04 2.19726353e-03 2.05518259e-03 8.08786950e-04\n",
      " 2.02931091e-03 2.02931091e-03 7.12939072e-04 2.09478708e-03\n",
      " 2.32059322e-03 7.60533323e-04 2.19946820e-03 7.60533323e-04\n",
      " 2.32059322e-03 2.17558304e-03 7.12939072e-04 2.17558304e-03\n",
      " 2.32059322e-03 4.57204971e-03 4.34116181e-03 4.62212367e-03\n",
      " 1.98439904e-03 3.34342313e-03 5.00443531e-03 4.67097620e-03\n",
      " 8.92471056e-03 8.73648468e-03 8.73648468e-03 3.20382765e-03\n",
      " 8.06469191e-03 8.06469191e-03 4.61828150e-03 3.47212539e-03\n",
      " 3.47212539e-03 3.47212539e-03 3.47212539e-03 3.47212539e-03\n",
      " 6.24691928e-03 4.86593926e-03 3.51124555e-02 1.56523082e-02\n",
      " 9.66744497e-03 5.19785471e-02 9.66744497e-03 5.00443531e-03\n",
      " 8.29704665e-03 1.98439904e-03 4.17115120e-03 1.98439904e-03\n",
      " 3.34342313e-03 2.17558304e-03 2.17558304e-03 2.17558304e-03\n",
      " 4.57204971e-03 3.21939657e-03 2.32059322e-03 2.38147005e-03\n",
      " 2.32059322e-03 2.38147005e-03 4.57204971e-03 4.75101313e-03\n",
      " 4.45831148e-03 4.87601245e-03 4.87601245e-03 4.62212367e-03\n",
      " 2.02931091e-03 2.23442423e-03 5.00359014e-03 3.65942391e-03\n",
      " 4.69540060e-03 4.87601245e-03 4.33297455e-03 2.38147005e-03\n",
      " 2.32059322e-03 3.65942391e-03 2.32059322e-03 5.00359014e-03\n",
      " 2.14108522e-03 4.87601245e-03 4.87601245e-03 4.87601245e-03\n",
      " 4.62212367e-03 4.87601245e-03 4.87601245e-03 4.87601245e-03\n",
      " 4.62212367e-03 4.87601245e-03 4.87601245e-03 4.87601245e-03\n",
      " 4.87601245e-03 4.62212367e-03 4.87601245e-03 4.26534330e-03\n",
      " 4.62212367e-03 4.62212367e-03 5.06151328e-03 5.06151328e-03\n",
      " 5.06151328e-03 4.57204971e-03 5.06151328e-03 5.06151328e-03\n",
      " 5.06151328e-03 4.57204971e-03 4.87601245e-03 5.11692045e-03\n",
      " 4.83693043e-03 4.57204971e-03 5.06151328e-03 4.40264726e-03\n",
      " 5.06151328e-03 5.11692045e-03 4.34116181e-03 4.57204971e-03\n",
      " 5.06151328e-03 5.06151328e-03 6.70185359e-03 6.93232240e-03\n",
      " 6.40475936e-03 6.40475936e-03 5.50151756e-03 5.64536871e-03\n",
      " 5.50151756e-03 6.33549551e-03 5.64536871e-03 4.84232744e-03\n",
      " 5.50151756e-03 5.50151756e-03 5.09973383e-03 5.64536871e-03\n",
      " 6.10359013e-03 5.09973383e-03 7.22971745e-03 2.41182302e-03\n",
      " 2.42735283e-03 5.20018116e-03 3.34681268e-03 2.42735283e-03\n",
      " 5.29070338e-03 5.29070338e-03 7.41966907e-03 1.73073523e-02\n",
      " 9.66744497e-03 5.11266943e-03 4.85440493e-02 7.65878288e-03\n",
      " 4.18027816e-03 4.00598161e-03 4.72212816e-03 4.00598161e-03\n",
      " 4.27247211e-03 4.00598161e-03 4.67097620e-03 5.11180609e-03\n",
      " 4.98148240e-03 4.00598161e-03 4.00598161e-03 4.00598161e-03\n",
      " 4.00598161e-03 4.04988136e-03 4.00598161e-03 4.00598161e-03\n",
      " 4.00598161e-03 4.00598161e-03 4.27247211e-03 4.27247211e-03\n",
      " 4.27247211e-03 4.27247211e-03 4.38432815e-03 4.38432815e-03\n",
      " 4.27247211e-03 4.38432815e-03 4.38432815e-03 4.38432815e-03\n",
      " 4.38432815e-03 4.38432815e-03 4.27247211e-03 4.27247211e-03\n",
      " 4.27247211e-03 4.00598161e-03 4.27247211e-03 4.00598161e-03\n",
      " 4.00598161e-03 3.99363972e-03 3.00035207e-03 2.74064322e-03\n",
      " 2.19675130e-03 2.92320666e-03 3.00035207e-03 2.74064322e-03\n",
      " 2.74064322e-03 2.74064322e-03 3.87943536e-03 3.87943536e-03\n",
      " 3.61380097e-03 3.61380097e-03 3.42540652e-03 2.92320666e-03\n",
      " 3.38825490e-03 3.13103222e-03 4.75181593e-03 4.75181593e-03\n",
      " 5.06151328e-03 5.78615442e-03 4.77204612e-03 3.17760138e-03\n",
      " 2.16237339e-03 7.78355170e-04 7.78355170e-04 4.97865165e-03\n",
      " 4.50915250e-04 5.67189790e-03 4.50915250e-04 2.21023876e-02\n",
      " 1.94402020e-02 2.74342094e-02 2.09159590e-03 1.54446822e-03\n",
      " 1.78427924e-03 1.78427924e-03 1.78427924e-03 2.09159590e-03\n",
      " 4.99409623e-04 1.78427924e-03 4.99409623e-04 3.40694073e-03\n",
      " 4.99409623e-04 8.62034212e-04 1.97588885e-03 1.97588885e-03\n",
      " 1.97588885e-03 2.16237339e-03 8.21008906e-03 8.00141227e-03\n",
      " 5.15876431e-03 1.23519646e-02 6.10359013e-03 6.26414176e-03\n",
      " 3.04992637e-03 1.98439904e-03 3.17900488e-03 3.04992637e-03\n",
      " 4.17115120e-03 3.04992637e-03 5.00443531e-03 3.04992637e-03\n",
      " 4.57204971e-03 4.57204971e-03 4.81909001e-03 5.00443531e-03\n",
      " 5.53993043e-03 5.00443531e-03 5.00443531e-03 5.00443531e-03\n",
      " 4.17115120e-03 4.57204971e-03 5.00443531e-03 4.17115120e-03\n",
      " 4.57204971e-03 4.21911851e-03 4.72212816e-03 5.53993043e-03\n",
      " 5.06151328e-03 4.57204971e-03 5.53993043e-03 5.00443531e-03\n",
      " 3.34342313e-03 4.57204971e-03 5.53993043e-03 4.34116181e-03\n",
      " 4.21911851e-03 4.21911851e-03 5.53993043e-03 5.11266943e-03\n",
      " 4.38506948e-03 4.38506948e-03 4.38506948e-03 4.38506948e-03\n",
      " 4.38506948e-03 4.38506948e-03 4.38506948e-03 4.75181593e-03\n",
      " 4.57578385e-03 4.57578385e-03 4.38506948e-03 4.38506948e-03\n",
      " 4.00598161e-03 4.00598161e-03 4.38432815e-03 4.38432815e-03\n",
      " 7.32260523e-03 4.38432815e-03 7.82598276e-03 9.34297219e-03\n",
      " 7.12193083e-03 9.05376673e-03 4.45948401e-03 2.57819146e-03\n",
      " 6.48897374e-03 3.75474151e-03 5.20764152e-04 5.83547987e-02\n",
      " 3.11508209e-01 1.63596720e-01 7.86029082e-03 1.99245334e-01\n",
      " 1.18762087e-02 1.38583696e-02 9.04359482e-03 1.99245334e-01\n",
      " 7.57618342e-03 6.30680565e-03 8.82496685e-03 1.87297445e-02\n",
      " 2.58506406e-02 2.27905810e-02 3.24049033e-02 1.92097854e-02\n",
      " 2.36567128e-02 1.92097854e-02 2.71148439e-02 2.36567128e-02\n",
      " 2.36567128e-02 1.54481549e-02 1.92097854e-02 1.54481549e-02\n",
      " 1.38583696e-02 1.92097854e-02 1.92097854e-02 1.92097854e-02\n",
      " 5.58537006e-01 3.70532833e-02 3.57782580e-02 1.92097854e-02\n",
      " 3.07770837e-02 1.60983235e-01 2.98143983e-01 1.92097854e-02\n",
      " 3.15025777e-01 5.59401035e-01 3.50100458e-01 2.89754383e-02\n",
      " 1.65380731e-01 3.42468545e-02 1.48297668e-01 2.24537656e-01\n",
      " 1.15914717e-02 9.34297219e-03 2.34316918e-03 3.70847713e-03\n",
      " 5.36054419e-03 1.14992680e-02 3.61380097e-03 1.67270396e-02\n",
      " 9.58369672e-03 7.82598276e-03 3.70847713e-03 5.36054419e-03\n",
      " 4.38506948e-03 4.75181593e-03 4.71884152e-03 4.77530388e-03\n",
      " 2.47326540e-03 5.28150424e-03 1.97904697e-03 4.97865165e-03\n",
      " 9.14184190e-03 1.02874907e-02 1.03964005e-02 1.15465894e-02\n",
      " 7.23104179e-03 3.20687890e-02 4.09964882e-02 3.55850756e-02\n",
      " 1.31075397e-01 3.76897305e-01 1.00963749e-02 8.28133523e-03\n",
      " 6.34044735e-03 6.91474974e-03 8.83019064e-03 6.15758961e-03\n",
      " 8.41789134e-03 6.15758961e-03 8.83019064e-03 7.03626052e-02\n",
      " 6.91474974e-03 6.91474974e-03 9.09168925e-03 9.50647891e-03\n",
      " 8.83019064e-03 6.70968816e-02 6.91474974e-03 8.83019064e-03\n",
      " 6.22305274e-03 6.15758961e-03 4.22791243e-02 6.79084063e-02\n",
      " 4.22791243e-02 4.22791243e-02 9.13874283e-02 6.70968816e-02\n",
      " 2.97588915e-01 4.22791243e-02 3.42712492e-01 6.54462516e-01\n",
      " 3.81858572e-02 3.81858572e-02 3.81858572e-02 3.81858572e-02\n",
      " 5.91143034e-02 3.75827223e-01 3.36531177e-02 6.91474974e-03\n",
      " 5.91143034e-02 5.91143034e-02 4.40121889e-02 3.42712492e-01\n",
      " 5.75754372e-03 5.91143034e-02 1.26349896e-01 4.79141157e-03\n",
      " 4.79141157e-03 7.43844658e-02 6.87514432e-03 4.07480039e-02\n",
      " 6.87514432e-03 6.85411930e-01 6.68952167e-01 9.13176358e-01\n",
      " 7.42342710e-01 4.87440199e-01 1.76071107e-01 6.07259810e-01\n",
      " 3.14070374e-01 6.93379939e-02 2.67980248e-01 2.88787544e-01\n",
      " 2.35498548e-01 5.63909113e-01 1.02102786e-01 1.02102786e-01\n",
      " 5.55475391e-02 2.87643135e-01 5.55475391e-02 4.30657379e-02\n",
      " 1.80748820e-01 5.14720194e-03 3.92017625e-02 5.14720194e-03\n",
      " 5.67436963e-03 5.14720194e-03 5.67436963e-03 5.14720194e-03\n",
      " 4.64148447e-03 5.67436963e-03 5.67436963e-03 4.64148447e-03\n",
      " 4.64148447e-03 4.64148447e-03 4.64148447e-03 4.64148447e-03\n",
      " 4.64148447e-03 4.64148447e-03 4.64148447e-03 4.64148447e-03\n",
      " 4.64148447e-03 4.64148447e-03 4.64148447e-03 4.64148447e-03\n",
      " 4.46123723e-03 4.46123723e-03 4.64148447e-03 4.64148447e-03\n",
      " 4.46123723e-03 4.46123723e-03 5.14720194e-03 4.46123723e-03\n",
      " 4.64148447e-03 4.46123723e-03]\n"
     ]
    }
   ],
   "source": [
    "# Save model\n",
    "model.save_model('XGB_normalized_topn_model.json')\n",
    "\n",
    "# Load model\n",
    "import xgboost as xgb\n",
    "model_xgb = xgb.XGBRegressor()\n",
    "model_xgb.load_model('XGB_normalized_topn_model.json')\n",
    "pred = model_xgb.predict(df_test)\n",
    "print(pred)"
   ]
  },
  {
   "cell_type": "code",
   "execution_count": 42,
   "metadata": {},
   "outputs": [
    {
     "data": {
      "text/plain": [
       "'0.90'"
      ]
     },
     "execution_count": 42,
     "metadata": {},
     "output_type": "execute_result"
    }
   ],
   "source": [
    "import xgboost\n",
    "xgboost.__version__"
   ]
  },
  {
   "cell_type": "code",
   "execution_count": 43,
   "metadata": {},
   "outputs": [
    {
     "name": "stdout",
     "output_type": "stream",
     "text": [
      "[0 0 0 0 0 0 0 0 0 0 0 0 0 0 0 0 0 0 0 0 0 0 0 0 0 0 0 0 0 0 0 0 0 0 0 0 0\n",
      " 0 0 0 0 0 0 0 0 0 0 0 0 0 0 0 0 0 0 0 0 0 0 0 0 0 0 0 0 0 0 0 0 0 0 0 0 0\n",
      " 0 0 0 0 1 0 0 0 0 0 0 0 0 0 0 0 0 0 0 0 0 0 0 0 0 0 0 0 0 1 0 0 0 0 0 0 0\n",
      " 0 1 1 1 1 1 0 1 1 1 1 1 1 1 1 1 1 1 1 1 1 1 1 1 1 1 1 1 1 1 1 1 1 1 1 1 1\n",
      " 1 1 1 1 1 1 1 1 1 1 1 1 1 1 1 1 1 1 1 1 1 1 1 1 1 1 1 1 1 1 1 1 1 1 1 1 0\n",
      " 0 0 0 0 0 0 1 1 1 1 1 1 1 1 1 1 1 1 1 1 1 1 1 1 1 1 1 1 1 1 1 1 0 0 0 0 0\n",
      " 0 0 0 0 0 0 0 0 0 0 0 0 0 0 0 0 0 0 0 0 0 0 0 0 0 0 0 0 0 0 0 0 0 0 0 0 0\n",
      " 0 0 0 0 0 0 0 0 0 0 0 0 0 0 0 0 0 0 0 0 0 0 0 0 0 0 0 0 0 0 0 0 0 0 1 0 0\n",
      " 0 1 1 1]\n"
     ]
    }
   ],
   "source": [
    "# Test\n",
    "# 測試一個答案全部為0的資料。\n",
    "data_path = '/project/xt121-group5/DAiSEE/0/1100131017.csv'\n",
    "df_test = pd.read_csv(data_path)\n",
    "df_test = FaceLandmarksPreprocessing(df_test)\n",
    "df_test = ReserveImportColumns(df_test, col_high_rel)\n",
    "# test, _ = data_preprocessing(df_test, train=False, sc=train_sc)\n",
    "\n",
    "pred = model.predict(df_test)\n",
    "print(pred)"
   ]
  },
  {
   "cell_type": "code",
   "execution_count": 44,
   "metadata": {},
   "outputs": [
    {
     "name": "stdout",
     "output_type": "stream",
     "text": [
      "0.3433333333333333\n"
     ]
    }
   ],
   "source": [
    "mean_a = pred.mean()\n",
    "print(mean_a)"
   ]
  },
  {
   "cell_type": "code",
   "execution_count": 45,
   "metadata": {},
   "outputs": [
    {
     "name": "stdout",
     "output_type": "stream",
     "text": [
      "0.04666666666666667\n",
      "0.46\n",
      "0.0\n",
      "0.34\n",
      "0.0\n",
      "0.0\n",
      "0.0\n",
      "0.0\n",
      "0.24333333333333335\n",
      "0.0033333333333333335\n",
      "0.0\n",
      "0.12333333333333334\n",
      "0.013333333333333334\n",
      "0.15\n",
      "0.0\n",
      "0.006666666666666667\n",
      "0.17666666666666667\n",
      "0.0\n",
      "0.006666666666666667\n",
      "0.0\n",
      "0.013333333333333334\n",
      "0.35\n",
      "0.0\n",
      "0.0\n",
      "0.023333333333333334\n",
      "0.02\n",
      "0.0\n",
      "0.0033333333333333335\n",
      "0.0\n",
      "0.0\n",
      "0.006666666666666667\n",
      "0.0\n",
      "0.37\n",
      "0.0\n",
      "0.056666666666666664\n",
      "0.3433333333333333\n",
      "0.36666666666666664\n",
      "0.72\n",
      "0.13\n",
      "0.21333333333333335\n",
      "0.0\n",
      "0.02666666666666667\n",
      "0.0\n",
      "0.17\n",
      "0.0\n",
      "0.01\n",
      "0.28\n",
      "0.017123287671232876\n",
      "0.56\n",
      "0.0\n",
      "0.0\n",
      "0.01\n",
      "0.09333333333333334\n",
      "0.0\n",
      "0.0\n",
      "0.0\n",
      "0.056666666666666664\n",
      "0.37\n",
      "0.3433333333333333\n",
      "Total acc: 0.9661016949152542\n"
     ]
    }
   ],
   "source": [
    "data_dir = '/project/xt121-group5/DAiSEE/0'\n",
    "\n",
    "amount = 0\n",
    "acc = 0\n",
    "for dirname, _, filenames in os.walk(data_dir):\n",
    "    for filename in filenames:\n",
    "        if dirname.split('/')[-1] != 'test_data':\n",
    "            #print(os.path.join(dirname, filename))\n",
    "            testdata = os.path.join(dirname, filename)\n",
    "            df_test = pd.read_csv(testdata)\n",
    "            df_test = FaceLandmarksPreprocessing(df_test)\n",
    "            df_test = df_test.drop(col_deleted, axis = 1)\n",
    "            df_test = ReserveImportColumns(df_test, col_high_rel)\n",
    "            # test, _ = data_preprocessing(df_test, train=False, sc=train_sc)\n",
    "            pred = model.predict(df_test)\n",
    "            mean_a = pred.mean()\n",
    "            print(mean_a)\n",
    "            amount += 1\n",
    "            if mean_a < 0.5:\n",
    "                acc += 1\n",
    "print(f'Total acc: {acc / amount}')"
   ]
  },
  {
   "cell_type": "code",
   "execution_count": null,
   "metadata": {},
   "outputs": [],
   "source": []
  }
 ],
 "metadata": {
  "colab": {
   "authorship_tag": "ABX9TyNM9v33kYP6sSnew95Pq3Qh",
   "provenance": [
    {
     "file_id": "1r3PRKI1cL9c21w7R3Yr1n_1p7UumEbvh",
     "timestamp": 1683210991768
    }
   ]
  },
  "kernelspec": {
   "display_name": "Python 3 (ipykernel)",
   "language": "python",
   "name": "python3"
  },
  "language_info": {
   "codemirror_mode": {
    "name": "ipython",
    "version": 3
   },
   "file_extension": ".py",
   "mimetype": "text/x-python",
   "name": "python",
   "nbconvert_exporter": "python",
   "pygments_lexer": "ipython3",
   "version": "3.7.12"
  }
 },
 "nbformat": 4,
 "nbformat_minor": 4
}
