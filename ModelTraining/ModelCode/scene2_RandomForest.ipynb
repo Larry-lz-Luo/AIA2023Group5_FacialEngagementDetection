{
 "cells": [
  {
   "cell_type": "code",
   "execution_count": 1,
   "metadata": {
    "executionInfo": {
     "elapsed": 442,
     "status": "ok",
     "timestamp": 1683108001707,
     "user": {
      "displayName": "洪啟豪",
      "userId": "08277187360257942838"
     },
     "user_tz": -480
    },
    "id": "VvdgLfSBfWcj"
   },
   "outputs": [],
   "source": [
    "from sklearn.ensemble import RandomForestClassifier\n",
    "from sklearn.model_selection import train_test_split\n",
    "from sklearn.metrics import accuracy_score\n",
    "import pandas as pd\n",
    "import numpy as np\n",
    "import matplotlib.pyplot as plt"
   ]
  },
  {
   "cell_type": "markdown",
   "metadata": {},
   "source": [
    "## 去除雜訊"
   ]
  },
  {
   "cell_type": "code",
   "execution_count": 2,
   "metadata": {},
   "outputs": [],
   "source": [
    "def RemoveNoise(dataset, remove_condition):\n",
    "    # Remove data with gaze vector X, Y, Z have value 0.\n",
    "    print(f'Total count: {len(dataset)}, gaze vector zero count: {len(dataset[remove_condition])}')\n",
    "\n",
    "    dataset = dataset.drop(dataset[remove_condition].index)\n",
    "\n",
    "    print(f'Total count: {len(dataset)}')\n",
    "    \n",
    "    return dataset"
   ]
  },
  {
   "cell_type": "markdown",
   "metadata": {
    "id": "DUr-CxsjFeAe"
   },
   "source": [
    "## 載入資料集"
   ]
  },
  {
   "cell_type": "code",
   "execution_count": 3,
   "metadata": {
    "executionInfo": {
     "elapsed": 8,
     "status": "ok",
     "timestamp": 1683108002244,
     "user": {
      "displayName": "洪啟豪",
      "userId": "08277187360257942838"
     },
     "user_tz": -480
    },
    "id": "YX9lMiQckw1E"
   },
   "outputs": [
    {
     "name": "stdout",
     "output_type": "stream",
     "text": [
      "/project/xt121-group5/scene2_data/test_data/.ipynb_checkpoints/2023-05-06 135830_c-checkpoint.csv\n",
      "Total count: 280, gaze vector zero count: 0\n",
      "Total count: 280\n",
      "/project/xt121-group5/scene2_data/alice/2023-05-01 232058.csv\n",
      "Total count: 420, gaze vector zero count: 311\n",
      "Total count: 109\n",
      "/project/xt121-group5/scene2_data/alice/2023-05-01 231925.csv\n",
      "Total count: 412, gaze vector zero count: 16\n",
      "Total count: 396\n",
      "/project/xt121-group5/scene2_data/alice/.ipynb_checkpoints/2023-05-01 232058-checkpoint.csv\n",
      "Total count: 420, gaze vector zero count: 311\n",
      "Total count: 109\n",
      "/project/xt121-group5/scene2_data/alice/.ipynb_checkpoints/2023-05-01 231925-checkpoint.csv\n",
      "Total count: 412, gaze vector zero count: 16\n",
      "Total count: 396\n",
      "/project/xt121-group5/scene2_data/pinsian/2023-05-13 142553_c.csv\n",
      "Total count: 280, gaze vector zero count: 0\n",
      "Total count: 280\n",
      "/project/xt121-group5/scene2_data/pinsian/2023-05-13 142611 nc.csv\n",
      "Total count: 280, gaze vector zero count: 28\n",
      "Total count: 252\n",
      "/project/xt121-group5/scene2_data/larry/2023-05-01 232448.csv\n",
      "Total count: 469, gaze vector zero count: 0\n",
      "Total count: 469\n",
      "/project/xt121-group5/scene2_data/larry/2023-05-01 232329.csv\n",
      "Total count: 305, gaze vector zero count: 0\n",
      "Total count: 305\n",
      "/project/xt121-group5/scene2_data/charlie/2023-05-05 103150_c.csv\n",
      "Total count: 655, gaze vector zero count: 0\n",
      "Total count: 655\n",
      "/project/xt121-group5/scene2_data/charlie/2023-05-17 103748.csv\n",
      "Total count: 2186, gaze vector zero count: 901\n",
      "Total count: 1285\n",
      "/project/xt121-group5/scene2_data/charlie/2023-05-17 103617.csv\n",
      "Total count: 2368, gaze vector zero count: 385\n",
      "Total count: 1983\n",
      "/project/xt121-group5/scene2_data/charlie/2023-05-05 103233_nc.csv\n",
      "Total count: 1097, gaze vector zero count: 278\n",
      "Total count: 819\n",
      "/project/xt121-group5/scene2_data/charlie/.ipynb_checkpoints/2023-05-05 103150_c-checkpoint.csv\n",
      "Total count: 655, gaze vector zero count: 0\n",
      "Total count: 655\n",
      "/project/xt121-group5/scene2_data/charlie/.ipynb_checkpoints/2023-05-05 103233_nc-checkpoint.csv\n",
      "Total count: 1097, gaze vector zero count: 278\n",
      "Total count: 819\n",
      "/project/xt121-group5/scene2_data/jason/2023-05-05 151434.csv\n",
      "Total count: 590, gaze vector zero count: 196\n",
      "Total count: 394\n",
      "/project/xt121-group5/scene2_data/jason/2023-05-17 102413.csv\n",
      "Total count: 601, gaze vector zero count: 9\n",
      "Total count: 592\n",
      "/project/xt121-group5/scene2_data/jason/2023-05-17 102634.csv\n",
      "Total count: 801, gaze vector zero count: 172\n",
      "Total count: 629\n",
      "/project/xt121-group5/scene2_data/jason/2023-05-05 151410.csv\n",
      "Total count: 510, gaze vector zero count: 57\n",
      "Total count: 453\n",
      "/project/xt121-group5/scene2_data/jason/2023-05-05 145529.csv\n",
      "Total count: 461, gaze vector zero count: 4\n",
      "Total count: 457\n",
      "/project/xt121-group5/scene2_data/jason/2023-05-05 145621.csv\n",
      "Total count: 240, gaze vector zero count: 0\n",
      "Total count: 240\n",
      "/project/xt121-group5/scene2_data/jason/2023-05-17 102348.csv\n",
      "Total count: 760, gaze vector zero count: 224\n",
      "Total count: 536\n",
      "/project/xt121-group5/scene2_data/jason/2023-05-05 145600.csv\n",
      "Total count: 360, gaze vector zero count: 44\n",
      "Total count: 316\n",
      "/project/xt121-group5/scene2_data/jason/2023-05-05 145633.csv\n",
      "Total count: 203, gaze vector zero count: 0\n",
      "Total count: 203\n",
      "/project/xt121-group5/scene2_data/jason/2023-05-17 102327.csv\n",
      "Total count: 511, gaze vector zero count: 5\n",
      "Total count: 506\n",
      "/project/xt121-group5/scene2_data/jason/2023-05-17 102452.csv\n",
      "Total count: 845, gaze vector zero count: 0\n",
      "Total count: 845\n",
      "/project/xt121-group5/scene2_data/jason/2023-05-05 145640.csv\n",
      "Total count: 157, gaze vector zero count: 1\n",
      "Total count: 156\n",
      "/project/xt121-group5/scene2_data/jason/2023-05-17 102604.csv\n",
      "Total count: 758, gaze vector zero count: 5\n",
      "Total count: 753\n",
      "/project/xt121-group5/scene2_data/jason/2023-05-05 151354.csv\n",
      "Total count: 343, gaze vector zero count: 31\n",
      "Total count: 312\n",
      "/project/xt121-group5/scene2_data/jason/2023-05-05 151333.csv\n",
      "Total count: 459, gaze vector zero count: 74\n",
      "Total count: 385\n",
      "/project/xt121-group5/scene2_data/jason/2023-05-17 102531.csv\n",
      "Total count: 668, gaze vector zero count: 15\n",
      "Total count: 653\n",
      "/project/xt121-group5/scene2_data/jason/.ipynb_checkpoints/2023-05-05 145633-checkpoint.csv\n",
      "Total count: 203, gaze vector zero count: 0\n",
      "Total count: 203\n"
     ]
    }
   ],
   "source": [
    "import os\n",
    "df_train = pd.core.frame.DataFrame()\n",
    "for dirname, _, filenames in os.walk('/project/xt121-group5/scene2_data/'):\n",
    "    for filename in filenames:\n",
    "        if dirname.split('/')[-1] != 'test_data':\n",
    "            print(os.path.join(dirname, filename))\n",
    "            df_train2 = pd.read_csv(os.path.join(dirname, filename))\n",
    "            df_train2 = RemoveNoise(df_train2, \n",
    "                                    (df_train2['GazeVector_X'] == 0) & \n",
    "                                    (df_train2['GazeVector_Y'] == 0) & \n",
    "                                    (df_train2['GazeVector_Z'] == 0))\n",
    "            df_train = pd.concat([df_train, df_train2])\n",
    "        \n",
    "df_train = df_train.drop(labels = ['RecordTime'], axis = 1) # 移除 RecordTime"
   ]
  },
  {
   "cell_type": "code",
   "execution_count": 4,
   "metadata": {
    "colab": {
     "base_uri": "https://localhost:8080/"
    },
    "executionInfo": {
     "elapsed": 7,
     "status": "ok",
     "timestamp": 1683108002244,
     "user": {
      "displayName": "洪啟豪",
      "userId": "08277187360257942838"
     },
     "user_tz": -480
    },
    "id": "Lpto4XmVf0XF",
    "outputId": "2f593798-e79e-4107-a6ee-79711ddcdb88"
   },
   "outputs": [
    {
     "name": "stdout",
     "output_type": "stream",
     "text": [
      "(16445, 103)\n",
      "<class 'pandas.core.frame.DataFrame'>\n",
      "<bound method DataFrame.info of      FaceBoundingBox_X  FaceBoundingBox_Y  FaceBoundingBox_W  \\\n",
      "0                  531                175                369   \n",
      "1                  532                175                367   \n",
      "2                  532                175                367   \n",
      "3                  532                175                366   \n",
      "4                  532                175                367   \n",
      "..                 ...                ...                ...   \n",
      "198                429                164                522   \n",
      "199                431                164                519   \n",
      "200                428                164                522   \n",
      "201                431                164                516   \n",
      "202                432                164                515   \n",
      "\n",
      "     FaceBoundingBox_H  FaceLandmarks_1_X  FaceLandmarks_1_Y  \\\n",
      "0                  369                684                322   \n",
      "1                  367                683                321   \n",
      "2                  367                683                321   \n",
      "3                  366                682                322   \n",
      "4                  367                683                321   \n",
      "..                 ...                ...                ...   \n",
      "198                522                640                359   \n",
      "199                519                639                359   \n",
      "200                522                639                358   \n",
      "201                516                639                359   \n",
      "202                515                639                359   \n",
      "\n",
      "     FaceLandmarks_2_X  FaceLandmarks_2_Y  FaceLandmarks_3_X  \\\n",
      "0                  641                326                756   \n",
      "1                  640                325                755   \n",
      "2                  640                325                755   \n",
      "3                  640                325                754   \n",
      "4                  640                325                755   \n",
      "..                 ...                ...                ...   \n",
      "198                574                351                743   \n",
      "199                573                352                742   \n",
      "200                573                351                742   \n",
      "201                572                352                742   \n",
      "202                572                353                742   \n",
      "\n",
      "     FaceLandmarks_3_Y  ...  EyeLandmarks_4_X  EyeLandmarks_4_Y  \\\n",
      "0                  316  ...               796               314   \n",
      "1                  316  ...               795               315   \n",
      "2                  317  ...               796               315   \n",
      "3                  317  ...               795               316   \n",
      "4                  316  ...               795               315   \n",
      "..                 ...  ...               ...               ...   \n",
      "198                362  ...               808               360   \n",
      "199                362  ...               807               359   \n",
      "200                362  ...               808               360   \n",
      "201                361  ...               808               358   \n",
      "202                361  ...               808               358   \n",
      "\n",
      "     LeftEyeMidPoint_X  LeftEyeMidPoint_Y  RightEyeMidPoint_X  \\\n",
      "0                662.5              324.0               776.0   \n",
      "1                661.5              323.0               775.0   \n",
      "2                661.5              323.0               775.5   \n",
      "3                661.0              323.5               774.5   \n",
      "4                661.5              323.0               775.0   \n",
      "..                 ...                ...                 ...   \n",
      "198              607.0              355.0               775.5   \n",
      "199              606.0              355.5               774.5   \n",
      "200              606.0              354.5               775.0   \n",
      "201              605.5              355.5               775.0   \n",
      "202              605.5              356.0               775.0   \n",
      "\n",
      "     RightEyeMidPoint_Y  GazeVector_X  GazeVector_Y  GazeVector_Z  RecordType  \n",
      "0                 315.0      0.009541     -0.035882     -0.999310           1  \n",
      "1                 315.5      0.042893     -0.038897     -0.998322           1  \n",
      "2                 316.0      0.028749     -0.056210     -0.998005           1  \n",
      "3                 316.5      0.029308     -0.042528     -0.998665           1  \n",
      "4                 315.5      0.039695     -0.036390     -0.998549           1  \n",
      "..                  ...           ...           ...           ...         ...  \n",
      "198               361.0      0.155623     -0.152600     -0.975958           1  \n",
      "199               360.5      0.158593     -0.157140     -0.974759           1  \n",
      "200               361.0      0.164102     -0.170797     -0.971545           1  \n",
      "201               359.5      0.159598     -0.171959     -0.972090           1  \n",
      "202               359.5      0.122340     -0.176187     -0.976725           1  \n",
      "\n",
      "[16445 rows x 103 columns]>\n"
     ]
    }
   ],
   "source": [
    "# check the data shape.\n",
    "print(df_train.shape)\n",
    "print(type(df_train))\n",
    "print(df_train.info)"
   ]
  },
  {
   "cell_type": "markdown",
   "metadata": {
    "id": "k2SOOxXoGDKj"
   },
   "source": [
    "## 資料前處理"
   ]
  },
  {
   "cell_type": "markdown",
   "metadata": {},
   "source": [
    "### 前處理－臉部特徵座標平移"
   ]
  },
  {
   "cell_type": "code",
   "execution_count": 5,
   "metadata": {},
   "outputs": [],
   "source": [
    "def FaceLandmarksPreprocessing(df_data, verbose = False):\n",
    "    for col_name in df_data.columns.to_list():\n",
    "        if col_name.find('FaceLandmarks_') == 0 or \\\n",
    "        col_name.find('EyeLandmarks_') == 0 or \\\n",
    "        col_name.find('LeftEyeBoundingBox_') == 0 or \\\n",
    "        col_name.find('RightEyeBoundingBox_') == 0 or \\\n",
    "        col_name.find('LeftEyeMidPoint_') == 0 or \\\n",
    "        col_name.find('RightEyeMidPoint_') == 0:\n",
    "            if col_name.find('_X') == len(col_name) - 2:\n",
    "                df_data[col_name] = df_data[col_name] - df_data['FaceBoundingBox_X']\n",
    "                if verbose:\n",
    "                    print(f'Column {col_name} is subtracted by FaceBoundingBox_X.')\n",
    "            elif col_name.find('_Y') == len(col_name) - 2:\n",
    "                df_data[col_name] = df_data[col_name] - df_data['FaceBoundingBox_Y']\n",
    "                if verbose:\n",
    "                    print(f'Column {col_name} is subtracted by FaceBoundingBox_Y.')\n",
    "            else:\n",
    "#                 print(f'Ignore column {col_name}.')\n",
    "                pass\n",
    "        else:\n",
    "#             print(f'Ignore column {col_name}')\n",
    "            pass\n",
    "    return df_data"
   ]
  },
  {
   "cell_type": "code",
   "execution_count": 6,
   "metadata": {},
   "outputs": [
    {
     "name": "stdout",
     "output_type": "stream",
     "text": [
      "   FaceBoundingBox_X  FaceBoundingBox_Y  FaceBoundingBox_W  FaceBoundingBox_H  \\\n",
      "0                531                175                369                369   \n",
      "1                532                175                367                367   \n",
      "2                532                175                367                367   \n",
      "3                532                175                366                366   \n",
      "4                532                175                367                367   \n",
      "\n",
      "   FaceLandmarks_1_X  FaceLandmarks_1_Y  FaceLandmarks_2_X  FaceLandmarks_2_Y  \\\n",
      "0                684                322                641                326   \n",
      "1                683                321                640                325   \n",
      "2                683                321                640                325   \n",
      "3                682                322                640                325   \n",
      "4                683                321                640                325   \n",
      "\n",
      "   FaceLandmarks_3_X  FaceLandmarks_3_Y  ...  EyeLandmarks_4_X  \\\n",
      "0                756                316  ...               796   \n",
      "1                755                316  ...               795   \n",
      "2                755                317  ...               796   \n",
      "3                754                317  ...               795   \n",
      "4                755                316  ...               795   \n",
      "\n",
      "   EyeLandmarks_4_Y  LeftEyeMidPoint_X  LeftEyeMidPoint_Y  RightEyeMidPoint_X  \\\n",
      "0               314              662.5              324.0               776.0   \n",
      "1               315              661.5              323.0               775.0   \n",
      "2               315              661.5              323.0               775.5   \n",
      "3               316              661.0              323.5               774.5   \n",
      "4               315              661.5              323.0               775.0   \n",
      "\n",
      "   RightEyeMidPoint_Y  GazeVector_X  GazeVector_Y  GazeVector_Z  RecordType  \n",
      "0               315.0      0.009541     -0.035882     -0.999310           1  \n",
      "1               315.5      0.042893     -0.038897     -0.998322           1  \n",
      "2               316.0      0.028749     -0.056210     -0.998005           1  \n",
      "3               316.5      0.029308     -0.042528     -0.998665           1  \n",
      "4               315.5      0.039695     -0.036390     -0.998549           1  \n",
      "\n",
      "[5 rows x 103 columns]\n"
     ]
    }
   ],
   "source": [
    "print(df_train.head())"
   ]
  },
  {
   "cell_type": "code",
   "execution_count": 7,
   "metadata": {},
   "outputs": [
    {
     "name": "stdout",
     "output_type": "stream",
     "text": [
      "Column FaceLandmarks_1_X is subtracted by FaceBoundingBox_X.\n",
      "Column FaceLandmarks_1_Y is subtracted by FaceBoundingBox_Y.\n",
      "Column FaceLandmarks_2_X is subtracted by FaceBoundingBox_X.\n",
      "Column FaceLandmarks_2_Y is subtracted by FaceBoundingBox_Y.\n",
      "Column FaceLandmarks_3_X is subtracted by FaceBoundingBox_X.\n",
      "Column FaceLandmarks_3_Y is subtracted by FaceBoundingBox_Y.\n",
      "Column FaceLandmarks_4_X is subtracted by FaceBoundingBox_X.\n",
      "Column FaceLandmarks_4_Y is subtracted by FaceBoundingBox_Y.\n",
      "Column FaceLandmarks_5_X is subtracted by FaceBoundingBox_X.\n",
      "Column FaceLandmarks_5_Y is subtracted by FaceBoundingBox_Y.\n",
      "Column FaceLandmarks_6_X is subtracted by FaceBoundingBox_X.\n",
      "Column FaceLandmarks_6_Y is subtracted by FaceBoundingBox_Y.\n",
      "Column FaceLandmarks_7_X is subtracted by FaceBoundingBox_X.\n",
      "Column FaceLandmarks_7_Y is subtracted by FaceBoundingBox_Y.\n",
      "Column FaceLandmarks_8_X is subtracted by FaceBoundingBox_X.\n",
      "Column FaceLandmarks_8_Y is subtracted by FaceBoundingBox_Y.\n",
      "Column FaceLandmarks_9_X is subtracted by FaceBoundingBox_X.\n",
      "Column FaceLandmarks_9_Y is subtracted by FaceBoundingBox_Y.\n",
      "Column FaceLandmarks_10_X is subtracted by FaceBoundingBox_X.\n",
      "Column FaceLandmarks_10_Y is subtracted by FaceBoundingBox_Y.\n",
      "Column FaceLandmarks_11_X is subtracted by FaceBoundingBox_X.\n",
      "Column FaceLandmarks_11_Y is subtracted by FaceBoundingBox_Y.\n",
      "Column FaceLandmarks_12_X is subtracted by FaceBoundingBox_X.\n",
      "Column FaceLandmarks_12_Y is subtracted by FaceBoundingBox_Y.\n",
      "Column FaceLandmarks_13_X is subtracted by FaceBoundingBox_X.\n",
      "Column FaceLandmarks_13_Y is subtracted by FaceBoundingBox_Y.\n",
      "Column FaceLandmarks_14_X is subtracted by FaceBoundingBox_X.\n",
      "Column FaceLandmarks_14_Y is subtracted by FaceBoundingBox_Y.\n",
      "Column FaceLandmarks_15_X is subtracted by FaceBoundingBox_X.\n",
      "Column FaceLandmarks_15_Y is subtracted by FaceBoundingBox_Y.\n",
      "Column FaceLandmarks_16_X is subtracted by FaceBoundingBox_X.\n",
      "Column FaceLandmarks_16_Y is subtracted by FaceBoundingBox_Y.\n",
      "Column FaceLandmarks_17_X is subtracted by FaceBoundingBox_X.\n",
      "Column FaceLandmarks_17_Y is subtracted by FaceBoundingBox_Y.\n",
      "Column FaceLandmarks_18_X is subtracted by FaceBoundingBox_X.\n",
      "Column FaceLandmarks_18_Y is subtracted by FaceBoundingBox_Y.\n",
      "Column FaceLandmarks_19_X is subtracted by FaceBoundingBox_X.\n",
      "Column FaceLandmarks_19_Y is subtracted by FaceBoundingBox_Y.\n",
      "Column FaceLandmarks_20_X is subtracted by FaceBoundingBox_X.\n",
      "Column FaceLandmarks_20_Y is subtracted by FaceBoundingBox_Y.\n",
      "Column FaceLandmarks_21_X is subtracted by FaceBoundingBox_X.\n",
      "Column FaceLandmarks_21_Y is subtracted by FaceBoundingBox_Y.\n",
      "Column FaceLandmarks_22_X is subtracted by FaceBoundingBox_X.\n",
      "Column FaceLandmarks_22_Y is subtracted by FaceBoundingBox_Y.\n",
      "Column FaceLandmarks_23_X is subtracted by FaceBoundingBox_X.\n",
      "Column FaceLandmarks_23_Y is subtracted by FaceBoundingBox_Y.\n",
      "Column FaceLandmarks_24_X is subtracted by FaceBoundingBox_X.\n",
      "Column FaceLandmarks_24_Y is subtracted by FaceBoundingBox_Y.\n",
      "Column FaceLandmarks_25_X is subtracted by FaceBoundingBox_X.\n",
      "Column FaceLandmarks_25_Y is subtracted by FaceBoundingBox_Y.\n",
      "Column FaceLandmarks_26_X is subtracted by FaceBoundingBox_X.\n",
      "Column FaceLandmarks_26_Y is subtracted by FaceBoundingBox_Y.\n",
      "Column FaceLandmarks_27_X is subtracted by FaceBoundingBox_X.\n",
      "Column FaceLandmarks_27_Y is subtracted by FaceBoundingBox_Y.\n",
      "Column FaceLandmarks_28_X is subtracted by FaceBoundingBox_X.\n",
      "Column FaceLandmarks_28_Y is subtracted by FaceBoundingBox_Y.\n",
      "Column FaceLandmarks_29_X is subtracted by FaceBoundingBox_X.\n",
      "Column FaceLandmarks_29_Y is subtracted by FaceBoundingBox_Y.\n",
      "Column FaceLandmarks_30_X is subtracted by FaceBoundingBox_X.\n",
      "Column FaceLandmarks_30_Y is subtracted by FaceBoundingBox_Y.\n",
      "Column FaceLandmarks_31_X is subtracted by FaceBoundingBox_X.\n",
      "Column FaceLandmarks_31_Y is subtracted by FaceBoundingBox_Y.\n",
      "Column FaceLandmarks_32_X is subtracted by FaceBoundingBox_X.\n",
      "Column FaceLandmarks_32_Y is subtracted by FaceBoundingBox_Y.\n",
      "Column FaceLandmarks_33_X is subtracted by FaceBoundingBox_X.\n",
      "Column FaceLandmarks_33_Y is subtracted by FaceBoundingBox_Y.\n",
      "Column FaceLandmarks_34_X is subtracted by FaceBoundingBox_X.\n",
      "Column FaceLandmarks_34_Y is subtracted by FaceBoundingBox_Y.\n",
      "Column FaceLandmarks_35_X is subtracted by FaceBoundingBox_X.\n",
      "Column FaceLandmarks_35_Y is subtracted by FaceBoundingBox_Y.\n",
      "Column LeftEyeBoundingBox_X is subtracted by FaceBoundingBox_X.\n",
      "Column LeftEyeBoundingBox_Y is subtracted by FaceBoundingBox_Y.\n",
      "Column RightEyeBoundingBox_X is subtracted by FaceBoundingBox_X.\n",
      "Column RightEyeBoundingBox_Y is subtracted by FaceBoundingBox_Y.\n",
      "Column EyeLandmarks_1_X is subtracted by FaceBoundingBox_X.\n",
      "Column EyeLandmarks_1_Y is subtracted by FaceBoundingBox_Y.\n",
      "Column EyeLandmarks_2_X is subtracted by FaceBoundingBox_X.\n",
      "Column EyeLandmarks_2_Y is subtracted by FaceBoundingBox_Y.\n",
      "Column EyeLandmarks_3_X is subtracted by FaceBoundingBox_X.\n",
      "Column EyeLandmarks_3_Y is subtracted by FaceBoundingBox_Y.\n",
      "Column EyeLandmarks_4_X is subtracted by FaceBoundingBox_X.\n",
      "Column EyeLandmarks_4_Y is subtracted by FaceBoundingBox_Y.\n",
      "Column LeftEyeMidPoint_X is subtracted by FaceBoundingBox_X.\n",
      "Column LeftEyeMidPoint_Y is subtracted by FaceBoundingBox_Y.\n",
      "Column RightEyeMidPoint_X is subtracted by FaceBoundingBox_X.\n",
      "Column RightEyeMidPoint_Y is subtracted by FaceBoundingBox_Y.\n"
     ]
    }
   ],
   "source": [
    "df_train = FaceLandmarksPreprocessing(df_train, True)"
   ]
  },
  {
   "cell_type": "code",
   "execution_count": 8,
   "metadata": {},
   "outputs": [
    {
     "name": "stdout",
     "output_type": "stream",
     "text": [
      "   FaceBoundingBox_X  FaceBoundingBox_Y  FaceBoundingBox_W  FaceBoundingBox_H  \\\n",
      "0                531                175                369                369   \n",
      "1                532                175                367                367   \n",
      "2                532                175                367                367   \n",
      "3                532                175                366                366   \n",
      "4                532                175                367                367   \n",
      "\n",
      "   FaceLandmarks_1_X  FaceLandmarks_1_Y  FaceLandmarks_2_X  FaceLandmarks_2_Y  \\\n",
      "0                153                147                110                151   \n",
      "1                151                146                108                150   \n",
      "2                151                146                108                150   \n",
      "3                150                147                108                150   \n",
      "4                151                146                108                150   \n",
      "\n",
      "   FaceLandmarks_3_X  FaceLandmarks_3_Y  ...  EyeLandmarks_4_X  \\\n",
      "0                225                141  ...               265   \n",
      "1                223                141  ...               263   \n",
      "2                223                142  ...               264   \n",
      "3                222                142  ...               263   \n",
      "4                223                141  ...               263   \n",
      "\n",
      "   EyeLandmarks_4_Y  LeftEyeMidPoint_X  LeftEyeMidPoint_Y  RightEyeMidPoint_X  \\\n",
      "0               139              131.5              149.0               245.0   \n",
      "1               140              129.5              148.0               243.0   \n",
      "2               140              129.5              148.0               243.5   \n",
      "3               141              129.0              148.5               242.5   \n",
      "4               140              129.5              148.0               243.0   \n",
      "\n",
      "   RightEyeMidPoint_Y  GazeVector_X  GazeVector_Y  GazeVector_Z  RecordType  \n",
      "0               140.0      0.009541     -0.035882     -0.999310           1  \n",
      "1               140.5      0.042893     -0.038897     -0.998322           1  \n",
      "2               141.0      0.028749     -0.056210     -0.998005           1  \n",
      "3               141.5      0.029308     -0.042528     -0.998665           1  \n",
      "4               140.5      0.039695     -0.036390     -0.998549           1  \n",
      "\n",
      "[5 rows x 103 columns]\n"
     ]
    }
   ],
   "source": [
    "print(df_train.head())"
   ]
  },
  {
   "cell_type": "markdown",
   "metadata": {
    "id": "tRUsg-KdFmDX"
   },
   "source": [
    "### 前處理－檢查缺失值"
   ]
  },
  {
   "cell_type": "code",
   "execution_count": 9,
   "metadata": {
    "colab": {
     "base_uri": "https://localhost:8080/"
    },
    "executionInfo": {
     "elapsed": 623,
     "status": "ok",
     "timestamp": 1683108002862,
     "user": {
      "displayName": "洪啟豪",
      "userId": "08277187360257942838"
     },
     "user_tz": -480
    },
    "id": "hdcUR6y4l8MN",
    "outputId": "33fd0e04-5d78-442e-c34b-fa323867e019"
   },
   "outputs": [
    {
     "name": "stdout",
     "output_type": "stream",
     "text": [
      "Before data clean(NAN mount): 0\n"
     ]
    }
   ],
   "source": [
    "# checked missing data\n",
    "print(\"Before data clean(NAN mount):\", len(np.where(np.isnan(df_train)==1)[0]))"
   ]
  },
  {
   "cell_type": "code",
   "execution_count": 10,
   "metadata": {
    "executionInfo": {
     "elapsed": 4,
     "status": "ok",
     "timestamp": 1683108002863,
     "user": {
      "displayName": "洪啟豪",
      "userId": "08277187360257942838"
     },
     "user_tz": -480
    },
    "id": "KJnTA2aGnQm2"
   },
   "outputs": [],
   "source": [
    "# Find columns with only unique value.\n",
    "# unique_col = []\n",
    "# for i in df_train.columns:\n",
    "#     if np.unique(df_train[i]).shape[0]==1:\n",
    "#         print(f'Get column {i} with only unique value.')\n",
    "#         unique_col.append(i) "
   ]
  },
  {
   "cell_type": "code",
   "execution_count": 11,
   "metadata": {
    "executionInfo": {
     "elapsed": 9,
     "status": "ok",
     "timestamp": 1683108003480,
     "user": {
      "displayName": "洪啟豪",
      "userId": "08277187360257942838"
     },
     "user_tz": -480
    },
    "id": "_hIF4mpgnhrC"
   },
   "outputs": [],
   "source": [
    "# print(unique_col)"
   ]
  },
  {
   "cell_type": "code",
   "execution_count": 12,
   "metadata": {
    "executionInfo": {
     "elapsed": 8,
     "status": "ok",
     "timestamp": 1683108003480,
     "user": {
      "displayName": "洪啟豪",
      "userId": "08277187360257942838"
     },
     "user_tz": -480
    },
    "id": "8vS3OHFnn9NP"
   },
   "outputs": [],
   "source": [
    "# df_train.describe()[unique_col]"
   ]
  },
  {
   "cell_type": "code",
   "execution_count": 13,
   "metadata": {
    "executionInfo": {
     "elapsed": 9,
     "status": "ok",
     "timestamp": 1683108003481,
     "user": {
      "displayName": "洪啟豪",
      "userId": "08277187360257942838"
     },
     "user_tz": -480
    },
    "id": "p96tJDw2oCSX"
   },
   "outputs": [],
   "source": [
    "# Drop columns with only unique value.\n",
    "# df_train = df_train.drop(unique_col, axis=1)"
   ]
  },
  {
   "cell_type": "markdown",
   "metadata": {},
   "source": [
    "### 前處理－保留重要特徵"
   ]
  },
  {
   "cell_type": "code",
   "execution_count": 14,
   "metadata": {
    "executionInfo": {
     "elapsed": 9,
     "status": "ok",
     "timestamp": 1683108003481,
     "user": {
      "displayName": "洪啟豪",
      "userId": "08277187360257942838"
     },
     "user_tz": -480
    },
    "id": "Mm7GF5LO38-g"
   },
   "outputs": [],
   "source": [
    "# 列出不重要的特徵。\n",
    "# 先假設除了gaze vector以外的特徵都不重要，之後再調整。\n",
    "# del_col = ['FaceBoundingBox_X', 'FaceBoundingBox_Y','FaceBoundingBox_W', 'FaceBoundingBox_H', 'FaceLandmarks_1_X', \n",
    "#            'FaceLandmarks_1_Y', 'FaceLandmarks_2_X','FaceLandmarks_2_Y', 'FaceLandmarks_3_X', 'FaceLandmarks_3_Y', \n",
    "#            'FaceLandmarks_4_X', 'FaceLandmarks_4_Y','FaceLandmarks_5_X', 'FaceLandmarks_5_Y', 'FaceLandmarks_6_X', \n",
    "#            'FaceLandmarks_6_Y', 'FaceLandmarks_7_X', 'FaceLandmarks_7_Y', 'FaceLandmarks_8_X', 'FaceLandmarks_8_Y', \n",
    "#            'FaceLandmarks_9_X', 'FaceLandmarks_9_Y', 'FaceLandmarks_10_X', 'FaceLandmarks_10_Y', 'FaceLandmarks_11_X', \n",
    "#            'FaceLandmarks_11_Y', 'FaceLandmarks_12_X', 'FaceLandmarks_12_Y', 'FaceLandmarks_13_X', 'FaceLandmarks_13_Y', \n",
    "#            'FaceLandmarks_14_X', 'FaceLandmarks_14_Y', 'FaceLandmarks_15_X', 'FaceLandmarks_15_Y', 'FaceLandmarks_16_X', \n",
    "#            'FaceLandmarks_16_Y', 'FaceLandmarks_17_X', 'FaceLandmarks_17_Y', 'FaceLandmarks_18_X', 'FaceLandmarks_18_Y', \n",
    "#            'FaceLandmarks_19_X', 'FaceLandmarks_19_Y', 'FaceLandmarks_20_X', 'FaceLandmarks_20_Y', 'FaceLandmarks_21_X', \n",
    "#            'FaceLandmarks_21_Y', 'FaceLandmarks_22_X', 'FaceLandmarks_22_Y', 'FaceLandmarks_23_X', 'FaceLandmarks_23_Y', \n",
    "#            'FaceLandmarks_24_X', 'FaceLandmarks_24_Y', 'FaceLandmarks_25_X', 'FaceLandmarks_25_Y', 'FaceLandmarks_26_X', \n",
    "#            'FaceLandmarks_26_Y', 'FaceLandmarks_27_X', 'FaceLandmarks_27_Y', 'FaceLandmarks_28_X', 'FaceLandmarks_28_Y', \n",
    "#            'FaceLandmarks_29_X', 'FaceLandmarks_29_Y', 'FaceLandmarks_30_X', 'FaceLandmarks_30_Y', 'FaceLandmarks_31_X', \n",
    "#            'FaceLandmarks_31_Y', 'FaceLandmarks_32_X', 'FaceLandmarks_32_Y', 'FaceLandmarks_33_X', 'FaceLandmarks_33_Y', \n",
    "#            'FaceLandmarks_34_X', 'FaceLandmarks_34_Y', 'FaceLandmarks_35_X', 'FaceLandmarks_35_Y', 'HeadPoseAngles_X', \n",
    "#            'HeadPoseAngles_Y','HeadPoseAngles_Z', 'LeftEyeBoundingBox_X', 'LeftEyeBoundingBox_Y', 'LeftEyeBoundingBox_W', \n",
    "#            'LeftEyeBoundingBox_H', 'RightEyeBoundingBox_X', 'RightEyeBoundingBox_Y', 'RightEyeBoundingBox_W', 'RightEyeBoundingBox_H', \n",
    "#            'EyeLandmarks_1_X', 'EyeLandmarks_1_Y', 'EyeLandmarks_2_X', 'EyeLandmarks_2_Y', 'EyeLandmarks_3_X', \n",
    "#            'EyeLandmarks_3_Y', 'EyeLandmarks_4_X', 'EyeLandmarks_4_Y', 'LeftEyeMidPoint_X', 'LeftEyeMidPoint_Y', \n",
    "#            'RightEyeMidPoint_X','RightEyeMidPoint_Y', 'EyeState_Left', 'EyeState_Right']\n",
    "# del_col = ['FaceBoundingBox_X', 'FaceBoundingBox_Y','FaceBoundingBox_W', 'FaceBoundingBox_H', 'HeadPoseAngles_X', \n",
    "#            'HeadPoseAngles_Y','HeadPoseAngles_Z', 'LeftEyeBoundingBox_X', 'LeftEyeBoundingBox_Y', 'LeftEyeBoundingBox_W', \n",
    "#            'LeftEyeBoundingBox_H', 'RightEyeBoundingBox_X', 'RightEyeBoundingBox_Y', 'RightEyeBoundingBox_W', 'RightEyeBoundingBox_H', \n",
    "#            'EyeLandmarks_1_X', 'EyeLandmarks_1_Y', 'EyeLandmarks_2_X', 'EyeLandmarks_2_Y', 'EyeLandmarks_3_X', \n",
    "#            'EyeLandmarks_3_Y', 'EyeLandmarks_4_X', 'EyeLandmarks_4_Y', 'LeftEyeMidPoint_X', 'LeftEyeMidPoint_Y', \n",
    "#            'RightEyeMidPoint_X','RightEyeMidPoint_Y', 'EyeState_Left', 'EyeState_Right']"
   ]
  },
  {
   "cell_type": "code",
   "execution_count": 15,
   "metadata": {
    "executionInfo": {
     "elapsed": 8,
     "status": "ok",
     "timestamp": 1683108003481,
     "user": {
      "displayName": "洪啟豪",
      "userId": "08277187360257942838"
     },
     "user_tz": -480
    },
    "id": "40HTalDz-NnB"
   },
   "outputs": [],
   "source": [
    "# df_train = df_train.drop(del_col, axis = 1)"
   ]
  },
  {
   "cell_type": "code",
   "execution_count": 16,
   "metadata": {},
   "outputs": [],
   "source": [
    "# 列出重要的特徵。重要特徵選取，係由XGBoost的Feature importance圖選取前幾名。\n",
    "col_high_rel = ['HeadPoseAngles_Y', 'GazeVector_X', 'GazeVector_Z', 'GazeVector_Y', 'HeadPoseAngles_Z']\n",
    "col_deleted = ['FaceBoundingBox_X', 'FaceBoundingBox_Y']"
   ]
  },
  {
   "cell_type": "code",
   "execution_count": 17,
   "metadata": {
    "executionInfo": {
     "elapsed": 8,
     "status": "ok",
     "timestamp": 1683108003481,
     "user": {
      "displayName": "洪啟豪",
      "userId": "08277187360257942838"
     },
     "user_tz": -480
    },
    "id": "OVsErgPPoLsW"
   },
   "outputs": [],
   "source": [
    "# from sklearn.preprocessing import StandardScaler\n",
    "# from sklearn.preprocessing import MinMaxScaler"
   ]
  },
  {
   "cell_type": "code",
   "execution_count": 18,
   "metadata": {
    "executionInfo": {
     "elapsed": 8,
     "status": "ok",
     "timestamp": 1683108003481,
     "user": {
      "displayName": "洪啟豪",
      "userId": "08277187360257942838"
     },
     "user_tz": -480
    },
    "id": "sQ2LZe8ioVcT"
   },
   "outputs": [],
   "source": [
    "# def data_preprocessing(df_input, train=True, sc=None):\n",
    "#     # numeric feature standardization\n",
    "#     if train:\n",
    "#         sc = StandardScaler()\n",
    "# #         sc = MinMaxScaler()\n",
    "#         df = sc.fit_transform(df_input.iloc[:, 0:-1])\n",
    "#     else:\n",
    "#         df = sc.transform(df_input)\n",
    "#     return df, sc"
   ]
  },
  {
   "cell_type": "code",
   "execution_count": 19,
   "metadata": {
    "executionInfo": {
     "elapsed": 8,
     "status": "ok",
     "timestamp": 1683108003481,
     "user": {
      "displayName": "洪啟豪",
      "userId": "08277187360257942838"
     },
     "user_tz": -480
    },
    "id": "9Uo150PxobDe"
   },
   "outputs": [],
   "source": [
    "# X, train_sc = data_preprocessing(df_train)"
   ]
  },
  {
   "cell_type": "code",
   "execution_count": 20,
   "metadata": {
    "colab": {
     "base_uri": "https://localhost:8080/"
    },
    "executionInfo": {
     "elapsed": 7,
     "status": "ok",
     "timestamp": 1683108003481,
     "user": {
      "displayName": "洪啟豪",
      "userId": "08277187360257942838"
     },
     "user_tz": -480
    },
    "id": "ylaxtSjLobGS",
    "outputId": "521a81ba-2edc-4cd8-9298-fe809099c40e"
   },
   "outputs": [],
   "source": [
    "# X.shape"
   ]
  },
  {
   "cell_type": "code",
   "execution_count": 21,
   "metadata": {
    "colab": {
     "base_uri": "https://localhost:8080/"
    },
    "executionInfo": {
     "elapsed": 3,
     "status": "ok",
     "timestamp": 1683108004057,
     "user": {
      "displayName": "洪啟豪",
      "userId": "08277187360257942838"
     },
     "user_tz": -480
    },
    "id": "Cn8lc4I9olwW",
    "outputId": "8ee96541-5ef5-4177-a98d-21d58865a72c"
   },
   "outputs": [],
   "source": [
    "# train_sc.mean_"
   ]
  },
  {
   "cell_type": "code",
   "execution_count": 22,
   "metadata": {
    "colab": {
     "base_uri": "https://localhost:8080/"
    },
    "executionInfo": {
     "elapsed": 3,
     "status": "ok",
     "timestamp": 1683108004058,
     "user": {
      "displayName": "洪啟豪",
      "userId": "08277187360257942838"
     },
     "user_tz": -480
    },
    "id": "_9nV5KiJol7V",
    "outputId": "e1f63801-2a38-4337-cc45-cb3b9b03c3fc"
   },
   "outputs": [],
   "source": [
    "# train_sc.var_"
   ]
  },
  {
   "cell_type": "code",
   "execution_count": 23,
   "metadata": {
    "executionInfo": {
     "elapsed": 2,
     "status": "ok",
     "timestamp": 1683108004058,
     "user": {
      "displayName": "洪啟豪",
      "userId": "08277187360257942838"
     },
     "user_tz": -480
    },
    "id": "Evj0RRbsorQs"
   },
   "outputs": [
    {
     "name": "stdout",
     "output_type": "stream",
     "text": [
      "(16445,)\n"
     ]
    }
   ],
   "source": [
    "y = df_train['RecordType'].values\n",
    "print(y.shape)"
   ]
  },
  {
   "cell_type": "code",
   "execution_count": 24,
   "metadata": {
    "colab": {
     "base_uri": "https://localhost:8080/"
    },
    "executionInfo": {
     "elapsed": 4,
     "status": "ok",
     "timestamp": 1683108004484,
     "user": {
      "displayName": "洪啟豪",
      "userId": "08277187360257942838"
     },
     "user_tz": -480
    },
    "id": "CvPGvoLApDoO",
    "outputId": "4fc06266-aec9-4c3f-f50a-cce8d36535b8"
   },
   "outputs": [],
   "source": [
    "# 刪除沒有被列在重要特徵列表的特徵。\n",
    "def ReserveImportColumns(df_data, col_reserved):\n",
    "    for col_name in df_data.columns.to_list():\n",
    "        if col_name not in col_reserved:\n",
    "            df_data = df_data.drop(col_name, axis = 1)\n",
    "    return df_data"
   ]
  },
  {
   "cell_type": "code",
   "execution_count": 25,
   "metadata": {},
   "outputs": [
    {
     "name": "stdout",
     "output_type": "stream",
     "text": [
      "(16445, 5)\n",
      "Index(['HeadPoseAngles_Y', 'HeadPoseAngles_Z', 'GazeVector_X', 'GazeVector_Y',\n",
      "       'GazeVector_Z'],\n",
      "      dtype='object')\n"
     ]
    }
   ],
   "source": [
    "df_train.drop(col_deleted, axis = 1)\n",
    "df_train = ReserveImportColumns(df_train, col_high_rel)\n",
    "\n",
    "print(df_train.shape)\n",
    "print(df_train.columns)"
   ]
  },
  {
   "cell_type": "code",
   "execution_count": 26,
   "metadata": {
    "colab": {
     "base_uri": "https://localhost:8080/"
    },
    "executionInfo": {
     "elapsed": 4,
     "status": "ok",
     "timestamp": 1683108004485,
     "user": {
      "displayName": "洪啟豪",
      "userId": "08277187360257942838"
     },
     "user_tz": -480
    },
    "id": "AAeujrIOpDqz",
    "outputId": "b79d20a9-d4e7-43d4-d510-5fe1b79fdb45"
   },
   "outputs": [
    {
     "name": "stdout",
     "output_type": "stream",
     "text": [
      "[1 1 1 ... 1 1 1]\n"
     ]
    }
   ],
   "source": [
    "np.unique(y)\n",
    "print(y)"
   ]
  },
  {
   "cell_type": "markdown",
   "metadata": {
    "id": "PXzWbjxUFDn-"
   },
   "source": [
    "## 切割訓練集"
   ]
  },
  {
   "cell_type": "code",
   "execution_count": 27,
   "metadata": {},
   "outputs": [],
   "source": [
    "# npa_train = df_train.to_numpy()"
   ]
  },
  {
   "cell_type": "code",
   "execution_count": 28,
   "metadata": {
    "executionInfo": {
     "elapsed": 2,
     "status": "ok",
     "timestamp": 1683108004967,
     "user": {
      "displayName": "洪啟豪",
      "userId": "08277187360257942838"
     },
     "user_tz": -480
    },
    "id": "TL1ylEL5pgJw"
   },
   "outputs": [],
   "source": [
    "from sklearn.model_selection import train_test_split\n",
    "x_train , x_valid , y_train , y_valid = train_test_split(df_train, y, test_size=0.25, random_state=17, stratify=y)\n",
    "#print(y_train)\n",
    "#print(y_valid)"
   ]
  },
  {
   "cell_type": "code",
   "execution_count": 29,
   "metadata": {
    "colab": {
     "base_uri": "https://localhost:8080/",
     "height": 447
    },
    "executionInfo": {
     "elapsed": 691,
     "status": "ok",
     "timestamp": 1683108005656,
     "user": {
      "displayName": "洪啟豪",
      "userId": "08277187360257942838"
     },
     "user_tz": -480
    },
    "id": "4wOpVBdGf2Ch",
    "outputId": "cf925c0d-b41f-43fb-cd77-520e35021bd0"
   },
   "outputs": [],
   "source": [
    "# unique, counts = np.unique(y.argmax(-1), return_counts=True)\n",
    "# plt.bar(unique, counts)"
   ]
  },
  {
   "cell_type": "code",
   "execution_count": 30,
   "metadata": {
    "colab": {
     "base_uri": "https://localhost:8080/",
     "height": 447
    },
    "executionInfo": {
     "elapsed": 8,
     "status": "ok",
     "timestamp": 1683108005656,
     "user": {
      "displayName": "洪啟豪",
      "userId": "08277187360257942838"
     },
     "user_tz": -480
    },
    "id": "JK4k_DVOf6tX",
    "outputId": "ad40f686-c390-4330-8c6c-288617a70d07"
   },
   "outputs": [],
   "source": [
    "# unique, counts = np.unique(y_train.argmax(-1), return_counts=True)\n",
    "# plt.bar(unique, counts)"
   ]
  },
  {
   "cell_type": "code",
   "execution_count": 31,
   "metadata": {
    "colab": {
     "base_uri": "https://localhost:8080/"
    },
    "executionInfo": {
     "elapsed": 6,
     "status": "ok",
     "timestamp": 1683108005656,
     "user": {
      "displayName": "洪啟豪",
      "userId": "08277187360257942838"
     },
     "user_tz": -480
    },
    "id": "s_RcXa2bso-S",
    "outputId": "67948a16-638f-4151-f678-827af7846445"
   },
   "outputs": [
    {
     "name": "stdout",
     "output_type": "stream",
     "text": [
      "shape of x_train:  (12333, 5)\n"
     ]
    }
   ],
   "source": [
    "print(\"shape of x_train: \", x_train.shape)"
   ]
  },
  {
   "cell_type": "code",
   "execution_count": 32,
   "metadata": {
    "colab": {
     "base_uri": "https://localhost:8080/"
    },
    "executionInfo": {
     "elapsed": 3,
     "status": "ok",
     "timestamp": 1683108006049,
     "user": {
      "displayName": "洪啟豪",
      "userId": "08277187360257942838"
     },
     "user_tz": -480
    },
    "id": "vY6XO0-isupe",
    "outputId": "937afe0b-7e90-46d0-d237-9c4d2a0f756e"
   },
   "outputs": [
    {
     "name": "stdout",
     "output_type": "stream",
     "text": [
      "shape of x_valid:  (4112, 5)\n"
     ]
    }
   ],
   "source": [
    "print(\"shape of x_valid: \", x_valid.shape)"
   ]
  },
  {
   "cell_type": "code",
   "execution_count": 33,
   "metadata": {
    "executionInfo": {
     "elapsed": 2,
     "status": "ok",
     "timestamp": 1683108006049,
     "user": {
      "displayName": "洪啟豪",
      "userId": "08277187360257942838"
     },
     "user_tz": -480
    },
    "id": "cDmB0fIEf_Wp"
   },
   "outputs": [],
   "source": [
    "clf = RandomForestClassifier()"
   ]
  },
  {
   "cell_type": "code",
   "execution_count": 34,
   "metadata": {
    "colab": {
     "base_uri": "https://localhost:8080/",
     "height": 74
    },
    "executionInfo": {
     "elapsed": 573,
     "status": "ok",
     "timestamp": 1683108007004,
     "user": {
      "displayName": "洪啟豪",
      "userId": "08277187360257942838"
     },
     "user_tz": -480
    },
    "id": "0RQVq139gBDb",
    "outputId": "41aede67-cb0a-492a-b41e-1f3a330cfff7"
   },
   "outputs": [
    {
     "data": {
      "text/plain": [
       "RandomForestClassifier(bootstrap=True, ccp_alpha=0.0, class_weight=None,\n",
       "                       criterion='gini', max_depth=None, max_features='auto',\n",
       "                       max_leaf_nodes=None, max_samples=None,\n",
       "                       min_impurity_decrease=0.0, min_impurity_split=None,\n",
       "                       min_samples_leaf=1, min_samples_split=2,\n",
       "                       min_weight_fraction_leaf=0.0, n_estimators=100,\n",
       "                       n_jobs=None, oob_score=False, random_state=None,\n",
       "                       verbose=0, warm_start=False)"
      ]
     },
     "execution_count": 34,
     "metadata": {},
     "output_type": "execute_result"
    }
   ],
   "source": [
    "clf.fit(x_train, y_train)"
   ]
  },
  {
   "cell_type": "code",
   "execution_count": 35,
   "metadata": {
    "executionInfo": {
     "elapsed": 4,
     "status": "ok",
     "timestamp": 1683108007004,
     "user": {
      "displayName": "洪啟豪",
      "userId": "08277187360257942838"
     },
     "user_tz": -480
    },
    "id": "fHbWK0SOgDPt"
   },
   "outputs": [],
   "source": [
    "y_pred = clf.predict(x_valid)"
   ]
  },
  {
   "cell_type": "code",
   "execution_count": 36,
   "metadata": {
    "colab": {
     "base_uri": "https://localhost:8080/"
    },
    "executionInfo": {
     "elapsed": 6,
     "status": "ok",
     "timestamp": 1683108007394,
     "user": {
      "displayName": "洪啟豪",
      "userId": "08277187360257942838"
     },
     "user_tz": -480
    },
    "id": "u6S_YR_rgHwN",
    "outputId": "6e079c4b-e7b7-4276-f57a-1d18d7f02e3e"
   },
   "outputs": [
    {
     "data": {
      "text/plain": [
       "0.9832198443579766"
      ]
     },
     "execution_count": 36,
     "metadata": {},
     "output_type": "execute_result"
    }
   ],
   "source": [
    "accuracy_score(y_valid, y_pred)"
   ]
  },
  {
   "cell_type": "code",
   "execution_count": 37,
   "metadata": {
    "colab": {
     "base_uri": "https://localhost:8080/"
    },
    "executionInfo": {
     "elapsed": 6,
     "status": "ok",
     "timestamp": 1683108007395,
     "user": {
      "displayName": "洪啟豪",
      "userId": "08277187360257942838"
     },
     "user_tz": -480
    },
    "id": "fz4LCD-KgMI-",
    "outputId": "3c2dd460-e098-43d9-bc0a-8298e9185d83"
   },
   "outputs": [
    {
     "data": {
      "text/plain": [
       "array([0.18090774, 0.09030788, 0.11557388, 0.16881452, 0.44439597])"
      ]
     },
     "execution_count": 37,
     "metadata": {},
     "output_type": "execute_result"
    }
   ],
   "source": [
    "clf.feature_importances_"
   ]
  },
  {
   "cell_type": "markdown",
   "metadata": {
    "id": "hA6iAy1zGgR6"
   },
   "source": [
    "## 模型測試"
   ]
  },
  {
   "cell_type": "code",
   "execution_count": 38,
   "metadata": {},
   "outputs": [],
   "source": [
    "def GetScene2AccuractFromTest(arrTestAns, correctAns):\n",
    "    accurate_rate = np.count_nonzero(arrTestAns == correctAns) / len(arrTestAns)\n",
    "#     print(accurate_rate)\n",
    "    return accurate_rate"
   ]
  },
  {
   "cell_type": "code",
   "execution_count": 39,
   "metadata": {
    "executionInfo": {
     "elapsed": 4,
     "status": "ok",
     "timestamp": 1683108007395,
     "user": {
      "displayName": "洪啟豪",
      "userId": "08277187360257942838"
     },
     "user_tz": -480
    },
    "id": "nJlIndK2gOd6"
   },
   "outputs": [
    {
     "name": "stdout",
     "output_type": "stream",
     "text": [
      "Total count: 1082, gaze vector zero count: 0\n",
      "Total count: 1082\n"
     ]
    }
   ],
   "source": [
    "# Test\n",
    "# 測試一個答案全部為1的資料。\n",
    "df_test = pd.read_csv('/project/xt121-group5/scene2_data/test_data/2023-05-17 194144 c.csv')\n",
    "df_test = RemoveNoise(df_test, \n",
    "                      (df_test['GazeVector_X'] == 0) & \n",
    "                      (df_test['GazeVector_Y'] == 0) & \n",
    "                      (df_test['GazeVector_Z'] == 0))\n",
    "df_test = FaceLandmarksPreprocessing(df_test)\n",
    "df_test = df_test.drop(col_deleted, axis = 1)\n",
    "df_test = ReserveImportColumns(df_test, col_high_rel)\n",
    "# test, _ = data_preprocessing(df_test, train=False, sc=train_sc)"
   ]
  },
  {
   "cell_type": "code",
   "execution_count": 40,
   "metadata": {
    "colab": {
     "base_uri": "https://localhost:8080/"
    },
    "executionInfo": {
     "elapsed": 4,
     "status": "ok",
     "timestamp": 1683108007395,
     "user": {
      "displayName": "洪啟豪",
      "userId": "08277187360257942838"
     },
     "user_tz": -480
    },
    "id": "tlbvX9Wu0dzR",
    "outputId": "b7cf2a6c-ddc1-48aa-a203-986dd0198985"
   },
   "outputs": [
    {
     "name": "stdout",
     "output_type": "stream",
     "text": [
      "Index(['HeadPoseAngles_Y', 'HeadPoseAngles_Z', 'GazeVector_X', 'GazeVector_Y',\n",
      "       'GazeVector_Z'],\n",
      "      dtype='object')\n",
      "(1082,)\n",
      "<class 'numpy.ndarray'>\n"
     ]
    }
   ],
   "source": [
    "print(df_test.columns)\n",
    "# npa_test = df_test.to_numpy()\n",
    "pred = clf.predict(df_test)\n",
    "print(pred.shape)\n",
    "print(type(pred))"
   ]
  },
  {
   "cell_type": "code",
   "execution_count": 41,
   "metadata": {
    "colab": {
     "base_uri": "https://localhost:8080/"
    },
    "executionInfo": {
     "elapsed": 528,
     "status": "ok",
     "timestamp": 1683108007920,
     "user": {
      "displayName": "洪啟豪",
      "userId": "08277187360257942838"
     },
     "user_tz": -480
    },
    "id": "UUxFT4pu0Ion",
    "outputId": "121ab77b-fe13-4a65-c2a3-15f8df34dcef"
   },
   "outputs": [
    {
     "name": "stdout",
     "output_type": "stream",
     "text": [
      "[1 1 1 ... 1 1 1]\n",
      "Test accurate rate: 0.8872458410351202\n"
     ]
    }
   ],
   "source": [
    "print(pred)\n",
    "print(f'Test accurate rate: {GetScene2AccuractFromTest(pred, 1)}')"
   ]
  },
  {
   "cell_type": "code",
   "execution_count": 42,
   "metadata": {},
   "outputs": [
    {
     "name": "stdout",
     "output_type": "stream",
     "text": [
      "Total count: 956, gaze vector zero count: 70\n",
      "Total count: 886\n"
     ]
    }
   ],
   "source": [
    "# Test\n",
    "# 測試一個答案全部為0的資料。\n",
    "df_test = pd.read_csv('/project/xt121-group5/scene2_data/test_data/2023-05-17 194223 nc.csv')\n",
    "df_test = RemoveNoise(df_test, \n",
    "                      (df_test['GazeVector_X'] == 0) & \n",
    "                      (df_test['GazeVector_Y'] == 0) & \n",
    "                      (df_test['GazeVector_Z'] == 0))\n",
    "df_test = FaceLandmarksPreprocessing(df_test)\n",
    "df_test = df_test.drop(col_deleted, axis = 1)\n",
    "df_test = ReserveImportColumns(df_test, col_high_rel)"
   ]
  },
  {
   "cell_type": "code",
   "execution_count": 43,
   "metadata": {},
   "outputs": [
    {
     "name": "stdout",
     "output_type": "stream",
     "text": [
      "[0 0 0 0 0 0 0 0 0 0 0 0 0 0 0 0 0 0 0 0 0 0 0 0 0 0 0 0 0 0 0 0 0 0 0 0 0\n",
      " 0 0 0 0 0 0 0 0 0 0 0 0 0 0 0 0 0 0 0 0 0 0 0 0 0 0 0 0 0 0 0 0 0 0 0 0 0\n",
      " 0 0 0 0 0 0 0 0 0 0 0 0 0 0 0 0 0 0 0 0 0 0 0 0 0 0 0 0 0 0 0 0 0 0 0 0 0\n",
      " 0 0 0 0 0 0 0 0 0 0 0 0 0 0 0 0 0 0 0 0 0 0 0 0 0 0 0 0 0 0 0 0 0 0 0 0 0\n",
      " 0 0 0 0 0 0 0 0 0 0 0 0 0 0 0 0 0 0 0 0 0 0 0 0 0 0 0 0 0 0 0 0 0 0 0 0 0\n",
      " 0 0 0 0 0 0 0 0 0 0 0 0 0 0 0 0 0 0 0 0 0 0 0 0 0 0 0 0 0 0 0 0 0 0 0 0 0\n",
      " 0 0 0 0 0 0 0 0 0 0 0 0 0 0 0 1 0 0 0 0 0 0 0 0 1 1 1 0 0 0 0 0 0 0 0 0 0\n",
      " 0 0 0 0 0 0 0 0 0 0 0 0 0 0 0 0 0 0 0 0 0 0 0 0 0 0 0 0 0 0 0 0 0 0 0 0 0\n",
      " 0 0 0 0 0 0 0 0 0 0 0 0 0 0 0 0 0 0 0 0 0 0 0 0 0 0 0 0 0 0 0 0 0 0 0 0 0\n",
      " 0 0 0 0 0 0 0 0 0 0 0 0 0 0 0 0 0 0 0 0 0 0 0 0 0 0 0 0 0 0 0 0 0 0 0 0 0\n",
      " 0 0 0 0 0 0 0 0 0 0 0 0 0 0 0 0 0 0 0 0 0 0 0 0 0 0 0 0 0 0 0 0 0 0 0 0 0\n",
      " 0 0 0 0 0 0 0 0 0 0 0 0 0 0 0 0 0 0 0 0 0 0 0 0 0 0 0 0 0 0 0 0 0 0 0 0 0\n",
      " 0 0 0 0 0 0 0 0 0 0 0 0 0 0 0 0 0 0 0 0 0 0 0 0 0 0 0 0 0 0 0 0 0 0 0 0 0\n",
      " 0 0 0 0 0 0 0 0 0 0 0 0 0 0 0 0 0 0 0 0 0 0 0 0 0 0 0 0 0 0 0 0 0 0 0 0 0\n",
      " 0 0 0 0 0 0 0 0 0 0 0 0 0 0 0 0 0 0 0 0 0 0 0 0 0 0 0 0 0 0 0 0 0 0 0 0 0\n",
      " 0 0 0 0 0 0 0 0 0 0 0 0 0 0 0 0 0 0 0 0 0 0 0 0 0 0 0 0 0 0 0 0 0 0 0 0 0\n",
      " 0 0 0 0 0 0 0 0 0 0 0 0 0 0 0 0 0 0 0 0 0 0 0 0 0 0 0 0 0 0 0 0 0 0 0 0 0\n",
      " 0 0 0 0 0 0 0 0 0 0 0 0 0 0 0 0 0 0 0 0 0 0 0 0 0 0 0 0 0 0 0 0 0 0 0 0 0\n",
      " 0 0 0 0 0 0 0 0 0 0 0 0 0 0 0 0 0 0 0 0 0 0 0 0 0 0 0 0 0 0 0 0 0 0 0 0 0\n",
      " 0 0 0 0 0 0 0 0 0 0 0 0 0 0 0 0 0 0 0 0 0 0 0 0 0 0 0 0 0 0 0 0 0 0 0 0 0\n",
      " 0 0 0 0 0 0 0 0 0 0 0 0 0 0 0 0 0 0 0 0 0 0 0 0 0 0 0 0 0 0 0 0 0 0 0 0 0\n",
      " 0 0 0 0 0 0 0 0 0 0 0 0 0 0 0 0 0 0 0 0 0 0 0 0 0 0 0 0 0 0 0 0 0 0 0 0 0\n",
      " 0 0 0 0 0 0 0 0 0 0 0 0 0 0 0 0 0 0 0 1 0 1 1 0 0 0 0 0 0 0 0 0 0 0 0 0 0\n",
      " 0 0 0 0 0 0 0 0 0 0 0 0 0 0 0 0 0 0 0 0 0 0 0 0 0 0 0 0 0 0 0 0 0 0 0]\n",
      "Test accurate rate: 0.9920993227990971\n"
     ]
    }
   ],
   "source": [
    "# npa_test = df_test.to_numpy()\n",
    "pred = clf.predict(df_test)\n",
    "print(pred)\n",
    "print(f'Test accurate rate: {GetScene2AccuractFromTest(pred, 0)}')"
   ]
  },
  {
   "cell_type": "markdown",
   "metadata": {},
   "source": [
    "## 儲存模型"
   ]
  },
  {
   "cell_type": "markdown",
   "metadata": {},
   "source": [
    "### 方法1. joblib"
   ]
  },
  {
   "cell_type": "code",
   "execution_count": 44,
   "metadata": {
    "executionInfo": {
     "elapsed": 2,
     "status": "ok",
     "timestamp": 1683108007920,
     "user": {
      "displayName": "洪啟豪",
      "userId": "08277187360257942838"
     },
     "user_tz": -480
    },
    "id": "Ngl_gCfE0lS7"
   },
   "outputs": [
    {
     "data": {
      "text/plain": [
       "['./RF_model']"
      ]
     },
     "execution_count": 44,
     "metadata": {},
     "output_type": "execute_result"
    }
   ],
   "source": [
    "# Save model\n",
    "import joblib\n",
    "joblib.dump(clf, './RF_model')\n",
    "\n",
    "# Load model\n",
    "# loaded_rf_model = joblib.load('./RF_model')"
   ]
  },
  {
   "cell_type": "markdown",
   "metadata": {},
   "source": [
    "### 方法2. pickle"
   ]
  },
  {
   "cell_type": "code",
   "execution_count": 45,
   "metadata": {},
   "outputs": [
    {
     "name": "stdout",
     "output_type": "stream",
     "text": [
      "[0 0 0 0 0 0 0 0 0 0 0 0 0 0 0 0 0 0 0 0 0 0 0 0 0 0 0 0 0 0 0 0 0 0 0 0 0\n",
      " 0 0 0 0 0 0 0 0 0 0 0 0 0 0 0 0 0 0 0 0 0 0 0 0 0 0 0 0 0 0 0 0 0 0 0 0 0\n",
      " 0 0 0 0 0 0 0 0 0 0 0 0 0 0 0 0 0 0 0 0 0 0 0 0 0 0 0 0 0 0 0 0 0 0 0 0 0\n",
      " 0 0 0 0 0 0 0 0 0 0 0 0 0 0 0 0 0 0 0 0 0 0 0 0 0 0 0 0 0 0 0 0 0 0 0 0 0\n",
      " 0 0 0 0 0 0 0 0 0 0 0 0 0 0 0 0 0 0 0 0 0 0 0 0 0 0 0 0 0 0 0 0 0 0 0 0 0\n",
      " 0 0 0 0 0 0 0 0 0 0 0 0 0 0 0 0 0 0 0 0 0 0 0 0 0 0 0 0 0 0 0 0 0 0 0 0 0\n",
      " 0 0 0 0 0 0 0 0 0 0 0 0 0 0 0 1 0 0 0 0 0 0 0 0 1 1 1 0 0 0 0 0 0 0 0 0 0\n",
      " 0 0 0 0 0 0 0 0 0 0 0 0 0 0 0 0 0 0 0 0 0 0 0 0 0 0 0 0 0 0 0 0 0 0 0 0 0\n",
      " 0 0 0 0 0 0 0 0 0 0 0 0 0 0 0 0 0 0 0 0 0 0 0 0 0 0 0 0 0 0 0 0 0 0 0 0 0\n",
      " 0 0 0 0 0 0 0 0 0 0 0 0 0 0 0 0 0 0 0 0 0 0 0 0 0 0 0 0 0 0 0 0 0 0 0 0 0\n",
      " 0 0 0 0 0 0 0 0 0 0 0 0 0 0 0 0 0 0 0 0 0 0 0 0 0 0 0 0 0 0 0 0 0 0 0 0 0\n",
      " 0 0 0 0 0 0 0 0 0 0 0 0 0 0 0 0 0 0 0 0 0 0 0 0 0 0 0 0 0 0 0 0 0 0 0 0 0\n",
      " 0 0 0 0 0 0 0 0 0 0 0 0 0 0 0 0 0 0 0 0 0 0 0 0 0 0 0 0 0 0 0 0 0 0 0 0 0\n",
      " 0 0 0 0 0 0 0 0 0 0 0 0 0 0 0 0 0 0 0 0 0 0 0 0 0 0 0 0 0 0 0 0 0 0 0 0 0\n",
      " 0 0 0 0 0 0 0 0 0 0 0 0 0 0 0 0 0 0 0 0 0 0 0 0 0 0 0 0 0 0 0 0 0 0 0 0 0\n",
      " 0 0 0 0 0 0 0 0 0 0 0 0 0 0 0 0 0 0 0 0 0 0 0 0 0 0 0 0 0 0 0 0 0 0 0 0 0\n",
      " 0 0 0 0 0 0 0 0 0 0 0 0 0 0 0 0 0 0 0 0 0 0 0 0 0 0 0 0 0 0 0 0 0 0 0 0 0\n",
      " 0 0 0 0 0 0 0 0 0 0 0 0 0 0 0 0 0 0 0 0 0 0 0 0 0 0 0 0 0 0 0 0 0 0 0 0 0\n",
      " 0 0 0 0 0 0 0 0 0 0 0 0 0 0 0 0 0 0 0 0 0 0 0 0 0 0 0 0 0 0 0 0 0 0 0 0 0\n",
      " 0 0 0 0 0 0 0 0 0 0 0 0 0 0 0 0 0 0 0 0 0 0 0 0 0 0 0 0 0 0 0 0 0 0 0 0 0\n",
      " 0 0 0 0 0 0 0 0 0 0 0 0 0 0 0 0 0 0 0 0 0 0 0 0 0 0 0 0 0 0 0 0 0 0 0 0 0\n",
      " 0 0 0 0 0 0 0 0 0 0 0 0 0 0 0 0 0 0 0 0 0 0 0 0 0 0 0 0 0 0 0 0 0 0 0 0 0\n",
      " 0 0 0 0 0 0 0 0 0 0 0 0 0 0 0 0 0 0 0 1 0 1 1 0 0 0 0 0 0 0 0 0 0 0 0 0 0\n",
      " 0 0 0 0 0 0 0 0 0 0 0 0 0 0 0 0 0 0 0 0 0 0 0 0 0 0 0 0 0 0 0 0 0 0 0]\n"
     ]
    }
   ],
   "source": [
    "import pickle\n",
    "\n",
    "# save\n",
    "with open('RF_pickle_model.pkl','wb') as f:\n",
    "    pickle.dump(clf,f)\n",
    "\n",
    "# load\n",
    "with open('RF_pickle_model.pkl', 'rb') as f:\n",
    "    clf2 = pickle.load(f)\n",
    "    \n",
    "pred = clf2.predict(df_test)\n",
    "print(pred)"
   ]
  },
  {
   "cell_type": "code",
   "execution_count": null,
   "metadata": {},
   "outputs": [],
   "source": []
  }
 ],
 "metadata": {
  "colab": {
   "authorship_tag": "ABX9TyPSx1XaSqgBj+v0Z7OV2lNO",
   "provenance": [
    {
     "file_id": "1hywHO4gA6Vdz6ga4mB5mUk0lIoKGu8aY",
     "timestamp": 1683108829419
    }
   ]
  },
  "kernelspec": {
   "display_name": "Python 3 (ipykernel)",
   "language": "python",
   "name": "python3"
  },
  "language_info": {
   "codemirror_mode": {
    "name": "ipython",
    "version": 3
   },
   "file_extension": ".py",
   "mimetype": "text/x-python",
   "name": "python",
   "nbconvert_exporter": "python",
   "pygments_lexer": "ipython3",
   "version": "3.7.12"
  }
 },
 "nbformat": 4,
 "nbformat_minor": 4
}
