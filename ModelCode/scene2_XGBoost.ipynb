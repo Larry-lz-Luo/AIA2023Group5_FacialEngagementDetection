{
 "cells": [
  {
   "cell_type": "code",
   "execution_count": 1,
   "metadata": {
    "colab": {
     "base_uri": "https://localhost:8080/"
    },
    "executionInfo": {
     "elapsed": 2711,
     "status": "ok",
     "timestamp": 1683134156932,
     "user": {
      "displayName": "洪啟豪",
      "userId": "08277187360257942838"
     },
     "user_tz": -480
    },
    "id": "a_02Aqmvm22h",
    "outputId": "7ee8ae1a-b701-4473-f60a-32a709cd7633"
   },
   "outputs": [
    {
     "name": "stdout",
     "output_type": "stream",
     "text": [
      "Populating the interactive namespace from numpy and matplotlib\n"
     ]
    }
   ],
   "source": [
    "from numpy import loadtxt\n",
    "from xgboost import XGBClassifier\n",
    "from sklearn.model_selection import train_test_split\n",
    "from sklearn.metrics import accuracy_score\n",
    "import pandas as pd\n",
    "import matplotlib.pyplot as plt\n",
    "%pylab inline"
   ]
  },
  {
   "cell_type": "markdown",
   "metadata": {
    "id": "EXdjv-qYnqdl"
   },
   "source": [
    "## 載入資料集"
   ]
  },
  {
   "cell_type": "code",
   "execution_count": 2,
   "metadata": {
    "id": "X7ybsCSfnPbD"
   },
   "outputs": [
    {
     "name": "stdout",
     "output_type": "stream",
     "text": [
      "/project/xt121-group5/scene2_data/charlie/2023-05-05 103150_c.csv\n",
      "/project/xt121-group5/scene2_data/charlie/2023-05-05 103233_nc.csv\n"
     ]
    }
   ],
   "source": [
    "import os\n",
    "df_train = pd.core.frame.DataFrame()\n",
    "for dirname, _, filenames in os.walk('/project/xt121-group5/scene2_data/charlie'):\n",
    "    for filename in filenames:\n",
    "        print(os.path.join(dirname, filename))\n",
    "        df_train2 = pd.read_csv(os.path.join(dirname, filename))\n",
    "#         df_train = df_train.append(df_train2, ignore_index=True)\n",
    "        df_train = pd.concat([df_train, df_train2])\n",
    "        \n",
    "df_train = df_train.drop(labels=['RecordTime'], axis=1) # 移除 RecordTime"
   ]
  },
  {
   "cell_type": "code",
   "execution_count": 3,
   "metadata": {
    "colab": {
     "base_uri": "https://localhost:8080/"
    },
    "executionInfo": {
     "elapsed": 504,
     "status": "ok",
     "timestamp": 1683134191466,
     "user": {
      "displayName": "洪啟豪",
      "userId": "08277187360257942838"
     },
     "user_tz": -480
    },
    "id": "h93qCpsSnWfz",
    "outputId": "7d802664-f27d-4f03-ee8e-c014eec2244d"
   },
   "outputs": [
    {
     "name": "stdout",
     "output_type": "stream",
     "text": [
      "(1752, 103)\n"
     ]
    }
   ],
   "source": [
    "print(df_train.shape)"
   ]
  },
  {
   "cell_type": "markdown",
   "metadata": {
    "id": "CdJVL8ygnnyv"
   },
   "source": [
    "## 檢查缺失值"
   ]
  },
  {
   "cell_type": "code",
   "execution_count": 4,
   "metadata": {
    "colab": {
     "base_uri": "https://localhost:8080/"
    },
    "executionInfo": {
     "elapsed": 4,
     "status": "ok",
     "timestamp": 1683134238809,
     "user": {
      "displayName": "洪啟豪",
      "userId": "08277187360257942838"
     },
     "user_tz": -480
    },
    "id": "lByl9PTOnY-F",
    "outputId": "0119a5ec-e6ab-44ab-9e39-205e1ce81646"
   },
   "outputs": [
    {
     "name": "stdout",
     "output_type": "stream",
     "text": [
      "Before data clean(NAN mount): 0\n"
     ]
    }
   ],
   "source": [
    "# checked missing data\n",
    "print(\"Before data clean(NAN mount):\", len(np.where(np.isnan(df_train)==1)[0]))"
   ]
  },
  {
   "cell_type": "code",
   "execution_count": 5,
   "metadata": {
    "id": "JPd8gtYOnk1F"
   },
   "outputs": [],
   "source": [
    "# Find columns with only unique value.\n",
    "# unique_col = []\n",
    "# for i in df_train.columns:\n",
    "#     if np.unique(df_train[i]).shape[0]==1:\n",
    "#         print(f'Get column {i} with only unique value.')\n",
    "#         unique_col.append(i) "
   ]
  },
  {
   "cell_type": "code",
   "execution_count": 6,
   "metadata": {
    "id": "wgFEqJtqn0iz"
   },
   "outputs": [],
   "source": [
    "# print(unique_col)"
   ]
  },
  {
   "cell_type": "code",
   "execution_count": 7,
   "metadata": {
    "id": "YdvZ779Dn20X"
   },
   "outputs": [],
   "source": [
    "# df_train.describe()[unique_col]"
   ]
  },
  {
   "cell_type": "code",
   "execution_count": 8,
   "metadata": {
    "id": "4Be2lkSkn4MD"
   },
   "outputs": [],
   "source": [
    "# Drop columns with only unique value.\n",
    "# df_train = df_train.drop(unique_col, axis=1)"
   ]
  },
  {
   "cell_type": "markdown",
   "metadata": {
    "id": "HuCO9Hpin7wS"
   },
   "source": [
    "## 資料前處理"
   ]
  },
  {
   "cell_type": "code",
   "execution_count": 9,
   "metadata": {
    "id": "GIqFHaOSn5oF"
   },
   "outputs": [],
   "source": [
    "# 列出不重要的特徵。\n",
    "# 先假設除了gaze vector以外的特徵都不重要，之後再調整。\n",
    "del_col = ['FaceBoundingBox_X', 'FaceBoundingBox_Y', 'FaceBoundingBox_X', 'FaceBoundingBox_Y','FaceBoundingBox_W', \n",
    "           'FaceBoundingBox_H', 'FaceLandmarks_1_X', 'FaceLandmarks_1_Y', 'FaceLandmarks_2_X','FaceLandmarks_2_Y', \n",
    "           'FaceLandmarks_3_X', 'FaceLandmarks_3_Y', 'FaceLandmarks_4_X', 'FaceLandmarks_4_Y','FaceLandmarks_5_X', \n",
    "           'FaceLandmarks_5_Y', 'FaceLandmarks_6_X', 'FaceLandmarks_6_Y', 'FaceLandmarks_7_X', 'FaceLandmarks_7_Y',\n",
    "           'FaceLandmarks_8_X', 'FaceLandmarks_8_Y', 'FaceLandmarks_9_X', 'FaceLandmarks_9_Y', 'FaceLandmarks_10_X', \n",
    "           'FaceLandmarks_10_Y', 'FaceLandmarks_11_X', 'FaceLandmarks_11_Y', 'FaceLandmarks_12_X', 'FaceLandmarks_12_Y', \n",
    "           'FaceLandmarks_13_X', 'FaceLandmarks_13_Y', 'FaceLandmarks_14_X', 'FaceLandmarks_14_Y', 'FaceLandmarks_15_X', \n",
    "           'FaceLandmarks_15_Y', 'FaceLandmarks_16_X', 'FaceLandmarks_16_Y', 'FaceLandmarks_17_X', 'FaceLandmarks_17_Y', \n",
    "           'FaceLandmarks_18_X', 'FaceLandmarks_18_Y', 'FaceLandmarks_19_X', 'FaceLandmarks_19_Y', 'FaceLandmarks_20_X', \n",
    "           'FaceLandmarks_20_Y', 'FaceLandmarks_21_X', 'FaceLandmarks_21_Y', 'FaceLandmarks_22_X', 'FaceLandmarks_22_Y', \n",
    "           'FaceLandmarks_23_X', 'FaceLandmarks_23_Y', 'FaceLandmarks_24_X', 'FaceLandmarks_24_Y', 'FaceLandmarks_25_X', \n",
    "           'FaceLandmarks_25_Y', 'FaceLandmarks_26_X', 'FaceLandmarks_26_Y', 'FaceLandmarks_27_X', 'FaceLandmarks_27_Y', \n",
    "           'FaceLandmarks_28_X', 'FaceLandmarks_28_Y', 'FaceLandmarks_29_X', 'FaceLandmarks_29_Y', 'FaceLandmarks_30_X', \n",
    "           'FaceLandmarks_30_Y', 'FaceLandmarks_31_X', 'FaceLandmarks_31_Y', 'FaceLandmarks_32_X', 'FaceLandmarks_32_Y', \n",
    "           'FaceLandmarks_33_X', 'FaceLandmarks_33_Y', 'FaceLandmarks_34_X', 'FaceLandmarks_34_Y', 'FaceLandmarks_35_X', \n",
    "           'FaceLandmarks_35_Y', 'HeadPoseAngles_X','HeadPoseAngles_Y','HeadPoseAngles_Z','LeftEyeBoundingBox_X', \n",
    "           'LeftEyeBoundingBox_Y', 'LeftEyeBoundingBox_W', 'LeftEyeBoundingBox_H', 'RightEyeBoundingBox_X', 'RightEyeBoundingBox_Y', \n",
    "           'RightEyeBoundingBox_W', 'RightEyeBoundingBox_H', 'EyeLandmarks_1_X', 'EyeLandmarks_1_Y', 'EyeLandmarks_2_X', \n",
    "           'EyeLandmarks_2_Y', 'EyeLandmarks_3_X', 'EyeLandmarks_3_Y', 'EyeLandmarks_4_X', 'EyeLandmarks_4_Y', \n",
    "           'LeftEyeMidPoint_X','LeftEyeMidPoint_Y','RightEyeMidPoint_X','RightEyeMidPoint_Y', 'EyeState_Left', \n",
    "           'EyeState_Right']"
   ]
  },
  {
   "cell_type": "code",
   "execution_count": 10,
   "metadata": {
    "id": "ykVqh8LsoCgk"
   },
   "outputs": [],
   "source": [
    "df_train = df_train.drop(del_col, axis = 1)"
   ]
  },
  {
   "cell_type": "code",
   "execution_count": 11,
   "metadata": {
    "id": "fRDtN4THoFaT"
   },
   "outputs": [],
   "source": [
    "from sklearn.preprocessing import StandardScaler\n",
    "from sklearn.preprocessing import MinMaxScaler"
   ]
  },
  {
   "cell_type": "code",
   "execution_count": 12,
   "metadata": {
    "id": "s5RxZZWkoGuM"
   },
   "outputs": [],
   "source": [
    "# def data_preprocessing(df_input, train=True, sc=None):\n",
    "#     # numeric feature standardization\n",
    "#     if train:\n",
    "#         sc = StandardScaler()\n",
    "# #         sc = MinMaxScaler()\n",
    "#         df = sc.fit_transform(df_input.iloc[:, 0:-1])\n",
    "#     else:\n",
    "#         df = sc.transform(df_input)\n",
    "#     return df, sc"
   ]
  },
  {
   "cell_type": "code",
   "execution_count": 13,
   "metadata": {
    "id": "5SLy0ziNoNa1"
   },
   "outputs": [],
   "source": [
    "# X, train_sc = data_preprocessing(df_train)"
   ]
  },
  {
   "cell_type": "code",
   "execution_count": 14,
   "metadata": {
    "id": "YD5cLbO2oQWH"
   },
   "outputs": [],
   "source": [
    "# print(X.shape)"
   ]
  },
  {
   "cell_type": "code",
   "execution_count": 15,
   "metadata": {
    "id": "Ne9F-x99oZY9"
   },
   "outputs": [],
   "source": [
    "# print(train_sc.mean_)"
   ]
  },
  {
   "cell_type": "code",
   "execution_count": 16,
   "metadata": {
    "id": "wQN9qy2iocZX"
   },
   "outputs": [],
   "source": [
    "# print(train_sc.var_)"
   ]
  },
  {
   "cell_type": "code",
   "execution_count": 17,
   "metadata": {
    "id": "VFcIvO6FofFD"
   },
   "outputs": [],
   "source": [
    "y = df_train['RecordType'].values"
   ]
  },
  {
   "cell_type": "code",
   "execution_count": 18,
   "metadata": {
    "colab": {
     "base_uri": "https://localhost:8080/"
    },
    "executionInfo": {
     "elapsed": 6,
     "status": "ok",
     "timestamp": 1683134495803,
     "user": {
      "displayName": "洪啟豪",
      "userId": "08277187360257942838"
     },
     "user_tz": -480
    },
    "id": "aC3tqVMPog9y",
    "outputId": "ddeb5caf-c2e0-4c2f-ec84-acdd450eb78d"
   },
   "outputs": [
    {
     "name": "stdout",
     "output_type": "stream",
     "text": [
      "(1752,)\n"
     ]
    }
   ],
   "source": [
    "print(y.shape)"
   ]
  },
  {
   "cell_type": "code",
   "execution_count": 19,
   "metadata": {
    "colab": {
     "base_uri": "https://localhost:8080/"
    },
    "executionInfo": {
     "elapsed": 4,
     "status": "ok",
     "timestamp": 1683134509554,
     "user": {
      "displayName": "洪啟豪",
      "userId": "08277187360257942838"
     },
     "user_tz": -480
    },
    "id": "y6Ne7Y_8ojln",
    "outputId": "ff4b155a-1e69-4c06-dcea-bb34a167f23d"
   },
   "outputs": [
    {
     "name": "stdout",
     "output_type": "stream",
     "text": [
      "[1 1 1 ... 0 0 0]\n"
     ]
    }
   ],
   "source": [
    "np.unique(y)\n",
    "print(y)"
   ]
  },
  {
   "cell_type": "code",
   "execution_count": 20,
   "metadata": {
    "id": "vXxckMK9om71"
   },
   "outputs": [],
   "source": [
    "df_train = df_train.drop('RecordType', axis = 1)"
   ]
  },
  {
   "cell_type": "markdown",
   "metadata": {
    "id": "xE8GmGCOpenc"
   },
   "source": [
    "## 切割訓練集"
   ]
  },
  {
   "cell_type": "code",
   "execution_count": 21,
   "metadata": {
    "id": "tghkbwmwopjK"
   },
   "outputs": [],
   "source": [
    "x_train , x_valid , y_train , y_valid = train_test_split(df_train, y, test_size=0.3, random_state=17, stratify=y)"
   ]
  },
  {
   "cell_type": "code",
   "execution_count": 22,
   "metadata": {
    "colab": {
     "base_uri": "https://localhost:8080/",
     "height": 612
    },
    "executionInfo": {
     "elapsed": 643,
     "status": "ok",
     "timestamp": 1683134874585,
     "user": {
      "displayName": "洪啟豪",
      "userId": "08277187360257942838"
     },
     "user_tz": -480
    },
    "id": "20eJyXYepj93",
    "outputId": "a04b2eee-d94c-4679-c066-93bdb9ba2026"
   },
   "outputs": [
    {
     "name": "stdout",
     "output_type": "stream",
     "text": [
      "[0]\tvalidation_0-auc:0.985983\n",
      "[1]\tvalidation_0-auc:0.985983\n",
      "[2]\tvalidation_0-auc:0.986353\n",
      "[3]\tvalidation_0-auc:0.986353\n",
      "[4]\tvalidation_0-auc:0.987688\n",
      "[5]\tvalidation_0-auc:0.987765\n",
      "[6]\tvalidation_0-auc:0.990557\n",
      "[7]\tvalidation_0-auc:0.990557\n",
      "[8]\tvalidation_0-auc:0.990943\n",
      "[9]\tvalidation_0-auc:0.992255\n",
      "[10]\tvalidation_0-auc:0.992262\n",
      "[11]\tvalidation_0-auc:0.993096\n",
      "[12]\tvalidation_0-auc:0.993335\n",
      "[13]\tvalidation_0-auc:0.993366\n",
      "[14]\tvalidation_0-auc:0.993504\n",
      "[15]\tvalidation_0-auc:0.993983\n",
      "[16]\tvalidation_0-auc:0.994014\n",
      "[17]\tvalidation_0-auc:0.994592\n",
      "[18]\tvalidation_0-auc:0.994461\n",
      "[19]\tvalidation_0-auc:0.994692\n",
      "[20]\tvalidation_0-auc:0.994986\n",
      "[21]\tvalidation_0-auc:0.995094\n",
      "[22]\tvalidation_0-auc:0.995587\n",
      "[23]\tvalidation_0-auc:0.995634\n",
      "[24]\tvalidation_0-auc:0.995603\n",
      "[25]\tvalidation_0-auc:0.995803\n",
      "[26]\tvalidation_0-auc:0.995857\n",
      "[27]\tvalidation_0-auc:0.995888\n",
      "[28]\tvalidation_0-auc:0.99595\n",
      "[29]\tvalidation_0-auc:0.996258\n",
      "[30]\tvalidation_0-auc:0.996374\n",
      "[31]\tvalidation_0-auc:0.996582\n",
      "[32]\tvalidation_0-auc:0.996629\n",
      "[33]\tvalidation_0-auc:0.996706\n",
      "[34]\tvalidation_0-auc:0.996459\n",
      "[35]\tvalidation_0-auc:0.996505\n",
      "[36]\tvalidation_0-auc:0.996505\n",
      "[37]\tvalidation_0-auc:0.996413\n",
      "[38]\tvalidation_0-auc:0.996397\n",
      "[39]\tvalidation_0-auc:0.996629\n",
      "[40]\tvalidation_0-auc:0.996629\n",
      "[41]\tvalidation_0-auc:0.996752\n",
      "[42]\tvalidation_0-auc:0.996798\n",
      "[43]\tvalidation_0-auc:0.996845\n",
      "[44]\tvalidation_0-auc:0.99686\n",
      "[45]\tvalidation_0-auc:0.996876\n",
      "[46]\tvalidation_0-auc:0.996906\n",
      "[47]\tvalidation_0-auc:0.996968\n",
      "[48]\tvalidation_0-auc:0.996968\n",
      "[49]\tvalidation_0-auc:0.99703\n",
      "[50]\tvalidation_0-auc:0.99703\n",
      "[51]\tvalidation_0-auc:0.99703\n",
      "[52]\tvalidation_0-auc:0.997045\n",
      "[53]\tvalidation_0-auc:0.99703\n",
      "[54]\tvalidation_0-auc:0.99703\n",
      "[55]\tvalidation_0-auc:0.996968\n",
      "[56]\tvalidation_0-auc:0.996845\n",
      "[57]\tvalidation_0-auc:0.99686\n",
      "[58]\tvalidation_0-auc:0.996876\n",
      "[59]\tvalidation_0-auc:0.99686\n",
      "[60]\tvalidation_0-auc:0.996945\n",
      "[61]\tvalidation_0-auc:0.996837\n",
      "[62]\tvalidation_0-auc:0.996822\n",
      "[63]\tvalidation_0-auc:0.99693\n",
      "[64]\tvalidation_0-auc:0.997007\n",
      "[65]\tvalidation_0-auc:0.997045\n",
      "[66]\tvalidation_0-auc:0.997045\n",
      "[67]\tvalidation_0-auc:0.997092\n",
      "[68]\tvalidation_0-auc:0.997076\n",
      "[69]\tvalidation_0-auc:0.997092\n",
      "[70]\tvalidation_0-auc:0.997122\n",
      "[71]\tvalidation_0-auc:0.997122\n",
      "[72]\tvalidation_0-auc:0.997107\n",
      "[73]\tvalidation_0-auc:0.997122\n",
      "[74]\tvalidation_0-auc:0.997122\n",
      "[75]\tvalidation_0-auc:0.997122\n",
      "[76]\tvalidation_0-auc:0.997122\n",
      "[77]\tvalidation_0-auc:0.997092\n",
      "[78]\tvalidation_0-auc:0.997092\n",
      "[79]\tvalidation_0-auc:0.997092\n",
      "[80]\tvalidation_0-auc:0.997107\n",
      "[81]\tvalidation_0-auc:0.997092\n",
      "[82]\tvalidation_0-auc:0.997061\n",
      "[83]\tvalidation_0-auc:0.997076\n",
      "[84]\tvalidation_0-auc:0.997092\n",
      "[85]\tvalidation_0-auc:0.997092\n",
      "[86]\tvalidation_0-auc:0.997092\n",
      "[87]\tvalidation_0-auc:0.997092\n",
      "[88]\tvalidation_0-auc:0.997092\n",
      "[89]\tvalidation_0-auc:0.997138\n",
      "[90]\tvalidation_0-auc:0.997138\n",
      "[91]\tvalidation_0-auc:0.997122\n",
      "[92]\tvalidation_0-auc:0.997169\n",
      "[93]\tvalidation_0-auc:0.997184\n",
      "[94]\tvalidation_0-auc:0.997169\n",
      "[95]\tvalidation_0-auc:0.997153\n",
      "[96]\tvalidation_0-auc:0.997169\n",
      "[97]\tvalidation_0-auc:0.997153\n",
      "[98]\tvalidation_0-auc:0.997092\n",
      "[99]\tvalidation_0-auc:0.997107\n"
     ]
    },
    {
     "data": {
      "text/plain": [
       "XGBClassifier(base_score=0.5, booster='gbtree', colsample_bylevel=1,\n",
       "              colsample_bynode=1, colsample_bytree=1, early_stopping_rounds=10,\n",
       "              eval_metric='auc', gamma=0, learning_rate=0.1, max_delta_step=0,\n",
       "              max_depth=3, min_child_weight=1, missing=None, n_estimators=100,\n",
       "              n_jobs=1, nthread=None, objective='binary:logistic',\n",
       "              random_state=0, reg_alpha=0, reg_lambda=1, scale_pos_weight=1,\n",
       "              seed=None, silent=None, subsample=1, verbosity=1)"
      ]
     },
     "execution_count": 22,
     "metadata": {},
     "output_type": "execute_result"
    }
   ],
   "source": [
    "# eval_metrics can selecy rmse, logloss, error,\\\n",
    "# auc, merror, mlogloss or custom define\n",
    "eval_set = [(x_valid, y_valid)]\n",
    "model = XGBClassifier(early_stopping_rounds=10,\n",
    "                      eval_metric=\"auc\")\n",
    "model.fit(x_train,\n",
    "          y_train,\n",
    "          eval_set=eval_set,\n",
    "          verbose=True)"
   ]
  },
  {
   "cell_type": "code",
   "execution_count": 23,
   "metadata": {
    "colab": {
     "base_uri": "https://localhost:8080/"
    },
    "executionInfo": {
     "elapsed": 3,
     "status": "ok",
     "timestamp": 1683134910280,
     "user": {
      "displayName": "洪啟豪",
      "userId": "08277187360257942838"
     },
     "user_tz": -480
    },
    "id": "njTW4TC-p_3y",
    "outputId": "5830effb-a8c5-4cfa-fd7f-311773337001"
   },
   "outputs": [
    {
     "data": {
      "text/plain": [
       "array([[9.9548209e-01, 4.5178919e-03],\n",
       "       [9.9949414e-01, 5.0585804e-04],\n",
       "       [9.8963833e-01, 1.0361681e-02],\n",
       "       [1.5320182e-03, 9.9846798e-01],\n",
       "       [9.9695283e-01, 3.0471757e-03]], dtype=float32)"
      ]
     },
     "execution_count": 23,
     "metadata": {},
     "output_type": "execute_result"
    }
   ],
   "source": [
    "# model.predict_proba will return the probility\n",
    "# model.predict will return the predict label (use 0.5 as threshold)\n",
    "y_pred = model.predict_proba(x_valid)\n",
    "y_pred[:5]"
   ]
  },
  {
   "cell_type": "code",
   "execution_count": 24,
   "metadata": {
    "colab": {
     "base_uri": "https://localhost:8080/"
    },
    "executionInfo": {
     "elapsed": 3,
     "status": "ok",
     "timestamp": 1683134942359,
     "user": {
      "displayName": "洪啟豪",
      "userId": "08277187360257942838"
     },
     "user_tz": -480
    },
    "id": "Oso8thXbqIg5",
    "outputId": "78a780da-d518-450a-8754-2727f3941633"
   },
   "outputs": [
    {
     "name": "stdout",
     "output_type": "stream",
     "text": [
      "Accuracy: 97.72%\n"
     ]
    }
   ],
   "source": [
    "# we use model.predict to get the label\n",
    "y_pred = model.predict(x_valid)\n",
    "accuracy = accuracy_score(y_valid, y_pred)\n",
    "print(\"Accuracy: %.2f%%\" % (accuracy * 100.0))"
   ]
  },
  {
   "cell_type": "code",
   "execution_count": 25,
   "metadata": {
    "colab": {
     "base_uri": "https://localhost:8080/"
    },
    "executionInfo": {
     "elapsed": 4,
     "status": "ok",
     "timestamp": 1683134951978,
     "user": {
      "displayName": "洪啟豪",
      "userId": "08277187360257942838"
     },
     "user_tz": -480
    },
    "id": "l9UbyLg5qQNp",
    "outputId": "f6c6523e-4243-410d-e324-a2286fc0f5b1"
   },
   "outputs": [
    {
     "name": "stdout",
     "output_type": "stream",
     "text": [
      "[0.14062189 0.16792624 0.6914519 ]\n"
     ]
    }
   ],
   "source": [
    "# we can show the feature importances for our features\n",
    "print(model.feature_importances_)"
   ]
  },
  {
   "cell_type": "code",
   "execution_count": 26,
   "metadata": {
    "colab": {
     "base_uri": "https://localhost:8080/",
     "height": 472
    },
    "executionInfo": {
     "elapsed": 421,
     "status": "ok",
     "timestamp": 1683134977043,
     "user": {
      "displayName": "洪啟豪",
      "userId": "08277187360257942838"
     },
     "user_tz": -480
    },
    "id": "cRSb2yIAqS0u",
    "outputId": "adedcae8-6d48-45c5-fc86-437dc960b788"
   },
   "outputs": [
    {
     "data": {
      "image/png": "[encoded data removed]",
      "text/plain": [
       "<Figure size 432x288 with 1 Axes>"
      ]
     },
     "metadata": {
      "needs_background": "light"
     },
     "output_type": "display_data"
    }
   ],
   "source": [
    "# import the plot_importance function to visualize the feature importance\n",
    "from xgboost import plot_importance\n",
    "plot_importance(model)\n",
    "plt.show()"
   ]
  },
  {
   "cell_type": "markdown",
   "metadata": {
    "id": "tlkxP6ExqiBs"
   },
   "source": [
    "## 模型測試"
   ]
  },
  {
   "cell_type": "code",
   "execution_count": 27,
   "metadata": {
    "id": "5_HZfqeiqY3_"
   },
   "outputs": [],
   "source": [
    "# Test\n",
    "# 測試一個答案全部為1的資料。\n",
    "df_test = pd.read_csv('/project/xt121-group5/scene2_data/larry/2023-05-01 232329.csv')\n",
    "# df_test = df_test.drop(unique_col, axis=1)\n",
    "df_test = df_test.drop(del_col, axis=1)\n",
    "df_test = df_test.drop(labels=['RecordTime'], axis=1)\n",
    "df_test = df_test.drop(labels=['RecordType'], axis=1)\n",
    "# test, _ = data_preprocessing(df_test, train=False, sc=train_sc)"
   ]
  },
  {
   "cell_type": "code",
   "execution_count": 28,
   "metadata": {
    "colab": {
     "base_uri": "https://localhost:8080/"
    },
    "executionInfo": {
     "elapsed": 2,
     "status": "ok",
     "timestamp": 1683135170048,
     "user": {
      "displayName": "洪啟豪",
      "userId": "08277187360257942838"
     },
     "user_tz": -480
    },
    "id": "PjsKhuRRqv3I",
    "outputId": "b3b686d0-d546-4139-e281-d627e6e8b043"
   },
   "outputs": [
    {
     "name": "stdout",
     "output_type": "stream",
     "text": [
      "(305,)\n",
      "<class 'numpy.ndarray'>\n"
     ]
    }
   ],
   "source": [
    "pred = model.predict(df_test)\n",
    "print(pred.shape)\n",
    "print(type(pred))"
   ]
  },
  {
   "cell_type": "code",
   "execution_count": 29,
   "metadata": {
    "colab": {
     "base_uri": "https://localhost:8080/"
    },
    "executionInfo": {
     "elapsed": 2,
     "status": "ok",
     "timestamp": 1683135172225,
     "user": {
      "displayName": "洪啟豪",
      "userId": "08277187360257942838"
     },
     "user_tz": -480
    },
    "id": "wVYu5vY6qwdR",
    "outputId": "a8978941-8fbd-4e84-9406-f87e5746206f"
   },
   "outputs": [
    {
     "name": "stdout",
     "output_type": "stream",
     "text": [
      "[1 1 1 1 1 1 1 1 1 1 1 1 1 1 1 1 1 1 1 1 1 1 1 1 1 1 1 1 1 1 1 1 1 1 1 1 1\n",
      " 1 1 1 1 1 1 1 1 1 1 1 1 1 1 1 1 1 1 1 1 1 1 1 1 1 1 1 1 1 1 1 1 1 1 1 1 1\n",
      " 1 1 1 1 1 1 1 1 1 1 1 1 0 1 1 1 1 1 1 1 1 1 1 1 1 1 1 1 1 1 1 1 1 1 1 1 1\n",
      " 1 1 1 1 1 1 1 1 1 1 1 1 1 1 1 1 1 1 1 1 1 1 1 1 1 1 1 1 1 1 1 1 1 1 1 1 1\n",
      " 1 1 1 1 1 1 1 1 1 1 1 1 1 1 1 1 1 1 1 1 1 1 1 1 1 1 1 1 1 1 1 1 1 1 1 1 1\n",
      " 1 1 1 1 1 1 1 1 1 1 1 1 1 1 1 1 1 1 1 1 1 1 1 1 1 1 1 1 1 1 1 1 1 1 1 1 1\n",
      " 1 1 1 1 1 1 1 1 1 1 1 1 1 1 1 1 1 1 1 1 1 1 1 1 1 1 1 1 1 1 1 1 1 1 1 1 1\n",
      " 1 1 1 1 1 1 1 1 1 1 1 1 1 1 1 1 1 1 1 1 1 1 1 1 1 1 1 1 1 1 1 1 1 1 1 1 1\n",
      " 1 1 1 1 1 1 1 1 1]\n"
     ]
    }
   ],
   "source": [
    "print(pred)"
   ]
  },
  {
   "cell_type": "code",
   "execution_count": 30,
   "metadata": {
    "id": "-ngdGic-q5pr"
   },
   "outputs": [],
   "source": [
    "# Test\n",
    "# 測試一個答案全部為0的資料。\n",
    "df_test = pd.read_csv('/project/xt121-group5/scene2_data/larry/2023-05-01 232448.csv')\n",
    "# df_test = df_test.drop(unique_col, axis=1)\n",
    "df_test = df_test.drop(del_col, axis=1)\n",
    "df_test = df_test.drop(labels=['RecordTime'], axis=1)\n",
    "df_test = df_test.drop(labels=['RecordType'], axis=1)\n",
    "# test, _ = data_preprocessing(df_test, train=False, sc=train_sc)"
   ]
  },
  {
   "cell_type": "code",
   "execution_count": 31,
   "metadata": {
    "colab": {
     "base_uri": "https://localhost:8080/"
    },
    "executionInfo": {
     "elapsed": 278,
     "status": "ok",
     "timestamp": 1683135222297,
     "user": {
      "displayName": "洪啟豪",
      "userId": "08277187360257942838"
     },
     "user_tz": -480
    },
    "id": "KbbnQFEsrPsF",
    "outputId": "86a1c541-fe4d-4f8b-9c82-44d843bf14dc"
   },
   "outputs": [
    {
     "name": "stdout",
     "output_type": "stream",
     "text": [
      "[1 1 1 1 1 1 1 1 1 1 1 1 1 1 1 1 1 1 1 1 0 0 0 0 0 0 0 0 0 0 0 0 0 1 1 1 1\n",
      " 1 1 1 0 0 0 0 0 0 0 0 0 0 0 0 0 0 0 0 1 1 1 0 0 1 0 1 1 1 1 1 1 1 1 1 1 1\n",
      " 1 1 1 1 1 1 1 1 1 1 1 1 1 1 0 1 1 1 1 1 1 1 1 1 0 0 0 0 1 0 0 1 0 1 1 1 1\n",
      " 1 1 0 0 0 0 0 0 0 0 0 0 0 0 0 0 0 0 0 0 0 1 1 1 1 1 1 1 0 0 0 0 0 0 0 0 0\n",
      " 0 0 0 0 0 0 0 0 0 0 0 0 0 0 0 0 0 0 0 0 0 0 0 0 0 0 0 0 0 0 0 0 0 0 0 0 0\n",
      " 0 0 0 0 0 0 0 0 0 0 0 0 0 0 0 0 0 0 0 0 0 0 0 0 0 0 0 0 0 0 0 0 0 0 0 0 0\n",
      " 0 0 0 0 0 0 0 0 0 0 0 0 0 0 0 0 0 0 0 0 0 0 0 0 0 0 0 0 0 1 1 1 1 1 1 1 1\n",
      " 1 1 1 1 1 1 1 1 1 1 1 1 1 1 1 1 1 1 1 1 1 1 1 1 1 1 1 1 1 1 1 1 1 1 1 1 1\n",
      " 0 0 0 0 0 0 0 0 0 0 0 0 0 0 0 0 0 0 0 0 0 0 0 0 0 0 0 0 0 0 0 0 0 0 0 0 0\n",
      " 0 0 0 0 0 0 0 0 0 0 0 0 0 0 0 0 0 0 0 0 0 0 0 0 1 1 1 1 0 0 0 0 0 0 1 1 0\n",
      " 1 0 0 0 0 0 0 0 0 0 1 0 1 0 0 0 0 0 1 1 0 0 1 1 1 1 1 1 1 1 1 1 1 1 1 1 1\n",
      " 1 1 0 1 1 0 1 0 1 1 1 1 1 1 1 1 1 1 1 1 1 1 1 1 1 1 1 1 1 1 1 1 1 1 1 1 1\n",
      " 1 1 1 1 1 1 1 1 1 1 1 1 1 1 1 1 1 1 1 1 1 1 1 1 1]\n"
     ]
    }
   ],
   "source": [
    "pred = model.predict(df_test)\n",
    "print(pred)"
   ]
  },
  {
   "cell_type": "code",
   "execution_count": 32,
   "metadata": {
    "id": "3fbsGts7rUmH"
   },
   "outputs": [],
   "source": [
    "# Test\n",
    "# 測試一個Charlie眼睛明顯看螢幕外面的資料。\n",
    "df_test = pd.read_csv('/project/xt121-group5/scene2_data/charlie_old/2023-05-02 234906_nc.csv')\n",
    "# df_test = df_test.drop(unique_col, axis=1)\n",
    "df_test = df_test.drop(del_col, axis=1)\n",
    "df_test = df_test.drop(labels=['RecordTime'], axis=1)\n",
    "df_test = df_test.drop(labels=['RecordType'], axis=1)"
   ]
  },
  {
   "cell_type": "code",
   "execution_count": 33,
   "metadata": {},
   "outputs": [
    {
     "name": "stdout",
     "output_type": "stream",
     "text": [
      "[0 0 0 0 0 0 0 0 0 0 0 0 0 0 0 0 0 0 0 0 0 0 0 0 0 0 0 0 0 0 0 0 0 0 0 0 0\n",
      " 0 0 0 0 0 0 0 0 0 0 0 0 0 0 0 0 0 0 0 0 0 0 0 0 0 0 0 0 0 0 0 0 0 0 0 0 0\n",
      " 0 0 0 0 0 0 0 0 0 0 0 0 0 0 0 0 0 0 0 0 0 0 0 0 0 0 0 0 0 0 0 0]\n"
     ]
    }
   ],
   "source": [
    "pred = model.predict(df_test)\n",
    "print(pred)"
   ]
  },
  {
   "cell_type": "code",
   "execution_count": 34,
   "metadata": {},
   "outputs": [],
   "source": [
    "# Test\n",
    "# 測試一個Charlie眼睛專注電腦螢幕的資料。\n",
    "df_test = pd.read_csv('/project/xt121-group5/scene2_data/charlie_old/2023-05-05 100605_c.csv')\n",
    "# df_test = df_test.drop(unique_col, axis=1)\n",
    "df_test = df_test.drop(del_col, axis=1)\n",
    "df_test = df_test.drop(labels=['RecordTime'], axis=1)\n",
    "df_test = df_test.drop(labels=['RecordType'], axis=1)"
   ]
  },
  {
   "cell_type": "code",
   "execution_count": 35,
   "metadata": {},
   "outputs": [
    {
     "name": "stdout",
     "output_type": "stream",
     "text": [
      "[1 1 1 0 0 0 0 0 0 1 0 0 0 0 1 0 1 0 1 1 0 0 1 1 1 1 1 1 1 1 1 1 1 1 1 0 1\n",
      " 1 1 1 1 1 0 0 0 1 1 1 0 1 1 1 1 1 1 1 1 1 1 1 1 1 1 1 1 1 0 1 1 1 1 1 1 1\n",
      " 1 1 1 1 1 1 1 1 1 1 1 1 1 1 1 1 1 1 1 1 1 1 1 1 1 1 1 1 1 1 1 1 1 1 1 1 1\n",
      " 1 1 1 1 1 1 1 1 1 1 1 1 1 1 1 1 1 1 1 1 1 1 1 1 1 1 1 1 1 1 1 1 1 1 1 1 1\n",
      " 1 1 1 1 1 1 1 1 1 1 1 1 1 1 1 1 1 1 1 1 1 1 1 1 1 1 1 1 1 1 1 1 1 1 1 1 1\n",
      " 1 1 1 1 1 1 1 1 1 1 1 1 1 1 1 1 1 1 1 1 1 1 1 1 1 1 1 1 1 1 1 1 1 1 1 1 1\n",
      " 1 1 1 1 1 1 1 1 1 1 1 1 1 1 1 1 1 1 1 1 1 1 1 1 1 1 1 1 1 1 1 1 1 1 1 1 1\n",
      " 1 1 1 1 1 1 1 1 1 1]\n"
     ]
    }
   ],
   "source": [
    "pred = model.predict(df_test)\n",
    "print(pred)"
   ]
  },
  {
   "cell_type": "code",
   "execution_count": 36,
   "metadata": {},
   "outputs": [
    {
     "data": {
      "text/plain": [
       "['./XGB_model']"
      ]
     },
     "execution_count": 36,
     "metadata": {},
     "output_type": "execute_result"
    }
   ],
   "source": [
    "# Save model\n",
    "import joblib\n",
    "cla(model, './XGB_model')\n",
    "\n",
    "# Load model\n",
    "# loaded_xgb_model = joblib.load('./XGB_model')"
   ]
  },
  {
   "cell_type": "code",
   "execution_count": null,
   "metadata": {},
   "outputs": [],
   "source": []
  }
 ],
 "metadata": {
  "colab": {
   "authorship_tag": "ABX9TyNM9v33kYP6sSnew95Pq3Qh",
   "provenance": [
    {
     "file_id": "1r3PRKI1cL9c21w7R3Yr1n_1p7UumEbvh",
     "timestamp": 1683210991768
    }
   ]
  },
  "kernelspec": {
   "display_name": "Python 3 (ipykernel)",
   "language": "python",
   "name": "python3"
  },
  "language_info": {
   "codemirror_mode": {
    "name": "ipython",
    "version": 3
   },
   "file_extension": ".py",
   "mimetype": "text/x-python",
   "name": "python",
   "nbconvert_exporter": "python",
   "pygments_lexer": "ipython3",
   "version": "3.7.12"
  }
 },
 "nbformat": 4,
 "nbformat_minor": 4
}
