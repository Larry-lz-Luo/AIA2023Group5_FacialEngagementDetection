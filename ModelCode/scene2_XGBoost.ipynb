{
 "cells": [
  {
   "cell_type": "code",
   "execution_count": 1,
   "metadata": {
    "colab": {
     "base_uri": "https://localhost:8080/"
    },
    "executionInfo": {
     "elapsed": 2711,
     "status": "ok",
     "timestamp": 1683134156932,
     "user": {
      "displayName": "洪啟豪",
      "userId": "08277187360257942838"
     },
     "user_tz": -480
    },
    "id": "a_02Aqmvm22h",
    "outputId": "7ee8ae1a-b701-4473-f60a-32a709cd7633"
   },
   "outputs": [
    {
     "name": "stdout",
     "output_type": "stream",
     "text": [
      "Populating the interactive namespace from numpy and matplotlib\n"
     ]
    }
   ],
   "source": [
    "from xgboost import XGBClassifier\n",
    "from sklearn.model_selection import train_test_split\n",
    "from sklearn.metrics import accuracy_score\n",
    "import pandas as pd\n",
    "import matplotlib.pyplot as plt\n",
    "%pylab inline"
   ]
  },
  {
   "cell_type": "markdown",
   "metadata": {
    "id": "EXdjv-qYnqdl"
   },
   "source": [
    "## 載入資料集"
   ]
  },
  {
   "cell_type": "code",
   "execution_count": 2,
   "metadata": {
    "id": "X7ybsCSfnPbD"
   },
   "outputs": [
    {
     "name": "stdout",
     "output_type": "stream",
     "text": [
      "/project/xt121-group5/scene2_data/alice/2023-05-01 232058.csv\n",
      "/project/xt121-group5/scene2_data/alice/2023-05-01 231925.csv\n",
      "/project/xt121-group5/scene2_data/larry/2023-05-01 232448.csv\n",
      "/project/xt121-group5/scene2_data/larry/2023-05-01 232329.csv\n",
      "/project/xt121-group5/scene2_data/charlie/2023-05-05 103150_c.csv\n",
      "/project/xt121-group5/scene2_data/charlie/2023-05-05 103233_nc.csv\n",
      "/project/xt121-group5/scene2_data/jason/2023-05-05 151434.csv\n",
      "/project/xt121-group5/scene2_data/jason/2023-05-05 151410.csv\n",
      "/project/xt121-group5/scene2_data/jason/2023-05-05 145529.csv\n",
      "/project/xt121-group5/scene2_data/jason/2023-05-05 145621.csv\n",
      "/project/xt121-group5/scene2_data/jason/2023-05-05 145600.csv\n",
      "/project/xt121-group5/scene2_data/jason/2023-05-05 145633.csv\n",
      "/project/xt121-group5/scene2_data/jason/2023-05-05 145640.csv\n",
      "/project/xt121-group5/scene2_data/jason/2023-05-05 151354.csv\n",
      "/project/xt121-group5/scene2_data/jason/2023-05-05 151333.csv\n"
     ]
    }
   ],
   "source": [
    "import os\n",
    "df_train = pd.core.frame.DataFrame()\n",
    "for dirname, _, filenames in os.walk('/project/xt121-group5/scene2_data/'):\n",
    "    for filename in filenames:\n",
    "        if dirname.split('/')[-1] != 'test_data':\n",
    "            print(os.path.join(dirname, filename))\n",
    "            df_train2 = pd.read_csv(os.path.join(dirname, filename))\n",
    "            df_train = pd.concat([df_train, df_train2])\n",
    "        \n",
    "df_train = df_train.drop(labels=['RecordTime'], axis=1) # 移除 RecordTime"
   ]
  },
  {
   "cell_type": "code",
   "execution_count": 3,
   "metadata": {
    "colab": {
     "base_uri": "https://localhost:8080/"
    },
    "executionInfo": {
     "elapsed": 504,
     "status": "ok",
     "timestamp": 1683134191466,
     "user": {
      "displayName": "洪啟豪",
      "userId": "08277187360257942838"
     },
     "user_tz": -480
    },
    "id": "h93qCpsSnWfz",
    "outputId": "7d802664-f27d-4f03-ee8e-c014eec2244d"
   },
   "outputs": [
    {
     "name": "stdout",
     "output_type": "stream",
     "text": [
      "(6681, 103)\n"
     ]
    }
   ],
   "source": [
    "print(df_train.shape)"
   ]
  },
  {
   "cell_type": "markdown",
   "metadata": {
    "id": "CdJVL8ygnnyv"
   },
   "source": [
    "## 檢查缺失值"
   ]
  },
  {
   "cell_type": "code",
   "execution_count": 4,
   "metadata": {
    "colab": {
     "base_uri": "https://localhost:8080/"
    },
    "executionInfo": {
     "elapsed": 4,
     "status": "ok",
     "timestamp": 1683134238809,
     "user": {
      "displayName": "洪啟豪",
      "userId": "08277187360257942838"
     },
     "user_tz": -480
    },
    "id": "lByl9PTOnY-F",
    "outputId": "0119a5ec-e6ab-44ab-9e39-205e1ce81646"
   },
   "outputs": [
    {
     "name": "stdout",
     "output_type": "stream",
     "text": [
      "Before data clean(NAN mount): 0\n"
     ]
    }
   ],
   "source": [
    "# checked missing data\n",
    "print(\"Before data clean(NAN mount):\", len(np.where(np.isnan(df_train)==1)[0]))"
   ]
  },
  {
   "cell_type": "code",
   "execution_count": 5,
   "metadata": {
    "id": "JPd8gtYOnk1F"
   },
   "outputs": [],
   "source": [
    "# Find columns with only unique value.\n",
    "# unique_col = []\n",
    "# for i in df_train.columns:\n",
    "#     if np.unique(df_train[i]).shape[0]==1:\n",
    "#         print(f'Get column {i} with only unique value.')\n",
    "#         unique_col.append(i) "
   ]
  },
  {
   "cell_type": "code",
   "execution_count": 6,
   "metadata": {
    "id": "wgFEqJtqn0iz"
   },
   "outputs": [],
   "source": [
    "# print(unique_col)"
   ]
  },
  {
   "cell_type": "code",
   "execution_count": 7,
   "metadata": {
    "id": "YdvZ779Dn20X"
   },
   "outputs": [],
   "source": [
    "# df_train.describe()[unique_col]"
   ]
  },
  {
   "cell_type": "code",
   "execution_count": 8,
   "metadata": {
    "id": "4Be2lkSkn4MD"
   },
   "outputs": [],
   "source": [
    "# Drop columns with only unique value.\n",
    "# df_train = df_train.drop(unique_col, axis=1)"
   ]
  },
  {
   "cell_type": "markdown",
   "metadata": {
    "id": "HuCO9Hpin7wS"
   },
   "source": [
    "## 資料前處理"
   ]
  },
  {
   "cell_type": "code",
   "execution_count": 9,
   "metadata": {
    "id": "GIqFHaOSn5oF"
   },
   "outputs": [],
   "source": [
    "# 列出不重要的特徵。\n",
    "# 先假設除了gaze vector以外的特徵都不重要，之後再調整。\n",
    "del_col = ['FaceBoundingBox_X', 'FaceBoundingBox_Y','FaceBoundingBox_W', 'FaceBoundingBox_H', 'FaceLandmarks_1_X', \n",
    "           'FaceLandmarks_1_Y', 'FaceLandmarks_2_X','FaceLandmarks_2_Y', 'FaceLandmarks_3_X', 'FaceLandmarks_3_Y', \n",
    "           'FaceLandmarks_4_X', 'FaceLandmarks_4_Y','FaceLandmarks_5_X', 'FaceLandmarks_5_Y', 'FaceLandmarks_6_X', \n",
    "           'FaceLandmarks_6_Y', 'FaceLandmarks_7_X', 'FaceLandmarks_7_Y', 'FaceLandmarks_8_X', 'FaceLandmarks_8_Y', \n",
    "           'FaceLandmarks_9_X', 'FaceLandmarks_9_Y', 'FaceLandmarks_10_X', 'FaceLandmarks_10_Y', 'FaceLandmarks_11_X', \n",
    "           'FaceLandmarks_11_Y', 'FaceLandmarks_12_X', 'FaceLandmarks_12_Y', 'FaceLandmarks_13_X', 'FaceLandmarks_13_Y', \n",
    "           'FaceLandmarks_14_X', 'FaceLandmarks_14_Y', 'FaceLandmarks_15_X', 'FaceLandmarks_15_Y', 'FaceLandmarks_16_X', \n",
    "           'FaceLandmarks_16_Y', 'FaceLandmarks_17_X', 'FaceLandmarks_17_Y', 'FaceLandmarks_18_X', 'FaceLandmarks_18_Y', \n",
    "           'FaceLandmarks_19_X', 'FaceLandmarks_19_Y', 'FaceLandmarks_20_X', 'FaceLandmarks_20_Y', 'FaceLandmarks_21_X', \n",
    "           'FaceLandmarks_21_Y', 'FaceLandmarks_22_X', 'FaceLandmarks_22_Y', 'FaceLandmarks_23_X', 'FaceLandmarks_23_Y', \n",
    "           'FaceLandmarks_24_X', 'FaceLandmarks_24_Y', 'FaceLandmarks_25_X', 'FaceLandmarks_25_Y', 'FaceLandmarks_26_X', \n",
    "           'FaceLandmarks_26_Y', 'FaceLandmarks_27_X', 'FaceLandmarks_27_Y', 'FaceLandmarks_28_X', 'FaceLandmarks_28_Y', \n",
    "           'FaceLandmarks_29_X', 'FaceLandmarks_29_Y', 'FaceLandmarks_30_X', 'FaceLandmarks_30_Y', 'FaceLandmarks_31_X', \n",
    "           'FaceLandmarks_31_Y', 'FaceLandmarks_32_X', 'FaceLandmarks_32_Y', 'FaceLandmarks_33_X', 'FaceLandmarks_33_Y', \n",
    "           'FaceLandmarks_34_X', 'FaceLandmarks_34_Y', 'FaceLandmarks_35_X', 'FaceLandmarks_35_Y', 'HeadPoseAngles_X', \n",
    "           'HeadPoseAngles_Y','HeadPoseAngles_Z', 'LeftEyeBoundingBox_X', 'LeftEyeBoundingBox_Y', 'LeftEyeBoundingBox_W', \n",
    "           'LeftEyeBoundingBox_H', 'RightEyeBoundingBox_X', 'RightEyeBoundingBox_Y', 'RightEyeBoundingBox_W', 'RightEyeBoundingBox_H', \n",
    "           'EyeLandmarks_1_X', 'EyeLandmarks_1_Y', 'EyeLandmarks_2_X', 'EyeLandmarks_2_Y', 'EyeLandmarks_3_X', \n",
    "           'EyeLandmarks_3_Y', 'EyeLandmarks_4_X', 'EyeLandmarks_4_Y', 'LeftEyeMidPoint_X', 'LeftEyeMidPoint_Y', \n",
    "           'RightEyeMidPoint_X','RightEyeMidPoint_Y', 'EyeState_Left', 'EyeState_Right']\n",
    "# del_col = ['FaceBoundingBox_X', 'FaceBoundingBox_Y','FaceBoundingBox_W', 'FaceBoundingBox_H', 'HeadPoseAngles_X', \n",
    "#            'HeadPoseAngles_Y','HeadPoseAngles_Z', 'LeftEyeBoundingBox_X', 'LeftEyeBoundingBox_Y', 'LeftEyeBoundingBox_W', \n",
    "#            'LeftEyeBoundingBox_H', 'RightEyeBoundingBox_X', 'RightEyeBoundingBox_Y', 'RightEyeBoundingBox_W', 'RightEyeBoundingBox_H', \n",
    "#            'EyeLandmarks_1_X', 'EyeLandmarks_1_Y', 'EyeLandmarks_2_X', 'EyeLandmarks_2_Y', 'EyeLandmarks_3_X', \n",
    "#            'EyeLandmarks_3_Y', 'EyeLandmarks_4_X', 'EyeLandmarks_4_Y', 'LeftEyeMidPoint_X', 'LeftEyeMidPoint_Y', \n",
    "#            'RightEyeMidPoint_X','RightEyeMidPoint_Y', 'EyeState_Left', 'EyeState_Right']"
   ]
  },
  {
   "cell_type": "code",
   "execution_count": 10,
   "metadata": {
    "id": "ykVqh8LsoCgk"
   },
   "outputs": [],
   "source": [
    "df_train = df_train.drop(del_col, axis = 1)"
   ]
  },
  {
   "cell_type": "code",
   "execution_count": 11,
   "metadata": {
    "id": "fRDtN4THoFaT"
   },
   "outputs": [],
   "source": [
    "# from sklearn.preprocessing import StandardScaler\n",
    "# from sklearn.preprocessing import MinMaxScaler"
   ]
  },
  {
   "cell_type": "code",
   "execution_count": 12,
   "metadata": {
    "id": "s5RxZZWkoGuM"
   },
   "outputs": [],
   "source": [
    "# def data_preprocessing(df_input, train=True, sc=None):\n",
    "#     # numeric feature standardization\n",
    "#     if train:\n",
    "#         sc = StandardScaler()\n",
    "# #         sc = MinMaxScaler()\n",
    "#         df = sc.fit_transform(df_input.iloc[:, 0:-1])\n",
    "#     else:\n",
    "#         df = sc.transform(df_input)\n",
    "#     return df, sc"
   ]
  },
  {
   "cell_type": "code",
   "execution_count": 13,
   "metadata": {
    "id": "5SLy0ziNoNa1"
   },
   "outputs": [],
   "source": [
    "# X, train_sc = data_preprocessing(df_train)"
   ]
  },
  {
   "cell_type": "code",
   "execution_count": 14,
   "metadata": {
    "id": "YD5cLbO2oQWH"
   },
   "outputs": [],
   "source": [
    "# print(X.shape)"
   ]
  },
  {
   "cell_type": "code",
   "execution_count": 15,
   "metadata": {
    "id": "Ne9F-x99oZY9"
   },
   "outputs": [],
   "source": [
    "# print(train_sc.mean_)"
   ]
  },
  {
   "cell_type": "code",
   "execution_count": 16,
   "metadata": {
    "id": "wQN9qy2iocZX"
   },
   "outputs": [],
   "source": [
    "# print(train_sc.var_)"
   ]
  },
  {
   "cell_type": "code",
   "execution_count": 17,
   "metadata": {
    "id": "VFcIvO6FofFD"
   },
   "outputs": [],
   "source": [
    "y = df_train['RecordType'].values"
   ]
  },
  {
   "cell_type": "code",
   "execution_count": 18,
   "metadata": {
    "colab": {
     "base_uri": "https://localhost:8080/"
    },
    "executionInfo": {
     "elapsed": 6,
     "status": "ok",
     "timestamp": 1683134495803,
     "user": {
      "displayName": "洪啟豪",
      "userId": "08277187360257942838"
     },
     "user_tz": -480
    },
    "id": "aC3tqVMPog9y",
    "outputId": "ddeb5caf-c2e0-4c2f-ec84-acdd450eb78d"
   },
   "outputs": [
    {
     "name": "stdout",
     "output_type": "stream",
     "text": [
      "(6681,)\n"
     ]
    }
   ],
   "source": [
    "print(y.shape)"
   ]
  },
  {
   "cell_type": "code",
   "execution_count": 19,
   "metadata": {
    "colab": {
     "base_uri": "https://localhost:8080/"
    },
    "executionInfo": {
     "elapsed": 4,
     "status": "ok",
     "timestamp": 1683134509554,
     "user": {
      "displayName": "洪啟豪",
      "userId": "08277187360257942838"
     },
     "user_tz": -480
    },
    "id": "y6Ne7Y_8ojln",
    "outputId": "ff4b155a-1e69-4c06-dcea-bb34a167f23d"
   },
   "outputs": [
    {
     "name": "stdout",
     "output_type": "stream",
     "text": [
      "[0 0 0 ... 0 0 0]\n"
     ]
    }
   ],
   "source": [
    "np.unique(y)\n",
    "print(y)"
   ]
  },
  {
   "cell_type": "code",
   "execution_count": 20,
   "metadata": {
    "id": "vXxckMK9om71"
   },
   "outputs": [],
   "source": [
    "df_train = df_train.drop('RecordType', axis = 1)"
   ]
  },
  {
   "cell_type": "markdown",
   "metadata": {
    "id": "xE8GmGCOpenc"
   },
   "source": [
    "## 切割訓練集"
   ]
  },
  {
   "cell_type": "code",
   "execution_count": 21,
   "metadata": {},
   "outputs": [],
   "source": [
    "npa_train = df_train.to_numpy()"
   ]
  },
  {
   "cell_type": "code",
   "execution_count": 22,
   "metadata": {
    "id": "tghkbwmwopjK"
   },
   "outputs": [],
   "source": [
    "x_train , x_valid , y_train , y_valid = train_test_split(npa_train, y, test_size=0.25, random_state=17, stratify=y)"
   ]
  },
  {
   "cell_type": "code",
   "execution_count": 23,
   "metadata": {
    "colab": {
     "base_uri": "https://localhost:8080/",
     "height": 612
    },
    "executionInfo": {
     "elapsed": 643,
     "status": "ok",
     "timestamp": 1683134874585,
     "user": {
      "displayName": "洪啟豪",
      "userId": "08277187360257942838"
     },
     "user_tz": -480
    },
    "id": "20eJyXYepj93",
    "outputId": "a04b2eee-d94c-4679-c066-93bdb9ba2026"
   },
   "outputs": [
    {
     "name": "stdout",
     "output_type": "stream",
     "text": [
      "<class 'numpy.ndarray'>\n",
      "<class 'numpy.ndarray'>\n",
      "[0]\tvalidation_0-auc:0.928259\n",
      "[1]\tvalidation_0-auc:0.929899\n",
      "[2]\tvalidation_0-auc:0.931955\n",
      "[3]\tvalidation_0-auc:0.934859\n",
      "[4]\tvalidation_0-auc:0.935243\n",
      "[5]\tvalidation_0-auc:0.936977\n",
      "[6]\tvalidation_0-auc:0.93672\n",
      "[7]\tvalidation_0-auc:0.937368\n",
      "[8]\tvalidation_0-auc:0.93839\n",
      "[9]\tvalidation_0-auc:0.938617\n",
      "[10]\tvalidation_0-auc:0.940584\n",
      "[11]\tvalidation_0-auc:0.944141\n",
      "[12]\tvalidation_0-auc:0.944209\n",
      "[13]\tvalidation_0-auc:0.946537\n",
      "[14]\tvalidation_0-auc:0.947219\n",
      "[15]\tvalidation_0-auc:0.947188\n",
      "[16]\tvalidation_0-auc:0.947756\n",
      "[17]\tvalidation_0-auc:0.948467\n",
      "[18]\tvalidation_0-auc:0.948741\n",
      "[19]\tvalidation_0-auc:0.948105\n",
      "[20]\tvalidation_0-auc:0.950286\n",
      "[21]\tvalidation_0-auc:0.950337\n",
      "[22]\tvalidation_0-auc:0.950943\n",
      "[23]\tvalidation_0-auc:0.951553\n",
      "[24]\tvalidation_0-auc:0.951593\n",
      "[25]\tvalidation_0-auc:0.953969\n",
      "[26]\tvalidation_0-auc:0.954009\n",
      "[27]\tvalidation_0-auc:0.95415\n",
      "[28]\tvalidation_0-auc:0.955067\n",
      "[29]\tvalidation_0-auc:0.955493\n",
      "[30]\tvalidation_0-auc:0.955778\n",
      "[31]\tvalidation_0-auc:0.955954\n",
      "[32]\tvalidation_0-auc:0.956359\n",
      "[33]\tvalidation_0-auc:0.956537\n",
      "[34]\tvalidation_0-auc:0.956862\n",
      "[35]\tvalidation_0-auc:0.957817\n",
      "[36]\tvalidation_0-auc:0.958235\n",
      "[37]\tvalidation_0-auc:0.958368\n",
      "[38]\tvalidation_0-auc:0.958472\n",
      "[39]\tvalidation_0-auc:0.958542\n",
      "[40]\tvalidation_0-auc:0.958664\n",
      "[41]\tvalidation_0-auc:0.95877\n",
      "[42]\tvalidation_0-auc:0.958966\n",
      "[43]\tvalidation_0-auc:0.959053\n",
      "[44]\tvalidation_0-auc:0.959506\n",
      "[45]\tvalidation_0-auc:0.959723\n",
      "[46]\tvalidation_0-auc:0.959704\n",
      "[47]\tvalidation_0-auc:0.959928\n",
      "[48]\tvalidation_0-auc:0.960271\n",
      "[49]\tvalidation_0-auc:0.960393\n",
      "[50]\tvalidation_0-auc:0.960506\n",
      "[51]\tvalidation_0-auc:0.960896\n",
      "[52]\tvalidation_0-auc:0.961068\n",
      "[53]\tvalidation_0-auc:0.961167\n",
      "[54]\tvalidation_0-auc:0.961383\n",
      "[55]\tvalidation_0-auc:0.961739\n",
      "[56]\tvalidation_0-auc:0.962797\n",
      "[57]\tvalidation_0-auc:0.962961\n",
      "[58]\tvalidation_0-auc:0.963003\n",
      "[59]\tvalidation_0-auc:0.962934\n",
      "[60]\tvalidation_0-auc:0.963026\n",
      "[61]\tvalidation_0-auc:0.963094\n",
      "[62]\tvalidation_0-auc:0.963237\n",
      "[63]\tvalidation_0-auc:0.963353\n",
      "[64]\tvalidation_0-auc:0.963226\n",
      "[65]\tvalidation_0-auc:0.963212\n",
      "[66]\tvalidation_0-auc:0.963176\n",
      "[67]\tvalidation_0-auc:0.963248\n",
      "[68]\tvalidation_0-auc:0.963312\n",
      "[69]\tvalidation_0-auc:0.963257\n",
      "[70]\tvalidation_0-auc:0.963354\n",
      "[71]\tvalidation_0-auc:0.963335\n",
      "[72]\tvalidation_0-auc:0.963375\n",
      "[73]\tvalidation_0-auc:0.963372\n",
      "[74]\tvalidation_0-auc:0.963413\n",
      "[75]\tvalidation_0-auc:0.963472\n",
      "[76]\tvalidation_0-auc:0.963486\n",
      "[77]\tvalidation_0-auc:0.963461\n",
      "[78]\tvalidation_0-auc:0.963573\n",
      "[79]\tvalidation_0-auc:0.963554\n",
      "[80]\tvalidation_0-auc:0.963669\n",
      "[81]\tvalidation_0-auc:0.963625\n",
      "[82]\tvalidation_0-auc:0.963906\n",
      "[83]\tvalidation_0-auc:0.963913\n",
      "[84]\tvalidation_0-auc:0.963906\n",
      "[85]\tvalidation_0-auc:0.963934\n",
      "[86]\tvalidation_0-auc:0.964046\n",
      "[87]\tvalidation_0-auc:0.964024\n",
      "[88]\tvalidation_0-auc:0.964778\n",
      "[89]\tvalidation_0-auc:0.964937\n",
      "[90]\tvalidation_0-auc:0.965001\n",
      "[91]\tvalidation_0-auc:0.965035\n",
      "[92]\tvalidation_0-auc:0.965005\n",
      "[93]\tvalidation_0-auc:0.96507\n",
      "[94]\tvalidation_0-auc:0.965152\n",
      "[95]\tvalidation_0-auc:0.96531\n",
      "[96]\tvalidation_0-auc:0.965242\n",
      "[97]\tvalidation_0-auc:0.965247\n",
      "[98]\tvalidation_0-auc:0.965214\n",
      "[99]\tvalidation_0-auc:0.965199\n"
     ]
    },
    {
     "data": {
      "text/plain": [
       "XGBClassifier(base_score=0.5, booster='gbtree', colsample_bylevel=1,\n",
       "              colsample_bynode=1, colsample_bytree=1, early_stopping_rounds=10,\n",
       "              eval_metric='auc', gamma=0, learning_rate=0.1, max_delta_step=0,\n",
       "              max_depth=3, min_child_weight=1, missing=None, n_estimators=100,\n",
       "              n_jobs=1, nthread=None, objective='binary:logistic',\n",
       "              random_state=0, reg_alpha=0, reg_lambda=1, scale_pos_weight=1,\n",
       "              seed=None, silent=None, subsample=1, verbosity=1)"
      ]
     },
     "execution_count": 23,
     "metadata": {},
     "output_type": "execute_result"
    }
   ],
   "source": [
    "# eval_metrics can selecy rmse, logloss, error,\\\n",
    "# auc, merror, mlogloss or custom define\n",
    "eval_set = [(x_valid, y_valid)]\n",
    "model = XGBClassifier(early_stopping_rounds=10,\n",
    "                      eval_metric=\"auc\")\n",
    "print(type(x_train))\n",
    "print(type(y_train))\n",
    "model.fit(x_train,\n",
    "          y_train,\n",
    "          eval_set=eval_set,\n",
    "          verbose=True)"
   ]
  },
  {
   "cell_type": "code",
   "execution_count": 24,
   "metadata": {
    "colab": {
     "base_uri": "https://localhost:8080/"
    },
    "executionInfo": {
     "elapsed": 3,
     "status": "ok",
     "timestamp": 1683134910280,
     "user": {
      "displayName": "洪啟豪",
      "userId": "08277187360257942838"
     },
     "user_tz": -480
    },
    "id": "njTW4TC-p_3y",
    "outputId": "5830effb-a8c5-4cfa-fd7f-311773337001"
   },
   "outputs": [
    {
     "data": {
      "text/plain": [
       "array([[0.10285163, 0.8971484 ],\n",
       "       [0.05653495, 0.94346505],\n",
       "       [0.60133314, 0.39866686],\n",
       "       [0.9870012 , 0.01299882],\n",
       "       [0.943161  , 0.05683896]], dtype=float32)"
      ]
     },
     "execution_count": 24,
     "metadata": {},
     "output_type": "execute_result"
    }
   ],
   "source": [
    "# model.predict_proba will return the probility\n",
    "# model.predict will return the predict label (use 0.5 as threshold)\n",
    "y_pred = model.predict_proba(x_valid)\n",
    "y_pred[:5]"
   ]
  },
  {
   "cell_type": "code",
   "execution_count": 25,
   "metadata": {
    "colab": {
     "base_uri": "https://localhost:8080/"
    },
    "executionInfo": {
     "elapsed": 3,
     "status": "ok",
     "timestamp": 1683134942359,
     "user": {
      "displayName": "洪啟豪",
      "userId": "08277187360257942838"
     },
     "user_tz": -480
    },
    "id": "Oso8thXbqIg5",
    "outputId": "78a780da-d518-450a-8754-2727f3941633"
   },
   "outputs": [
    {
     "name": "stdout",
     "output_type": "stream",
     "text": [
      "Accuracy: 91.62%\n"
     ]
    }
   ],
   "source": [
    "# we use model.predict to get the label\n",
    "y_pred = model.predict(x_valid)\n",
    "accuracy = accuracy_score(y_valid, y_pred)\n",
    "print(\"Accuracy: %.2f%%\" % (accuracy * 100.0))"
   ]
  },
  {
   "cell_type": "code",
   "execution_count": 26,
   "metadata": {
    "colab": {
     "base_uri": "https://localhost:8080/"
    },
    "executionInfo": {
     "elapsed": 4,
     "status": "ok",
     "timestamp": 1683134951978,
     "user": {
      "displayName": "洪啟豪",
      "userId": "08277187360257942838"
     },
     "user_tz": -480
    },
    "id": "l9UbyLg5qQNp",
    "outputId": "f6c6523e-4243-410d-e324-a2286fc0f5b1"
   },
   "outputs": [
    {
     "name": "stdout",
     "output_type": "stream",
     "text": [
      "[0.05738485 0.12551497 0.8171001 ]\n"
     ]
    }
   ],
   "source": [
    "# we can show the feature importances for our features\n",
    "print(model.feature_importances_)"
   ]
  },
  {
   "cell_type": "code",
   "execution_count": 27,
   "metadata": {
    "colab": {
     "base_uri": "https://localhost:8080/",
     "height": 472
    },
    "executionInfo": {
     "elapsed": 421,
     "status": "ok",
     "timestamp": 1683134977043,
     "user": {
      "displayName": "洪啟豪",
      "userId": "08277187360257942838"
     },
     "user_tz": -480
    },
    "id": "cRSb2yIAqS0u",
    "outputId": "adedcae8-6d48-45c5-fc86-437dc960b788"
   },
   "outputs": [
    {
     "data": {
      "image/png": "[encoded data removed]",
      "text/plain": [
       "<Figure size 432x288 with 1 Axes>"
      ]
     },
     "metadata": {
      "needs_background": "light"
     },
     "output_type": "display_data"
    }
   ],
   "source": [
    "# import the plot_importance function to visualize the feature importance\n",
    "from xgboost import plot_importance\n",
    "plot_importance(model)\n",
    "plt.show()"
   ]
  },
  {
   "cell_type": "code",
   "execution_count": 28,
   "metadata": {},
   "outputs": [
    {
     "name": "stdout",
     "output_type": "stream",
     "text": [
      "Requirement already satisfied: graphviz in /opt/conda/lib/python3.7/site-packages (0.8.2)\n"
     ]
    }
   ],
   "source": [
    "!pip install graphviz"
   ]
  },
  {
   "cell_type": "code",
   "execution_count": 29,
   "metadata": {},
   "outputs": [
    {
     "data": {
      "text/plain": [
       "<matplotlib.axes._subplots.AxesSubplot at 0x7faa69f30e90>"
      ]
     },
     "execution_count": 29,
     "metadata": {},
     "output_type": "execute_result"
    },
    {
     "data": {
      "image/png": "[encoded data removed]",
      "text/plain": [
       "<Figure size 432x288 with 1 Axes>"
      ]
     },
     "metadata": {
      "needs_background": "light"
     },
     "output_type": "display_data"
    }
   ],
   "source": [
    "from xgboost import plot_tree\n",
    "from matplotlib.pylab import rcParams\n",
    "\n",
    "plot_tree(model, num_trees=1)\n",
    "# plt.title(\"max_depth = 100, with gamma = 10\")\n",
    "# plt.savefig(\"tree_with_max_depth_gamma\", dpi = 700)"
   ]
  },
  {
   "cell_type": "markdown",
   "metadata": {
    "id": "tlkxP6ExqiBs"
   },
   "source": [
    "## 模型測試"
   ]
  },
  {
   "cell_type": "code",
   "execution_count": 30,
   "metadata": {
    "id": "5_HZfqeiqY3_"
   },
   "outputs": [],
   "source": [
    "# Test\n",
    "# 測試一個答案全部為1的資料。\n",
    "df_test = pd.read_csv('/project/xt121-group5/scene2_data/test_data/2023-05-06 135830_c.csv')\n",
    "# df_test = df_test.drop(unique_col, axis=1)\n",
    "df_test = df_test.drop(del_col, axis=1)\n",
    "df_test = df_test.drop(labels=['RecordTime'], axis=1)\n",
    "df_test = df_test.drop(labels=['RecordType'], axis=1)\n",
    "# test, _ = data_preprocessing(df_test, train=False, sc=train_sc)"
   ]
  },
  {
   "cell_type": "code",
   "execution_count": 31,
   "metadata": {
    "colab": {
     "base_uri": "https://localhost:8080/"
    },
    "executionInfo": {
     "elapsed": 2,
     "status": "ok",
     "timestamp": 1683135170048,
     "user": {
      "displayName": "洪啟豪",
      "userId": "08277187360257942838"
     },
     "user_tz": -480
    },
    "id": "PjsKhuRRqv3I",
    "outputId": "b3b686d0-d546-4139-e281-d627e6e8b043"
   },
   "outputs": [
    {
     "name": "stdout",
     "output_type": "stream",
     "text": [
      "Index(['GazeVector_X', 'GazeVector_Y', 'GazeVector_Z'], dtype='object')\n",
      "(280,)\n",
      "<class 'numpy.ndarray'>\n"
     ]
    }
   ],
   "source": [
    "print(df_test.columns)\n",
    "npa_test = df_test.to_numpy()\n",
    "pred = model.predict(npa_test)\n",
    "print(pred.shape)\n",
    "print(type(pred))"
   ]
  },
  {
   "cell_type": "code",
   "execution_count": 32,
   "metadata": {
    "colab": {
     "base_uri": "https://localhost:8080/"
    },
    "executionInfo": {
     "elapsed": 2,
     "status": "ok",
     "timestamp": 1683135172225,
     "user": {
      "displayName": "洪啟豪",
      "userId": "08277187360257942838"
     },
     "user_tz": -480
    },
    "id": "wVYu5vY6qwdR",
    "outputId": "a8978941-8fbd-4e84-9406-f87e5746206f"
   },
   "outputs": [
    {
     "name": "stdout",
     "output_type": "stream",
     "text": [
      "[1 1 1 1 1 1 1 1 1 1 1 1 1 1 1 1 1 1 1 1 1 1 1 1 1 1 1 1 1 1 1 1 1 1 1 1 1\n",
      " 1 1 1 1 1 1 1 1 1 1 1 1 1 1 1 1 1 1 1 1 1 1 1 1 1 1 1 1 1 1 1 1 1 1 1 1 1\n",
      " 1 1 1 1 1 1 1 1 1 1 1 1 1 1 1 1 1 1 1 1 1 1 1 1 1 1 1 1 1 1 1 1 1 1 1 1 1\n",
      " 1 1 1 1 1 1 1 1 1 1 1 1 1 1 1 1 1 1 1 1 1 1 1 1 1 1 1 1 1 1 1 1 1 1 1 1 1\n",
      " 1 1 1 1 1 1 1 1 1 1 1 1 1 1 1 1 1 1 1 1 1 1 1 1 1 1 1 1 1 1 1 1 1 1 1 1 1\n",
      " 1 1 1 1 1 1 1 1 1 1 1 1 1 1 1 1 1 1 1 1 1 1 1 1 1 1 1 1 1 1 1 1 1 1 1 1 1\n",
      " 1 1 1 1 1 1 1 1 1 1 1 1 1 1 1 1 1 1 1 1 1 1 1 1 1 1 1 1 1 1 1 1 1 1 1 1 1\n",
      " 1 1 1 1 1 1 1 1 1 1 1 1 1 1 1 1 1 1 1 1 1]\n"
     ]
    }
   ],
   "source": [
    "print(pred)"
   ]
  },
  {
   "cell_type": "code",
   "execution_count": 33,
   "metadata": {
    "id": "-ngdGic-q5pr"
   },
   "outputs": [],
   "source": [
    "# Test\n",
    "# 測試一個答案全部為0的資料。\n",
    "df_test = pd.read_csv('/project/xt121-group5/scene2_data/test_data/2023-05-06 135847_nc.csv')\n",
    "# df_test = df_test.drop(unique_col, axis=1)\n",
    "df_test = df_test.drop(del_col, axis=1)\n",
    "df_test = df_test.drop(labels=['RecordTime'], axis=1)\n",
    "df_test = df_test.drop(labels=['RecordType'], axis=1)\n",
    "# test, _ = data_preprocessing(df_test, train=False, sc=train_sc)"
   ]
  },
  {
   "cell_type": "code",
   "execution_count": 34,
   "metadata": {
    "colab": {
     "base_uri": "https://localhost:8080/"
    },
    "executionInfo": {
     "elapsed": 278,
     "status": "ok",
     "timestamp": 1683135222297,
     "user": {
      "displayName": "洪啟豪",
      "userId": "08277187360257942838"
     },
     "user_tz": -480
    },
    "id": "KbbnQFEsrPsF",
    "outputId": "86a1c541-fe4d-4f8b-9c82-44d843bf14dc"
   },
   "outputs": [
    {
     "name": "stdout",
     "output_type": "stream",
     "text": [
      "[0 0 0 0 0 0 0 0 0 0 0 0 0 0 0 0 0 0 0 0 0 0 0 0 0 0 0 0 0 0 0 0 0 0 0 0 0\n",
      " 0 0 0 0 0 0 0 0 0 0 0 0 0 0 0 0 0 0 0 0 0 0 0 0 0 0 0 0 0 0 0 0 0 0 0 0 0\n",
      " 0 0 0 0 0 0 0 0 0 0 0 0 0 0 0 0 0 0 0 0 0 0 0 0 0 0 0 0 0 0 0 0 0 0 0 0 0\n",
      " 0 0 0 0 0 0 0 0 0 0 0 0 0 0 0 0 0 0 0 0 0 0 0 0 0 0 0 0 0 0 0 0 0 0 0 0 0\n",
      " 0 0 0 0 0 0 0 0 0 0 0 0 0 0 0 0 0 0 0 0 0 0 0 0 0 0 0 0 0 0 0 0 0 0 0 0 0\n",
      " 0 0 0 0 0 0 0 0 0 0 0 0 0 0 0 0 0 0 0 0 0 0 0 0 0 0 0 0 0 0 0 0 0 0 0 0 0\n",
      " 0 0 0 0 0 0 0 0 0 0 0 0 0 0 0 0 0 0 0 0 0 0 0 0 0 0 0 0 0 0 0 0 0 0 0 0 0\n",
      " 0 0 0 0 0 0 0 0 0 0 0 0 0 0 0 0 0 0 0 0 0 0 0 0 0 0 0 0 0 0 0 0 0 0 0 0 0\n",
      " 0 0 0 0 0 0 0 0 0 0 0 0 0 0 0 0 0 0 0 0 0 0 0 0 0 0 0 0 0 0 0]\n"
     ]
    }
   ],
   "source": [
    "npa_test = df_test.to_numpy()\n",
    "pred = model.predict(npa_test)\n",
    "print(pred)"
   ]
  },
  {
   "cell_type": "markdown",
   "metadata": {},
   "source": [
    "## 儲存模型"
   ]
  },
  {
   "cell_type": "markdown",
   "metadata": {},
   "source": [
    "### 方法1. joblib"
   ]
  },
  {
   "cell_type": "code",
   "execution_count": 35,
   "metadata": {},
   "outputs": [
    {
     "name": "stdout",
     "output_type": "stream",
     "text": [
      "[0 0 0 0 0 0 0 0 0 0 0 0 0 0 0 0 0 0 0 0 0 0 0 0 0 0 0 0 0 0 0 0 0 0 0 0 0\n",
      " 0 0 0 0 0 0 0 0 0 0 0 0 0 0 0 0 0 0 0 0 0 0 0 0 0 0 0 0 0 0 0 0 0 0 0 0 0\n",
      " 0 0 0 0 0 0 0 0 0 0 0 0 0 0 0 0 0 0 0 0 0 0 0 0 0 0 0 0 0 0 0 0 0 0 0 0 0\n",
      " 0 0 0 0 0 0 0 0 0 0 0 0 0 0 0 0 0 0 0 0 0 0 0 0 0 0 0 0 0 0 0 0 0 0 0 0 0\n",
      " 0 0 0 0 0 0 0 0 0 0 0 0 0 0 0 0 0 0 0 0 0 0 0 0 0 0 0 0 0 0 0 0 0 0 0 0 0\n",
      " 0 0 0 0 0 0 0 0 0 0 0 0 0 0 0 0 0 0 0 0 0 0 0 0 0 0 0 0 0 0 0 0 0 0 0 0 0\n",
      " 0 0 0 0 0 0 0 0 0 0 0 0 0 0 0 0 0 0 0 0 0 0 0 0 0 0 0 0 0 0 0 0 0 0 0 0 0\n",
      " 0 0 0 0 0 0 0 0 0 0 0 0 0 0 0 0 0 0 0 0 0 0 0 0 0 0 0 0 0 0 0 0 0 0 0 0 0\n",
      " 0 0 0 0 0 0 0 0 0 0 0 0 0 0 0 0 0 0 0 0 0 0 0 0 0 0 0 0 0 0 0]\n"
     ]
    }
   ],
   "source": [
    "# Save model\n",
    "import joblib\n",
    "joblib.dump(model, './XGB_joblib_model')\n",
    "\n",
    "# Load model\n",
    "loaded_xgb_model = joblib.load('./XGB_joblib_model')\n",
    "pred = loaded_xgb_model.predict(npa_test)\n",
    "print(pred)"
   ]
  },
  {
   "cell_type": "markdown",
   "metadata": {},
   "source": [
    "### 方法2. save_model"
   ]
  },
  {
   "cell_type": "code",
   "execution_count": 36,
   "metadata": {},
   "outputs": [
    {
     "name": "stdout",
     "output_type": "stream",
     "text": [
      "[0.02612224 0.02612224 0.00914999 0.02612224 0.02945598 0.02945598\n",
      " 0.02945598 0.02945598 0.02945598 0.02945598 0.02945598 0.02945598\n",
      " 0.02945598 0.02464708 0.02945598 0.02945598 0.02945598 0.02945598\n",
      " 0.02945598 0.02945598 0.02464708 0.02945598 0.02945598 0.02945598\n",
      " 0.02945598 0.00811508 0.00551024 0.00551024 0.00262081 0.00551024\n",
      " 0.00262081 0.00262081 0.00551024 0.00551024 0.00551024 0.00262081\n",
      " 0.00262081 0.00551024 0.00321178 0.00551024 0.00551024 0.00534863\n",
      " 0.00551024 0.00551024 0.00551024 0.00262081 0.00551024 0.00262081\n",
      " 0.00262081 0.05683896 0.00262081 0.00275963 0.00272644 0.00272644\n",
      " 0.00272644 0.00272644 0.00275963 0.00515198 0.0134538  0.02714706\n",
      " 0.02714706 0.02222891 0.02714706 0.02299299 0.02239843 0.01221444\n",
      " 0.0109884  0.02714706 0.02714706 0.02553104 0.02035781 0.1478044\n",
      " 0.02239843 0.01221444 0.01203906 0.00826922 0.02222891 0.01299882\n",
      " 0.02222891 0.0121206  0.02714706 0.02456365 0.16518784 0.02714706\n",
      " 0.02746936 0.02714706 0.01165526 0.01226675 0.01034371 0.01034371\n",
      " 0.01165526 0.01165526 0.01165526 0.05683896 0.03073019 0.03073019\n",
      " 0.0289072  0.03519301 0.03177699 0.21255356 0.13237259 0.14244702\n",
      " 0.03311433 0.03565247 0.16288404 0.04644924 0.00331695 0.03959501\n",
      " 0.00331695 0.00331695 0.00406424 0.00331695 0.00342551 0.00342551\n",
      " 0.00299647 0.00342551 0.00342551 0.00342551 0.00342551 0.00342551\n",
      " 0.00299647 0.00320096 0.00320096 0.00320096 0.00320096 0.00320096\n",
      " 0.00320096 0.00320096 0.00480548 0.00320096 0.00320096 0.00330935\n",
      " 0.00320096 0.00320096 0.00330935 0.00483242 0.00483242 0.00483242\n",
      " 0.00483242 0.00483242 0.00483242 0.00483242 0.00483242 0.00483242\n",
      " 0.00483242 0.00483242 0.00483242 0.00483242 0.00387082 0.00387082\n",
      " 0.00483242 0.00483242 0.00285788 0.00172185 0.00172185 0.00172185\n",
      " 0.00285788 0.00285788 0.00387082 0.00172185 0.00172185 0.00172185\n",
      " 0.00285788 0.00172185 0.00172185 0.00172185 0.00294708 0.00063443\n",
      " 0.00294708 0.00063443 0.00063443 0.00063443 0.00074952 0.00063443\n",
      " 0.00063443 0.00063443 0.00063443 0.00063443 0.00063443 0.00063443\n",
      " 0.00063443 0.00063443 0.00063443 0.00063443 0.00063443 0.00063443\n",
      " 0.00063443 0.00063443 0.00063443 0.00063443 0.00063443 0.00063443\n",
      " 0.05683896 0.05683896 0.02055005 0.02055005 0.02055005 0.05683896\n",
      " 0.05683896 0.05683896 0.05683896 0.00560457 0.0134798  0.00275713\n",
      " 0.00745575 0.01540759 0.01772559 0.00373882 0.00324889 0.00383643\n",
      " 0.00324889 0.00340735 0.00221298 0.00221298 0.00221298 0.00221298\n",
      " 0.00221298 0.00221298 0.05683896 0.05683896 0.00221298 0.01052465\n",
      " 0.05683896 0.05683896 0.01793715 0.00914999 0.02945598 0.02945598\n",
      " 0.02945598 0.02060305 0.01793715 0.00221298 0.02945598 0.01793715\n",
      " 0.01793715 0.02945598 0.00221298 0.02945598 0.00221298 0.00221298\n",
      " 0.02945598 0.01793715 0.02945598 0.01793715 0.02945598 0.02945598\n",
      " 0.02060305 0.02945598 0.02945598 0.02060305 0.02945598 0.02945598\n",
      " 0.02612224 0.01793715 0.02060305 0.02945598 0.02945598 0.02945598\n",
      " 0.05683896 0.05683896 0.05683896 0.05683896 0.00244955 0.05683896\n",
      " 0.01727181 0.05683896 0.00063443 0.05683896 0.05683896 0.05683896\n",
      " 0.05683896 0.00219717 0.05683896 0.05683896 0.05683896 0.05683896\n",
      " 0.05683896 0.05683896 0.05683896 0.05683896 0.05683896 0.05683896\n",
      " 0.05683896 0.05683896 0.05683896 0.05683896 0.05683896 0.05683896\n",
      " 0.05683896 0.05683896 0.05683896 0.05683896 0.05683896 0.05683896\n",
      " 0.05683896 0.05683896 0.05683896 0.00063443 0.00063443 0.00063443\n",
      " 0.00063443 0.00063443 0.00063443 0.00172185 0.00483242 0.00320096\n",
      " 0.00320096 0.00320096 0.00320096 0.00330935 0.08999186 0.00299647\n",
      " 0.00342551 0.00422265 0.00261424 0.05683896 0.05683896 0.00342551\n",
      " 0.00342551 0.00342551 0.00342551 0.0595404  0.00342551 0.00342551\n",
      " 0.00331695 0.00342551 0.00342551]\n"
     ]
    }
   ],
   "source": [
    "# Save model\n",
    "model.save_model('XGB_model.json')\n",
    "\n",
    "# Load model\n",
    "import xgboost as xgb\n",
    "model_xgb = xgb.XGBRegressor()\n",
    "model_xgb.load_model('XGB_model.json')\n",
    "pred = model_xgb.predict(npa_test)\n",
    "print(pred)"
   ]
  },
  {
   "cell_type": "code",
   "execution_count": 37,
   "metadata": {},
   "outputs": [
    {
     "data": {
      "text/plain": [
       "'0.90'"
      ]
     },
     "execution_count": 37,
     "metadata": {},
     "output_type": "execute_result"
    }
   ],
   "source": [
    "import xgboost\n",
    "xgboost.__version__"
   ]
  },
  {
   "cell_type": "code",
   "execution_count": 38,
   "metadata": {},
   "outputs": [
    {
     "name": "stdout",
     "output_type": "stream",
     "text": [
      "[0 0 0 0 0 0 0 0 0 0 0 0 0 0 0 0 0 0 0 0 0 0 0 0 0 0 0 0 0 0 0 0 0 0 0 0 0\n",
      " 0 0 0 0 0 0 0 0 0 0 0 0 0 0 0 0 0 0 0 0 0 0 0 0 0 0 0 0 0 0 0 0 0 0 0 0 0\n",
      " 0 0 0 0 1 0 0 0 0 0 0 0 0 0 0 0 0 0 0 0 0 0 0 0 0 0 0 0 0 1 0 0 0 0 0 0 0\n",
      " 0 1 1 1 1 1 0 1 1 1 1 1 1 1 1 1 1 1 1 1 1 1 1 1 1 1 1 1 1 1 1 1 1 1 1 1 1\n",
      " 1 1 1 1 1 1 1 1 1 1 1 1 1 1 1 1 1 1 1 1 1 1 1 1 1 1 1 1 1 1 1 1 1 1 1 1 0\n",
      " 1 1 0 0 0 0 1 1 1 1 1 1 1 1 1 1 1 1 1 1 1 1 1 1 1 1 1 1 1 1 1 1 0 0 0 0 0\n",
      " 0 0 0 0 0 0 0 0 0 0 0 0 0 0 0 0 0 0 0 0 0 0 0 0 0 0 0 0 0 0 0 0 0 0 0 0 0\n",
      " 0 0 0 0 0 0 0 0 0 0 0 0 0 0 0 0 0 0 0 0 0 0 0 0 0 0 0 0 0 0 0 0 0 0 1 0 0\n",
      " 0 1 1 1]\n"
     ]
    }
   ],
   "source": [
    "# Test\n",
    "# 測試一個答案全部為0的資料。\n",
    "df_test = pd.read_csv('/project/xt121-group5/DAiSEE/0/1100131017.csv')\n",
    "# df_test = df_test.drop(unique_col, axis=1)\n",
    "df_test = df_test.drop(del_col, axis=1)\n",
    "df_test = df_test.drop(labels=['RecordTime'], axis=1)\n",
    "df_test = df_test.drop(labels=['RecordType'], axis=1)\n",
    "# test, _ = data_preprocessing(df_test, train=False, sc=train_sc)\n",
    "npa_test = df_test.to_numpy()\n",
    "pred = model.predict(npa_test)\n",
    "print(pred)\n"
   ]
  },
  {
   "cell_type": "code",
   "execution_count": 40,
   "metadata": {},
   "outputs": [
    {
     "name": "stdout",
     "output_type": "stream",
     "text": [
      "0.35\n"
     ]
    }
   ],
   "source": [
    "mean_a = pred.mean()\n",
    "print(mean_a)"
   ]
  },
  {
   "cell_type": "code",
   "execution_count": 54,
   "metadata": {
    "collapsed": true,
    "jupyter": {
     "outputs_hidden": true
    }
   },
   "outputs": [
    {
     "name": "stdout",
     "output_type": "stream",
     "text": [
      "0.93\n",
      "0.9533333333333334\n",
      "0.7133333333333334\n",
      "0.7733333333333333\n",
      "0.09\n",
      "0.0\n",
      "0.03\n",
      "0.7833333333333333\n",
      "0.6\n",
      "0.91\n",
      "0.9933333333333333\n",
      "0.013333333333333334\n",
      "0.79\n",
      "0.8166666666666667\n",
      "0.75\n",
      "0.0033333333333333335\n",
      "0.9766666666666667\n",
      "0.95\n",
      "0.6933333333333334\n",
      "0.5233333333333333\n",
      "0.9066666666666666\n",
      "0.0\n",
      "0.6233333333333333\n",
      "0.8666666666666667\n",
      "0.5433333333333333\n",
      "0.99\n",
      "0.6133333333333333\n",
      "0.99\n",
      "0.0\n",
      "1.0\n",
      "0.43\n",
      "0.006666666666666667\n",
      "0.9466666666666667\n",
      "0.7933333333333333\n",
      "0.8466666666666667\n",
      "0.5733333333333334\n",
      "0.8333333333333334\n",
      "0.57\n",
      "0.09666666666666666\n",
      "0.9\n",
      "0.9366666666666666\n",
      "0.6666666666666666\n",
      "0.0\n",
      "0.9133333333333333\n",
      "0.8833333333333333\n",
      "0.9033333333333333\n",
      "0.16\n",
      "0.45666666666666667\n",
      "0.85\n",
      "0.0\n",
      "0.07666666666666666\n",
      "0.8966666666666666\n",
      "0.04666666666666667\n",
      "0.35333333333333333\n",
      "0.7466666666666667\n",
      "0.27702702702702703\n",
      "0.7633333333333333\n",
      "0.006666666666666667\n",
      "0.9566666666666667\n",
      "0.4166666666666667\n",
      "0.8766666666666667\n",
      "0.31333333333333335\n",
      "1.0\n",
      "0.9766666666666667\n",
      "0.02666666666666667\n",
      "0.0033333333333333335\n",
      "0.09666666666666666\n",
      "0.6933333333333334\n",
      "0.02666666666666667\n",
      "0.03666666666666667\n",
      "0.9933333333333333\n",
      "0.02666666666666667\n",
      "0.7837837837837838\n",
      "0.8266666666666667\n",
      "0.0\n",
      "0.7966666666666666\n",
      "0.023333333333333334\n",
      "0.0\n",
      "0.75\n",
      "1.0\n",
      "0.023333333333333334\n",
      "0.9266666666666666\n",
      "0.7\n",
      "0.0\n",
      "0.85\n",
      "0.056666666666666664\n",
      "0.016666666666666666\n",
      "0.013333333333333334\n",
      "0.7166666666666667\n",
      "0.023333333333333334\n",
      "0.9033333333333333\n",
      "0.5466666666666666\n",
      "0.02666666666666667\n",
      "0.01\n",
      "1.0\n",
      "0.01\n",
      "0.0\n",
      "0.3466666666666667\n",
      "0.9233333333333333\n",
      "0.7266666666666667\n",
      "0.7666666666666667\n",
      "0.0\n",
      "0.016666666666666666\n",
      "0.016666666666666666\n",
      "0.94\n",
      "0.7666666666666667\n",
      "0.9633333333333334\n",
      "0.8666666666666667\n",
      "0.12666666666666668\n",
      "0.5833333333333334\n",
      "0.72\n",
      "0.9866666666666667\n",
      "0.43666666666666665\n",
      "0.0\n",
      "0.94\n",
      "0.9766666666666667\n",
      "0.12666666666666668\n",
      "0.4866666666666667\n",
      "0.24666666666666667\n",
      "0.8066666666666666\n",
      "0.23666666666666666\n",
      "0.19333333333333333\n",
      "0.21333333333333335\n",
      "0.55\n",
      "0.13666666666666666\n",
      "0.16\n",
      "0.006666666666666667\n",
      "0.92\n",
      "0.9666666666666667\n",
      "0.01\n",
      "0.8327759197324415\n",
      "0.91\n",
      "0.37\n",
      "0.39\n",
      "0.0033333333333333335\n",
      "0.9666666666666667\n",
      "0.33\n",
      "0.19666666666666666\n",
      "0.013333333333333334\n",
      "0.41333333333333333\n",
      "0.85\n",
      "0.38\n",
      "0.6236933797909407\n",
      "0.7133333333333334\n",
      "0.6933333333333334\n",
      "0.8233333333333334\n",
      "0.8933333333333333\n",
      "0.8766666666666667\n",
      "0.006666666666666667\n",
      "0.9333333333333333\n",
      "0.7833333333333333\n",
      "0.016666666666666666\n",
      "0.2833333333333333\n",
      "0.9733333333333334\n",
      "0.14\n",
      "0.0\n",
      "0.0\n",
      "0.9\n",
      "0.9766666666666667\n",
      "0.4066666666666667\n",
      "0.06\n",
      "0.48333333333333334\n",
      "0.97\n",
      "0.59\n",
      "0.52\n",
      "0.16\n",
      "0.5533333333333333\n",
      "0.9633333333333334\n",
      "0.13666666666666666\n",
      "0.23076923076923078\n",
      "0.9733333333333334\n",
      "0.0\n",
      "0.0\n",
      "0.9033333333333333\n",
      "1.0\n",
      "0.19666666666666666\n",
      "0.07\n",
      "0.21\n",
      "0.36666666666666664\n",
      "0.8066666666666666\n",
      "0.38\n",
      "0.9\n",
      "1.0\n",
      "0.5466666666666666\n",
      "0.46\n",
      "0.7666666666666667\n",
      "0.9333333333333333\n",
      "0.9566666666666667\n",
      "0.7466666666666667\n",
      "0.05333333333333334\n",
      "0.36\n",
      "0.8833333333333333\n",
      "0.12666666666666668\n",
      "0.5366666666666666\n",
      "0.9333333333333333\n",
      "0.67\n",
      "0.39666666666666667\n",
      "0.76\n",
      "0.5\n",
      "0.98\n",
      "0.8133333333333334\n",
      "0.02666666666666667\n",
      "0.37666666666666665\n",
      "0.86\n",
      "0.02666666666666667\n",
      "0.0035460992907801418\n",
      "0.8233333333333334\n",
      "0.91\n",
      "0.97\n",
      "0.0033333333333333335\n",
      "0.23666666666666666\n",
      "0.7933333333333333\n",
      "0.7333333333333333\n",
      "0.7466666666666667\n",
      "0.9866666666666667\n",
      "0.97\n",
      "0.4633333333333333\n",
      "0.66\n",
      "0.9633333333333334\n",
      "0.06666666666666667\n",
      "0.16333333333333333\n",
      "0.92\n",
      "0.16666666666666666\n",
      "0.9\n",
      "0.8633333333333333\n",
      "0.47333333333333333\n",
      "0.94\n",
      "0.87\n",
      "0.54\n",
      "0.99\n",
      "0.36333333333333334\n",
      "0.39\n",
      "0.2733333333333333\n",
      "0.3433333333333333\n",
      "0.7033333333333334\n",
      "0.6933333333333334\n",
      "0.9066666666666666\n",
      "0.7733333333333333\n",
      "0.82\n",
      "0.6433333333333333\n",
      "0.46\n",
      "0.5933333333333334\n",
      "0.25666666666666665\n",
      "0.7766666666666666\n",
      "0.3933333333333333\n",
      "0.006666666666666667\n",
      "0.17333333333333334\n",
      "0.37333333333333335\n",
      "0.5533333333333333\n",
      "0.6833333333333333\n",
      "0.9066666666666666\n",
      "0.6133333333333333\n",
      "0.016666666666666666\n",
      "0.9466666666666667\n",
      "0.03\n",
      "0.016666666666666666\n",
      "0.82\n",
      "0.23\n",
      "0.7566666666666667\n",
      "0.8266666666666667\n",
      "0.27666666666666667\n",
      "0.37333333333333335\n",
      "0.49333333333333335\n",
      "0.0033333333333333335\n",
      "0.31\n",
      "0.12333333333333334\n",
      "0.89\n",
      "0.25666666666666665\n",
      "0.7033333333333334\n",
      "0.71\n",
      "0.9833333333333333\n",
      "0.38333333333333336\n",
      "0.0\n",
      "0.9166666666666666\n",
      "0.9066666666666666\n",
      "0.87\n",
      "0.64\n",
      "0.6033333333333334\n",
      "0.8166666666666667\n",
      "0.9366666666666666\n",
      "0.21666666666666667\n",
      "0.86\n",
      "0.99\n",
      "0.96\n",
      "1.0\n",
      "0.5733333333333334\n",
      "0.0\n",
      "0.94\n",
      "0.5833333333333334\n",
      "0.7066666666666667\n",
      "0.8366666666666667\n",
      "0.9966666666666667\n",
      "0.013333333333333334\n",
      "0.9333333333333333\n",
      "0.9233333333333333\n",
      "0.9066666666666666\n",
      "0.97\n",
      "0.9633333333333334\n",
      "0.15\n",
      "0.13666666666666666\n",
      "0.76\n",
      "0.86\n",
      "0.6933333333333334\n",
      "0.9833333333333333\n",
      "0.9166666666666666\n",
      "0.3433333333333333\n",
      "0.5\n",
      "0.5133333333333333\n",
      "0.9533333333333334\n",
      "0.94\n",
      "0.77\n",
      "0.9833333333333333\n",
      "0.21333333333333335\n",
      "0.4766666666666667\n",
      "0.8866666666666667\n",
      "1.0\n",
      "1.0\n",
      "0.6833333333333333\n",
      "0.23333333333333334\n",
      "0.9066666666666666\n",
      "0.84\n",
      "0.64\n",
      "0.0033333333333333335\n",
      "0.9733333333333334\n",
      "0.35\n",
      "0.20333333333333334\n",
      "0.7766666666666666\n",
      "0.8733333333333333\n",
      "0.93\n",
      "0.08666666666666667\n",
      "0.9933333333333333\n",
      "0.5666666666666667\n",
      "0.07666666666666666\n",
      "0.09666666666666666\n",
      "0.69\n",
      "0.92\n",
      "0.23333333333333334\n",
      "0.17\n",
      "0.72\n",
      "0.09666666666666666\n",
      "0.9533333333333334\n",
      "0.9566666666666667\n",
      "0.8166666666666667\n",
      "0.8933333333333333\n",
      "0.33\n",
      "0.0\n",
      "0.6033333333333334\n",
      "0.05\n",
      "0.7533333333333333\n",
      "0.9633333333333334\n",
      "0.7866666666666666\n",
      "0.8797250859106529\n",
      "0.99\n",
      "1.0\n",
      "0.9133333333333333\n",
      "0.94\n",
      "0.07666666666666666\n",
      "0.11666666666666667\n",
      "0.5766666666666667\n",
      "0.9766666666666667\n",
      "0.9666666666666667\n",
      "0.9033333333333333\n",
      "0.0\n",
      "0.91\n",
      "0.45\n",
      "0.89\n",
      "0.98\n",
      "0.0\n",
      "0.0\n",
      "0.9\n",
      "0.99\n",
      "0.86\n",
      "0.9666666666666667\n",
      "0.7966666666666666\n",
      "0.0\n",
      "0.8933333333333333\n",
      "0.92\n",
      "0.8266666666666667\n",
      "0.8833333333333333\n",
      "1.0\n",
      "0.11\n",
      "0.5533333333333333\n",
      "0.5033333333333333\n",
      "0.84\n",
      "0.6333333333333333\n",
      "0.7533333333333333\n",
      "0.0\n",
      "0.8566666666666667\n",
      "0.0\n",
      "0.6233333333333333\n",
      "0.02666666666666667\n",
      "0.9966666666666667\n",
      "0.9\n",
      "0.9166666666666666\n",
      "0.35333333333333333\n",
      "0.0\n",
      "0.07692307692307693\n",
      "0.7066666666666667\n",
      "0.0\n",
      "0.8\n",
      "0.8366666666666667\n",
      "0.5\n",
      "0.98\n",
      "0.8833333333333333\n",
      "0.01\n",
      "0.03\n",
      "0.6966666666666667\n",
      "0.7833333333333333\n",
      "0.9666666666666667\n",
      "0.88\n",
      "0.97\n",
      "0.6466666666666666\n",
      "0.04\n",
      "0.0\n",
      "0.77\n",
      "0.9133333333333333\n",
      "1.0\n",
      "0.006666666666666667\n",
      "0.89\n",
      "0.08666666666666667\n",
      "0.9566666666666667\n",
      "0.8866666666666667\n",
      "0.86\n",
      "0.5233333333333333\n",
      "0.83\n",
      "0.79\n",
      "0.85\n",
      "0.043333333333333335\n",
      "0.3433333333333333\n",
      "0.9966666666666667\n",
      "0.99\n",
      "0.9266666666666666\n",
      "0.99\n",
      "0.0\n",
      "0.8033333333333333\n",
      "0.5233333333333333\n",
      "0.016666666666666666\n",
      "0.9766666666666667\n",
      "0.0033333333333333335\n",
      "0.9733333333333334\n",
      "0.8733333333333333\n",
      "0.05333333333333334\n",
      "0.49333333333333335\n",
      "0.8533333333333334\n",
      "0.5666666666666667\n",
      "0.66\n",
      "0.8433333333333334\n",
      "0.82\n",
      "0.0\n",
      "0.89\n",
      "0.81\n",
      "0.9933333333333333\n",
      "0.5933333333333334\n",
      "0.05333333333333334\n",
      "0.49\n",
      "0.95\n",
      "0.86\n",
      "0.11333333333333333\n",
      "0.31333333333333335\n",
      "0.017605633802816902\n",
      "0.77\n",
      "0.8633333333333333\n",
      "0.8233333333333334\n",
      "0.48\n",
      "0.36\n",
      "0.9866666666666667\n",
      "0.006666666666666667\n",
      "0.92\n",
      "0.6566666666666666\n",
      "0.63\n",
      "0.0033333333333333335\n",
      "0.9966666666666667\n",
      "0.47\n",
      "0.7533333333333333\n",
      "0.05\n",
      "0.8033333333333333\n",
      "0.08333333333333333\n",
      "0.63\n",
      "0.10333333333333333\n",
      "0.11333333333333333\n",
      "0.5533333333333333\n",
      "0.9366666666666666\n",
      "0.9666666666666667\n",
      "0.54\n",
      "0.41333333333333333\n",
      "0.89\n",
      "0.0\n",
      "0.9266666666666666\n",
      "0.5666666666666667\n",
      "0.016666666666666666\n",
      "0.9766666666666667\n",
      "0.6333333333333333\n",
      "0.4066666666666667\n",
      "0.91\n",
      "0.24333333333333335\n",
      "0.11\n",
      "0.9566666666666667\n",
      "0.16666666666666666\n",
      "0.8433333333333334\n",
      "0.9233333333333333\n",
      "0.42\n",
      "0.7333333333333333\n",
      "0.7533333333333333\n",
      "0.84\n",
      "0.93\n",
      "0.21666666666666667\n",
      "0.08\n",
      "0.05\n",
      "0.89\n",
      "0.29\n",
      "0.36\n",
      "0.0\n",
      "0.24666666666666667\n",
      "0.9533333333333334\n",
      "0.31333333333333335\n",
      "0.0\n",
      "0.59\n",
      "0.6133333333333333\n",
      "0.84\n",
      "0.85\n",
      "0.98\n",
      "0.9966666666666667\n",
      "0.9833333333333333\n",
      "0.15333333333333332\n",
      "0.023333333333333334\n",
      "0.9466666666666667\n",
      "0.95\n",
      "0.24666666666666667\n",
      "0.0033333333333333335\n",
      "0.15\n",
      "0.49\n",
      "0.9933333333333333\n",
      "0.9033333333333333\n",
      "0.11\n",
      "1.0\n",
      "0.6566666666666666\n",
      "0.8766666666666667\n",
      "0.8233333333333334\n",
      "0.6633333333333333\n",
      "0.006666666666666667\n",
      "0.0\n",
      "0.14333333333333334\n",
      "0.96\n",
      "0.9366666666666666\n",
      "0.02666666666666667\n",
      "0.5133333333333333\n",
      "0.96\n",
      "0.79\n",
      "0.5366666666666666\n",
      "0.7266666666666667\n",
      "0.21333333333333335\n",
      "0.0033333333333333335\n",
      "0.93\n",
      "0.9666666666666667\n",
      "0.8833333333333333\n",
      "0.27666666666666667\n",
      "0.3\n",
      "0.013333333333333334\n",
      "0.85\n",
      "0.9633333333333334\n",
      "0.9566666666666667\n",
      "0.9266666666666666\n",
      "0.25666666666666665\n",
      "0.7066666666666667\n",
      "0.02666666666666667\n",
      "0.84\n",
      "0.29333333333333333\n",
      "0.5666666666666667\n",
      "0.8433333333333334\n",
      "0.84\n",
      "0.98\n",
      "0.35\n",
      "0.0\n",
      "0.05333333333333334\n",
      "0.8666666666666667\n",
      "0.8766666666666667\n",
      "0.7966666666666666\n",
      "0.06333333333333334\n",
      "0.8266666666666667\n",
      "0.9166666666666666\n",
      "0.6066666666666667\n",
      "0.6133333333333333\n",
      "0.04\n",
      "0.5266666666666666\n",
      "0.0\n",
      "0.78\n",
      "0.11148648648648649\n",
      "0.0\n",
      "0.8733333333333333\n",
      "0.95\n",
      "0.16333333333333333\n",
      "0.013333333333333334\n",
      "0.96\n",
      "0.9466666666666667\n",
      "0.03333333333333333\n",
      "0.0\n",
      "0.7640845070422535\n",
      "0.6933333333333334\n",
      "0.86\n",
      "0.8533333333333334\n",
      "0.02\n",
      "0.74\n",
      "0.7566666666666667\n",
      "0.03333333333333333\n",
      "0.5433333333333333\n",
      "0.0\n",
      "0.3233333333333333\n",
      "0.9566666666666667\n",
      "0.05333333333333334\n",
      "0.5233333333333333\n",
      "0.24\n",
      "0.31\n",
      "0.9633333333333334\n",
      "0.9633333333333334\n",
      "0.0\n",
      "0.9966666666666667\n",
      "0.5733333333333334\n",
      "0.98\n",
      "0.0\n",
      "0.9066666666666666\n",
      "0.21666666666666667\n",
      "0.37\n",
      "0.6966666666666667\n",
      "0.9933333333333333\n",
      "0.4866666666666667\n",
      "0.7833333333333333\n",
      "0.47333333333333333\n",
      "1.0\n",
      "0.69\n",
      "0.0036231884057971015\n",
      "0.0\n",
      "0.0\n",
      "0.0\n",
      "0.0\n",
      "0.6166666666666667\n",
      "0.8566666666666667\n",
      "0.19333333333333333\n",
      "0.0\n",
      "0.0\n",
      "0.01\n",
      "0.65\n",
      "0.15\n",
      "0.9566666666666667\n",
      "0.31\n",
      "0.06\n",
      "0.91\n",
      "0.82\n",
      "0.9566666666666667\n",
      "0.6033333333333334\n",
      "0.96\n",
      "0.9966666666666667\n",
      "0.7566666666666667\n",
      "0.03666666666666667\n",
      "0.30666666666666664\n",
      "0.7733333333333333\n",
      "0.8833333333333333\n",
      "0.05333333333333334\n",
      "0.9266666666666666\n",
      "0.91\n",
      "0.0\n",
      "0.01\n",
      "0.006666666666666667\n",
      "0.96\n",
      "0.92\n",
      "0.9333333333333333\n",
      "0.79\n",
      "0.4766666666666667\n",
      "0.84\n",
      "0.125\n",
      "0.84\n",
      "0.0\n",
      "0.9533333333333334\n",
      "0.92\n",
      "0.8266666666666667\n",
      "0.1672473867595819\n",
      "0.92\n",
      "0.9233333333333333\n",
      "0.013333333333333334\n",
      "0.92\n",
      "0.8666666666666667\n",
      "0.98\n",
      "0.06666666666666667\n",
      "0.4866666666666667\n",
      "0.94\n",
      "0.0\n",
      "0.9533333333333334\n",
      "0.84\n",
      "0.9666666666666667\n",
      "0.47333333333333333\n",
      "0.2966666666666667\n",
      "0.24333333333333335\n",
      "0.8766666666666667\n",
      "0.87\n",
      "0.9233333333333333\n",
      "0.09491525423728814\n",
      "0.016666666666666666\n",
      "0.8633333333333333\n",
      "0.04666666666666667\n",
      "0.04666666666666667\n",
      "0.82\n",
      "0.8833333333333333\n",
      "0.006666666666666667\n",
      "0.0\n",
      "0.55\n",
      "0.016666666666666666\n",
      "0.9066666666666666\n",
      "0.66\n",
      "0.013333333333333334\n",
      "0.8933333333333333\n",
      "0.0\n",
      "0.9533333333333334\n",
      "0.6466666666666666\n",
      "0.97\n",
      "0.92\n",
      "0.8833333333333333\n",
      "0.6366666666666667\n",
      "0.0033333333333333335\n",
      "0.9033333333333333\n",
      "0.5466666666666666\n",
      "0.9966666666666667\n",
      "0.9\n",
      "0.16666666666666666\n",
      "0.9666666666666667\n",
      "0.9433333333333334\n",
      "0.8666666666666667\n",
      "0.9533333333333334\n",
      "0.6464646464646465\n",
      "0.66\n",
      "0.18666666666666668\n",
      "0.09333333333333334\n",
      "0.8233333333333334\n",
      "0.5666666666666667\n",
      "0.0033333333333333335\n",
      "0.07333333333333333\n",
      "0.7566666666666667\n",
      "0.5433333333333333\n",
      "0.7966666666666666\n",
      "0.8666666666666667\n",
      "0.69\n",
      "0.9433333333333334\n",
      "0.8466666666666667\n",
      "0.0\n",
      "0.4666666666666667\n",
      "0.12666666666666668\n",
      "0.37666666666666665\n",
      "0.7966666666666666\n",
      "0.9233333333333333\n",
      "0.8266666666666667\n",
      "1.0\n",
      "0.9133333333333333\n",
      "0.0\n",
      "0.98\n",
      "0.9533333333333334\n",
      "0.0\n",
      "0.89\n",
      "0.68\n",
      "0.023333333333333334\n",
      "0.5866666666666667\n",
      "0.6866666666666666\n",
      "0.9133333333333333\n",
      "0.51\n",
      "0.71\n",
      "0.016666666666666666\n",
      "0.96\n",
      "0.8066666666666666\n",
      "0.9733333333333334\n",
      "0.13\n",
      "0.7133333333333334\n",
      "0.9533333333333334\n",
      "1.0\n",
      "0.023333333333333334\n",
      "0.6133333333333333\n",
      "0.42\n",
      "0.09\n",
      "0.9066666666666666\n",
      "0.0033333333333333335\n",
      "0.8633333333333333\n",
      "0.7766666666666666\n",
      "0.6166666666666667\n",
      "0.97\n",
      "0.29\n",
      "0.18666666666666668\n",
      "0.05333333333333334\n",
      "0.8566666666666667\n",
      "0.9833333333333333\n",
      "0.0\n",
      "0.6466666666666666\n",
      "0.02666666666666667\n",
      "0.7133333333333334\n",
      "0.07\n",
      "0.86\n",
      "0.78\n",
      "0.9266666666666666\n",
      "0.91\n",
      "0.19333333333333333\n",
      "0.49333333333333335\n",
      "0.7288135593220338\n",
      "0.11666666666666667\n",
      "0.98\n",
      "0.9433333333333334\n",
      "0.8166666666666667\n",
      "0.77\n",
      "0.8\n",
      "0.9066666666666666\n",
      "0.9766666666666667\n",
      "0.98\n",
      "0.14333333333333334\n",
      "0.006666666666666667\n",
      "0.99\n",
      "0.6066666666666667\n",
      "0.9033333333333333\n",
      "0.7066666666666667\n",
      "0.9633333333333334\n",
      "0.94\n",
      "0.93\n",
      "0.9566666666666667\n",
      "0.19333333333333333\n",
      "0.5533333333333333\n",
      "0.2633333333333333\n",
      "0.9266666666666666\n",
      "0.8333333333333334\n",
      "0.66\n",
      "0.91\n",
      "0.9466666666666667\n",
      "0.9433333333333334\n",
      "0.22333333333333333\n",
      "0.8633333333333333\n",
      "0.9\n",
      "0.75\n",
      "0.9133333333333333\n",
      "0.87\n",
      "0.2733333333333333\n",
      "0.0\n",
      "0.06666666666666667\n",
      "0.023333333333333334\n",
      "0.8166666666666667\n",
      "0.016666666666666666\n",
      "0.63\n",
      "0.16\n",
      "0.9466666666666667\n",
      "0.6266666666666667\n",
      "0.23333333333333334\n",
      "0.74\n",
      "0.0\n",
      "0.0\n",
      "0.69\n",
      "0.99\n",
      "0.0\n",
      "0.83\n",
      "0.9033333333333333\n",
      "0.93\n",
      "0.5433333333333333\n",
      "0.6348122866894198\n",
      "0.87\n",
      "0.97\n",
      "0.5433333333333333\n",
      "0.023333333333333334\n",
      "0.0\n",
      "0.69\n",
      "0.14666666666666667\n",
      "0.7866666666666666\n",
      "0.6133333333333333\n",
      "0.9833333333333333\n",
      "0.9566666666666667\n",
      "0.97\n",
      "0.7346938775510204\n",
      "0.7866666666666666\n",
      "0.69\n",
      "0.8966666666666666\n",
      "0.9133333333333333\n",
      "0.6066666666666667\n",
      "0.21\n",
      "0.25333333333333335\n",
      "0.6666666666666666\n",
      "0.6566666666666666\n",
      "0.32\n",
      "0.07333333333333333\n",
      "total acc: 0.61345496009122\n"
     ]
    }
   ],
   "source": [
    "amount = 0\n",
    "acc =0\n",
    "for dirname, _, filenames in os.walk('/project/xt121-group5/DAiSEE/3'):\n",
    "    for filename in filenames:\n",
    "        if dirname.split('/')[-1] != 'test_data':\n",
    "            #print(os.path.join(dirname, filename))\n",
    "            testdata = os.path.join(dirname, filename)\n",
    "            df_test = pd.read_csv(testdata)\n",
    "            # df_test = df_test.drop(unique_col, axis=1)\n",
    "            df_test = df_test.drop(del_col, axis=1)\n",
    "            df_test = df_test.drop(labels=['RecordTime'], axis=1)\n",
    "            df_test = df_test.drop(labels=['RecordType'], axis=1)\n",
    "            # test, _ = data_preprocessing(df_test, train=False, sc=train_sc)\n",
    "            npa_test = df_test.to_numpy()\n",
    "            pred = model.predict(npa_test)\n",
    "            mean_a = pred.mean()\n",
    "            print(mean_a)\n",
    "            amount += 1\n",
    "            if mean_a >0.5:\n",
    "                acc += 1\n",
    "print(f'total acc: {acc/amount}')\n"
   ]
  },
  {
   "cell_type": "code",
   "execution_count": null,
   "metadata": {},
   "outputs": [],
   "source": []
  }
 ],
 "metadata": {
  "colab": {
   "authorship_tag": "ABX9TyNM9v33kYP6sSnew95Pq3Qh",
   "provenance": [
    {
     "file_id": "1r3PRKI1cL9c21w7R3Yr1n_1p7UumEbvh",
     "timestamp": 1683210991768
    }
   ]
  },
  "kernelspec": {
   "display_name": "Python 3 (ipykernel)",
   "language": "python",
   "name": "python3"
  },
  "language_info": {
   "codemirror_mode": {
    "name": "ipython",
    "version": 3
   },
   "file_extension": ".py",
   "mimetype": "text/x-python",
   "name": "python",
   "nbconvert_exporter": "python",
   "pygments_lexer": "ipython3",
   "version": "3.7.12"
  }
 },
 "nbformat": 4,
 "nbformat_minor": 4
}
