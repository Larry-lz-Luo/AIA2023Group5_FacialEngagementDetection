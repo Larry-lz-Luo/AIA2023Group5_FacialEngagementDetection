{
 "cells": [
  {
   "cell_type": "code",
   "execution_count": 1,
   "metadata": {
    "executionInfo": {
     "elapsed": 2831,
     "status": "ok",
     "timestamp": 1683708856175,
     "user": {
      "displayName": "洪啟豪",
      "userId": "08277187360257942838"
     },
     "user_tz": -480
    },
    "id": "6yVZwB3FxDFM"
   },
   "outputs": [],
   "source": [
    "import numpy as np\n",
    "import pandas as pd\n",
    "from sklearn.ensemble import GradientBoostingClassifier\n",
    "from sklearn.model_selection import train_test_split\n",
    "from sklearn.metrics import accuracy_score"
   ]
  },
  {
   "cell_type": "markdown",
   "metadata": {
    "id": "aqVVgSgXyIOm"
   },
   "source": [
    "## 載入資料集"
   ]
  },
  {
   "cell_type": "code",
   "execution_count": 2,
   "metadata": {
    "colab": {
     "base_uri": "https://localhost:8080/"
    },
    "executionInfo": {
     "elapsed": 4,
     "status": "ok",
     "timestamp": 1683708856175,
     "user": {
      "displayName": "洪啟豪",
      "userId": "08277187360257942838"
     },
     "user_tz": -480
    },
    "id": "hFFrewnAyGFG",
    "outputId": "0494c000-7990-4d1b-c26d-7ecfc29f0578"
   },
   "outputs": [
    {
     "name": "stdout",
     "output_type": "stream",
     "text": [
      "/project/xt121-group5/scene2_data/alice/2023-05-01 232058.csv\n",
      "/project/xt121-group5/scene2_data/alice/2023-05-01 231925.csv\n",
      "/project/xt121-group5/scene2_data/larry/2023-05-01 232448.csv\n",
      "/project/xt121-group5/scene2_data/larry/2023-05-01 232329.csv\n",
      "/project/xt121-group5/scene2_data/charlie/2023-05-05 103150_c.csv\n",
      "/project/xt121-group5/scene2_data/charlie/2023-05-05 103233_nc.csv\n",
      "/project/xt121-group5/scene2_data/jason/2023-05-05 151434.csv\n",
      "/project/xt121-group5/scene2_data/jason/2023-05-05 151410.csv\n",
      "/project/xt121-group5/scene2_data/jason/2023-05-05 145529.csv\n",
      "/project/xt121-group5/scene2_data/jason/2023-05-05 145621.csv\n",
      "/project/xt121-group5/scene2_data/jason/2023-05-05 145600.csv\n",
      "/project/xt121-group5/scene2_data/jason/2023-05-05 145633.csv\n",
      "/project/xt121-group5/scene2_data/jason/2023-05-05 145640.csv\n",
      "/project/xt121-group5/scene2_data/jason/2023-05-05 151354.csv\n",
      "/project/xt121-group5/scene2_data/jason/2023-05-05 151333.csv\n"
     ]
    }
   ],
   "source": [
    "import os\n",
    "df_train = pd.core.frame.DataFrame()\n",
    "for dirname, _, filenames in os.walk('/project/xt121-group5/scene2_data/'):\n",
    "    for filename in filenames:\n",
    "        if dirname.split('/')[-1] != 'test_data':\n",
    "            print(os.path.join(dirname, filename))\n",
    "            df_train2 = pd.read_csv(os.path.join(dirname, filename))\n",
    "#             df_train = df_train.append(df_train2, ignore_index=True)\n",
    "            df_train = pd.concat([df_train, df_train2])\n",
    "        \n",
    "df_train = df_train.drop(labels=['RecordTime'], axis=1) # 移除 RecordTime"
   ]
  },
  {
   "cell_type": "code",
   "execution_count": 3,
   "metadata": {
    "colab": {
     "base_uri": "https://localhost:8080/"
    },
    "executionInfo": {
     "elapsed": 1634,
     "status": "ok",
     "timestamp": 1683708872397,
     "user": {
      "displayName": "洪啟豪",
      "userId": "08277187360257942838"
     },
     "user_tz": -480
    },
    "id": "C0VedkPN0h9-",
    "outputId": "892cf6eb-bfd2-4951-c075-acd510e8ad5f"
   },
   "outputs": [
    {
     "name": "stdout",
     "output_type": "stream",
     "text": [
      "(6681, 103)\n"
     ]
    }
   ],
   "source": [
    "print(df_train.shape)"
   ]
  },
  {
   "cell_type": "markdown",
   "metadata": {
    "id": "2neO1uHl0uwK"
   },
   "source": [
    "## 檢查缺失值"
   ]
  },
  {
   "cell_type": "code",
   "execution_count": 4,
   "metadata": {
    "colab": {
     "base_uri": "https://localhost:8080/"
    },
    "executionInfo": {
     "elapsed": 600,
     "status": "ok",
     "timestamp": 1683708875333,
     "user": {
      "displayName": "洪啟豪",
      "userId": "08277187360257942838"
     },
     "user_tz": -480
    },
    "id": "V12C8BKM0rl-",
    "outputId": "0c7f81e3-f6af-43d5-8d9e-b1c52a52ca05"
   },
   "outputs": [
    {
     "name": "stdout",
     "output_type": "stream",
     "text": [
      "Before data clean(NAN mount): 0\n"
     ]
    }
   ],
   "source": [
    "# checked missing data\n",
    "print(\"Before data clean(NAN mount):\", len(np.where(np.isnan(df_train)==1)[0]))"
   ]
  },
  {
   "cell_type": "code",
   "execution_count": 5,
   "metadata": {
    "executionInfo": {
     "elapsed": 2,
     "status": "ok",
     "timestamp": 1683708877399,
     "user": {
      "displayName": "洪啟豪",
      "userId": "08277187360257942838"
     },
     "user_tz": -480
    },
    "id": "pc6f07xe0rod"
   },
   "outputs": [],
   "source": [
    "# Find columns with only unique value.\n",
    "# unique_col = []\n",
    "# for i in df_train.columns:\n",
    "#     if np.unique(df_train[i]).shape[0]==1:\n",
    "#         print(f'Get column {i} with only unique value.')\n",
    "#         unique_col.append(i) "
   ]
  },
  {
   "cell_type": "code",
   "execution_count": 6,
   "metadata": {
    "executionInfo": {
     "elapsed": 2,
     "status": "ok",
     "timestamp": 1683708877707,
     "user": {
      "displayName": "洪啟豪",
      "userId": "08277187360257942838"
     },
     "user_tz": -480
    },
    "id": "B_K8cTQa0rw4"
   },
   "outputs": [],
   "source": [
    "# print(unique_col)"
   ]
  },
  {
   "cell_type": "code",
   "execution_count": 7,
   "metadata": {
    "executionInfo": {
     "elapsed": 2,
     "status": "ok",
     "timestamp": 1683708877707,
     "user": {
      "displayName": "洪啟豪",
      "userId": "08277187360257942838"
     },
     "user_tz": -480
    },
    "id": "ygxtf_LX0-Ri"
   },
   "outputs": [],
   "source": [
    "# df_train.describe()[unique_col]"
   ]
  },
  {
   "cell_type": "code",
   "execution_count": 8,
   "metadata": {
    "executionInfo": {
     "elapsed": 3,
     "status": "ok",
     "timestamp": 1683708877708,
     "user": {
      "displayName": "洪啟豪",
      "userId": "08277187360257942838"
     },
     "user_tz": -480
    },
    "id": "VPJr6DoE0-UQ"
   },
   "outputs": [],
   "source": [
    "# Drop columns with only unique value.\n",
    "# df_train = df_train.drop(unique_col, axis=1)"
   ]
  },
  {
   "cell_type": "markdown",
   "metadata": {
    "id": "pdUQxn8w2rHz"
   },
   "source": [
    "## 資料前處理"
   ]
  },
  {
   "cell_type": "code",
   "execution_count": 9,
   "metadata": {
    "executionInfo": {
     "elapsed": 3,
     "status": "ok",
     "timestamp": 1683708879866,
     "user": {
      "displayName": "洪啟豪",
      "userId": "08277187360257942838"
     },
     "user_tz": -480
    },
    "id": "ekZiSgVR0-X8"
   },
   "outputs": [],
   "source": [
    "# 列出不重要的特徵。\n",
    "# 先假設除了gaze vector以外的特徵都不重要，之後再調整。\n",
    "del_col = ['FaceBoundingBox_X', 'FaceBoundingBox_Y','FaceBoundingBox_W', 'FaceBoundingBox_H', 'FaceLandmarks_1_X', \n",
    "           'FaceLandmarks_1_Y', 'FaceLandmarks_2_X','FaceLandmarks_2_Y', 'FaceLandmarks_3_X', 'FaceLandmarks_3_Y', \n",
    "           'FaceLandmarks_4_X', 'FaceLandmarks_4_Y','FaceLandmarks_5_X', 'FaceLandmarks_5_Y', 'FaceLandmarks_6_X', \n",
    "           'FaceLandmarks_6_Y', 'FaceLandmarks_7_X', 'FaceLandmarks_7_Y', 'FaceLandmarks_8_X', 'FaceLandmarks_8_Y', \n",
    "           'FaceLandmarks_9_X', 'FaceLandmarks_9_Y', 'FaceLandmarks_10_X', 'FaceLandmarks_10_Y', 'FaceLandmarks_11_X', \n",
    "           'FaceLandmarks_11_Y', 'FaceLandmarks_12_X', 'FaceLandmarks_12_Y', 'FaceLandmarks_13_X', 'FaceLandmarks_13_Y', \n",
    "           'FaceLandmarks_14_X', 'FaceLandmarks_14_Y', 'FaceLandmarks_15_X', 'FaceLandmarks_15_Y', 'FaceLandmarks_16_X', \n",
    "           'FaceLandmarks_16_Y', 'FaceLandmarks_17_X', 'FaceLandmarks_17_Y', 'FaceLandmarks_18_X', 'FaceLandmarks_18_Y', \n",
    "           'FaceLandmarks_19_X', 'FaceLandmarks_19_Y', 'FaceLandmarks_20_X', 'FaceLandmarks_20_Y', 'FaceLandmarks_21_X', \n",
    "           'FaceLandmarks_21_Y', 'FaceLandmarks_22_X', 'FaceLandmarks_22_Y', 'FaceLandmarks_23_X', 'FaceLandmarks_23_Y', \n",
    "           'FaceLandmarks_24_X', 'FaceLandmarks_24_Y', 'FaceLandmarks_25_X', 'FaceLandmarks_25_Y', 'FaceLandmarks_26_X', \n",
    "           'FaceLandmarks_26_Y', 'FaceLandmarks_27_X', 'FaceLandmarks_27_Y', 'FaceLandmarks_28_X', 'FaceLandmarks_28_Y', \n",
    "           'FaceLandmarks_29_X', 'FaceLandmarks_29_Y', 'FaceLandmarks_30_X', 'FaceLandmarks_30_Y', 'FaceLandmarks_31_X', \n",
    "           'FaceLandmarks_31_Y', 'FaceLandmarks_32_X', 'FaceLandmarks_32_Y', 'FaceLandmarks_33_X', 'FaceLandmarks_33_Y', \n",
    "           'FaceLandmarks_34_X', 'FaceLandmarks_34_Y', 'FaceLandmarks_35_X', 'FaceLandmarks_35_Y', 'HeadPoseAngles_X', \n",
    "           'HeadPoseAngles_Y','HeadPoseAngles_Z', 'LeftEyeBoundingBox_X', 'LeftEyeBoundingBox_Y', 'LeftEyeBoundingBox_W', \n",
    "           'LeftEyeBoundingBox_H', 'RightEyeBoundingBox_X', 'RightEyeBoundingBox_Y', 'RightEyeBoundingBox_W', 'RightEyeBoundingBox_H', \n",
    "           'EyeLandmarks_1_X', 'EyeLandmarks_1_Y', 'EyeLandmarks_2_X', 'EyeLandmarks_2_Y', 'EyeLandmarks_3_X', \n",
    "           'EyeLandmarks_3_Y', 'EyeLandmarks_4_X', 'EyeLandmarks_4_Y', 'LeftEyeMidPoint_X', 'LeftEyeMidPoint_Y', \n",
    "           'RightEyeMidPoint_X','RightEyeMidPoint_Y', 'EyeState_Left', 'EyeState_Right']"
   ]
  },
  {
   "cell_type": "code",
   "execution_count": 10,
   "metadata": {
    "executionInfo": {
     "elapsed": 4,
     "status": "ok",
     "timestamp": 1683708879867,
     "user": {
      "displayName": "洪啟豪",
      "userId": "08277187360257942838"
     },
     "user_tz": -480
    },
    "id": "oO4D6qt72xnQ"
   },
   "outputs": [],
   "source": [
    "df_train = df_train.drop(del_col, axis = 1)"
   ]
  },
  {
   "cell_type": "code",
   "execution_count": 11,
   "metadata": {
    "executionInfo": {
     "elapsed": 4,
     "status": "ok",
     "timestamp": 1683708879868,
     "user": {
      "displayName": "洪啟豪",
      "userId": "08277187360257942838"
     },
     "user_tz": -480
    },
    "id": "ZHBfgrff2xpt"
   },
   "outputs": [],
   "source": [
    "# from sklearn.preprocessing import StandardScaler\n",
    "# from sklearn.preprocessing import MinMaxScaler"
   ]
  },
  {
   "cell_type": "code",
   "execution_count": 12,
   "metadata": {
    "executionInfo": {
     "elapsed": 2,
     "status": "ok",
     "timestamp": 1683708880332,
     "user": {
      "displayName": "洪啟豪",
      "userId": "08277187360257942838"
     },
     "user_tz": -480
    },
    "id": "9KAvX31N2xsM"
   },
   "outputs": [],
   "source": [
    "# def data_preprocessing(df_input, train=True, sc=None):\n",
    "#     # numeric feature standardization\n",
    "#     if train:\n",
    "#         sc = StandardScaler()\n",
    "# #         sc = MinMaxScaler()\n",
    "#         df = sc.fit_transform(df_input.iloc[:, 0:-1])\n",
    "#     else:\n",
    "#         df = sc.transform(df_input)\n",
    "#     return df, sc"
   ]
  },
  {
   "cell_type": "code",
   "execution_count": 13,
   "metadata": {
    "executionInfo": {
     "elapsed": 2,
     "status": "ok",
     "timestamp": 1683708881879,
     "user": {
      "displayName": "洪啟豪",
      "userId": "08277187360257942838"
     },
     "user_tz": -480
    },
    "id": "MThw8BCX20oP"
   },
   "outputs": [],
   "source": [
    "# X, train_sc = data_preprocessing(df_train)"
   ]
  },
  {
   "cell_type": "code",
   "execution_count": 14,
   "metadata": {
    "executionInfo": {
     "elapsed": 5,
     "status": "ok",
     "timestamp": 1683708882355,
     "user": {
      "displayName": "洪啟豪",
      "userId": "08277187360257942838"
     },
     "user_tz": -480
    },
    "id": "GyU6kJpJ20q9"
   },
   "outputs": [],
   "source": [
    "# print(X.shape)"
   ]
  },
  {
   "cell_type": "code",
   "execution_count": 15,
   "metadata": {
    "executionInfo": {
     "elapsed": 4,
     "status": "ok",
     "timestamp": 1683708882355,
     "user": {
      "displayName": "洪啟豪",
      "userId": "08277187360257942838"
     },
     "user_tz": -480
    },
    "id": "VSWDUt_z20tT"
   },
   "outputs": [],
   "source": [
    "# print(train_sc.mean_)"
   ]
  },
  {
   "cell_type": "code",
   "execution_count": 16,
   "metadata": {
    "executionInfo": {
     "elapsed": 4,
     "status": "ok",
     "timestamp": 1683708882355,
     "user": {
      "displayName": "洪啟豪",
      "userId": "08277187360257942838"
     },
     "user_tz": -480
    },
    "id": "y_R30Sa920vv"
   },
   "outputs": [],
   "source": [
    "# print(train_sc.var_)"
   ]
  },
  {
   "cell_type": "code",
   "execution_count": 17,
   "metadata": {
    "executionInfo": {
     "elapsed": 2,
     "status": "ok",
     "timestamp": 1683708882663,
     "user": {
      "displayName": "洪啟豪",
      "userId": "08277187360257942838"
     },
     "user_tz": -480
    },
    "id": "DULNhaay20yO"
   },
   "outputs": [],
   "source": [
    "y = df_train['RecordType'].values"
   ]
  },
  {
   "cell_type": "code",
   "execution_count": 18,
   "metadata": {
    "colab": {
     "base_uri": "https://localhost:8080/"
    },
    "executionInfo": {
     "elapsed": 2,
     "status": "ok",
     "timestamp": 1683708882663,
     "user": {
      "displayName": "洪啟豪",
      "userId": "08277187360257942838"
     },
     "user_tz": -480
    },
    "id": "t2yY7Oii29jX",
    "outputId": "372a0b26-c4a2-40c1-b9e2-8cea26dd9729"
   },
   "outputs": [
    {
     "name": "stdout",
     "output_type": "stream",
     "text": [
      "(6681,)\n"
     ]
    }
   ],
   "source": [
    "print(y.shape)"
   ]
  },
  {
   "cell_type": "code",
   "execution_count": 19,
   "metadata": {
    "colab": {
     "base_uri": "https://localhost:8080/"
    },
    "executionInfo": {
     "elapsed": 2,
     "status": "ok",
     "timestamp": 1683708883795,
     "user": {
      "displayName": "洪啟豪",
      "userId": "08277187360257942838"
     },
     "user_tz": -480
    },
    "id": "y2Ofq3kI29l1",
    "outputId": "f108d012-34ba-4107-d36a-06077de77989"
   },
   "outputs": [
    {
     "name": "stdout",
     "output_type": "stream",
     "text": [
      "[0 0 0 ... 0 0 0]\n"
     ]
    }
   ],
   "source": [
    "np.unique(y)\n",
    "print(y)"
   ]
  },
  {
   "cell_type": "code",
   "execution_count": 20,
   "metadata": {
    "executionInfo": {
     "elapsed": 2,
     "status": "ok",
     "timestamp": 1683708884842,
     "user": {
      "displayName": "洪啟豪",
      "userId": "08277187360257942838"
     },
     "user_tz": -480
    },
    "id": "PkUuW0Q129oT"
   },
   "outputs": [],
   "source": [
    "df_train = df_train.drop('RecordType', axis = 1)"
   ]
  },
  {
   "cell_type": "markdown",
   "metadata": {
    "id": "Wl6GVGEF3CI4"
   },
   "source": [
    "## 切割訓練集"
   ]
  },
  {
   "cell_type": "code",
   "execution_count": 21,
   "metadata": {
    "executionInfo": {
     "elapsed": 2,
     "status": "ok",
     "timestamp": 1683708886833,
     "user": {
      "displayName": "洪啟豪",
      "userId": "08277187360257942838"
     },
     "user_tz": -480
    },
    "id": "CVtQI5oe29q5"
   },
   "outputs": [],
   "source": [
    "npa_train = df_train.to_numpy()"
   ]
  },
  {
   "cell_type": "code",
   "execution_count": 22,
   "metadata": {
    "executionInfo": {
     "elapsed": 2,
     "status": "ok",
     "timestamp": 1683708889260,
     "user": {
      "displayName": "洪啟豪",
      "userId": "08277187360257942838"
     },
     "user_tz": -480
    },
    "id": "2GfnJ5p33GW1"
   },
   "outputs": [],
   "source": [
    "random_seed = 5  # set seed for same train test data split\n",
    "x_train, x_test, y_train, y_test = train_test_split(npa_train, \n",
    "                                                    y, \n",
    "                                                    test_size=0.25, \n",
    "                                                    random_state=random_seed)"
   ]
  },
  {
   "cell_type": "code",
   "execution_count": 23,
   "metadata": {
    "colab": {
     "base_uri": "https://localhost:8080/"
    },
    "executionInfo": {
     "elapsed": 403,
     "status": "ok",
     "timestamp": 1683708890178,
     "user": {
      "displayName": "洪啟豪",
      "userId": "08277187360257942838"
     },
     "user_tz": -480
    },
    "id": "zvaYfpmb3GZU",
    "outputId": "a34c2202-456a-44c9-b758-301834cb6654"
   },
   "outputs": [
    {
     "name": "stdout",
     "output_type": "stream",
     "text": [
      "shape of x_train:  (5010, 3)\n",
      "shape of x_test:  (1671, 3)\n"
     ]
    }
   ],
   "source": [
    "print(\"shape of x_train: \", x_train.shape)\n",
    "print(\"shape of x_test: \", x_test.shape)"
   ]
  },
  {
   "cell_type": "code",
   "execution_count": 24,
   "metadata": {
    "executionInfo": {
     "elapsed": 2,
     "status": "ok",
     "timestamp": 1683708890178,
     "user": {
      "displayName": "洪啟豪",
      "userId": "08277187360257942838"
     },
     "user_tz": -480
    },
    "id": "NCS-2lG53Gbf"
   },
   "outputs": [],
   "source": [
    "clf = GradientBoostingClassifier()"
   ]
  },
  {
   "cell_type": "code",
   "execution_count": 25,
   "metadata": {
    "colab": {
     "base_uri": "https://localhost:8080/",
     "height": 74
    },
    "executionInfo": {
     "elapsed": 1559,
     "status": "ok",
     "timestamp": 1683708891735,
     "user": {
      "displayName": "洪啟豪",
      "userId": "08277187360257942838"
     },
     "user_tz": -480
    },
    "id": "T9L4RKeC3Gd_",
    "outputId": "fe34c3be-0fed-4f54-dde7-fcddd49cda45"
   },
   "outputs": [
    {
     "data": {
      "text/plain": [
       "GradientBoostingClassifier(ccp_alpha=0.0, criterion='friedman_mse', init=None,\n",
       "                           learning_rate=0.1, loss='deviance', max_depth=3,\n",
       "                           max_features=None, max_leaf_nodes=None,\n",
       "                           min_impurity_decrease=0.0, min_impurity_split=None,\n",
       "                           min_samples_leaf=1, min_samples_split=2,\n",
       "                           min_weight_fraction_leaf=0.0, n_estimators=100,\n",
       "                           n_iter_no_change=None, presort='deprecated',\n",
       "                           random_state=None, subsample=1.0, tol=0.0001,\n",
       "                           validation_fraction=0.1, verbose=0,\n",
       "                           warm_start=False)"
      ]
     },
     "execution_count": 25,
     "metadata": {},
     "output_type": "execute_result"
    }
   ],
   "source": [
    "clf.fit(x_train, y_train)"
   ]
  },
  {
   "cell_type": "code",
   "execution_count": 26,
   "metadata": {
    "executionInfo": {
     "elapsed": 11,
     "status": "ok",
     "timestamp": 1683708891736,
     "user": {
      "displayName": "洪啟豪",
      "userId": "08277187360257942838"
     },
     "user_tz": -480
    },
    "id": "4vhhCWwd3RYY"
   },
   "outputs": [],
   "source": [
    "y_pred = clf.predict(x_test)"
   ]
  },
  {
   "cell_type": "code",
   "execution_count": 27,
   "metadata": {
    "colab": {
     "base_uri": "https://localhost:8080/"
    },
    "executionInfo": {
     "elapsed": 12,
     "status": "ok",
     "timestamp": 1683708891737,
     "user": {
      "displayName": "洪啟豪",
      "userId": "08277187360257942838"
     },
     "user_tz": -480
    },
    "id": "yFo3G_fB3Ra0",
    "outputId": "929c2739-a3a9-401b-8c70-c7b6d25f9eaf"
   },
   "outputs": [
    {
     "name": "stdout",
     "output_type": "stream",
     "text": [
      "Test data:  [0 0 1 ... 0 0 0]\n",
      "Predicted data: [0 0 1 ... 1 0 0]\n"
     ]
    }
   ],
   "source": [
    "print('Test data: ', y_test)\n",
    "print('Predicted data:', y_pred)"
   ]
  },
  {
   "cell_type": "code",
   "execution_count": 28,
   "metadata": {
    "colab": {
     "base_uri": "https://localhost:8080/"
    },
    "executionInfo": {
     "elapsed": 10,
     "status": "ok",
     "timestamp": 1683708891737,
     "user": {
      "displayName": "洪啟豪",
      "userId": "08277187360257942838"
     },
     "user_tz": -480
    },
    "id": "kadxlYSe3fyA",
    "outputId": "5b9cf6e4-1043-4949-9259-48b05d8263b0"
   },
   "outputs": [
    {
     "data": {
      "text/plain": [
       "0.9042489527229204"
      ]
     },
     "execution_count": 28,
     "metadata": {},
     "output_type": "execute_result"
    }
   ],
   "source": [
    "accuracy_score(y_pred, y_test)"
   ]
  },
  {
   "cell_type": "code",
   "execution_count": 29,
   "metadata": {
    "colab": {
     "base_uri": "https://localhost:8080/"
    },
    "executionInfo": {
     "elapsed": 10,
     "status": "ok",
     "timestamp": 1683708891738,
     "user": {
      "displayName": "洪啟豪",
      "userId": "08277187360257942838"
     },
     "user_tz": -480
    },
    "id": "9F-SIIv03f0k",
    "outputId": "aac8e724-76d8-4f26-bc99-08da0a14efc0"
   },
   "outputs": [
    {
     "data": {
      "text/plain": [
       "array([0.05847689, 0.09475463, 0.84676848])"
      ]
     },
     "execution_count": 29,
     "metadata": {},
     "output_type": "execute_result"
    }
   ],
   "source": [
    "clf.feature_importances_"
   ]
  },
  {
   "cell_type": "markdown",
   "metadata": {
    "id": "8BFNUQG93ss6"
   },
   "source": [
    "## 模型測試"
   ]
  },
  {
   "cell_type": "code",
   "execution_count": 30,
   "metadata": {},
   "outputs": [],
   "source": [
    "# Test\n",
    "# 測試一個答案全部為1的資料。\n",
    "df_test = pd.read_csv('/project/xt121-group5/scene2_data/test_data/2023-05-06 135830_c.csv')\n",
    "# df_test = df_test.drop(unique_col, axis=1)\n",
    "df_test = df_test.drop(del_col, axis=1)\n",
    "df_test = df_test.drop(labels=['RecordTime'], axis=1)\n",
    "df_test = df_test.drop(labels=['RecordType'], axis=1)"
   ]
  },
  {
   "cell_type": "code",
   "execution_count": 31,
   "metadata": {},
   "outputs": [
    {
     "name": "stdout",
     "output_type": "stream",
     "text": [
      "Index(['GazeVector_X', 'GazeVector_Y', 'GazeVector_Z'], dtype='object')\n",
      "(280,)\n",
      "<class 'numpy.ndarray'>\n"
     ]
    }
   ],
   "source": [
    "print(df_test.columns)\n",
    "npa_test = df_test.to_numpy()\n",
    "pred = clf.predict(npa_test)\n",
    "print(pred.shape)\n",
    "print(type(pred))"
   ]
  },
  {
   "cell_type": "code",
   "execution_count": 32,
   "metadata": {},
   "outputs": [
    {
     "name": "stdout",
     "output_type": "stream",
     "text": [
      "[1 1 1 1 1 1 1 1 1 1 1 1 1 1 1 1 1 1 1 1 1 1 1 1 1 1 1 1 1 1 1 1 1 1 1 1 1\n",
      " 1 1 1 1 1 1 0 1 1 0 1 1 1 1 1 1 1 1 1 1 1 1 1 1 1 1 1 1 1 1 1 1 1 1 1 1 1\n",
      " 1 1 1 1 1 1 1 1 1 1 1 1 1 1 1 1 1 1 1 1 1 1 1 1 1 1 1 1 1 1 1 1 1 1 1 1 1\n",
      " 1 1 1 1 1 1 1 1 1 1 1 1 1 1 1 1 1 1 1 1 1 1 1 1 1 1 1 1 1 1 1 1 1 1 1 1 1\n",
      " 1 1 1 1 1 1 1 1 1 1 1 1 1 1 1 1 1 1 1 1 1 1 1 1 1 1 1 1 1 1 1 1 1 1 1 1 1\n",
      " 1 1 1 1 1 1 1 1 1 1 1 1 1 1 1 1 1 1 1 1 1 1 1 1 1 1 1 1 1 1 1 1 1 1 1 1 1\n",
      " 1 1 1 1 1 1 1 1 1 1 1 1 1 1 1 1 1 1 1 1 1 1 1 1 1 1 1 1 1 1 1 1 1 1 1 1 1\n",
      " 1 1 1 1 1 1 1 1 1 1 1 1 1 1 1 1 1 1 1 1 1]\n"
     ]
    }
   ],
   "source": [
    "print(pred)"
   ]
  },
  {
   "cell_type": "code",
   "execution_count": 33,
   "metadata": {},
   "outputs": [],
   "source": [
    "# Test\n",
    "# 測試一個答案全部為0的資料。\n",
    "df_test = pd.read_csv('/project/xt121-group5/scene2_data/test_data/2023-05-06 135847_nc.csv')\n",
    "# df_test = df_test.drop(unique_col, axis=1)\n",
    "df_test = df_test.drop(del_col, axis=1)\n",
    "df_test = df_test.drop(labels=['RecordTime'], axis=1)\n",
    "df_test = df_test.drop(labels=['RecordType'], axis=1)\n",
    "# test, _ = data_preprocessing(df_test, train=False, sc=train_sc)"
   ]
  },
  {
   "cell_type": "code",
   "execution_count": 34,
   "metadata": {},
   "outputs": [
    {
     "name": "stdout",
     "output_type": "stream",
     "text": [
      "[0 0 0 0 0 0 0 0 0 0 0 0 0 0 0 0 0 0 0 0 0 0 0 0 0 0 0 0 0 0 0 0 0 0 0 0 0\n",
      " 0 0 0 0 0 0 0 0 0 0 0 0 0 0 0 0 0 0 0 0 0 0 0 0 0 0 0 0 0 0 0 0 0 0 0 0 0\n",
      " 0 0 0 0 0 0 0 0 0 0 0 0 0 0 0 0 0 0 0 0 0 0 0 0 0 0 0 0 0 0 0 0 0 0 0 0 0\n",
      " 0 0 0 0 0 0 0 0 0 0 0 0 0 0 0 0 0 0 0 0 0 0 0 0 0 0 0 0 0 0 0 0 0 0 0 0 0\n",
      " 0 0 0 0 0 0 0 0 0 0 0 0 0 0 0 0 0 0 0 0 0 0 0 0 0 0 0 0 0 0 0 0 0 0 0 0 0\n",
      " 0 0 0 0 0 0 0 0 0 0 0 0 0 0 0 0 0 0 0 0 0 0 0 0 0 0 0 0 0 0 0 0 0 0 0 0 0\n",
      " 0 0 0 0 0 0 0 0 0 0 0 0 0 0 0 0 0 0 0 0 0 0 0 0 0 0 0 0 0 0 0 0 0 0 0 0 0\n",
      " 0 0 0 0 0 0 0 0 0 0 0 0 0 0 0 0 0 0 0 0 0 0 0 0 0 0 0 0 0 0 0 0 0 0 0 0 0\n",
      " 0 0 0 0 0 0 0 0 0 0 0 0 0 0 0 0 0 0 0 0 0 0 0 0 0 0 0 0 0 0 0]\n"
     ]
    }
   ],
   "source": [
    "npa_test = df_test.to_numpy()\n",
    "pred = clf.predict(npa_test)\n",
    "print(pred)"
   ]
  },
  {
   "cell_type": "markdown",
   "metadata": {},
   "source": [
    "## 儲存模型"
   ]
  },
  {
   "cell_type": "markdown",
   "metadata": {},
   "source": [
    "### 方法1. joblib"
   ]
  },
  {
   "cell_type": "code",
   "execution_count": 35,
   "metadata": {},
   "outputs": [],
   "source": [
    "# Save model\n",
    "import joblib\n",
    "joblib.dump(clf, './GB_joblib_model')\n",
    "\n",
    "# Load model\n",
    "loaded_gb_model = joblib.load('./GB_joblib_model')"
   ]
  },
  {
   "cell_type": "markdown",
   "metadata": {},
   "source": [
    "### 方法2. pickle"
   ]
  },
  {
   "cell_type": "code",
   "execution_count": 36,
   "metadata": {},
   "outputs": [
    {
     "name": "stdout",
     "output_type": "stream",
     "text": [
      "[0 0 0 0 0 0 0 0 0 0 0 0 0 0 0 0 0 0 0 0 0 0 0 0 0 0 0 0 0 0 0 0 0 0 0 0 0\n",
      " 0 0 0 0 0 0 0 0 0 0 0 0 0 0 0 0 0 0 0 0 0 0 0 0 0 0 0 0 0 0 0 0 0 0 0 0 0\n",
      " 0 0 0 0 0 0 0 0 0 0 0 0 0 0 0 0 0 0 0 0 0 0 0 0 0 0 0 0 0 0 0 0 0 0 0 0 0\n",
      " 0 0 0 0 0 0 0 0 0 0 0 0 0 0 0 0 0 0 0 0 0 0 0 0 0 0 0 0 0 0 0 0 0 0 0 0 0\n",
      " 0 0 0 0 0 0 0 0 0 0 0 0 0 0 0 0 0 0 0 0 0 0 0 0 0 0 0 0 0 0 0 0 0 0 0 0 0\n",
      " 0 0 0 0 0 0 0 0 0 0 0 0 0 0 0 0 0 0 0 0 0 0 0 0 0 0 0 0 0 0 0 0 0 0 0 0 0\n",
      " 0 0 0 0 0 0 0 0 0 0 0 0 0 0 0 0 0 0 0 0 0 0 0 0 0 0 0 0 0 0 0 0 0 0 0 0 0\n",
      " 0 0 0 0 0 0 0 0 0 0 0 0 0 0 0 0 0 0 0 0 0 0 0 0 0 0 0 0 0 0 0 0 0 0 0 0 0\n",
      " 0 0 0 0 0 0 0 0 0 0 0 0 0 0 0 0 0 0 0 0 0 0 0 0 0 0 0 0 0 0 0]\n"
     ]
    }
   ],
   "source": [
    "import pickle\n",
    "\n",
    "# save\n",
    "with open('GB_pickle_model.pkl','wb') as f:\n",
    "    pickle.dump(clf,f)\n",
    "\n",
    "# load\n",
    "with open('GB_pickle_model.pkl', 'rb') as f:\n",
    "    loaded_gb_model2 = pickle.load(f)\n",
    "    \n",
    "pred = loaded_gb_model2.predict(npa_test)\n",
    "print(pred)"
   ]
  }
 ],
 "metadata": {
  "colab": {
   "authorship_tag": "ABX9TyO7Y8XXvIoiBsejfqDN/QLw",
   "provenance": []
  },
  "kernelspec": {
   "display_name": "Python 3 (ipykernel)",
   "language": "python",
   "name": "python3"
  },
  "language_info": {
   "codemirror_mode": {
    "name": "ipython",
    "version": 3
   },
   "file_extension": ".py",
   "mimetype": "text/x-python",
   "name": "python",
   "nbconvert_exporter": "python",
   "pygments_lexer": "ipython3",
   "version": "3.7.12"
  }
 },
 "nbformat": 4,
 "nbformat_minor": 4
}
