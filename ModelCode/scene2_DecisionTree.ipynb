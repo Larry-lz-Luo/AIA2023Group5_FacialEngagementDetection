{
 "cells": [
  {
   "cell_type": "code",
   "execution_count": 1,
   "metadata": {
    "executionInfo": {
     "elapsed": 275,
     "status": "ok",
     "timestamp": 1683272066803,
     "user": {
      "displayName": "洪啟豪",
      "userId": "08277187360257942838"
     },
     "user_tz": -480
    },
    "id": "tpYEJaEQzyh4"
   },
   "outputs": [],
   "source": [
    "from sklearn.tree import DecisionTreeClassifier\n",
    "from sklearn.model_selection import train_test_split\n",
    "from sklearn.metrics import accuracy_score\n",
    "\n",
    "import pandas as pd\n",
    "import numpy as np\n",
    "import matplotlib.pyplot as plt"
   ]
  },
  {
   "cell_type": "markdown",
   "metadata": {},
   "source": [
    "## 去除雜訊"
   ]
  },
  {
   "cell_type": "code",
   "execution_count": 2,
   "metadata": {},
   "outputs": [],
   "source": [
    "def RemoveNoise(dataset, remove_condition):\n",
    "    # Remove data with gaze vector X, Y, Z have value 0.\n",
    "    print(f'Total count: {len(dataset)}, gaze vector zero count: {len(dataset[remove_condition])}')\n",
    "\n",
    "    dataset = dataset.drop(dataset[remove_condition].index)\n",
    "\n",
    "    print(f'Total count: {len(dataset)}')\n",
    "    \n",
    "    return dataset"
   ]
  },
  {
   "cell_type": "markdown",
   "metadata": {
    "id": "b4bvNr1t0-LK"
   },
   "source": [
    "## 載入資料集"
   ]
  },
  {
   "cell_type": "code",
   "execution_count": 3,
   "metadata": {
    "colab": {
     "base_uri": "https://localhost:8080/"
    },
    "executionInfo": {
     "elapsed": 401,
     "status": "ok",
     "timestamp": 1683272324574,
     "user": {
      "displayName": "洪啟豪",
      "userId": "08277187360257942838"
     },
     "user_tz": -480
    },
    "id": "LBRB_r1Hz2Kn",
    "outputId": "bf7b003b-8d59-4698-b294-5456e5d5f124"
   },
   "outputs": [
    {
     "name": "stdout",
     "output_type": "stream",
     "text": [
      "/project/xt121-group5/scene2_data/test_data/.ipynb_checkpoints/2023-05-06 135830_c-checkpoint.csv\n",
      "Total count: 280, gaze vector zero count: 0\n",
      "Total count: 280\n",
      "/project/xt121-group5/scene2_data/alice/2023-05-01 232058.csv\n",
      "Total count: 420, gaze vector zero count: 311\n",
      "Total count: 109\n",
      "/project/xt121-group5/scene2_data/alice/2023-05-01 231925.csv\n",
      "Total count: 412, gaze vector zero count: 16\n",
      "Total count: 396\n",
      "/project/xt121-group5/scene2_data/alice/.ipynb_checkpoints/2023-05-01 232058-checkpoint.csv\n",
      "Total count: 420, gaze vector zero count: 311\n",
      "Total count: 109\n",
      "/project/xt121-group5/scene2_data/alice/.ipynb_checkpoints/2023-05-01 231925-checkpoint.csv\n",
      "Total count: 412, gaze vector zero count: 16\n",
      "Total count: 396\n",
      "/project/xt121-group5/scene2_data/pinsian/2023-05-13 142553_c.csv\n",
      "Total count: 280, gaze vector zero count: 0\n",
      "Total count: 280\n",
      "/project/xt121-group5/scene2_data/pinsian/2023-05-13 142611 nc.csv\n",
      "Total count: 280, gaze vector zero count: 28\n",
      "Total count: 252\n",
      "/project/xt121-group5/scene2_data/larry/2023-05-01 232448.csv\n",
      "Total count: 469, gaze vector zero count: 0\n",
      "Total count: 469\n",
      "/project/xt121-group5/scene2_data/larry/2023-05-01 232329.csv\n",
      "Total count: 305, gaze vector zero count: 0\n",
      "Total count: 305\n",
      "/project/xt121-group5/scene2_data/charlie/2023-05-05 103150_c.csv\n",
      "Total count: 655, gaze vector zero count: 0\n",
      "Total count: 655\n",
      "/project/xt121-group5/scene2_data/charlie/2023-05-17 103748.csv\n",
      "Total count: 2186, gaze vector zero count: 901\n",
      "Total count: 1285\n",
      "/project/xt121-group5/scene2_data/charlie/2023-05-17 103617.csv\n",
      "Total count: 2368, gaze vector zero count: 385\n",
      "Total count: 1983\n",
      "/project/xt121-group5/scene2_data/charlie/2023-05-05 103233_nc.csv\n",
      "Total count: 1097, gaze vector zero count: 278\n",
      "Total count: 819\n",
      "/project/xt121-group5/scene2_data/charlie/.ipynb_checkpoints/2023-05-05 103150_c-checkpoint.csv\n",
      "Total count: 655, gaze vector zero count: 0\n",
      "Total count: 655\n",
      "/project/xt121-group5/scene2_data/charlie/.ipynb_checkpoints/2023-05-05 103233_nc-checkpoint.csv\n",
      "Total count: 1097, gaze vector zero count: 278\n",
      "Total count: 819\n",
      "/project/xt121-group5/scene2_data/jason/2023-05-05 151434.csv\n",
      "Total count: 590, gaze vector zero count: 196\n",
      "Total count: 394\n",
      "/project/xt121-group5/scene2_data/jason/2023-05-17 102413.csv\n",
      "Total count: 601, gaze vector zero count: 9\n",
      "Total count: 592\n",
      "/project/xt121-group5/scene2_data/jason/2023-05-17 102634.csv\n",
      "Total count: 801, gaze vector zero count: 172\n",
      "Total count: 629\n",
      "/project/xt121-group5/scene2_data/jason/2023-05-05 151410.csv\n",
      "Total count: 510, gaze vector zero count: 57\n",
      "Total count: 453\n",
      "/project/xt121-group5/scene2_data/jason/2023-05-05 145529.csv\n",
      "Total count: 461, gaze vector zero count: 4\n",
      "Total count: 457\n",
      "/project/xt121-group5/scene2_data/jason/2023-05-05 145621.csv\n",
      "Total count: 240, gaze vector zero count: 0\n",
      "Total count: 240\n",
      "/project/xt121-group5/scene2_data/jason/2023-05-17 102348.csv\n",
      "Total count: 760, gaze vector zero count: 224\n",
      "Total count: 536\n",
      "/project/xt121-group5/scene2_data/jason/2023-05-05 145600.csv\n",
      "Total count: 360, gaze vector zero count: 44\n",
      "Total count: 316\n",
      "/project/xt121-group5/scene2_data/jason/2023-05-05 145633.csv\n",
      "Total count: 203, gaze vector zero count: 0\n",
      "Total count: 203\n",
      "/project/xt121-group5/scene2_data/jason/2023-05-17 102327.csv\n",
      "Total count: 511, gaze vector zero count: 5\n",
      "Total count: 506\n",
      "/project/xt121-group5/scene2_data/jason/2023-05-17 102452.csv\n",
      "Total count: 845, gaze vector zero count: 0\n",
      "Total count: 845\n",
      "/project/xt121-group5/scene2_data/jason/2023-05-05 145640.csv\n",
      "Total count: 157, gaze vector zero count: 1\n",
      "Total count: 156\n",
      "/project/xt121-group5/scene2_data/jason/2023-05-17 102604.csv\n",
      "Total count: 758, gaze vector zero count: 5\n",
      "Total count: 753\n",
      "/project/xt121-group5/scene2_data/jason/2023-05-05 151354.csv\n",
      "Total count: 343, gaze vector zero count: 31\n",
      "Total count: 312\n",
      "/project/xt121-group5/scene2_data/jason/2023-05-05 151333.csv\n",
      "Total count: 459, gaze vector zero count: 74\n",
      "Total count: 385\n",
      "/project/xt121-group5/scene2_data/jason/2023-05-17 102531.csv\n",
      "Total count: 668, gaze vector zero count: 15\n",
      "Total count: 653\n",
      "/project/xt121-group5/scene2_data/jason/.ipynb_checkpoints/2023-05-05 145633-checkpoint.csv\n",
      "Total count: 203, gaze vector zero count: 0\n",
      "Total count: 203\n"
     ]
    }
   ],
   "source": [
    "import os\n",
    "df_train = pd.core.frame.DataFrame()\n",
    "for dirname, _, filenames in os.walk('/project/xt121-group5/scene2_data/'):\n",
    "    for filename in filenames:\n",
    "        if dirname.split('/')[-1] != 'test_data':\n",
    "            print(os.path.join(dirname, filename))\n",
    "            df_train2 = pd.read_csv(os.path.join(dirname, filename))\n",
    "            df_train2 = RemoveNoise(df_train2, \n",
    "                                    (df_train2['GazeVector_X'] == 0) & \n",
    "                                    (df_train2['GazeVector_Y'] == 0) & \n",
    "                                    (df_train2['GazeVector_Z'] == 0))\n",
    "            df_train = pd.concat([df_train, df_train2])\n",
    "        \n",
    "df_train = df_train.drop(labels=['RecordTime'], axis=1) # 移除 RecordTime"
   ]
  },
  {
   "cell_type": "code",
   "execution_count": 4,
   "metadata": {
    "colab": {
     "base_uri": "https://localhost:8080/"
    },
    "executionInfo": {
     "elapsed": 5,
     "status": "ok",
     "timestamp": 1683272512978,
     "user": {
      "displayName": "洪啟豪",
      "userId": "08277187360257942838"
     },
     "user_tz": -480
    },
    "id": "YO943loEz3mq",
    "outputId": "877dc9be-0571-4d4a-e45f-13d8fb9b3bdb"
   },
   "outputs": [
    {
     "name": "stdout",
     "output_type": "stream",
     "text": [
      "(16445, 103)\n"
     ]
    }
   ],
   "source": [
    "# check the data shape\n",
    "print(df_train.shape)"
   ]
  },
  {
   "cell_type": "markdown",
   "metadata": {},
   "source": [
    "## 資料前處理"
   ]
  },
  {
   "cell_type": "markdown",
   "metadata": {},
   "source": [
    "### 前處理－臉部特徵座標平移"
   ]
  },
  {
   "cell_type": "code",
   "execution_count": 5,
   "metadata": {},
   "outputs": [],
   "source": [
    "def FaceLandmarksPreprocessing(df_data, verbose = False):\n",
    "    for col_name in df_data.columns.to_list():\n",
    "        if col_name.find('FaceLandmarks_') == 0 or \\\n",
    "        col_name.find('EyeLandmarks_') == 0 or \\\n",
    "        col_name.find('LeftEyeBoundingBox_') == 0 or \\\n",
    "        col_name.find('RightEyeBoundingBox_') == 0 or \\\n",
    "        col_name.find('LeftEyeMidPoint_') == 0 or \\\n",
    "        col_name.find('RightEyeMidPoint_') == 0:\n",
    "            if col_name.find('_X') == len(col_name) - 2:\n",
    "                df_data[col_name] = df_data[col_name] - df_data['FaceBoundingBox_X']\n",
    "                if verbose:\n",
    "                    print(f'Column {col_name} is subtracted by FaceBoundingBox_X.')\n",
    "            elif col_name.find('_Y') == len(col_name) - 2:\n",
    "                df_data[col_name] = df_data[col_name] - df_data['FaceBoundingBox_Y']\n",
    "                if verbose:\n",
    "                    print(f'Column {col_name} is subtracted by FaceBoundingBox_Y.')\n",
    "            else:\n",
    "#                 print(f'Ignore column {col_name}.')\n",
    "                pass\n",
    "        else:\n",
    "#             print(f'Ignore column {col_name}')\n",
    "            pass\n",
    "    return df_data"
   ]
  },
  {
   "cell_type": "code",
   "execution_count": 6,
   "metadata": {},
   "outputs": [
    {
     "name": "stdout",
     "output_type": "stream",
     "text": [
      "   FaceBoundingBox_X  FaceBoundingBox_Y  FaceBoundingBox_W  FaceBoundingBox_H  \\\n",
      "0                531                175                369                369   \n",
      "1                532                175                367                367   \n",
      "2                532                175                367                367   \n",
      "3                532                175                366                366   \n",
      "4                532                175                367                367   \n",
      "\n",
      "   FaceLandmarks_1_X  FaceLandmarks_1_Y  FaceLandmarks_2_X  FaceLandmarks_2_Y  \\\n",
      "0                684                322                641                326   \n",
      "1                683                321                640                325   \n",
      "2                683                321                640                325   \n",
      "3                682                322                640                325   \n",
      "4                683                321                640                325   \n",
      "\n",
      "   FaceLandmarks_3_X  FaceLandmarks_3_Y  ...  EyeLandmarks_4_X  \\\n",
      "0                756                316  ...               796   \n",
      "1                755                316  ...               795   \n",
      "2                755                317  ...               796   \n",
      "3                754                317  ...               795   \n",
      "4                755                316  ...               795   \n",
      "\n",
      "   EyeLandmarks_4_Y  LeftEyeMidPoint_X  LeftEyeMidPoint_Y  RightEyeMidPoint_X  \\\n",
      "0               314              662.5              324.0               776.0   \n",
      "1               315              661.5              323.0               775.0   \n",
      "2               315              661.5              323.0               775.5   \n",
      "3               316              661.0              323.5               774.5   \n",
      "4               315              661.5              323.0               775.0   \n",
      "\n",
      "   RightEyeMidPoint_Y  GazeVector_X  GazeVector_Y  GazeVector_Z  RecordType  \n",
      "0               315.0      0.009541     -0.035882     -0.999310           1  \n",
      "1               315.5      0.042893     -0.038897     -0.998322           1  \n",
      "2               316.0      0.028749     -0.056210     -0.998005           1  \n",
      "3               316.5      0.029308     -0.042528     -0.998665           1  \n",
      "4               315.5      0.039695     -0.036390     -0.998549           1  \n",
      "\n",
      "[5 rows x 103 columns]\n"
     ]
    }
   ],
   "source": [
    "print(df_train.head())"
   ]
  },
  {
   "cell_type": "code",
   "execution_count": 7,
   "metadata": {},
   "outputs": [
    {
     "name": "stdout",
     "output_type": "stream",
     "text": [
      "Column FaceLandmarks_1_X is subtracted by FaceBoundingBox_X.\n",
      "Column FaceLandmarks_1_Y is subtracted by FaceBoundingBox_Y.\n",
      "Column FaceLandmarks_2_X is subtracted by FaceBoundingBox_X.\n",
      "Column FaceLandmarks_2_Y is subtracted by FaceBoundingBox_Y.\n",
      "Column FaceLandmarks_3_X is subtracted by FaceBoundingBox_X.\n",
      "Column FaceLandmarks_3_Y is subtracted by FaceBoundingBox_Y.\n",
      "Column FaceLandmarks_4_X is subtracted by FaceBoundingBox_X.\n",
      "Column FaceLandmarks_4_Y is subtracted by FaceBoundingBox_Y.\n",
      "Column FaceLandmarks_5_X is subtracted by FaceBoundingBox_X.\n",
      "Column FaceLandmarks_5_Y is subtracted by FaceBoundingBox_Y.\n",
      "Column FaceLandmarks_6_X is subtracted by FaceBoundingBox_X.\n",
      "Column FaceLandmarks_6_Y is subtracted by FaceBoundingBox_Y.\n",
      "Column FaceLandmarks_7_X is subtracted by FaceBoundingBox_X.\n",
      "Column FaceLandmarks_7_Y is subtracted by FaceBoundingBox_Y.\n",
      "Column FaceLandmarks_8_X is subtracted by FaceBoundingBox_X.\n",
      "Column FaceLandmarks_8_Y is subtracted by FaceBoundingBox_Y.\n",
      "Column FaceLandmarks_9_X is subtracted by FaceBoundingBox_X.\n",
      "Column FaceLandmarks_9_Y is subtracted by FaceBoundingBox_Y.\n",
      "Column FaceLandmarks_10_X is subtracted by FaceBoundingBox_X.\n",
      "Column FaceLandmarks_10_Y is subtracted by FaceBoundingBox_Y.\n",
      "Column FaceLandmarks_11_X is subtracted by FaceBoundingBox_X.\n",
      "Column FaceLandmarks_11_Y is subtracted by FaceBoundingBox_Y.\n",
      "Column FaceLandmarks_12_X is subtracted by FaceBoundingBox_X.\n",
      "Column FaceLandmarks_12_Y is subtracted by FaceBoundingBox_Y.\n",
      "Column FaceLandmarks_13_X is subtracted by FaceBoundingBox_X.\n",
      "Column FaceLandmarks_13_Y is subtracted by FaceBoundingBox_Y.\n",
      "Column FaceLandmarks_14_X is subtracted by FaceBoundingBox_X.\n",
      "Column FaceLandmarks_14_Y is subtracted by FaceBoundingBox_Y.\n",
      "Column FaceLandmarks_15_X is subtracted by FaceBoundingBox_X.\n",
      "Column FaceLandmarks_15_Y is subtracted by FaceBoundingBox_Y.\n",
      "Column FaceLandmarks_16_X is subtracted by FaceBoundingBox_X.\n",
      "Column FaceLandmarks_16_Y is subtracted by FaceBoundingBox_Y.\n",
      "Column FaceLandmarks_17_X is subtracted by FaceBoundingBox_X.\n",
      "Column FaceLandmarks_17_Y is subtracted by FaceBoundingBox_Y.\n",
      "Column FaceLandmarks_18_X is subtracted by FaceBoundingBox_X.\n",
      "Column FaceLandmarks_18_Y is subtracted by FaceBoundingBox_Y.\n",
      "Column FaceLandmarks_19_X is subtracted by FaceBoundingBox_X.\n",
      "Column FaceLandmarks_19_Y is subtracted by FaceBoundingBox_Y.\n",
      "Column FaceLandmarks_20_X is subtracted by FaceBoundingBox_X.\n",
      "Column FaceLandmarks_20_Y is subtracted by FaceBoundingBox_Y.\n",
      "Column FaceLandmarks_21_X is subtracted by FaceBoundingBox_X.\n",
      "Column FaceLandmarks_21_Y is subtracted by FaceBoundingBox_Y.\n",
      "Column FaceLandmarks_22_X is subtracted by FaceBoundingBox_X.\n",
      "Column FaceLandmarks_22_Y is subtracted by FaceBoundingBox_Y.\n",
      "Column FaceLandmarks_23_X is subtracted by FaceBoundingBox_X.\n",
      "Column FaceLandmarks_23_Y is subtracted by FaceBoundingBox_Y.\n",
      "Column FaceLandmarks_24_X is subtracted by FaceBoundingBox_X.\n",
      "Column FaceLandmarks_24_Y is subtracted by FaceBoundingBox_Y.\n",
      "Column FaceLandmarks_25_X is subtracted by FaceBoundingBox_X.\n",
      "Column FaceLandmarks_25_Y is subtracted by FaceBoundingBox_Y.\n",
      "Column FaceLandmarks_26_X is subtracted by FaceBoundingBox_X.\n",
      "Column FaceLandmarks_26_Y is subtracted by FaceBoundingBox_Y.\n",
      "Column FaceLandmarks_27_X is subtracted by FaceBoundingBox_X.\n",
      "Column FaceLandmarks_27_Y is subtracted by FaceBoundingBox_Y.\n",
      "Column FaceLandmarks_28_X is subtracted by FaceBoundingBox_X.\n",
      "Column FaceLandmarks_28_Y is subtracted by FaceBoundingBox_Y.\n",
      "Column FaceLandmarks_29_X is subtracted by FaceBoundingBox_X.\n",
      "Column FaceLandmarks_29_Y is subtracted by FaceBoundingBox_Y.\n",
      "Column FaceLandmarks_30_X is subtracted by FaceBoundingBox_X.\n",
      "Column FaceLandmarks_30_Y is subtracted by FaceBoundingBox_Y.\n",
      "Column FaceLandmarks_31_X is subtracted by FaceBoundingBox_X.\n",
      "Column FaceLandmarks_31_Y is subtracted by FaceBoundingBox_Y.\n",
      "Column FaceLandmarks_32_X is subtracted by FaceBoundingBox_X.\n",
      "Column FaceLandmarks_32_Y is subtracted by FaceBoundingBox_Y.\n",
      "Column FaceLandmarks_33_X is subtracted by FaceBoundingBox_X.\n",
      "Column FaceLandmarks_33_Y is subtracted by FaceBoundingBox_Y.\n",
      "Column FaceLandmarks_34_X is subtracted by FaceBoundingBox_X.\n",
      "Column FaceLandmarks_34_Y is subtracted by FaceBoundingBox_Y.\n",
      "Column FaceLandmarks_35_X is subtracted by FaceBoundingBox_X.\n",
      "Column FaceLandmarks_35_Y is subtracted by FaceBoundingBox_Y.\n",
      "Column LeftEyeBoundingBox_X is subtracted by FaceBoundingBox_X.\n",
      "Column LeftEyeBoundingBox_Y is subtracted by FaceBoundingBox_Y.\n",
      "Column RightEyeBoundingBox_X is subtracted by FaceBoundingBox_X.\n",
      "Column RightEyeBoundingBox_Y is subtracted by FaceBoundingBox_Y.\n",
      "Column EyeLandmarks_1_X is subtracted by FaceBoundingBox_X.\n",
      "Column EyeLandmarks_1_Y is subtracted by FaceBoundingBox_Y.\n",
      "Column EyeLandmarks_2_X is subtracted by FaceBoundingBox_X.\n",
      "Column EyeLandmarks_2_Y is subtracted by FaceBoundingBox_Y.\n",
      "Column EyeLandmarks_3_X is subtracted by FaceBoundingBox_X.\n",
      "Column EyeLandmarks_3_Y is subtracted by FaceBoundingBox_Y.\n",
      "Column EyeLandmarks_4_X is subtracted by FaceBoundingBox_X.\n",
      "Column EyeLandmarks_4_Y is subtracted by FaceBoundingBox_Y.\n",
      "Column LeftEyeMidPoint_X is subtracted by FaceBoundingBox_X.\n",
      "Column LeftEyeMidPoint_Y is subtracted by FaceBoundingBox_Y.\n",
      "Column RightEyeMidPoint_X is subtracted by FaceBoundingBox_X.\n",
      "Column RightEyeMidPoint_Y is subtracted by FaceBoundingBox_Y.\n"
     ]
    }
   ],
   "source": [
    "df_train = FaceLandmarksPreprocessing(df_train, True)"
   ]
  },
  {
   "cell_type": "code",
   "execution_count": 8,
   "metadata": {},
   "outputs": [
    {
     "name": "stdout",
     "output_type": "stream",
     "text": [
      "   FaceBoundingBox_X  FaceBoundingBox_Y  FaceBoundingBox_W  FaceBoundingBox_H  \\\n",
      "0                531                175                369                369   \n",
      "1                532                175                367                367   \n",
      "2                532                175                367                367   \n",
      "3                532                175                366                366   \n",
      "4                532                175                367                367   \n",
      "\n",
      "   FaceLandmarks_1_X  FaceLandmarks_1_Y  FaceLandmarks_2_X  FaceLandmarks_2_Y  \\\n",
      "0                153                147                110                151   \n",
      "1                151                146                108                150   \n",
      "2                151                146                108                150   \n",
      "3                150                147                108                150   \n",
      "4                151                146                108                150   \n",
      "\n",
      "   FaceLandmarks_3_X  FaceLandmarks_3_Y  ...  EyeLandmarks_4_X  \\\n",
      "0                225                141  ...               265   \n",
      "1                223                141  ...               263   \n",
      "2                223                142  ...               264   \n",
      "3                222                142  ...               263   \n",
      "4                223                141  ...               263   \n",
      "\n",
      "   EyeLandmarks_4_Y  LeftEyeMidPoint_X  LeftEyeMidPoint_Y  RightEyeMidPoint_X  \\\n",
      "0               139              131.5              149.0               245.0   \n",
      "1               140              129.5              148.0               243.0   \n",
      "2               140              129.5              148.0               243.5   \n",
      "3               141              129.0              148.5               242.5   \n",
      "4               140              129.5              148.0               243.0   \n",
      "\n",
      "   RightEyeMidPoint_Y  GazeVector_X  GazeVector_Y  GazeVector_Z  RecordType  \n",
      "0               140.0      0.009541     -0.035882     -0.999310           1  \n",
      "1               140.5      0.042893     -0.038897     -0.998322           1  \n",
      "2               141.0      0.028749     -0.056210     -0.998005           1  \n",
      "3               141.5      0.029308     -0.042528     -0.998665           1  \n",
      "4               140.5      0.039695     -0.036390     -0.998549           1  \n",
      "\n",
      "[5 rows x 103 columns]\n"
     ]
    }
   ],
   "source": [
    "print(df_train.head())"
   ]
  },
  {
   "cell_type": "markdown",
   "metadata": {},
   "source": [
    "### 前處理－檢查缺失值"
   ]
  },
  {
   "cell_type": "code",
   "execution_count": 9,
   "metadata": {
    "colab": {
     "base_uri": "https://localhost:8080/"
    },
    "executionInfo": {
     "elapsed": 416,
     "status": "ok",
     "timestamp": 1683272551144,
     "user": {
      "displayName": "洪啟豪",
      "userId": "08277187360257942838"
     },
     "user_tz": -480
    },
    "id": "oAqX2zF_3MAB",
    "outputId": "c996e110-8d71-4f91-9f95-9eb7e5f72851"
   },
   "outputs": [
    {
     "name": "stdout",
     "output_type": "stream",
     "text": [
      "Before data clean(NAN mount): 0\n"
     ]
    }
   ],
   "source": [
    "# checked missing data\n",
    "print(\"Before data clean(NAN mount):\", len(np.where(np.isnan(df_train)==1)[0]))"
   ]
  },
  {
   "cell_type": "code",
   "execution_count": 10,
   "metadata": {
    "id": "nquJMcY43Pki"
   },
   "outputs": [],
   "source": [
    "# Find columns with only unique value.\n",
    "# unique_col = []\n",
    "# for i in df_train.columns:\n",
    "#     if np.unique(df_train[i]).shape[0]==1:\n",
    "#         print(f'Get column {i} with only unique value.')\n",
    "#         unique_col.append(i) "
   ]
  },
  {
   "cell_type": "code",
   "execution_count": 11,
   "metadata": {
    "id": "IEFWO3-r3Pnh"
   },
   "outputs": [],
   "source": [
    "# print(unique_col)"
   ]
  },
  {
   "cell_type": "code",
   "execution_count": 12,
   "metadata": {
    "id": "9chJI6C93RiB"
   },
   "outputs": [],
   "source": [
    "# df_train.describe()[unique_col]"
   ]
  },
  {
   "cell_type": "code",
   "execution_count": 13,
   "metadata": {
    "id": "vGCbnfYs3Rkh"
   },
   "outputs": [],
   "source": [
    "# Drop columns with only unique value.\n",
    "# df_train = df_train.drop(unique_col, axis=1)"
   ]
  },
  {
   "cell_type": "code",
   "execution_count": 14,
   "metadata": {
    "executionInfo": {
     "elapsed": 304,
     "status": "ok",
     "timestamp": 1683272728323,
     "user": {
      "displayName": "洪啟豪",
      "userId": "08277187360257942838"
     },
     "user_tz": -480
    },
    "id": "gLfr2fpd33Ai"
   },
   "outputs": [],
   "source": [
    "# # 列出不重要的特徵。\n",
    "# # 先假設除了gaze vector以外的特徵都不重要，之後再調整。\n",
    "# del_col = ['FaceBoundingBox_X', 'FaceBoundingBox_Y','FaceBoundingBox_W', 'FaceBoundingBox_H', 'FaceLandmarks_1_X', \n",
    "#            'FaceLandmarks_1_Y', 'FaceLandmarks_2_X','FaceLandmarks_2_Y', 'FaceLandmarks_3_X', 'FaceLandmarks_3_Y', \n",
    "#            'FaceLandmarks_4_X', 'FaceLandmarks_4_Y','FaceLandmarks_5_X', 'FaceLandmarks_5_Y', 'FaceLandmarks_6_X', \n",
    "#            'FaceLandmarks_6_Y', 'FaceLandmarks_7_X', 'FaceLandmarks_7_Y', 'FaceLandmarks_8_X', 'FaceLandmarks_8_Y', \n",
    "#            'FaceLandmarks_9_X', 'FaceLandmarks_9_Y', 'FaceLandmarks_10_X', 'FaceLandmarks_10_Y', 'FaceLandmarks_11_X', \n",
    "#            'FaceLandmarks_11_Y', 'FaceLandmarks_12_X', 'FaceLandmarks_12_Y', 'FaceLandmarks_13_X', 'FaceLandmarks_13_Y', \n",
    "#            'FaceLandmarks_14_X', 'FaceLandmarks_14_Y', 'FaceLandmarks_15_X', 'FaceLandmarks_15_Y', 'FaceLandmarks_16_X', \n",
    "#            'FaceLandmarks_16_Y', 'FaceLandmarks_17_X', 'FaceLandmarks_17_Y', 'FaceLandmarks_18_X', 'FaceLandmarks_18_Y', \n",
    "#            'FaceLandmarks_19_X', 'FaceLandmarks_19_Y', 'FaceLandmarks_20_X', 'FaceLandmarks_20_Y', 'FaceLandmarks_21_X', \n",
    "#            'FaceLandmarks_21_Y', 'FaceLandmarks_22_X', 'FaceLandmarks_22_Y', 'FaceLandmarks_23_X', 'FaceLandmarks_23_Y', \n",
    "#            'FaceLandmarks_24_X', 'FaceLandmarks_24_Y', 'FaceLandmarks_25_X', 'FaceLandmarks_25_Y', 'FaceLandmarks_26_X', \n",
    "#            'FaceLandmarks_26_Y', 'FaceLandmarks_27_X', 'FaceLandmarks_27_Y', 'FaceLandmarks_28_X', 'FaceLandmarks_28_Y', \n",
    "#            'FaceLandmarks_29_X', 'FaceLandmarks_29_Y', 'FaceLandmarks_30_X', 'FaceLandmarks_30_Y', 'FaceLandmarks_31_X', \n",
    "#            'FaceLandmarks_31_Y', 'FaceLandmarks_32_X', 'FaceLandmarks_32_Y', 'FaceLandmarks_33_X', 'FaceLandmarks_33_Y', \n",
    "#            'FaceLandmarks_34_X', 'FaceLandmarks_34_Y', 'FaceLandmarks_35_X', 'FaceLandmarks_35_Y', 'HeadPoseAngles_X', \n",
    "#            'HeadPoseAngles_Y','HeadPoseAngles_Z', 'LeftEyeBoundingBox_X', 'LeftEyeBoundingBox_Y', 'LeftEyeBoundingBox_W', \n",
    "#            'LeftEyeBoundingBox_H', 'RightEyeBoundingBox_X', 'RightEyeBoundingBox_Y', 'RightEyeBoundingBox_W', 'RightEyeBoundingBox_H', \n",
    "#            'EyeLandmarks_1_X', 'EyeLandmarks_1_Y', 'EyeLandmarks_2_X', 'EyeLandmarks_2_Y', 'EyeLandmarks_3_X', \n",
    "#            'EyeLandmarks_3_Y', 'EyeLandmarks_4_X', 'EyeLandmarks_4_Y', 'LeftEyeMidPoint_X', 'LeftEyeMidPoint_Y', \n",
    "#            'RightEyeMidPoint_X','RightEyeMidPoint_Y', 'EyeState_Left', 'EyeState_Right']\n",
    "# # del_col = ['FaceBoundingBox_X', 'FaceBoundingBox_Y','FaceBoundingBox_W', 'FaceBoundingBox_H', 'HeadPoseAngles_X', \n",
    "# #            'HeadPoseAngles_Y','HeadPoseAngles_Z', 'LeftEyeBoundingBox_X', 'LeftEyeBoundingBox_Y', 'LeftEyeBoundingBox_W', \n",
    "# #            'LeftEyeBoundingBox_H', 'RightEyeBoundingBox_X', 'RightEyeBoundingBox_Y', 'RightEyeBoundingBox_W', 'RightEyeBoundingBox_H', \n",
    "# #            'EyeLandmarks_1_X', 'EyeLandmarks_1_Y', 'EyeLandmarks_2_X', 'EyeLandmarks_2_Y', 'EyeLandmarks_3_X', \n",
    "# #            'EyeLandmarks_3_Y', 'EyeLandmarks_4_X', 'EyeLandmarks_4_Y', 'LeftEyeMidPoint_X', 'LeftEyeMidPoint_Y', \n",
    "# #            'RightEyeMidPoint_X','RightEyeMidPoint_Y', 'EyeState_Left', 'EyeState_Right']"
   ]
  },
  {
   "cell_type": "code",
   "execution_count": 15,
   "metadata": {
    "executionInfo": {
     "elapsed": 294,
     "status": "ok",
     "timestamp": 1683272745202,
     "user": {
      "displayName": "洪啟豪",
      "userId": "08277187360257942838"
     },
     "user_tz": -480
    },
    "id": "cIPbb2lQ360r"
   },
   "outputs": [],
   "source": [
    "# df_train = df_train.drop(del_col, axis = 1)"
   ]
  },
  {
   "cell_type": "code",
   "execution_count": 16,
   "metadata": {},
   "outputs": [],
   "source": [
    "# 列出重要的特徵。重要特徵選取，係由XGBoost的Feature importance圖選取前幾名。\n",
    "col_high_rel = ['HeadPoseAngles_Y', 'GazeVector_X', 'GazeVector_Z', 'GazeVector_Y', 'HeadPoseAngles_Z']\n",
    "col_deleted = ['FaceBoundingBox_X', 'FaceBoundingBox_Y']"
   ]
  },
  {
   "cell_type": "code",
   "execution_count": 17,
   "metadata": {
    "executionInfo": {
     "elapsed": 2,
     "status": "ok",
     "timestamp": 1683272769456,
     "user": {
      "displayName": "洪啟豪",
      "userId": "08277187360257942838"
     },
     "user_tz": -480
    },
    "id": "Mx1cTiP84BdZ"
   },
   "outputs": [],
   "source": [
    "# from sklearn.preprocessing import StandardScaler\n",
    "# from sklearn.preprocessing import MinMaxScaler"
   ]
  },
  {
   "cell_type": "code",
   "execution_count": 18,
   "metadata": {
    "executionInfo": {
     "elapsed": 1,
     "status": "ok",
     "timestamp": 1683272778108,
     "user": {
      "displayName": "洪啟豪",
      "userId": "08277187360257942838"
     },
     "user_tz": -480
    },
    "id": "M8QbPi5h4DdK"
   },
   "outputs": [],
   "source": [
    "# def data_preprocessing(df_input, train=True, sc=None):\n",
    "#     # numeric feature standardization\n",
    "#     if train:\n",
    "#         sc = StandardScaler()\n",
    "# #         sc = MinMaxScaler()\n",
    "#         df = sc.fit_transform(df_input.iloc[:, 0:-1])\n",
    "#     else:\n",
    "#         df = sc.transform(df_input)\n",
    "#     return df, sc"
   ]
  },
  {
   "cell_type": "code",
   "execution_count": 19,
   "metadata": {
    "executionInfo": {
     "elapsed": 403,
     "status": "ok",
     "timestamp": 1683272800871,
     "user": {
      "displayName": "洪啟豪",
      "userId": "08277187360257942838"
     },
     "user_tz": -480
    },
    "id": "Hb_XcPl-4Ilc"
   },
   "outputs": [],
   "source": [
    "# X, train_sc = data_preprocessing(df_train)"
   ]
  },
  {
   "cell_type": "code",
   "execution_count": 20,
   "metadata": {
    "executionInfo": {
     "elapsed": 2,
     "status": "ok",
     "timestamp": 1683272807931,
     "user": {
      "displayName": "洪啟豪",
      "userId": "08277187360257942838"
     },
     "user_tz": -480
    },
    "id": "tp_Ld27s4IqQ"
   },
   "outputs": [],
   "source": [
    "# print(X.shape)"
   ]
  },
  {
   "cell_type": "code",
   "execution_count": 21,
   "metadata": {
    "executionInfo": {
     "elapsed": 295,
     "status": "ok",
     "timestamp": 1683272836494,
     "user": {
      "displayName": "洪啟豪",
      "userId": "08277187360257942838"
     },
     "user_tz": -480
    },
    "id": "hENgTdTw4L5x"
   },
   "outputs": [],
   "source": [
    "# print(train_sc.mean_)"
   ]
  },
  {
   "cell_type": "code",
   "execution_count": 22,
   "metadata": {
    "executionInfo": {
     "elapsed": 2,
     "status": "ok",
     "timestamp": 1683272836776,
     "user": {
      "displayName": "洪啟豪",
      "userId": "08277187360257942838"
     },
     "user_tz": -480
    },
    "id": "-Sgd71MJ4L8g"
   },
   "outputs": [],
   "source": [
    "# print(train_sc.var_)"
   ]
  },
  {
   "cell_type": "code",
   "execution_count": 23,
   "metadata": {
    "executionInfo": {
     "elapsed": 2,
     "status": "ok",
     "timestamp": 1683272837461,
     "user": {
      "displayName": "洪啟豪",
      "userId": "08277187360257942838"
     },
     "user_tz": -480
    },
    "id": "bBK6bLke4Pur"
   },
   "outputs": [
    {
     "name": "stdout",
     "output_type": "stream",
     "text": [
      "(16445,)\n"
     ]
    }
   ],
   "source": [
    "y = df_train['RecordType'].values\n",
    "print(y.shape)"
   ]
  },
  {
   "cell_type": "code",
   "execution_count": 24,
   "metadata": {
    "colab": {
     "base_uri": "https://localhost:8080/"
    },
    "executionInfo": {
     "elapsed": 286,
     "status": "ok",
     "timestamp": 1683272852310,
     "user": {
      "displayName": "洪啟豪",
      "userId": "08277187360257942838"
     },
     "user_tz": -480
    },
    "id": "go8zGBNb4PxY",
    "outputId": "3f4e89bc-cc7e-461b-dc11-c796893b826e"
   },
   "outputs": [],
   "source": [
    "# 刪除沒有被列在重要特徵列表的特徵。\n",
    "def ReserveImportColumns(df_data, col_reserved):\n",
    "    for col_name in df_data.columns.to_list():\n",
    "        if col_name not in col_reserved:\n",
    "            df_data = df_data.drop(col_name, axis = 1)\n",
    "    return df_data"
   ]
  },
  {
   "cell_type": "code",
   "execution_count": 25,
   "metadata": {},
   "outputs": [
    {
     "name": "stdout",
     "output_type": "stream",
     "text": [
      "(16445, 5)\n",
      "Index(['HeadPoseAngles_Y', 'HeadPoseAngles_Z', 'GazeVector_X', 'GazeVector_Y',\n",
      "       'GazeVector_Z'],\n",
      "      dtype='object')\n"
     ]
    }
   ],
   "source": [
    "df_train.drop(col_deleted, axis = 1)\n",
    "df_train = ReserveImportColumns(df_train, col_high_rel)\n",
    "\n",
    "print(df_train.shape)\n",
    "print(df_train.columns)"
   ]
  },
  {
   "cell_type": "code",
   "execution_count": 26,
   "metadata": {
    "colab": {
     "base_uri": "https://localhost:8080/"
    },
    "executionInfo": {
     "elapsed": 3,
     "status": "ok",
     "timestamp": 1683272924915,
     "user": {
      "displayName": "洪啟豪",
      "userId": "08277187360257942838"
     },
     "user_tz": -480
    },
    "id": "TNB5pJbb4WsD",
    "outputId": "920a26c2-3b02-45f4-ab0c-2786261c48db"
   },
   "outputs": [
    {
     "name": "stdout",
     "output_type": "stream",
     "text": [
      "[1 1 1 ... 1 1 1]\n"
     ]
    }
   ],
   "source": [
    "np.unique(y)\n",
    "print(y)"
   ]
  },
  {
   "cell_type": "markdown",
   "metadata": {
    "id": "um2l6IbO4rWP"
   },
   "source": [
    "## 切割訓練集"
   ]
  },
  {
   "cell_type": "code",
   "execution_count": 27,
   "metadata": {},
   "outputs": [],
   "source": [
    "# npa_train = df_train.to_numpy()"
   ]
  },
  {
   "cell_type": "code",
   "execution_count": 28,
   "metadata": {
    "executionInfo": {
     "elapsed": 290,
     "status": "ok",
     "timestamp": 1683273003986,
     "user": {
      "displayName": "洪啟豪",
      "userId": "08277187360257942838"
     },
     "user_tz": -480
    },
    "id": "mCVapya40DDk"
   },
   "outputs": [],
   "source": [
    "random_seed = 5  # set seed for same train test data split\n",
    "x_train, x_test, y_train, y_test = train_test_split(df_train, \n",
    "                                                    y, \n",
    "                                                    test_size=0.25, \n",
    "                                                    random_state=random_seed)"
   ]
  },
  {
   "cell_type": "code",
   "execution_count": 29,
   "metadata": {
    "colab": {
     "base_uri": "https://localhost:8080/"
    },
    "executionInfo": {
     "elapsed": 327,
     "status": "ok",
     "timestamp": 1683273008371,
     "user": {
      "displayName": "洪啟豪",
      "userId": "08277187360257942838"
     },
     "user_tz": -480
    },
    "id": "WvGMAAGN0EoL",
    "outputId": "e422840f-bebf-4cfc-9a11-007bbf179722"
   },
   "outputs": [
    {
     "name": "stdout",
     "output_type": "stream",
     "text": [
      "shape of x_train:  (12333, 5)\n"
     ]
    }
   ],
   "source": [
    "print(\"shape of x_train: \", x_train.shape)"
   ]
  },
  {
   "cell_type": "code",
   "execution_count": 30,
   "metadata": {
    "colab": {
     "base_uri": "https://localhost:8080/"
    },
    "executionInfo": {
     "elapsed": 3,
     "status": "ok",
     "timestamp": 1683273009800,
     "user": {
      "displayName": "洪啟豪",
      "userId": "08277187360257942838"
     },
     "user_tz": -480
    },
    "id": "v3SGW-SI0Gb4",
    "outputId": "0f3a783b-ff38-4564-d6dd-aee9926ac649"
   },
   "outputs": [
    {
     "name": "stdout",
     "output_type": "stream",
     "text": [
      "shape of x_test:  (4112, 5)\n"
     ]
    }
   ],
   "source": [
    "print(\"shape of x_test: \", x_test.shape)"
   ]
  },
  {
   "cell_type": "code",
   "execution_count": 31,
   "metadata": {
    "executionInfo": {
     "elapsed": 3,
     "status": "ok",
     "timestamp": 1683273058410,
     "user": {
      "displayName": "洪啟豪",
      "userId": "08277187360257942838"
     },
     "user_tz": -480
    },
    "id": "B6bPqC0H0IIC"
   },
   "outputs": [],
   "source": [
    "clf = DecisionTreeClassifier()"
   ]
  },
  {
   "cell_type": "code",
   "execution_count": 32,
   "metadata": {
    "colab": {
     "base_uri": "https://localhost:8080/",
     "height": 74
    },
    "executionInfo": {
     "elapsed": 323,
     "status": "ok",
     "timestamp": 1683273163525,
     "user": {
      "displayName": "洪啟豪",
      "userId": "08277187360257942838"
     },
     "user_tz": -480
    },
    "id": "CdUx-MhY0KQR",
    "outputId": "bbda9184-6c8b-4f9c-ed6f-3c89a5acc13c"
   },
   "outputs": [
    {
     "data": {
      "text/plain": [
       "DecisionTreeClassifier(ccp_alpha=0.0, class_weight=None, criterion='gini',\n",
       "                       max_depth=None, max_features=None, max_leaf_nodes=None,\n",
       "                       min_impurity_decrease=0.0, min_impurity_split=None,\n",
       "                       min_samples_leaf=1, min_samples_split=2,\n",
       "                       min_weight_fraction_leaf=0.0, presort='deprecated',\n",
       "                       random_state=None, splitter='best')"
      ]
     },
     "execution_count": 32,
     "metadata": {},
     "output_type": "execute_result"
    }
   ],
   "source": [
    "clf.fit(x_train, y_train)"
   ]
  },
  {
   "cell_type": "code",
   "execution_count": 33,
   "metadata": {
    "executionInfo": {
     "elapsed": 3,
     "status": "ok",
     "timestamp": 1683273205614,
     "user": {
      "displayName": "洪啟豪",
      "userId": "08277187360257942838"
     },
     "user_tz": -480
    },
    "id": "E0u_7SSi0LtP"
   },
   "outputs": [],
   "source": [
    "y_pred = clf.predict(x_test)"
   ]
  },
  {
   "cell_type": "code",
   "execution_count": 34,
   "metadata": {
    "colab": {
     "base_uri": "https://localhost:8080/"
    },
    "executionInfo": {
     "elapsed": 266,
     "status": "ok",
     "timestamp": 1683273225261,
     "user": {
      "displayName": "洪啟豪",
      "userId": "08277187360257942838"
     },
     "user_tz": -480
    },
    "id": "jLRDHa7r0N_E",
    "outputId": "4dca632c-7b10-46f8-9268-5b658872d0f8"
   },
   "outputs": [
    {
     "data": {
      "text/plain": [
       "0.9674124513618677"
      ]
     },
     "execution_count": 34,
     "metadata": {},
     "output_type": "execute_result"
    }
   ],
   "source": [
    "accuracy_score(y_test, y_pred)"
   ]
  },
  {
   "cell_type": "code",
   "execution_count": 35,
   "metadata": {
    "colab": {
     "base_uri": "https://localhost:8080/"
    },
    "executionInfo": {
     "elapsed": 396,
     "status": "ok",
     "timestamp": 1683273264275,
     "user": {
      "displayName": "洪啟豪",
      "userId": "08277187360257942838"
     },
     "user_tz": -480
    },
    "id": "4nB4skkg0S38",
    "outputId": "9e306b54-9462-4bf8-ab39-d5e4cd92d0e4"
   },
   "outputs": [
    {
     "data": {
      "text/plain": [
       "array([0.11310645, 0.08847988, 0.07453937, 0.06878289, 0.65509141])"
      ]
     },
     "execution_count": 35,
     "metadata": {},
     "output_type": "execute_result"
    }
   ],
   "source": [
    "clf.feature_importances_"
   ]
  },
  {
   "cell_type": "markdown",
   "metadata": {
    "id": "dSWwY7Kh6L7O"
   },
   "source": [
    "## 模型測試"
   ]
  },
  {
   "cell_type": "code",
   "execution_count": 36,
   "metadata": {},
   "outputs": [],
   "source": [
    "def GetScene2AccuractFromTest(arrTestAns, correctAns):\n",
    "    accurate_rate = np.count_nonzero(arrTestAns == correctAns) / len(arrTestAns)\n",
    "#     print(accurate_rate)\n",
    "    return accurate_rate"
   ]
  },
  {
   "cell_type": "code",
   "execution_count": 37,
   "metadata": {
    "executionInfo": {
     "elapsed": 316,
     "status": "ok",
     "timestamp": 1683273369979,
     "user": {
      "displayName": "洪啟豪",
      "userId": "08277187360257942838"
     },
     "user_tz": -480
    },
    "id": "VYr_5ehF0aCd"
   },
   "outputs": [
    {
     "name": "stdout",
     "output_type": "stream",
     "text": [
      "Total count: 1082, gaze vector zero count: 0\n",
      "Total count: 1082\n"
     ]
    }
   ],
   "source": [
    "# Test\n",
    "# 測試一個答案全部為1的資料。\n",
    "df_test = pd.read_csv('/project/xt121-group5/scene2_data/test_data/2023-05-17 194144 c.csv')\n",
    "df_test = RemoveNoise(df_test, \n",
    "                      (df_test['GazeVector_X'] == 0) & \n",
    "                      (df_test['GazeVector_Y'] == 0) & \n",
    "                      (df_test['GazeVector_Z'] == 0))\n",
    "df_test = FaceLandmarksPreprocessing(df_test)\n",
    "df_test = df_test.drop(col_deleted, axis = 1)\n",
    "df_test = ReserveImportColumns(df_test, col_high_rel)\n",
    "# test, _ = data_preprocessing(df_test, train=False, sc=train_sc)"
   ]
  },
  {
   "cell_type": "code",
   "execution_count": 38,
   "metadata": {
    "colab": {
     "base_uri": "https://localhost:8080/"
    },
    "executionInfo": {
     "elapsed": 4,
     "status": "ok",
     "timestamp": 1683273393993,
     "user": {
      "displayName": "洪啟豪",
      "userId": "08277187360257942838"
     },
     "user_tz": -480
    },
    "id": "lLq-8v7K6UV5",
    "outputId": "168b6497-8c1c-44ff-c268-e6f75eb31b05"
   },
   "outputs": [
    {
     "name": "stdout",
     "output_type": "stream",
     "text": [
      "Index(['HeadPoseAngles_Y', 'HeadPoseAngles_Z', 'GazeVector_X', 'GazeVector_Y',\n",
      "       'GazeVector_Z'],\n",
      "      dtype='object')\n",
      "(1082,)\n",
      "<class 'numpy.ndarray'>\n"
     ]
    }
   ],
   "source": [
    "print(df_test.columns)\n",
    "npa_test = df_test.to_numpy()\n",
    "pred = clf.predict(npa_test)\n",
    "print(pred.shape)\n",
    "print(type(pred))"
   ]
  },
  {
   "cell_type": "code",
   "execution_count": 39,
   "metadata": {
    "colab": {
     "base_uri": "https://localhost:8080/"
    },
    "executionInfo": {
     "elapsed": 305,
     "status": "ok",
     "timestamp": 1683273403090,
     "user": {
      "displayName": "洪啟豪",
      "userId": "08277187360257942838"
     },
     "user_tz": -480
    },
    "id": "3Y0BjDeT6VDt",
    "outputId": "1798fd21-ec59-475b-d350-9d0e927b071d"
   },
   "outputs": [
    {
     "name": "stdout",
     "output_type": "stream",
     "text": [
      "[1 1 1 ... 1 1 1]\n",
      "Test accurate rate: 0.8743068391866913\n"
     ]
    }
   ],
   "source": [
    "print(pred)\n",
    "print(f'Test accurate rate: {GetScene2AccuractFromTest(pred, 1)}')"
   ]
  },
  {
   "cell_type": "code",
   "execution_count": 40,
   "metadata": {
    "executionInfo": {
     "elapsed": 306,
     "status": "ok",
     "timestamp": 1683273431561,
     "user": {
      "displayName": "洪啟豪",
      "userId": "08277187360257942838"
     },
     "user_tz": -480
    },
    "id": "CiSaY13L6cbD"
   },
   "outputs": [
    {
     "name": "stdout",
     "output_type": "stream",
     "text": [
      "Total count: 956, gaze vector zero count: 70\n",
      "Total count: 886\n"
     ]
    }
   ],
   "source": [
    "# Test\n",
    "# 測試一個答案全部為0的資料。\n",
    "df_test = pd.read_csv('/project/xt121-group5/scene2_data/test_data/2023-05-17 194223 nc.csv')\n",
    "df_test = RemoveNoise(df_test, \n",
    "                      (df_test['GazeVector_X'] == 0) & \n",
    "                      (df_test['GazeVector_Y'] == 0) & \n",
    "                      (df_test['GazeVector_Z'] == 0))\n",
    "df_test = FaceLandmarksPreprocessing(df_test)\n",
    "df_test = df_test.drop(col_deleted, axis = 1)\n",
    "df_test = ReserveImportColumns(df_test, col_high_rel)\n",
    "# test, _ = data_preprocessing(df_test, train=False, sc=train_sc)"
   ]
  },
  {
   "cell_type": "code",
   "execution_count": 41,
   "metadata": {
    "colab": {
     "base_uri": "https://localhost:8080/"
    },
    "executionInfo": {
     "elapsed": 5,
     "status": "ok",
     "timestamp": 1683273445066,
     "user": {
      "displayName": "洪啟豪",
      "userId": "08277187360257942838"
     },
     "user_tz": -480
    },
    "id": "9R0OWRYP6jVQ",
    "outputId": "a371cbfb-5679-489d-99f5-646b11da6b5e"
   },
   "outputs": [
    {
     "name": "stdout",
     "output_type": "stream",
     "text": [
      "[0 0 0 0 0 0 0 0 0 0 0 0 0 0 0 0 0 0 0 0 0 0 0 0 0 0 0 0 0 0 0 0 0 0 0 0 0\n",
      " 0 0 0 0 0 0 0 0 0 0 0 0 0 0 0 0 0 0 0 0 0 0 0 0 0 0 0 0 0 0 0 0 0 0 0 0 0\n",
      " 0 0 0 0 0 0 0 0 0 0 0 0 0 0 0 0 0 0 0 0 0 0 0 0 0 0 0 0 0 0 0 0 0 0 0 0 0\n",
      " 0 0 0 0 0 0 0 0 0 0 0 0 0 0 0 0 0 0 0 0 0 0 0 0 0 0 0 0 0 0 0 0 0 0 0 0 0\n",
      " 0 0 0 0 0 0 0 0 0 0 0 0 0 0 0 0 0 0 0 0 0 0 0 0 0 0 0 0 0 1 0 0 0 0 0 0 0\n",
      " 0 0 0 0 0 0 0 0 0 0 0 0 0 0 0 0 0 1 0 0 0 0 0 0 0 0 0 0 0 0 0 0 0 0 0 0 0\n",
      " 0 0 0 0 0 0 0 0 0 0 1 0 1 1 0 0 0 0 0 0 0 0 0 0 1 0 0 0 0 1 0 0 0 0 0 0 0\n",
      " 0 0 0 0 0 0 0 0 0 0 0 0 0 0 0 0 0 0 0 0 0 0 0 0 0 0 0 0 0 0 0 0 0 0 0 0 0\n",
      " 0 0 0 0 0 0 0 0 0 0 0 0 0 0 0 0 0 0 0 0 0 0 0 0 0 0 0 0 0 0 0 0 0 0 0 0 0\n",
      " 0 0 0 0 0 0 0 0 0 0 0 0 0 0 0 0 0 0 0 0 0 0 0 0 0 0 0 0 0 0 0 0 0 0 0 0 0\n",
      " 0 0 0 0 0 0 0 0 0 0 0 0 0 0 0 0 0 0 0 0 0 0 0 0 0 0 0 0 0 0 0 0 0 0 0 0 0\n",
      " 0 0 0 0 0 0 0 0 0 0 0 0 0 0 0 0 0 0 0 0 0 0 0 0 0 0 0 0 0 0 0 0 0 0 0 0 0\n",
      " 0 0 1 0 0 1 0 1 0 0 0 1 0 0 0 0 0 0 0 0 0 0 0 0 0 0 0 0 0 0 0 0 0 0 0 0 0\n",
      " 0 0 0 0 0 0 0 0 0 0 0 0 0 0 0 0 0 0 0 0 0 0 0 0 0 0 0 0 0 0 0 0 0 0 0 0 0\n",
      " 0 0 0 0 0 0 0 0 0 0 0 0 0 0 0 0 0 0 0 0 0 0 0 0 0 0 0 0 1 0 0 0 1 0 0 0 0\n",
      " 0 0 0 0 0 0 0 0 0 0 0 0 0 0 0 0 0 0 0 0 0 0 0 0 0 0 0 0 0 0 0 0 0 0 0 0 0\n",
      " 0 0 0 0 0 0 0 0 0 0 0 0 0 0 0 0 0 0 0 0 0 0 0 0 0 0 0 0 0 0 0 0 0 0 0 0 0\n",
      " 0 0 0 0 0 0 0 0 0 0 0 0 0 0 0 0 0 0 0 0 0 0 0 0 0 0 0 0 0 0 0 0 0 0 0 0 0\n",
      " 0 0 0 0 0 0 0 0 0 0 0 0 0 1 0 0 0 0 0 0 0 0 0 0 1 0 0 0 0 0 0 0 0 0 0 0 0\n",
      " 0 0 0 0 0 1 1 0 0 0 0 0 0 0 0 0 0 0 0 0 0 0 0 0 0 0 0 0 0 0 0 0 0 0 0 0 0\n",
      " 0 0 0 0 0 0 0 0 0 0 0 1 0 0 0 0 0 0 0 0 0 0 0 0 0 1 0 0 0 0 0 0 0 0 0 0 0\n",
      " 0 0 0 0 0 0 0 0 0 0 0 0 0 0 0 0 0 0 0 0 0 0 0 0 0 0 0 0 0 0 0 0 0 0 0 0 0\n",
      " 0 0 0 0 0 0 0 0 0 0 0 0 0 0 0 0 0 0 0 0 1 0 1 0 0 1 0 0 0 0 0 1 0 0 0 0 0\n",
      " 0 0 0 0 0 0 0 0 0 0 0 0 0 0 0 0 0 0 0 0 0 0 0 0 0 0 0 0 0 0 0 0 0 0 0]\n",
      "Test accurate rate: 0.9740406320541761\n"
     ]
    }
   ],
   "source": [
    "npa_test = df_test.to_numpy()\n",
    "pred = clf.predict(npa_test)\n",
    "print(pred)\n",
    "print(f'Test accurate rate: {GetScene2AccuractFromTest(pred, 0)}')"
   ]
  },
  {
   "cell_type": "markdown",
   "metadata": {},
   "source": [
    "## 儲存模型"
   ]
  },
  {
   "cell_type": "markdown",
   "metadata": {},
   "source": [
    "### 方法1. joblib"
   ]
  },
  {
   "cell_type": "code",
   "execution_count": 42,
   "metadata": {
    "colab": {
     "base_uri": "https://localhost:8080/"
    },
    "executionInfo": {
     "elapsed": 382,
     "status": "ok",
     "timestamp": 1683273638218,
     "user": {
      "displayName": "洪啟豪",
      "userId": "08277187360257942838"
     },
     "user_tz": -480
    },
    "id": "ELaZ82sQ7M-w",
    "outputId": "b6481089-4a53-4eb4-feea-7eae5a35a3d9"
   },
   "outputs": [
    {
     "data": {
      "text/plain": [
       "['./DT_joblib_model']"
      ]
     },
     "execution_count": 42,
     "metadata": {},
     "output_type": "execute_result"
    }
   ],
   "source": [
    "# Save model\n",
    "import joblib\n",
    "joblib.dump(clf, './DT_joblib_model')\n",
    "\n",
    "# Load model\n",
    "# loaded_dt_model = joblib.load('./DT_joblib_model')\n",
    "# pred = loaded_dt_model.predict(npa_test)\n",
    "# print(pred)"
   ]
  },
  {
   "cell_type": "markdown",
   "metadata": {
    "id": "UkH99r0g7Vyj"
   },
   "source": [
    "### 方法2. pickle"
   ]
  },
  {
   "cell_type": "code",
   "execution_count": 43,
   "metadata": {},
   "outputs": [
    {
     "name": "stdout",
     "output_type": "stream",
     "text": [
      "[0 0 0 0 0 0 0 0 0 0 0 0 0 0 0 0 0 0 0 0 0 0 0 0 0 0 0 0 0 0 0 0 0 0 0 0 0\n",
      " 0 0 0 0 0 0 0 0 0 0 0 0 0 0 0 0 0 0 0 0 0 0 0 0 0 0 0 0 0 0 0 0 0 0 0 0 0\n",
      " 0 0 0 0 0 0 0 0 0 0 0 0 0 0 0 0 0 0 0 0 0 0 0 0 0 0 0 0 0 0 0 0 0 0 0 0 0\n",
      " 0 0 0 0 0 0 0 0 0 0 0 0 0 0 0 0 0 0 0 0 0 0 0 0 0 0 0 0 0 0 0 0 0 0 0 0 0\n",
      " 0 0 0 0 0 0 0 0 0 0 0 0 0 0 0 0 0 0 0 0 0 0 0 0 0 0 0 0 0 1 0 0 0 0 0 0 0\n",
      " 0 0 0 0 0 0 0 0 0 0 0 0 0 0 0 0 0 1 0 0 0 0 0 0 0 0 0 0 0 0 0 0 0 0 0 0 0\n",
      " 0 0 0 0 0 0 0 0 0 0 1 0 1 1 0 0 0 0 0 0 0 0 0 0 1 0 0 0 0 1 0 0 0 0 0 0 0\n",
      " 0 0 0 0 0 0 0 0 0 0 0 0 0 0 0 0 0 0 0 0 0 0 0 0 0 0 0 0 0 0 0 0 0 0 0 0 0\n",
      " 0 0 0 0 0 0 0 0 0 0 0 0 0 0 0 0 0 0 0 0 0 0 0 0 0 0 0 0 0 0 0 0 0 0 0 0 0\n",
      " 0 0 0 0 0 0 0 0 0 0 0 0 0 0 0 0 0 0 0 0 0 0 0 0 0 0 0 0 0 0 0 0 0 0 0 0 0\n",
      " 0 0 0 0 0 0 0 0 0 0 0 0 0 0 0 0 0 0 0 0 0 0 0 0 0 0 0 0 0 0 0 0 0 0 0 0 0\n",
      " 0 0 0 0 0 0 0 0 0 0 0 0 0 0 0 0 0 0 0 0 0 0 0 0 0 0 0 0 0 0 0 0 0 0 0 0 0\n",
      " 0 0 1 0 0 1 0 1 0 0 0 1 0 0 0 0 0 0 0 0 0 0 0 0 0 0 0 0 0 0 0 0 0 0 0 0 0\n",
      " 0 0 0 0 0 0 0 0 0 0 0 0 0 0 0 0 0 0 0 0 0 0 0 0 0 0 0 0 0 0 0 0 0 0 0 0 0\n",
      " 0 0 0 0 0 0 0 0 0 0 0 0 0 0 0 0 0 0 0 0 0 0 0 0 0 0 0 0 1 0 0 0 1 0 0 0 0\n",
      " 0 0 0 0 0 0 0 0 0 0 0 0 0 0 0 0 0 0 0 0 0 0 0 0 0 0 0 0 0 0 0 0 0 0 0 0 0\n",
      " 0 0 0 0 0 0 0 0 0 0 0 0 0 0 0 0 0 0 0 0 0 0 0 0 0 0 0 0 0 0 0 0 0 0 0 0 0\n",
      " 0 0 0 0 0 0 0 0 0 0 0 0 0 0 0 0 0 0 0 0 0 0 0 0 0 0 0 0 0 0 0 0 0 0 0 0 0\n",
      " 0 0 0 0 0 0 0 0 0 0 0 0 0 1 0 0 0 0 0 0 0 0 0 0 1 0 0 0 0 0 0 0 0 0 0 0 0\n",
      " 0 0 0 0 0 1 1 0 0 0 0 0 0 0 0 0 0 0 0 0 0 0 0 0 0 0 0 0 0 0 0 0 0 0 0 0 0\n",
      " 0 0 0 0 0 0 0 0 0 0 0 1 0 0 0 0 0 0 0 0 0 0 0 0 0 1 0 0 0 0 0 0 0 0 0 0 0\n",
      " 0 0 0 0 0 0 0 0 0 0 0 0 0 0 0 0 0 0 0 0 0 0 0 0 0 0 0 0 0 0 0 0 0 0 0 0 0\n",
      " 0 0 0 0 0 0 0 0 0 0 0 0 0 0 0 0 0 0 0 0 1 0 1 0 0 1 0 0 0 0 0 1 0 0 0 0 0\n",
      " 0 0 0 0 0 0 0 0 0 0 0 0 0 0 0 0 0 0 0 0 0 0 0 0 0 0 0 0 0 0 0 0 0 0 0]\n"
     ]
    }
   ],
   "source": [
    "import pickle\n",
    "\n",
    "# save\n",
    "with open('DT_pickle_model.pkl','wb') as f:\n",
    "    pickle.dump(clf,f)\n",
    "\n",
    "# load\n",
    "with open('DT_pickle_model.pkl', 'rb') as f:\n",
    "    clf2 = pickle.load(f)\n",
    "    \n",
    "pred = clf2.predict(npa_test)\n",
    "print(pred)"
   ]
  },
  {
   "cell_type": "code",
   "execution_count": null,
   "metadata": {},
   "outputs": [],
   "source": []
  }
 ],
 "metadata": {
  "colab": {
   "authorship_tag": "ABX9TyM5V82e1VKcmO57OlgY3pDl",
   "provenance": [
    {
     "file_id": "1bSaZ7oqmQ57MOEpZby0cIIr54MncpdEp",
     "timestamp": 1683273697549
    }
   ]
  },
  "kernelspec": {
   "display_name": "Python 3 (ipykernel)",
   "language": "python",
   "name": "python3"
  },
  "language_info": {
   "codemirror_mode": {
    "name": "ipython",
    "version": 3
   },
   "file_extension": ".py",
   "mimetype": "text/x-python",
   "name": "python",
   "nbconvert_exporter": "python",
   "pygments_lexer": "ipython3",
   "version": "3.7.12"
  }
 },
 "nbformat": 4,
 "nbformat_minor": 4
}
