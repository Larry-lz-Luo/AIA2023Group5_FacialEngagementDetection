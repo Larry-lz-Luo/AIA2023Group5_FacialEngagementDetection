{
 "cells": [
  {
   "cell_type": "code",
   "execution_count": 1,
   "metadata": {
    "executionInfo": {
     "elapsed": 442,
     "status": "ok",
     "timestamp": 1683108001707,
     "user": {
      "displayName": "洪啟豪",
      "userId": "08277187360257942838"
     },
     "user_tz": -480
    },
    "id": "VvdgLfSBfWcj"
   },
   "outputs": [],
   "source": [
    "from sklearn.datasets import load_iris, load_digits\n",
    "from sklearn.ensemble import RandomForestClassifier\n",
    "from sklearn.model_selection import train_test_split\n",
    "from sklearn.metrics import accuracy_score\n",
    "import pandas as pd\n",
    "import numpy as np\n",
    "import matplotlib.pyplot as plt"
   ]
  },
  {
   "cell_type": "markdown",
   "metadata": {
    "id": "DUr-CxsjFeAe"
   },
   "source": [
    "## 載入資料集"
   ]
  },
  {
   "cell_type": "code",
   "execution_count": 2,
   "metadata": {
    "executionInfo": {
     "elapsed": 8,
     "status": "ok",
     "timestamp": 1683108002244,
     "user": {
      "displayName": "洪啟豪",
      "userId": "08277187360257942838"
     },
     "user_tz": -480
    },
    "id": "YX9lMiQckw1E"
   },
   "outputs": [
    {
     "name": "stdout",
     "output_type": "stream",
     "text": [
      "/project/xt121-group5/scene2_data/charlie/2023-05-05 103150_c.csv\n",
      "/project/xt121-group5/scene2_data/charlie/2023-05-05 103233_nc.csv\n"
     ]
    }
   ],
   "source": [
    "import os\n",
    "df_train = pd.core.frame.DataFrame()\n",
    "# for dirname, _, filenames in os.walk('/project/xt121-group5/scene2_data/larry'):\n",
    "for dirname, _, filenames in os.walk('/project/xt121-group5/scene2_data/charlie'):\n",
    "    for filename in filenames:\n",
    "        print(os.path.join(dirname, filename))\n",
    "        df_train2 = pd.read_csv(os.path.join(dirname, filename))\n",
    "#         df_train = df_train.append(df_train2, ignore_index=True)\n",
    "        df_train = pd.concat([df_train, df_train2])\n",
    "# df_train1 = pd.read_csv('/project/xt121-group5/scene2_data/larry/2023-05-01 232329.csv')\n",
    "# df_train2 = pd.read_csv('/project/xt121-group5/scene2_data/larry/2023-05-01 232448.csv')\n",
    "# df_train = df_train1.append(df_train2, ignore_index=True)\n",
    "df_train = df_train.drop(labels=['RecordTime'], axis=1) # 移除 RecordTime"
   ]
  },
  {
   "cell_type": "markdown",
   "metadata": {
    "id": "tRUsg-KdFmDX"
   },
   "source": [
    "## 檢查缺失值"
   ]
  },
  {
   "cell_type": "code",
   "execution_count": 3,
   "metadata": {
    "colab": {
     "base_uri": "https://localhost:8080/"
    },
    "executionInfo": {
     "elapsed": 7,
     "status": "ok",
     "timestamp": 1683108002244,
     "user": {
      "displayName": "洪啟豪",
      "userId": "08277187360257942838"
     },
     "user_tz": -480
    },
    "id": "Lpto4XmVf0XF",
    "outputId": "2f593798-e79e-4107-a6ee-79711ddcdb88"
   },
   "outputs": [
    {
     "name": "stdout",
     "output_type": "stream",
     "text": [
      "(1752, 103)\n",
      "<class 'pandas.core.frame.DataFrame'>\n",
      "<bound method DataFrame.info of       FaceBoundingBox_X  FaceBoundingBox_Y  FaceBoundingBox_W  \\\n",
      "0                   506                175                326   \n",
      "1                   505                175                327   \n",
      "2                   506                175                325   \n",
      "3                   506                174                325   \n",
      "4                   506                175                325   \n",
      "...                 ...                ...                ...   \n",
      "1092                439                152                368   \n",
      "1093                440                152                368   \n",
      "1094                439                153                368   \n",
      "1095                440                153                367   \n",
      "1096                438                153                369   \n",
      "\n",
      "      FaceBoundingBox_H  FaceLandmarks_1_X  FaceLandmarks_1_Y  \\\n",
      "0                   326                635                306   \n",
      "1                   327                635                307   \n",
      "2                   325                635                306   \n",
      "3                   325                634                306   \n",
      "4                   325                636                306   \n",
      "...                 ...                ...                ...   \n",
      "1092                368                550                285   \n",
      "1093                368                551                284   \n",
      "1094                368                550                286   \n",
      "1095                367                550                285   \n",
      "1096                369                550                285   \n",
      "\n",
      "      FaceLandmarks_2_X  FaceLandmarks_2_Y  FaceLandmarks_3_X  \\\n",
      "0                   593                308                704   \n",
      "1                   594                309                704   \n",
      "2                   593                308                705   \n",
      "3                   592                308                703   \n",
      "4                   594                309                705   \n",
      "...                 ...                ...                ...   \n",
      "1092                520                288                613   \n",
      "1093                520                287                614   \n",
      "1094                520                289                612   \n",
      "1095                520                288                613   \n",
      "1096                520                288                612   \n",
      "\n",
      "      FaceLandmarks_3_Y  ...  EyeLandmarks_4_X  EyeLandmarks_4_Y  \\\n",
      "0                   302  ...               745               301   \n",
      "1                   302  ...               745               300   \n",
      "2                   302  ...               746               300   \n",
      "3                   301  ...               745               300   \n",
      "4                   301  ...               746               299   \n",
      "...                 ...  ...               ...               ...   \n",
      "1092                283  ...               651               283   \n",
      "1093                283  ...               652               283   \n",
      "1094                283  ...               650               283   \n",
      "1095                283  ...               651               283   \n",
      "1096                283  ...               649               283   \n",
      "\n",
      "      LeftEyeMidPoint_X  LeftEyeMidPoint_Y  RightEyeMidPoint_X  \\\n",
      "0                 614.0              307.0               724.5   \n",
      "1                 614.5              308.0               724.5   \n",
      "2                 614.0              307.0               725.5   \n",
      "3                 613.0              307.0               724.0   \n",
      "4                 615.0              307.5               725.5   \n",
      "...                 ...                ...                 ...   \n",
      "1092              535.0              286.5               632.0   \n",
      "1093              535.5              285.5               633.0   \n",
      "1094              535.0              287.5               631.0   \n",
      "1095              535.0              286.5               632.0   \n",
      "1096              535.0              286.5               630.5   \n",
      "\n",
      "      RightEyeMidPoint_Y  GazeVector_X  GazeVector_Y  GazeVector_Z  RecordType  \n",
      "0                  301.5     -0.064052     -0.122515     -0.990398           1  \n",
      "1                  301.0     -0.073433     -0.119594     -0.990103           1  \n",
      "2                  301.0     -0.063519     -0.119968     -0.990744           1  \n",
      "3                  300.5     -0.051137     -0.124144     -0.990946           1  \n",
      "4                  300.0     -0.060407     -0.126390     -0.990140           1  \n",
      "...                  ...           ...           ...           ...         ...  \n",
      "1092               283.0     -0.754967      0.075605     -0.651389           0  \n",
      "1093               283.0     -0.756722      0.038390     -0.652609           0  \n",
      "1094               283.0     -0.765865      0.067466     -0.639452           0  \n",
      "1095               283.0     -0.758368      0.060224     -0.649039           0  \n",
      "1096               283.0     -0.757583      0.067888     -0.649199           0  \n",
      "\n",
      "[1752 rows x 103 columns]>\n"
     ]
    }
   ],
   "source": [
    "# check the data shape.\n",
    "print(df_train.shape)\n",
    "print(type(df_train))\n",
    "print(df_train.info)"
   ]
  },
  {
   "cell_type": "code",
   "execution_count": 4,
   "metadata": {
    "colab": {
     "base_uri": "https://localhost:8080/"
    },
    "executionInfo": {
     "elapsed": 623,
     "status": "ok",
     "timestamp": 1683108002862,
     "user": {
      "displayName": "洪啟豪",
      "userId": "08277187360257942838"
     },
     "user_tz": -480
    },
    "id": "hdcUR6y4l8MN",
    "outputId": "33fd0e04-5d78-442e-c34b-fa323867e019"
   },
   "outputs": [
    {
     "name": "stdout",
     "output_type": "stream",
     "text": [
      "Before data clean(NAN mount): 0\n"
     ]
    }
   ],
   "source": [
    "# checked missing data\n",
    "print(\"Before data clean(NAN mount):\", len(np.where(np.isnan(df_train)==1)[0]))"
   ]
  },
  {
   "cell_type": "code",
   "execution_count": 5,
   "metadata": {
    "executionInfo": {
     "elapsed": 4,
     "status": "ok",
     "timestamp": 1683108002863,
     "user": {
      "displayName": "洪啟豪",
      "userId": "08277187360257942838"
     },
     "user_tz": -480
    },
    "id": "KJnTA2aGnQm2"
   },
   "outputs": [],
   "source": [
    "# Find columns with only unique value.\n",
    "# unique_col = []\n",
    "# for i in df_train.columns:\n",
    "#     if np.unique(df_train[i]).shape[0]==1:\n",
    "#         print(f'Get column {i} with only unique value.')\n",
    "#         unique_col.append(i) "
   ]
  },
  {
   "cell_type": "code",
   "execution_count": 6,
   "metadata": {
    "executionInfo": {
     "elapsed": 9,
     "status": "ok",
     "timestamp": 1683108003480,
     "user": {
      "displayName": "洪啟豪",
      "userId": "08277187360257942838"
     },
     "user_tz": -480
    },
    "id": "_hIF4mpgnhrC"
   },
   "outputs": [],
   "source": [
    "# print(unique_col)"
   ]
  },
  {
   "cell_type": "code",
   "execution_count": 7,
   "metadata": {
    "executionInfo": {
     "elapsed": 8,
     "status": "ok",
     "timestamp": 1683108003480,
     "user": {
      "displayName": "洪啟豪",
      "userId": "08277187360257942838"
     },
     "user_tz": -480
    },
    "id": "8vS3OHFnn9NP"
   },
   "outputs": [],
   "source": [
    "# df_train.describe()[unique_col]"
   ]
  },
  {
   "cell_type": "code",
   "execution_count": 8,
   "metadata": {
    "executionInfo": {
     "elapsed": 9,
     "status": "ok",
     "timestamp": 1683108003481,
     "user": {
      "displayName": "洪啟豪",
      "userId": "08277187360257942838"
     },
     "user_tz": -480
    },
    "id": "p96tJDw2oCSX"
   },
   "outputs": [],
   "source": [
    "# Drop columns with only unique value.\n",
    "# df_train = df_train.drop(unique_col, axis=1)"
   ]
  },
  {
   "cell_type": "markdown",
   "metadata": {
    "id": "k2SOOxXoGDKj"
   },
   "source": [
    "## 資料前處理"
   ]
  },
  {
   "cell_type": "code",
   "execution_count": 9,
   "metadata": {
    "executionInfo": {
     "elapsed": 9,
     "status": "ok",
     "timestamp": 1683108003481,
     "user": {
      "displayName": "洪啟豪",
      "userId": "08277187360257942838"
     },
     "user_tz": -480
    },
    "id": "Mm7GF5LO38-g"
   },
   "outputs": [],
   "source": [
    "# 列出不重要的特徵。\n",
    "# 先假設除了gaze vector以外的特徵都不重要，之後再調整。\n",
    "del_col = ['FaceBoundingBox_X', 'FaceBoundingBox_Y', 'FaceBoundingBox_X', 'FaceBoundingBox_Y','FaceBoundingBox_W', \n",
    "           'FaceBoundingBox_H', 'FaceLandmarks_1_X', 'FaceLandmarks_1_Y', 'FaceLandmarks_2_X','FaceLandmarks_2_Y', \n",
    "           'FaceLandmarks_3_X', 'FaceLandmarks_3_Y', 'FaceLandmarks_4_X', 'FaceLandmarks_4_Y','FaceLandmarks_5_X', \n",
    "           'FaceLandmarks_5_Y', 'FaceLandmarks_6_X', 'FaceLandmarks_6_Y', 'FaceLandmarks_7_X', 'FaceLandmarks_7_Y',\n",
    "           'FaceLandmarks_8_X', 'FaceLandmarks_8_Y', 'FaceLandmarks_9_X', 'FaceLandmarks_9_Y', 'FaceLandmarks_10_X', \n",
    "           'FaceLandmarks_10_Y', 'FaceLandmarks_11_X', 'FaceLandmarks_11_Y', 'FaceLandmarks_12_X', 'FaceLandmarks_12_Y', \n",
    "           'FaceLandmarks_13_X', 'FaceLandmarks_13_Y', 'FaceLandmarks_14_X', 'FaceLandmarks_14_Y', 'FaceLandmarks_15_X', \n",
    "           'FaceLandmarks_15_Y', 'FaceLandmarks_16_X', 'FaceLandmarks_16_Y', 'FaceLandmarks_17_X', 'FaceLandmarks_17_Y', \n",
    "           'FaceLandmarks_18_X', 'FaceLandmarks_18_Y', 'FaceLandmarks_19_X', 'FaceLandmarks_19_Y', 'FaceLandmarks_20_X', \n",
    "           'FaceLandmarks_20_Y', 'FaceLandmarks_21_X', 'FaceLandmarks_21_Y', 'FaceLandmarks_22_X', 'FaceLandmarks_22_Y', \n",
    "           'FaceLandmarks_23_X', 'FaceLandmarks_23_Y', 'FaceLandmarks_24_X', 'FaceLandmarks_24_Y', 'FaceLandmarks_25_X', \n",
    "           'FaceLandmarks_25_Y', 'FaceLandmarks_26_X', 'FaceLandmarks_26_Y', 'FaceLandmarks_27_X', 'FaceLandmarks_27_Y', \n",
    "           'FaceLandmarks_28_X', 'FaceLandmarks_28_Y', 'FaceLandmarks_29_X', 'FaceLandmarks_29_Y', 'FaceLandmarks_30_X', \n",
    "           'FaceLandmarks_30_Y', 'FaceLandmarks_31_X', 'FaceLandmarks_31_Y', 'FaceLandmarks_32_X', 'FaceLandmarks_32_Y', \n",
    "           'FaceLandmarks_33_X', 'FaceLandmarks_33_Y', 'FaceLandmarks_34_X', 'FaceLandmarks_34_Y', 'FaceLandmarks_35_X', \n",
    "           'FaceLandmarks_35_Y', 'HeadPoseAngles_X','HeadPoseAngles_Y','HeadPoseAngles_Z','LeftEyeBoundingBox_X', \n",
    "           'LeftEyeBoundingBox_Y', 'LeftEyeBoundingBox_W', 'LeftEyeBoundingBox_H', 'RightEyeBoundingBox_X', 'RightEyeBoundingBox_Y', \n",
    "           'RightEyeBoundingBox_W', 'RightEyeBoundingBox_H', 'EyeLandmarks_1_X', 'EyeLandmarks_1_Y', 'EyeLandmarks_2_X', \n",
    "           'EyeLandmarks_2_Y', 'EyeLandmarks_3_X', 'EyeLandmarks_3_Y', 'EyeLandmarks_4_X', 'EyeLandmarks_4_Y', \n",
    "           'LeftEyeMidPoint_X','LeftEyeMidPoint_Y','RightEyeMidPoint_X','RightEyeMidPoint_Y', 'EyeState_Left', \n",
    "           'EyeState_Right']"
   ]
  },
  {
   "cell_type": "code",
   "execution_count": 10,
   "metadata": {
    "executionInfo": {
     "elapsed": 8,
     "status": "ok",
     "timestamp": 1683108003481,
     "user": {
      "displayName": "洪啟豪",
      "userId": "08277187360257942838"
     },
     "user_tz": -480
    },
    "id": "40HTalDz-NnB"
   },
   "outputs": [],
   "source": [
    "df_train = df_train.drop(del_col, axis = 1)"
   ]
  },
  {
   "cell_type": "code",
   "execution_count": 11,
   "metadata": {
    "executionInfo": {
     "elapsed": 8,
     "status": "ok",
     "timestamp": 1683108003481,
     "user": {
      "displayName": "洪啟豪",
      "userId": "08277187360257942838"
     },
     "user_tz": -480
    },
    "id": "OVsErgPPoLsW"
   },
   "outputs": [],
   "source": [
    "from sklearn.preprocessing import StandardScaler\n",
    "from sklearn.preprocessing import MinMaxScaler"
   ]
  },
  {
   "cell_type": "code",
   "execution_count": 12,
   "metadata": {
    "executionInfo": {
     "elapsed": 8,
     "status": "ok",
     "timestamp": 1683108003481,
     "user": {
      "displayName": "洪啟豪",
      "userId": "08277187360257942838"
     },
     "user_tz": -480
    },
    "id": "sQ2LZe8ioVcT"
   },
   "outputs": [],
   "source": [
    "def data_preprocessing(df_input, train=True, sc=None):\n",
    "    # numeric feature standardization\n",
    "    if train:\n",
    "        sc = StandardScaler()\n",
    "#         sc = MinMaxScaler()\n",
    "        df = sc.fit_transform(df_input.iloc[:, 0:-1])\n",
    "    else:\n",
    "        df = sc.transform(df_input)\n",
    "    return df, sc"
   ]
  },
  {
   "cell_type": "code",
   "execution_count": 13,
   "metadata": {
    "executionInfo": {
     "elapsed": 8,
     "status": "ok",
     "timestamp": 1683108003481,
     "user": {
      "displayName": "洪啟豪",
      "userId": "08277187360257942838"
     },
     "user_tz": -480
    },
    "id": "9Uo150PxobDe"
   },
   "outputs": [],
   "source": [
    "X, train_sc = data_preprocessing(df_train)"
   ]
  },
  {
   "cell_type": "code",
   "execution_count": 14,
   "metadata": {
    "colab": {
     "base_uri": "https://localhost:8080/"
    },
    "executionInfo": {
     "elapsed": 7,
     "status": "ok",
     "timestamp": 1683108003481,
     "user": {
      "displayName": "洪啟豪",
      "userId": "08277187360257942838"
     },
     "user_tz": -480
    },
    "id": "ylaxtSjLobGS",
    "outputId": "521a81ba-2edc-4cd8-9298-fe809099c40e"
   },
   "outputs": [
    {
     "data": {
      "text/plain": [
       "(1752, 3)"
      ]
     },
     "execution_count": 14,
     "metadata": {},
     "output_type": "execute_result"
    }
   ],
   "source": [
    "X.shape"
   ]
  },
  {
   "cell_type": "code",
   "execution_count": 15,
   "metadata": {
    "colab": {
     "base_uri": "https://localhost:8080/"
    },
    "executionInfo": {
     "elapsed": 3,
     "status": "ok",
     "timestamp": 1683108004057,
     "user": {
      "displayName": "洪啟豪",
      "userId": "08277187360257942838"
     },
     "user_tz": -480
    },
    "id": "Cn8lc4I9olwW",
    "outputId": "8ee96541-5ef5-4177-a98d-21d58865a72c"
   },
   "outputs": [
    {
     "data": {
      "text/plain": [
       "array([-0.11410435, -0.03768241, -0.7753881 ])"
      ]
     },
     "execution_count": 15,
     "metadata": {},
     "output_type": "execute_result"
    }
   ],
   "source": [
    "train_sc.mean_"
   ]
  },
  {
   "cell_type": "code",
   "execution_count": 16,
   "metadata": {
    "colab": {
     "base_uri": "https://localhost:8080/"
    },
    "executionInfo": {
     "elapsed": 3,
     "status": "ok",
     "timestamp": 1683108004058,
     "user": {
      "displayName": "洪啟豪",
      "userId": "08277187360257942838"
     },
     "user_tz": -480
    },
    "id": "_9nV5KiJol7V",
    "outputId": "e1f63801-2a38-4337-cc45-cb3b9b03c3fc"
   },
   "outputs": [
    {
     "data": {
      "text/plain": [
       "array([0.07986312, 0.02667597, 0.11911864])"
      ]
     },
     "execution_count": 16,
     "metadata": {},
     "output_type": "execute_result"
    }
   ],
   "source": [
    "train_sc.var_"
   ]
  },
  {
   "cell_type": "code",
   "execution_count": 17,
   "metadata": {
    "executionInfo": {
     "elapsed": 2,
     "status": "ok",
     "timestamp": 1683108004058,
     "user": {
      "displayName": "洪啟豪",
      "userId": "08277187360257942838"
     },
     "user_tz": -480
    },
    "id": "Evj0RRbsorQs"
   },
   "outputs": [],
   "source": [
    "y = df_train['RecordType'].values"
   ]
  },
  {
   "cell_type": "code",
   "execution_count": 18,
   "metadata": {
    "colab": {
     "base_uri": "https://localhost:8080/"
    },
    "executionInfo": {
     "elapsed": 4,
     "status": "ok",
     "timestamp": 1683108004484,
     "user": {
      "displayName": "洪啟豪",
      "userId": "08277187360257942838"
     },
     "user_tz": -480
    },
    "id": "CvPGvoLApDoO",
    "outputId": "4fc06266-aec9-4c3f-f50a-cce8d36535b8"
   },
   "outputs": [
    {
     "data": {
      "text/plain": [
       "(1752,)"
      ]
     },
     "execution_count": 18,
     "metadata": {},
     "output_type": "execute_result"
    }
   ],
   "source": [
    "y.shape"
   ]
  },
  {
   "cell_type": "code",
   "execution_count": 19,
   "metadata": {
    "colab": {
     "base_uri": "https://localhost:8080/"
    },
    "executionInfo": {
     "elapsed": 4,
     "status": "ok",
     "timestamp": 1683108004485,
     "user": {
      "displayName": "洪啟豪",
      "userId": "08277187360257942838"
     },
     "user_tz": -480
    },
    "id": "AAeujrIOpDqz",
    "outputId": "b79d20a9-d4e7-43d4-d510-5fe1b79fdb45"
   },
   "outputs": [
    {
     "name": "stdout",
     "output_type": "stream",
     "text": [
      "[1 1 1 ... 0 0 0]\n"
     ]
    }
   ],
   "source": [
    "np.unique(y)\n",
    "print(y)"
   ]
  },
  {
   "cell_type": "code",
   "execution_count": 20,
   "metadata": {
    "executionInfo": {
     "elapsed": 3,
     "status": "ok",
     "timestamp": 1683108004967,
     "user": {
      "displayName": "洪啟豪",
      "userId": "08277187360257942838"
     },
     "user_tz": -480
    },
    "id": "BbDgvF0JsAN5"
   },
   "outputs": [],
   "source": [
    "df_train = df_train.drop('RecordType', axis = 1)"
   ]
  },
  {
   "cell_type": "markdown",
   "metadata": {
    "id": "PXzWbjxUFDn-"
   },
   "source": [
    "## 切割訓練集"
   ]
  },
  {
   "cell_type": "code",
   "execution_count": 21,
   "metadata": {
    "executionInfo": {
     "elapsed": 2,
     "status": "ok",
     "timestamp": 1683108004967,
     "user": {
      "displayName": "洪啟豪",
      "userId": "08277187360257942838"
     },
     "user_tz": -480
    },
    "id": "TL1ylEL5pgJw"
   },
   "outputs": [],
   "source": [
    "from sklearn.model_selection import train_test_split\n",
    "x_train , x_valid , y_train , y_valid = train_test_split(X, y, test_size=0.3, random_state=17, stratify=y)\n",
    "#print(y_train)\n",
    "#print(y_valid)"
   ]
  },
  {
   "cell_type": "code",
   "execution_count": 22,
   "metadata": {
    "colab": {
     "base_uri": "https://localhost:8080/",
     "height": 447
    },
    "executionInfo": {
     "elapsed": 691,
     "status": "ok",
     "timestamp": 1683108005656,
     "user": {
      "displayName": "洪啟豪",
      "userId": "08277187360257942838"
     },
     "user_tz": -480
    },
    "id": "4wOpVBdGf2Ch",
    "outputId": "cf925c0d-b41f-43fb-cd77-520e35021bd0"
   },
   "outputs": [],
   "source": [
    "# unique, counts = np.unique(y.argmax(-1), return_counts=True)\n",
    "# plt.bar(unique, counts)"
   ]
  },
  {
   "cell_type": "code",
   "execution_count": 23,
   "metadata": {
    "colab": {
     "base_uri": "https://localhost:8080/",
     "height": 447
    },
    "executionInfo": {
     "elapsed": 8,
     "status": "ok",
     "timestamp": 1683108005656,
     "user": {
      "displayName": "洪啟豪",
      "userId": "08277187360257942838"
     },
     "user_tz": -480
    },
    "id": "JK4k_DVOf6tX",
    "outputId": "ad40f686-c390-4330-8c6c-288617a70d07"
   },
   "outputs": [],
   "source": [
    "# unique, counts = np.unique(y_train.argmax(-1), return_counts=True)\n",
    "# plt.bar(unique, counts)"
   ]
  },
  {
   "cell_type": "code",
   "execution_count": 24,
   "metadata": {
    "colab": {
     "base_uri": "https://localhost:8080/"
    },
    "executionInfo": {
     "elapsed": 6,
     "status": "ok",
     "timestamp": 1683108005656,
     "user": {
      "displayName": "洪啟豪",
      "userId": "08277187360257942838"
     },
     "user_tz": -480
    },
    "id": "s_RcXa2bso-S",
    "outputId": "67948a16-638f-4151-f678-827af7846445"
   },
   "outputs": [
    {
     "name": "stdout",
     "output_type": "stream",
     "text": [
      "shape of x_train:  (1226, 3)\n"
     ]
    }
   ],
   "source": [
    "print(\"shape of x_train: \", x_train.shape)"
   ]
  },
  {
   "cell_type": "code",
   "execution_count": 25,
   "metadata": {
    "colab": {
     "base_uri": "https://localhost:8080/"
    },
    "executionInfo": {
     "elapsed": 3,
     "status": "ok",
     "timestamp": 1683108006049,
     "user": {
      "displayName": "洪啟豪",
      "userId": "08277187360257942838"
     },
     "user_tz": -480
    },
    "id": "vY6XO0-isupe",
    "outputId": "937afe0b-7e90-46d0-d237-9c4d2a0f756e"
   },
   "outputs": [
    {
     "name": "stdout",
     "output_type": "stream",
     "text": [
      "shape of x_valid:  (526, 3)\n"
     ]
    }
   ],
   "source": [
    "print(\"shape of x_valid: \", x_valid.shape)"
   ]
  },
  {
   "cell_type": "code",
   "execution_count": 26,
   "metadata": {
    "executionInfo": {
     "elapsed": 2,
     "status": "ok",
     "timestamp": 1683108006049,
     "user": {
      "displayName": "洪啟豪",
      "userId": "08277187360257942838"
     },
     "user_tz": -480
    },
    "id": "cDmB0fIEf_Wp"
   },
   "outputs": [],
   "source": [
    "clf = RandomForestClassifier()"
   ]
  },
  {
   "cell_type": "code",
   "execution_count": 27,
   "metadata": {
    "colab": {
     "base_uri": "https://localhost:8080/",
     "height": 74
    },
    "executionInfo": {
     "elapsed": 573,
     "status": "ok",
     "timestamp": 1683108007004,
     "user": {
      "displayName": "洪啟豪",
      "userId": "08277187360257942838"
     },
     "user_tz": -480
    },
    "id": "0RQVq139gBDb",
    "outputId": "41aede67-cb0a-492a-b41e-1f3a330cfff7"
   },
   "outputs": [
    {
     "data": {
      "text/plain": [
       "RandomForestClassifier(bootstrap=True, ccp_alpha=0.0, class_weight=None,\n",
       "                       criterion='gini', max_depth=None, max_features='auto',\n",
       "                       max_leaf_nodes=None, max_samples=None,\n",
       "                       min_impurity_decrease=0.0, min_impurity_split=None,\n",
       "                       min_samples_leaf=1, min_samples_split=2,\n",
       "                       min_weight_fraction_leaf=0.0, n_estimators=100,\n",
       "                       n_jobs=None, oob_score=False, random_state=None,\n",
       "                       verbose=0, warm_start=False)"
      ]
     },
     "execution_count": 27,
     "metadata": {},
     "output_type": "execute_result"
    }
   ],
   "source": [
    "clf.fit(x_train, y_train)"
   ]
  },
  {
   "cell_type": "code",
   "execution_count": 28,
   "metadata": {
    "executionInfo": {
     "elapsed": 4,
     "status": "ok",
     "timestamp": 1683108007004,
     "user": {
      "displayName": "洪啟豪",
      "userId": "08277187360257942838"
     },
     "user_tz": -480
    },
    "id": "fHbWK0SOgDPt"
   },
   "outputs": [],
   "source": [
    "y_pred = clf.predict(x_valid)"
   ]
  },
  {
   "cell_type": "code",
   "execution_count": 29,
   "metadata": {
    "colab": {
     "base_uri": "https://localhost:8080/"
    },
    "executionInfo": {
     "elapsed": 6,
     "status": "ok",
     "timestamp": 1683108007394,
     "user": {
      "displayName": "洪啟豪",
      "userId": "08277187360257942838"
     },
     "user_tz": -480
    },
    "id": "u6S_YR_rgHwN",
    "outputId": "6e079c4b-e7b7-4276-f57a-1d18d7f02e3e"
   },
   "outputs": [
    {
     "data": {
      "text/plain": [
       "0.9752851711026616"
      ]
     },
     "execution_count": 29,
     "metadata": {},
     "output_type": "execute_result"
    }
   ],
   "source": [
    "accuracy_score(y_valid, y_pred)"
   ]
  },
  {
   "cell_type": "code",
   "execution_count": 30,
   "metadata": {
    "colab": {
     "base_uri": "https://localhost:8080/"
    },
    "executionInfo": {
     "elapsed": 6,
     "status": "ok",
     "timestamp": 1683108007395,
     "user": {
      "displayName": "洪啟豪",
      "userId": "08277187360257942838"
     },
     "user_tz": -480
    },
    "id": "fz4LCD-KgMI-",
    "outputId": "3c2dd460-e098-43d9-bc0a-8298e9185d83"
   },
   "outputs": [
    {
     "data": {
      "text/plain": [
       "array([0.23418433, 0.33225364, 0.43356203])"
      ]
     },
     "execution_count": 30,
     "metadata": {},
     "output_type": "execute_result"
    }
   ],
   "source": [
    "clf.feature_importances_"
   ]
  },
  {
   "cell_type": "markdown",
   "metadata": {
    "id": "hA6iAy1zGgR6"
   },
   "source": [
    "## 模型測試"
   ]
  },
  {
   "cell_type": "code",
   "execution_count": 31,
   "metadata": {
    "executionInfo": {
     "elapsed": 4,
     "status": "ok",
     "timestamp": 1683108007395,
     "user": {
      "displayName": "洪啟豪",
      "userId": "08277187360257942838"
     },
     "user_tz": -480
    },
    "id": "nJlIndK2gOd6"
   },
   "outputs": [],
   "source": [
    "# Test\n",
    "# 測試一個答案全部為1的資料。\n",
    "df_test = pd.read_csv('/project/xt121-group5/scene2_data/larry/2023-05-01 232329.csv')\n",
    "# df_test = df_test.drop(unique_col, axis=1)\n",
    "df_test = df_test.drop(del_col, axis=1)\n",
    "df_test = df_test.drop(labels=['RecordTime'], axis=1)\n",
    "df_test = df_test.drop(labels=['RecordType'], axis=1)\n",
    "test, _ = data_preprocessing(df_test, train=False, sc=train_sc)"
   ]
  },
  {
   "cell_type": "code",
   "execution_count": 32,
   "metadata": {
    "colab": {
     "base_uri": "https://localhost:8080/"
    },
    "executionInfo": {
     "elapsed": 4,
     "status": "ok",
     "timestamp": 1683108007395,
     "user": {
      "displayName": "洪啟豪",
      "userId": "08277187360257942838"
     },
     "user_tz": -480
    },
    "id": "tlbvX9Wu0dzR",
    "outputId": "b7cf2a6c-ddc1-48aa-a203-986dd0198985"
   },
   "outputs": [
    {
     "name": "stdout",
     "output_type": "stream",
     "text": [
      "(305,)\n",
      "<class 'numpy.ndarray'>\n"
     ]
    }
   ],
   "source": [
    "pred = clf.predict(test)\n",
    "print(pred.shape)\n",
    "print(type(pred))"
   ]
  },
  {
   "cell_type": "code",
   "execution_count": 33,
   "metadata": {
    "colab": {
     "base_uri": "https://localhost:8080/"
    },
    "executionInfo": {
     "elapsed": 528,
     "status": "ok",
     "timestamp": 1683108007920,
     "user": {
      "displayName": "洪啟豪",
      "userId": "08277187360257942838"
     },
     "user_tz": -480
    },
    "id": "UUxFT4pu0Ion",
    "outputId": "121ab77b-fe13-4a65-c2a3-15f8df34dcef"
   },
   "outputs": [
    {
     "name": "stdout",
     "output_type": "stream",
     "text": [
      "[1 1 1 1 1 1 1 1 1 1 1 1 1 1 1 1 1 1 1 1 1 1 1 1 1 1 1 1 1 1 1 1 1 1 1 1 1\n",
      " 1 1 1 1 1 1 1 1 1 1 1 1 1 1 1 1 1 1 1 1 1 1 1 1 1 1 1 1 1 1 1 1 1 1 1 1 1\n",
      " 1 1 1 1 1 1 1 1 1 1 1 1 1 1 1 1 1 1 1 1 1 1 1 1 1 1 1 1 1 1 1 1 1 1 1 1 1\n",
      " 1 1 1 1 1 1 1 1 1 1 1 1 1 1 1 1 1 1 1 1 1 1 1 1 1 1 1 1 1 1 1 1 1 1 1 1 1\n",
      " 1 1 1 1 1 1 1 1 1 1 1 1 1 1 1 1 1 1 1 1 1 1 1 1 1 1 1 1 1 1 1 1 1 1 1 1 1\n",
      " 1 1 1 1 1 1 1 1 1 1 1 1 1 1 1 1 1 1 1 1 1 1 1 1 1 1 1 1 1 1 1 1 1 1 1 1 1\n",
      " 1 1 1 1 1 1 1 1 1 1 1 1 1 1 1 1 1 1 1 1 1 1 1 1 1 1 1 1 1 1 1 1 1 1 1 1 1\n",
      " 1 1 1 1 1 1 1 1 1 1 1 1 1 1 1 1 1 1 1 1 1 1 1 1 1 1 1 1 1 1 1 1 1 1 1 1 1\n",
      " 1 1 1 1 1 1 1 1 1]\n"
     ]
    }
   ],
   "source": [
    "print(pred)"
   ]
  },
  {
   "cell_type": "code",
   "execution_count": 34,
   "metadata": {},
   "outputs": [],
   "source": [
    "# Test\n",
    "# 測試一個答案全部為0的資料。\n",
    "df_test = pd.read_csv('/project/xt121-group5/scene2_data/larry/2023-05-01 232448.csv')\n",
    "# df_test = df_test.drop(unique_col, axis=1)\n",
    "df_test = df_test.drop(del_col, axis=1)\n",
    "df_test = df_test.drop(labels=['RecordTime'], axis=1)\n",
    "df_test = df_test.drop(labels=['RecordType'], axis=1)\n",
    "test, _ = data_preprocessing(df_test, train=False, sc=train_sc)"
   ]
  },
  {
   "cell_type": "code",
   "execution_count": 35,
   "metadata": {},
   "outputs": [
    {
     "name": "stdout",
     "output_type": "stream",
     "text": [
      "[1 1 1 1 1 1 1 1 1 1 1 1 1 1 1 1 1 1 1 1 0 0 0 0 0 0 0 0 0 0 0 0 0 1 1 1 1\n",
      " 1 1 1 0 0 0 0 0 0 0 0 0 0 0 0 0 0 0 0 1 1 1 1 1 1 0 1 1 1 1 1 1 1 1 1 1 1\n",
      " 1 0 1 1 1 0 1 1 0 0 1 1 1 0 0 1 1 1 1 1 1 1 1 0 0 0 0 0 0 0 0 0 0 0 1 1 1\n",
      " 1 0 0 0 0 0 0 0 0 0 0 0 0 0 0 0 0 0 0 0 0 1 1 1 1 1 1 1 0 0 0 0 0 0 0 0 0\n",
      " 0 0 0 0 0 0 0 0 0 0 0 0 0 0 0 0 0 0 0 0 0 0 0 0 0 0 0 0 0 0 0 0 0 0 0 0 0\n",
      " 0 0 0 0 0 0 0 0 0 0 0 0 0 0 0 0 0 0 0 0 0 0 0 0 0 0 0 0 0 0 0 0 0 0 0 0 0\n",
      " 0 0 0 0 0 0 0 0 0 0 0 0 0 0 0 0 0 0 0 0 0 0 0 0 0 0 0 0 0 1 1 1 1 1 1 1 1\n",
      " 1 1 1 1 1 1 1 1 1 1 1 1 1 1 1 1 1 1 1 1 1 1 1 1 1 1 1 1 1 1 1 1 1 1 1 1 0\n",
      " 0 0 0 0 0 0 0 0 0 0 0 0 0 0 0 0 0 0 0 0 0 0 0 0 0 0 0 0 0 0 0 0 0 0 0 0 0\n",
      " 0 0 0 0 0 0 0 0 0 0 0 0 0 0 0 0 0 0 0 0 0 0 0 0 1 1 1 1 0 0 0 0 0 0 0 0 0\n",
      " 1 0 0 0 0 0 0 0 0 0 1 0 1 0 0 0 0 0 1 1 0 0 1 1 1 1 1 1 1 1 1 1 1 1 1 1 1\n",
      " 1 1 1 1 1 0 1 0 1 1 1 1 1 1 1 1 1 1 1 1 1 1 1 1 1 1 1 1 1 1 1 1 1 1 1 1 1\n",
      " 1 1 1 1 1 1 1 1 1 1 1 1 1 1 1 1 1 1 1 1 1 1 1 1 1]\n"
     ]
    }
   ],
   "source": [
    "pred = clf.predict(test)\n",
    "print(pred)"
   ]
  },
  {
   "cell_type": "code",
   "execution_count": 36,
   "metadata": {},
   "outputs": [],
   "source": [
    "# Test\n",
    "# 測試一個Charlie眼睛明顯看螢幕外面的資料。\n",
    "df_test = pd.read_csv('/project/xt121-group5/scene2_data/charlie_old/2023-05-02 234906_nc.csv')\n",
    "# df_test = df_test.drop(unique_col, axis=1)\n",
    "df_test = df_test.drop(del_col, axis=1)\n",
    "df_test = df_test.drop(labels=['RecordTime'], axis=1)\n",
    "df_test = df_test.drop(labels=['RecordType'], axis=1)\n",
    "test, _ = data_preprocessing(df_test, train=False, sc=train_sc)"
   ]
  },
  {
   "cell_type": "code",
   "execution_count": 37,
   "metadata": {},
   "outputs": [
    {
     "name": "stdout",
     "output_type": "stream",
     "text": [
      "[0 0 0 0 0 0 0 0 0 0 0 0 0 0 0 0 0 0 0 0 0 0 0 0 0 0 0 0 0 0 0 0 0 0 0 0 0\n",
      " 0 0 0 0 0 0 0 0 0 0 0 0 0 0 0 0 0 0 0 0 0 0 0 0 0 0 0 0 0 0 0 0 0 0 0 0 0\n",
      " 0 0 0 0 0 0 0 0 0 0 0 0 0 0 0 0 0 0 0 0 0 0 0 0 0 0 0 0 0 0 0 0]\n"
     ]
    }
   ],
   "source": [
    "pred = clf.predict(test)\n",
    "print(pred)"
   ]
  },
  {
   "cell_type": "code",
   "execution_count": 38,
   "metadata": {},
   "outputs": [],
   "source": [
    "# Test\n",
    "# 測試一個Charlie眼睛專注電腦螢幕的資料。\n",
    "df_test = pd.read_csv('/project/xt121-group5/scene2_data/charlie_old/2023-05-05 100605_c.csv')\n",
    "# df_test = df_test.drop(unique_col, axis=1)\n",
    "df_test = df_test.drop(del_col, axis=1)\n",
    "df_test = df_test.drop(labels=['RecordTime'], axis=1)\n",
    "df_test = df_test.drop(labels=['RecordType'], axis=1)\n",
    "test, _ = data_preprocessing(df_test, train=False, sc=train_sc)"
   ]
  },
  {
   "cell_type": "code",
   "execution_count": 39,
   "metadata": {},
   "outputs": [
    {
     "name": "stdout",
     "output_type": "stream",
     "text": [
      "[1 1 1 0 0 0 0 0 0 1 0 0 0 0 1 0 1 0 1 1 0 0 1 1 1 1 1 1 1 1 1 1 1 1 1 0 1\n",
      " 1 1 1 1 1 0 0 0 1 1 1 0 1 1 1 1 1 1 1 1 1 1 1 1 1 1 1 1 1 0 1 1 1 1 1 1 1\n",
      " 1 1 1 1 1 1 1 1 1 1 1 1 1 1 1 1 1 1 1 1 1 1 1 1 1 1 1 1 1 1 1 1 1 1 1 1 1\n",
      " 1 1 1 1 1 1 1 1 1 1 1 1 1 1 1 1 1 1 1 1 1 1 1 1 1 1 1 1 1 1 1 1 1 1 1 1 1\n",
      " 1 1 1 1 1 1 1 1 1 1 1 1 1 1 1 1 1 1 1 1 1 1 1 1 1 1 1 1 1 1 1 1 1 1 1 1 1\n",
      " 1 1 1 1 1 1 1 1 1 1 1 1 1 1 1 1 1 1 1 1 1 1 1 1 1 1 1 1 1 1 1 1 1 1 1 1 1\n",
      " 1 1 1 1 1 1 1 1 1 1 1 1 1 1 1 1 1 1 1 1 1 1 1 1 1 1 1 1 1 1 1 1 1 1 1 1 1\n",
      " 1 1 1 1 1 1 1 1 1 1]\n"
     ]
    }
   ],
   "source": [
    "pred = clf.predict(test)\n",
    "print(pred)"
   ]
  },
  {
   "cell_type": "code",
   "execution_count": 40,
   "metadata": {
    "executionInfo": {
     "elapsed": 2,
     "status": "ok",
     "timestamp": 1683108007920,
     "user": {
      "displayName": "洪啟豪",
      "userId": "08277187360257942838"
     },
     "user_tz": -480
    },
    "id": "Ngl_gCfE0lS7"
   },
   "outputs": [
    {
     "data": {
      "text/plain": [
       "['./RF_model']"
      ]
     },
     "execution_count": 40,
     "metadata": {},
     "output_type": "execute_result"
    }
   ],
   "source": [
    "# Save model\n",
    "import joblib\n",
    "joblib.dump(clf, './RF_model')\n",
    "\n",
    "# Load model\n",
    "# loaded_rf_model = joblib.load('./RF_model')"
   ]
  },
  {
   "cell_type": "code",
   "execution_count": null,
   "metadata": {},
   "outputs": [],
   "source": []
  }
 ],
 "metadata": {
  "colab": {
   "authorship_tag": "ABX9TyPSx1XaSqgBj+v0Z7OV2lNO",
   "provenance": [
    {
     "file_id": "1hywHO4gA6Vdz6ga4mB5mUk0lIoKGu8aY",
     "timestamp": 1683108829419
    }
   ]
  },
  "kernelspec": {
   "display_name": "Python 3 (ipykernel)",
   "language": "python",
   "name": "python3"
  },
  "language_info": {
   "codemirror_mode": {
    "name": "ipython",
    "version": 3
   },
   "file_extension": ".py",
   "mimetype": "text/x-python",
   "name": "python",
   "nbconvert_exporter": "python",
   "pygments_lexer": "ipython3",
   "version": "3.7.12"
  }
 },
 "nbformat": 4,
 "nbformat_minor": 4
}
