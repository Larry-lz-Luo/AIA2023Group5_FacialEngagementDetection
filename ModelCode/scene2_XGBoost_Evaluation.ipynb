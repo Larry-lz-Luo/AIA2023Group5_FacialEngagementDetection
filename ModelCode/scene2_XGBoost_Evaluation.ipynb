{
 "cells": [
  {
   "cell_type": "code",
   "execution_count": 1,
   "id": "3506c5c5",
   "metadata": {},
   "outputs": [
    {
     "name": "stdout",
     "output_type": "stream",
     "text": [
      "Populating the interactive namespace from numpy and matplotlib\n"
     ]
    }
   ],
   "source": [
    "from xgboost import XGBClassifier\n",
    "from sklearn.model_selection import train_test_split\n",
    "from sklearn.metrics import accuracy_score\n",
    "from sklearn.metrics import f1_score\n",
    "import pandas as pd\n",
    "import matplotlib.pyplot as plt\n",
    "%pylab inline"
   ]
  },
  {
   "cell_type": "markdown",
   "id": "62ba5d91",
   "metadata": {},
   "source": [
    "### 資料處理－雜訊探測"
   ]
  },
  {
   "cell_type": "code",
   "execution_count": 2,
   "id": "993b0deb",
   "metadata": {},
   "outputs": [
    {
     "name": "stdout",
     "output_type": "stream",
     "text": [
      "GazeVector_X  GazeVector_Y  GazeVector_Z  RecordType\n",
      " 0.000000      0.000000      0.000000     0             311\n",
      "-0.039100     -0.128691     -0.990914     0               1\n",
      "-0.093070     -0.391719     -0.915365     0               1\n",
      "-0.072796     -0.134114     -0.988289     0               1\n",
      "-0.066171     -0.061354     -0.995920     0               1\n",
      "                                                       ... \n",
      " 0.112946     -0.020573     -0.993388     0               1\n",
      " 0.113375     -0.021345     -0.993323     0               1\n",
      " 0.115960     -0.318037     -0.940960     0               1\n",
      " 0.121167     -0.094276     -0.988145     0               1\n",
      "-0.721504      0.122935     -0.681409     0               1\n",
      "Name: GazeVector_X, Length: 110, dtype: int64\n",
      "\n",
      "==========\n",
      "\n",
      "GazeVector_X  GazeVector_Y  GazeVector_Z  RecordType\n",
      " 0.000000      0.000000      0.000000     1             385\n",
      " 0.460256      0.027177     -0.887370     1               1\n",
      "-0.142325     -0.082785     -0.986352     1               1\n",
      "-0.144405     -0.125214     -0.981564     1               1\n",
      "-0.143899     -0.041819     -0.988708     1               1\n",
      "                                                       ... \n",
      "-0.027363     -0.047352     -0.998503     1               1\n",
      "-0.027320     -0.144570     -0.989117     1               1\n",
      "-0.027313     -0.152699     -0.987895     1               1\n",
      "-0.027010     -0.124838     -0.991809     1               1\n",
      "-0.483620      0.026088     -0.874889     1               1\n",
      "Name: GazeVector_X, Length: 1984, dtype: int64\n"
     ]
    }
   ],
   "source": [
    "# GazeVector X, Y, Z是判別是否專心的依據，檢查是否有不合理的數值。\n",
    "# 發現錄製的數據中，不論是＂專心＂、＂不專心＂，皆會出現X, Y, Z皆為0的情況，這些資料無法成為判斷是否專心的依據。\n",
    "concentrated_df = pd.read_csv('/project/xt121-group5/scene2_data/alice/2023-05-01 232058.csv')\n",
    "print(concentrated_df.groupby(['GazeVector_X', 'GazeVector_Y', 'GazeVector_Z', 'RecordType'], as_index = True)['GazeVector_X'].count().sort_values(ascending = False))\n",
    "\n",
    "print('\\n==========\\n')\n",
    "\n",
    "concentrated_df = pd.read_csv('/project/xt121-group5/scene2_data/charlie/2023-05-17 103617.csv')\n",
    "print(concentrated_df.groupby(['GazeVector_X', 'GazeVector_Y', 'GazeVector_Z', 'RecordType'], as_index = True)['GazeVector_X'].count().sort_values(ascending = False))"
   ]
  },
  {
   "cell_type": "markdown",
   "id": "49f61b69",
   "metadata": {},
   "source": [
    "## 去除雜訊"
   ]
  },
  {
   "cell_type": "code",
   "execution_count": 3,
   "id": "caa675c3",
   "metadata": {},
   "outputs": [],
   "source": [
    "# 把發現到會成為雜訊的數據刪除。\n",
    "def RemoveNoise(dataset, remove_condition):\n",
    "    # Remove data with gaze vector X, Y, Z have value 0.\n",
    "    print(f'Total count: {len(dataset)}, gaze vector zero count: {len(dataset[remove_condition])}')\n",
    "\n",
    "    dataset = dataset.drop(dataset[remove_condition].index)\n",
    "\n",
    "    print(f'After dropping noises, total count: {len(dataset)}')\n",
    "    \n",
    "    return dataset"
   ]
  },
  {
   "cell_type": "code",
   "execution_count": 4,
   "id": "05ed1311",
   "metadata": {},
   "outputs": [
    {
     "name": "stdout",
     "output_type": "stream",
     "text": [
      "/project/xt121-group5/scene2_data/alice/2023-05-01 232058.csv\n",
      "Total count: 420, gaze vector zero count: 311\n",
      "After dropping noises, total count: 109\n",
      "/project/xt121-group5/scene2_data/alice/2023-05-01 231925.csv\n",
      "Total count: 412, gaze vector zero count: 16\n",
      "After dropping noises, total count: 396\n",
      "/project/xt121-group5/scene2_data/pinsian/2023-05-13 142553_c.csv\n",
      "Total count: 280, gaze vector zero count: 0\n",
      "After dropping noises, total count: 280\n",
      "/project/xt121-group5/scene2_data/pinsian/2023-05-13 142611 nc.csv\n",
      "Total count: 280, gaze vector zero count: 28\n",
      "After dropping noises, total count: 252\n",
      "/project/xt121-group5/scene2_data/larry/2023-05-01 232448.csv\n",
      "Total count: 469, gaze vector zero count: 0\n",
      "After dropping noises, total count: 469\n",
      "/project/xt121-group5/scene2_data/larry/2023-05-01 232329.csv\n",
      "Total count: 305, gaze vector zero count: 0\n",
      "After dropping noises, total count: 305\n",
      "/project/xt121-group5/scene2_data/charlie/2023-05-05 103150_c.csv\n",
      "Total count: 655, gaze vector zero count: 0\n",
      "After dropping noises, total count: 655\n",
      "/project/xt121-group5/scene2_data/charlie/2023-05-17 103748.csv\n",
      "Total count: 2186, gaze vector zero count: 901\n",
      "After dropping noises, total count: 1285\n",
      "/project/xt121-group5/scene2_data/charlie/2023-05-17 103617.csv\n",
      "Total count: 2368, gaze vector zero count: 385\n",
      "After dropping noises, total count: 1983\n",
      "/project/xt121-group5/scene2_data/charlie/2023-05-05 103233_nc.csv\n",
      "Total count: 1097, gaze vector zero count: 278\n",
      "After dropping noises, total count: 819\n",
      "/project/xt121-group5/scene2_data/jason/2023-05-05 151434.csv\n",
      "Total count: 590, gaze vector zero count: 196\n",
      "After dropping noises, total count: 394\n",
      "/project/xt121-group5/scene2_data/jason/2023-05-17 102413.csv\n",
      "Total count: 601, gaze vector zero count: 9\n",
      "After dropping noises, total count: 592\n",
      "/project/xt121-group5/scene2_data/jason/2023-05-17 102634.csv\n",
      "Total count: 801, gaze vector zero count: 172\n",
      "After dropping noises, total count: 629\n",
      "/project/xt121-group5/scene2_data/jason/2023-05-05 151410.csv\n",
      "Total count: 510, gaze vector zero count: 57\n",
      "After dropping noises, total count: 453\n",
      "/project/xt121-group5/scene2_data/jason/2023-05-05 145529.csv\n",
      "Total count: 461, gaze vector zero count: 4\n",
      "After dropping noises, total count: 457\n",
      "/project/xt121-group5/scene2_data/jason/2023-05-05 145621.csv\n",
      "Total count: 240, gaze vector zero count: 0\n",
      "After dropping noises, total count: 240\n",
      "/project/xt121-group5/scene2_data/jason/2023-05-17 102348.csv\n",
      "Total count: 760, gaze vector zero count: 224\n",
      "After dropping noises, total count: 536\n",
      "/project/xt121-group5/scene2_data/jason/2023-05-05 145600.csv\n",
      "Total count: 360, gaze vector zero count: 44\n",
      "After dropping noises, total count: 316\n",
      "/project/xt121-group5/scene2_data/jason/2023-05-05 145633.csv\n",
      "Total count: 203, gaze vector zero count: 0\n",
      "After dropping noises, total count: 203\n",
      "/project/xt121-group5/scene2_data/jason/2023-05-17 102327.csv\n",
      "Total count: 511, gaze vector zero count: 5\n",
      "After dropping noises, total count: 506\n",
      "/project/xt121-group5/scene2_data/jason/2023-05-17 102452.csv\n",
      "Total count: 845, gaze vector zero count: 0\n",
      "After dropping noises, total count: 845\n",
      "/project/xt121-group5/scene2_data/jason/2023-05-05 145640.csv\n",
      "Total count: 157, gaze vector zero count: 1\n",
      "After dropping noises, total count: 156\n",
      "/project/xt121-group5/scene2_data/jason/2023-05-17 102604.csv\n",
      "Total count: 758, gaze vector zero count: 5\n",
      "After dropping noises, total count: 753\n",
      "/project/xt121-group5/scene2_data/jason/2023-05-05 151354.csv\n",
      "Total count: 343, gaze vector zero count: 31\n",
      "After dropping noises, total count: 312\n",
      "/project/xt121-group5/scene2_data/jason/2023-05-05 151333.csv\n",
      "Total count: 459, gaze vector zero count: 74\n",
      "After dropping noises, total count: 385\n",
      "/project/xt121-group5/scene2_data/jason/2023-05-17 102531.csv\n",
      "Total count: 668, gaze vector zero count: 15\n",
      "After dropping noises, total count: 653\n",
      "/project/xt121-group5/scene2_data/jason/.ipynb_checkpoints/2023-05-05 145633-checkpoint.csv\n",
      "Total count: 203, gaze vector zero count: 0\n",
      "After dropping noises, total count: 203\n"
     ]
    }
   ],
   "source": [
    "import os\n",
    "df_train = pd.core.frame.DataFrame()\n",
    "for dirname, _, filenames in os.walk('/project/xt121-group5/scene2_data/'):\n",
    "    for filename in filenames:\n",
    "        if dirname.split('/')[-1] != 'test_data':\n",
    "            print(os.path.join(dirname, filename))\n",
    "            df_train2 = pd.read_csv(os.path.join(dirname, filename))\n",
    "            df_train2 = RemoveNoise(df_train2, \n",
    "                                    (df_train2['GazeVector_X'] == 0) & \n",
    "                                    (df_train2['GazeVector_Y'] == 0) & \n",
    "                                    (df_train2['GazeVector_Z'] == 0))\n",
    "            df_train = pd.concat([df_train, df_train2])\n",
    "        \n",
    "df_train = df_train.drop(labels = ['RecordTime'], axis = 1) # 移除 RecordTime"
   ]
  },
  {
   "cell_type": "code",
   "execution_count": 5,
   "id": "4bf61dd5",
   "metadata": {},
   "outputs": [
    {
     "name": "stdout",
     "output_type": "stream",
     "text": [
      "(14186, 103)\n"
     ]
    }
   ],
   "source": [
    "print(df_train.shape)"
   ]
  },
  {
   "cell_type": "markdown",
   "id": "7b6a814a",
   "metadata": {},
   "source": [
    "## 資料前處理"
   ]
  },
  {
   "cell_type": "markdown",
   "id": "265b2f0a",
   "metadata": {},
   "source": [
    "### 前處理－臉部特徵座標平移"
   ]
  },
  {
   "cell_type": "code",
   "execution_count": 6,
   "id": "bd824364",
   "metadata": {},
   "outputs": [],
   "source": [
    "# 因為每個人的臉部座標不同，有的人臉部在偏中央位置、有人偏左、偏右，\n",
    "# 不管臉部位置偏哪，不能成為是否專心的依據，\n",
    "# 因此一律將所有圖像，臉部座標平移至統一的位置，大家統一，去除掉臉部座標不同的情況。\n",
    "# 這裡的做法是一律將所有臉部的座標都平移至左上角，即(x, y) = (0, 0)處。\n",
    "def FaceLandmarksPreprocessing(df_data, verbose = False):\n",
    "    for col_name in df_data.columns.to_list():\n",
    "        if col_name.find('FaceLandmarks_') == 0 or \\\n",
    "        col_name.find('EyeLandmarks_') == 0 or \\\n",
    "        col_name.find('LeftEyeBoundingBox_') == 0 or \\\n",
    "        col_name.find('RightEyeBoundingBox_') == 0 or \\\n",
    "        col_name.find('LeftEyeMidPoint_') == 0 or \\\n",
    "        col_name.find('RightEyeMidPoint_') == 0:\n",
    "            if col_name.find('_X') == len(col_name) - 2:\n",
    "                df_data[col_name] = df_data[col_name] - df_data['FaceBoundingBox_X']\n",
    "                if verbose:\n",
    "                    print(f'Column {col_name} is subtracted by FaceBoundingBox_X.')\n",
    "            elif col_name.find('_Y') == len(col_name) - 2:\n",
    "                df_data[col_name] = df_data[col_name] - df_data['FaceBoundingBox_Y']\n",
    "                if verbose:\n",
    "                    print(f'Column {col_name} is subtracted by FaceBoundingBox_Y.')\n",
    "            else:\n",
    "#                 print(f'Ignore column {col_name}.')\n",
    "                pass\n",
    "        else:\n",
    "#             print(f'Ignore column {col_name}')\n",
    "            pass\n",
    "    return df_data"
   ]
  },
  {
   "cell_type": "code",
   "execution_count": 7,
   "id": "6a2d20a1",
   "metadata": {},
   "outputs": [
    {
     "name": "stdout",
     "output_type": "stream",
     "text": [
      "    FaceBoundingBox_X  FaceBoundingBox_Y  FaceBoundingBox_W  \\\n",
      "0                 524                166                253   \n",
      "1                 525                161                255   \n",
      "2                 525                163                255   \n",
      "3                 526                168                255   \n",
      "15                532                243                205   \n",
      "\n",
      "    FaceBoundingBox_H  FaceLandmarks_1_X  FaceLandmarks_1_Y  \\\n",
      "0                 253                632                257   \n",
      "1                 255                634                254   \n",
      "2                 255                634                256   \n",
      "3                 255                639                268   \n",
      "15                205                632                366   \n",
      "\n",
      "    FaceLandmarks_2_X  FaceLandmarks_2_Y  FaceLandmarks_3_X  \\\n",
      "0                 602                255                679   \n",
      "1                 603                252                681   \n",
      "2                 604                255                681   \n",
      "3                 612                266                681   \n",
      "15                620                371                649   \n",
      "\n",
      "    FaceLandmarks_3_Y  ...  EyeLandmarks_4_X  EyeLandmarks_4_Y  \\\n",
      "0                 258  ...               708               256   \n",
      "1                 254  ...               711               252   \n",
      "2                 256  ...               710               254   \n",
      "3                 268  ...               707               266   \n",
      "15                354  ...               659               343   \n",
      "\n",
      "    LeftEyeMidPoint_X  LeftEyeMidPoint_Y  RightEyeMidPoint_X  \\\n",
      "0               617.0              256.0               693.5   \n",
      "1               618.5              253.0               696.0   \n",
      "2               619.0              255.5               695.5   \n",
      "3               625.5              267.0               694.0   \n",
      "15              626.0              368.5               654.0   \n",
      "\n",
      "    RightEyeMidPoint_Y  GazeVector_X  GazeVector_Y  GazeVector_Z  RecordType  \n",
      "0                257.0     -0.094805     -0.014327     -0.995393           0  \n",
      "1                253.0     -0.047574     -0.034673     -0.998266           0  \n",
      "2                255.0      0.012142     -0.065674     -0.997767           0  \n",
      "3                267.0     -0.003677     -0.079957     -0.996792           0  \n",
      "15               348.5     -0.251138     -0.201785     -0.946685           0  \n",
      "\n",
      "[5 rows x 103 columns]\n"
     ]
    }
   ],
   "source": [
    "print(df_train.head())"
   ]
  },
  {
   "cell_type": "code",
   "execution_count": 8,
   "id": "f39151cf",
   "metadata": {},
   "outputs": [
    {
     "name": "stdout",
     "output_type": "stream",
     "text": [
      "Column FaceLandmarks_1_X is subtracted by FaceBoundingBox_X.\n",
      "Column FaceLandmarks_1_Y is subtracted by FaceBoundingBox_Y.\n",
      "Column FaceLandmarks_2_X is subtracted by FaceBoundingBox_X.\n",
      "Column FaceLandmarks_2_Y is subtracted by FaceBoundingBox_Y.\n",
      "Column FaceLandmarks_3_X is subtracted by FaceBoundingBox_X.\n",
      "Column FaceLandmarks_3_Y is subtracted by FaceBoundingBox_Y.\n",
      "Column FaceLandmarks_4_X is subtracted by FaceBoundingBox_X.\n",
      "Column FaceLandmarks_4_Y is subtracted by FaceBoundingBox_Y.\n",
      "Column FaceLandmarks_5_X is subtracted by FaceBoundingBox_X.\n",
      "Column FaceLandmarks_5_Y is subtracted by FaceBoundingBox_Y.\n",
      "Column FaceLandmarks_6_X is subtracted by FaceBoundingBox_X.\n",
      "Column FaceLandmarks_6_Y is subtracted by FaceBoundingBox_Y.\n",
      "Column FaceLandmarks_7_X is subtracted by FaceBoundingBox_X.\n",
      "Column FaceLandmarks_7_Y is subtracted by FaceBoundingBox_Y.\n",
      "Column FaceLandmarks_8_X is subtracted by FaceBoundingBox_X.\n",
      "Column FaceLandmarks_8_Y is subtracted by FaceBoundingBox_Y.\n",
      "Column FaceLandmarks_9_X is subtracted by FaceBoundingBox_X.\n",
      "Column FaceLandmarks_9_Y is subtracted by FaceBoundingBox_Y.\n",
      "Column FaceLandmarks_10_X is subtracted by FaceBoundingBox_X.\n",
      "Column FaceLandmarks_10_Y is subtracted by FaceBoundingBox_Y.\n",
      "Column FaceLandmarks_11_X is subtracted by FaceBoundingBox_X.\n",
      "Column FaceLandmarks_11_Y is subtracted by FaceBoundingBox_Y.\n",
      "Column FaceLandmarks_12_X is subtracted by FaceBoundingBox_X.\n",
      "Column FaceLandmarks_12_Y is subtracted by FaceBoundingBox_Y.\n",
      "Column FaceLandmarks_13_X is subtracted by FaceBoundingBox_X.\n",
      "Column FaceLandmarks_13_Y is subtracted by FaceBoundingBox_Y.\n",
      "Column FaceLandmarks_14_X is subtracted by FaceBoundingBox_X.\n",
      "Column FaceLandmarks_14_Y is subtracted by FaceBoundingBox_Y.\n",
      "Column FaceLandmarks_15_X is subtracted by FaceBoundingBox_X.\n",
      "Column FaceLandmarks_15_Y is subtracted by FaceBoundingBox_Y.\n",
      "Column FaceLandmarks_16_X is subtracted by FaceBoundingBox_X.\n",
      "Column FaceLandmarks_16_Y is subtracted by FaceBoundingBox_Y.\n",
      "Column FaceLandmarks_17_X is subtracted by FaceBoundingBox_X.\n",
      "Column FaceLandmarks_17_Y is subtracted by FaceBoundingBox_Y.\n",
      "Column FaceLandmarks_18_X is subtracted by FaceBoundingBox_X.\n",
      "Column FaceLandmarks_18_Y is subtracted by FaceBoundingBox_Y.\n",
      "Column FaceLandmarks_19_X is subtracted by FaceBoundingBox_X.\n",
      "Column FaceLandmarks_19_Y is subtracted by FaceBoundingBox_Y.\n",
      "Column FaceLandmarks_20_X is subtracted by FaceBoundingBox_X.\n",
      "Column FaceLandmarks_20_Y is subtracted by FaceBoundingBox_Y.\n",
      "Column FaceLandmarks_21_X is subtracted by FaceBoundingBox_X.\n",
      "Column FaceLandmarks_21_Y is subtracted by FaceBoundingBox_Y.\n",
      "Column FaceLandmarks_22_X is subtracted by FaceBoundingBox_X.\n",
      "Column FaceLandmarks_22_Y is subtracted by FaceBoundingBox_Y.\n",
      "Column FaceLandmarks_23_X is subtracted by FaceBoundingBox_X.\n",
      "Column FaceLandmarks_23_Y is subtracted by FaceBoundingBox_Y.\n",
      "Column FaceLandmarks_24_X is subtracted by FaceBoundingBox_X.\n",
      "Column FaceLandmarks_24_Y is subtracted by FaceBoundingBox_Y.\n",
      "Column FaceLandmarks_25_X is subtracted by FaceBoundingBox_X.\n",
      "Column FaceLandmarks_25_Y is subtracted by FaceBoundingBox_Y.\n",
      "Column FaceLandmarks_26_X is subtracted by FaceBoundingBox_X.\n",
      "Column FaceLandmarks_26_Y is subtracted by FaceBoundingBox_Y.\n",
      "Column FaceLandmarks_27_X is subtracted by FaceBoundingBox_X.\n",
      "Column FaceLandmarks_27_Y is subtracted by FaceBoundingBox_Y.\n",
      "Column FaceLandmarks_28_X is subtracted by FaceBoundingBox_X.\n",
      "Column FaceLandmarks_28_Y is subtracted by FaceBoundingBox_Y.\n",
      "Column FaceLandmarks_29_X is subtracted by FaceBoundingBox_X.\n",
      "Column FaceLandmarks_29_Y is subtracted by FaceBoundingBox_Y.\n",
      "Column FaceLandmarks_30_X is subtracted by FaceBoundingBox_X.\n",
      "Column FaceLandmarks_30_Y is subtracted by FaceBoundingBox_Y.\n",
      "Column FaceLandmarks_31_X is subtracted by FaceBoundingBox_X.\n",
      "Column FaceLandmarks_31_Y is subtracted by FaceBoundingBox_Y.\n",
      "Column FaceLandmarks_32_X is subtracted by FaceBoundingBox_X.\n",
      "Column FaceLandmarks_32_Y is subtracted by FaceBoundingBox_Y.\n",
      "Column FaceLandmarks_33_X is subtracted by FaceBoundingBox_X.\n",
      "Column FaceLandmarks_33_Y is subtracted by FaceBoundingBox_Y.\n",
      "Column FaceLandmarks_34_X is subtracted by FaceBoundingBox_X.\n",
      "Column FaceLandmarks_34_Y is subtracted by FaceBoundingBox_Y.\n",
      "Column FaceLandmarks_35_X is subtracted by FaceBoundingBox_X.\n",
      "Column FaceLandmarks_35_Y is subtracted by FaceBoundingBox_Y.\n",
      "Column LeftEyeBoundingBox_X is subtracted by FaceBoundingBox_X.\n",
      "Column LeftEyeBoundingBox_Y is subtracted by FaceBoundingBox_Y.\n",
      "Column RightEyeBoundingBox_X is subtracted by FaceBoundingBox_X.\n",
      "Column RightEyeBoundingBox_Y is subtracted by FaceBoundingBox_Y.\n",
      "Column EyeLandmarks_1_X is subtracted by FaceBoundingBox_X.\n",
      "Column EyeLandmarks_1_Y is subtracted by FaceBoundingBox_Y.\n",
      "Column EyeLandmarks_2_X is subtracted by FaceBoundingBox_X.\n",
      "Column EyeLandmarks_2_Y is subtracted by FaceBoundingBox_Y.\n",
      "Column EyeLandmarks_3_X is subtracted by FaceBoundingBox_X.\n",
      "Column EyeLandmarks_3_Y is subtracted by FaceBoundingBox_Y.\n",
      "Column EyeLandmarks_4_X is subtracted by FaceBoundingBox_X.\n",
      "Column EyeLandmarks_4_Y is subtracted by FaceBoundingBox_Y.\n",
      "Column LeftEyeMidPoint_X is subtracted by FaceBoundingBox_X.\n",
      "Column LeftEyeMidPoint_Y is subtracted by FaceBoundingBox_Y.\n",
      "Column RightEyeMidPoint_X is subtracted by FaceBoundingBox_X.\n",
      "Column RightEyeMidPoint_Y is subtracted by FaceBoundingBox_Y.\n"
     ]
    }
   ],
   "source": [
    "df_train = FaceLandmarksPreprocessing(df_train, True)"
   ]
  },
  {
   "cell_type": "code",
   "execution_count": 9,
   "id": "5f8fff56",
   "metadata": {},
   "outputs": [],
   "source": [
    "# 臉部座標如同前述，不能成為是否專心的依據。\n",
    "# 在成為臉部許多特徵x, y座標值平移量的依據後，已不再被需要，故從訓練資料中刪除之。\n",
    "col_deleted = ['FaceBoundingBox_X', 'FaceBoundingBox_Y']\n",
    "df_train = df_train.drop(col_deleted, axis = 1)"
   ]
  },
  {
   "cell_type": "code",
   "execution_count": 10,
   "id": "f7c3e62f",
   "metadata": {},
   "outputs": [
    {
     "name": "stdout",
     "output_type": "stream",
     "text": [
      "    FaceBoundingBox_W  FaceBoundingBox_H  FaceLandmarks_1_X  \\\n",
      "0                 253                253                108   \n",
      "1                 255                255                109   \n",
      "2                 255                255                109   \n",
      "3                 255                255                113   \n",
      "15                205                205                100   \n",
      "\n",
      "    FaceLandmarks_1_Y  FaceLandmarks_2_X  FaceLandmarks_2_Y  \\\n",
      "0                  91                 78                 89   \n",
      "1                  93                 78                 91   \n",
      "2                  93                 79                 92   \n",
      "3                 100                 86                 98   \n",
      "15                123                 88                128   \n",
      "\n",
      "    FaceLandmarks_3_X  FaceLandmarks_3_Y  FaceLandmarks_4_X  \\\n",
      "0                 155                 92                184   \n",
      "1                 156                 93                186   \n",
      "2                 156                 93                185   \n",
      "3                 155                100                181   \n",
      "15                117                111                127   \n",
      "\n",
      "    FaceLandmarks_4_Y  ...  EyeLandmarks_4_X  EyeLandmarks_4_Y  \\\n",
      "0                  90  ...               184                90   \n",
      "1                  91  ...               186                91   \n",
      "2                  91  ...               185                91   \n",
      "3                  98  ...               181                98   \n",
      "15                100  ...               127               100   \n",
      "\n",
      "    LeftEyeMidPoint_X  LeftEyeMidPoint_Y  RightEyeMidPoint_X  \\\n",
      "0                93.0               90.0               169.5   \n",
      "1                93.5               92.0               171.0   \n",
      "2                94.0               92.5               170.5   \n",
      "3                99.5               99.0               168.0   \n",
      "15               94.0              125.5               122.0   \n",
      "\n",
      "    RightEyeMidPoint_Y  GazeVector_X  GazeVector_Y  GazeVector_Z  RecordType  \n",
      "0                 91.0     -0.094805     -0.014327     -0.995393           0  \n",
      "1                 92.0     -0.047574     -0.034673     -0.998266           0  \n",
      "2                 92.0      0.012142     -0.065674     -0.997767           0  \n",
      "3                 99.0     -0.003677     -0.079957     -0.996792           0  \n",
      "15               105.5     -0.251138     -0.201785     -0.946685           0  \n",
      "\n",
      "[5 rows x 101 columns]\n"
     ]
    }
   ],
   "source": [
    "print(df_train.head())"
   ]
  },
  {
   "cell_type": "markdown",
   "id": "870012e7",
   "metadata": {},
   "source": [
    "### 前處理－檢查缺失值"
   ]
  },
  {
   "cell_type": "code",
   "execution_count": 11,
   "id": "1e578215",
   "metadata": {},
   "outputs": [
    {
     "name": "stdout",
     "output_type": "stream",
     "text": [
      "Before data clean(NAN mount): 0\n"
     ]
    }
   ],
   "source": [
    "# checked missing data\n",
    "print(\"Before data clean(NAN mount):\", len(np.where(np.isnan(df_train)==1)[0]))"
   ]
  },
  {
   "cell_type": "code",
   "execution_count": 12,
   "id": "a3581835",
   "metadata": {},
   "outputs": [
    {
     "name": "stdout",
     "output_type": "stream",
     "text": [
      "(14186,)\n"
     ]
    }
   ],
   "source": [
    "# 取目標值。\n",
    "y = df_train['RecordType'].values\n",
    "print(y.shape)\n",
    "\n",
    "# 訓練資料刪除目標值。\n",
    "df_train = df_train.drop('RecordType', axis = 1)"
   ]
  },
  {
   "cell_type": "code",
   "execution_count": 13,
   "id": "512a489e",
   "metadata": {},
   "outputs": [
    {
     "name": "stdout",
     "output_type": "stream",
     "text": [
      "[0 0 0 ... 1 1 1]\n"
     ]
    }
   ],
   "source": [
    "np.unique(y)\n",
    "print(y)"
   ]
  },
  {
   "cell_type": "markdown",
   "id": "5cc52054",
   "metadata": {},
   "source": [
    "## 切割訓練集"
   ]
  },
  {
   "cell_type": "code",
   "execution_count": 14,
   "id": "b7aa169f",
   "metadata": {},
   "outputs": [],
   "source": [
    "x_train, x_valid, y_train, y_valid = train_test_split(df_train, y, test_size = 0.25, random_state = 17, stratify = y)"
   ]
  },
  {
   "cell_type": "markdown",
   "id": "a495822c",
   "metadata": {},
   "source": [
    "## 訓練模型"
   ]
  },
  {
   "cell_type": "code",
   "execution_count": 15,
   "id": "83e3a4ac",
   "metadata": {},
   "outputs": [
    {
     "name": "stdout",
     "output_type": "stream",
     "text": [
      "<class 'pandas.core.frame.DataFrame'>\n",
      "<class 'numpy.ndarray'>\n",
      "[0]\tvalidation_0-auc:0.956423\n",
      "[1]\tvalidation_0-auc:0.962058\n",
      "[2]\tvalidation_0-auc:0.967715\n",
      "[3]\tvalidation_0-auc:0.969399\n",
      "[4]\tvalidation_0-auc:0.969342\n",
      "[5]\tvalidation_0-auc:0.970791\n",
      "[6]\tvalidation_0-auc:0.970891\n",
      "[7]\tvalidation_0-auc:0.973908\n",
      "[8]\tvalidation_0-auc:0.976221\n",
      "[9]\tvalidation_0-auc:0.976634\n",
      "[10]\tvalidation_0-auc:0.977168\n",
      "[11]\tvalidation_0-auc:0.978768\n",
      "[12]\tvalidation_0-auc:0.980768\n",
      "[13]\tvalidation_0-auc:0.981779\n",
      "[14]\tvalidation_0-auc:0.981811\n",
      "[15]\tvalidation_0-auc:0.982051\n",
      "[16]\tvalidation_0-auc:0.983972\n",
      "[17]\tvalidation_0-auc:0.984326\n",
      "[18]\tvalidation_0-auc:0.984563\n",
      "[19]\tvalidation_0-auc:0.985947\n",
      "[20]\tvalidation_0-auc:0.986969\n",
      "[21]\tvalidation_0-auc:0.987223\n",
      "[22]\tvalidation_0-auc:0.987736\n",
      "[23]\tvalidation_0-auc:0.987719\n",
      "[24]\tvalidation_0-auc:0.988014\n",
      "[25]\tvalidation_0-auc:0.988694\n",
      "[26]\tvalidation_0-auc:0.988994\n",
      "[27]\tvalidation_0-auc:0.98965\n",
      "[28]\tvalidation_0-auc:0.990873\n",
      "[29]\tvalidation_0-auc:0.991272\n",
      "[30]\tvalidation_0-auc:0.991428\n",
      "[31]\tvalidation_0-auc:0.991515\n",
      "[32]\tvalidation_0-auc:0.992103\n",
      "[33]\tvalidation_0-auc:0.992335\n",
      "[34]\tvalidation_0-auc:0.992477\n",
      "[35]\tvalidation_0-auc:0.992924\n",
      "[36]\tvalidation_0-auc:0.993029\n",
      "[37]\tvalidation_0-auc:0.993172\n",
      "[38]\tvalidation_0-auc:0.993407\n",
      "[39]\tvalidation_0-auc:0.993503\n",
      "[40]\tvalidation_0-auc:0.994081\n",
      "[41]\tvalidation_0-auc:0.99419\n",
      "[42]\tvalidation_0-auc:0.994451\n",
      "[43]\tvalidation_0-auc:0.994566\n",
      "[44]\tvalidation_0-auc:0.995012\n",
      "[45]\tvalidation_0-auc:0.9952\n",
      "[46]\tvalidation_0-auc:0.995252\n",
      "[47]\tvalidation_0-auc:0.995433\n",
      "[48]\tvalidation_0-auc:0.99555\n",
      "[49]\tvalidation_0-auc:0.995661\n",
      "[50]\tvalidation_0-auc:0.995957\n",
      "[51]\tvalidation_0-auc:0.996073\n",
      "[52]\tvalidation_0-auc:0.996217\n",
      "[53]\tvalidation_0-auc:0.996231\n",
      "[54]\tvalidation_0-auc:0.996308\n",
      "[55]\tvalidation_0-auc:0.996508\n",
      "[56]\tvalidation_0-auc:0.996498\n",
      "[57]\tvalidation_0-auc:0.99663\n",
      "[58]\tvalidation_0-auc:0.996734\n",
      "[59]\tvalidation_0-auc:0.996763\n",
      "[60]\tvalidation_0-auc:0.996929\n",
      "[61]\tvalidation_0-auc:0.996981\n",
      "[62]\tvalidation_0-auc:0.997037\n",
      "[63]\tvalidation_0-auc:0.997182\n",
      "[64]\tvalidation_0-auc:0.997224\n",
      "[65]\tvalidation_0-auc:0.997252\n",
      "[66]\tvalidation_0-auc:0.997325\n",
      "[67]\tvalidation_0-auc:0.997391\n",
      "[68]\tvalidation_0-auc:0.997448\n",
      "[69]\tvalidation_0-auc:0.997481\n",
      "[70]\tvalidation_0-auc:0.997551\n",
      "[71]\tvalidation_0-auc:0.997588\n",
      "[72]\tvalidation_0-auc:0.997677\n",
      "[73]\tvalidation_0-auc:0.99771\n",
      "[74]\tvalidation_0-auc:0.997703\n",
      "[75]\tvalidation_0-auc:0.997764\n",
      "[76]\tvalidation_0-auc:0.997966\n",
      "[77]\tvalidation_0-auc:0.997956\n",
      "[78]\tvalidation_0-auc:0.997989\n",
      "[79]\tvalidation_0-auc:0.998099\n",
      "[80]\tvalidation_0-auc:0.998128\n",
      "[81]\tvalidation_0-auc:0.998184\n",
      "[82]\tvalidation_0-auc:0.998391\n",
      "[83]\tvalidation_0-auc:0.998429\n",
      "[84]\tvalidation_0-auc:0.998454\n",
      "[85]\tvalidation_0-auc:0.998462\n",
      "[86]\tvalidation_0-auc:0.998541\n",
      "[87]\tvalidation_0-auc:0.998548\n",
      "[88]\tvalidation_0-auc:0.998618\n",
      "[89]\tvalidation_0-auc:0.998656\n",
      "[90]\tvalidation_0-auc:0.998753\n",
      "[91]\tvalidation_0-auc:0.998784\n",
      "[92]\tvalidation_0-auc:0.9988\n",
      "[93]\tvalidation_0-auc:0.998815\n",
      "[94]\tvalidation_0-auc:0.998828\n",
      "[95]\tvalidation_0-auc:0.998849\n",
      "[96]\tvalidation_0-auc:0.998853\n",
      "[97]\tvalidation_0-auc:0.998865\n",
      "[98]\tvalidation_0-auc:0.998886\n",
      "[99]\tvalidation_0-auc:0.99889\n"
     ]
    },
    {
     "data": {
      "text/plain": [
       "XGBClassifier(base_score=0.5, booster='gbtree', colsample_bylevel=1,\n",
       "              colsample_bynode=1, colsample_bytree=1, early_stopping_rounds=10,\n",
       "              eval_metric='auc', gamma=0, learning_rate=0.1, max_delta_step=0,\n",
       "              max_depth=3, min_child_weight=1, missing=None, n_estimators=100,\n",
       "              n_jobs=1, nthread=None, objective='binary:logistic',\n",
       "              random_state=0, reg_alpha=0, reg_lambda=1, scale_pos_weight=1,\n",
       "              seed=None, silent=None, subsample=1, verbosity=1)"
      ]
     },
     "execution_count": 15,
     "metadata": {},
     "output_type": "execute_result"
    }
   ],
   "source": [
    "# eval_metrics can selecy rmse, logloss, error,\\\n",
    "# auc, merror, mlogloss or custom define\n",
    "eval_set = [(x_valid, y_valid)]\n",
    "model = XGBClassifier(early_stopping_rounds = 10, \n",
    "                      eval_metric = \"auc\")\n",
    "print(type(x_train))\n",
    "print(type(y_train))\n",
    "model.fit(x_train, \n",
    "          y_train, \n",
    "          eval_set = eval_set, \n",
    "          verbose = True)"
   ]
  },
  {
   "cell_type": "code",
   "execution_count": 16,
   "id": "39402938",
   "metadata": {},
   "outputs": [
    {
     "data": {
      "text/plain": [
       "array([[1.8398345e-02, 9.8160166e-01],\n",
       "       [2.7868152e-03, 9.9721318e-01],\n",
       "       [9.9949908e-01, 5.0094287e-04],\n",
       "       [2.8699088e-01, 7.1300912e-01],\n",
       "       [6.4999223e-02, 9.3500078e-01]], dtype=float32)"
      ]
     },
     "execution_count": 16,
     "metadata": {},
     "output_type": "execute_result"
    }
   ],
   "source": [
    "# model.predict_proba will return the probility\n",
    "# model.predict will return the predict label (use 0.5 as threshold)\n",
    "y_pred = model.predict_proba(x_valid)\n",
    "y_pred[:5]"
   ]
  },
  {
   "cell_type": "code",
   "execution_count": 17,
   "id": "d0e695cf",
   "metadata": {},
   "outputs": [
    {
     "name": "stdout",
     "output_type": "stream",
     "text": [
      "Accuracy: 99.10%\n"
     ]
    }
   ],
   "source": [
    "# we use model.predict to get the label\n",
    "y_pred = model.predict(x_valid)\n",
    "accuracy = accuracy_score(y_valid, y_pred)\n",
    "print(\"Accuracy: %.2f%%\" % (accuracy * 100.0))"
   ]
  },
  {
   "cell_type": "code",
   "execution_count": 18,
   "id": "f03d3b83",
   "metadata": {},
   "outputs": [
    {
     "name": "stdout",
     "output_type": "stream",
     "text": [
      "f1-score: 99.20%\n"
     ]
    }
   ],
   "source": [
    "# f1-score\n",
    "accuracy_f1 = f1_score(y_valid, y_pred)\n",
    "print(\"f1-score: %.2f%%\" % (accuracy_f1 * 100.0))"
   ]
  },
  {
   "cell_type": "code",
   "execution_count": 19,
   "id": "7b119483",
   "metadata": {},
   "outputs": [
    {
     "name": "stdout",
     "output_type": "stream",
     "text": [
      "[1.7280987e-02 0.0000000e+00 1.6323656e-02 0.0000000e+00 1.1156488e-02\n",
      " 1.1252221e-02 0.0000000e+00 0.0000000e+00 0.0000000e+00 0.0000000e+00\n",
      " 7.2918348e-03 6.9992458e-03 2.4651599e-03 4.9541444e-03 0.0000000e+00\n",
      " 1.9992136e-03 7.3512560e-03 8.7303817e-03 1.3245014e-02 5.8219652e-05\n",
      " 6.2801661e-03 0.0000000e+00 2.6169842e-02 0.0000000e+00 6.4332895e-03\n",
      " 1.0355452e-02 0.0000000e+00 2.9148122e-02 1.0881376e-02 5.2246109e-02\n",
      " 9.3753552e-03 2.1087073e-02 1.3529698e-02 4.8432201e-03 0.0000000e+00\n",
      " 0.0000000e+00 9.9114829e-04 6.7690047e-03 2.7319344e-02 3.1827342e-02\n",
      " 3.0630916e-02 2.1751632e-03 2.1864180e-02 9.9461554e-03 1.1267915e-02\n",
      " 6.2908269e-03 2.5260535e-03 0.0000000e+00 0.0000000e+00 0.0000000e+00\n",
      " 1.2945598e-02 7.8188255e-03 1.1913390e-02 3.9193640e-03 1.5174389e-02\n",
      " 2.1472892e-02 5.1766927e-03 3.0183777e-02 1.1569049e-03 1.2201495e-02\n",
      " 1.9525267e-03 1.3894730e-02 3.1572087e-03 6.1321788e-04 1.3427305e-03\n",
      " 1.6060993e-02 1.8064060e-03 0.0000000e+00 1.8895825e-02 0.0000000e+00\n",
      " 0.0000000e+00 4.5027458e-03 1.3673463e-02 1.3636647e-02 2.9700415e-02\n",
      " 0.0000000e+00 0.0000000e+00 8.9242831e-03 2.8079133e-02 3.4098107e-02\n",
      " 0.0000000e+00 0.0000000e+00 6.1676251e-03 2.6641060e-02 0.0000000e+00\n",
      " 0.0000000e+00 0.0000000e+00 0.0000000e+00 0.0000000e+00 0.0000000e+00\n",
      " 0.0000000e+00 0.0000000e+00 0.0000000e+00 0.0000000e+00 1.3442866e-02\n",
      " 0.0000000e+00 0.0000000e+00 1.6401850e-02 2.8496206e-02 1.4548312e-01]\n"
     ]
    }
   ],
   "source": [
    "# we can show the feature importances for our features\n",
    "print(model.feature_importances_)"
   ]
  },
  {
   "cell_type": "code",
   "execution_count": 20,
   "id": "bd06df0d",
   "metadata": {},
   "outputs": [
    {
     "data": {
      "image/png": "[encoded data removed]",
      "text/plain": [
       "<Figure size 720x1440 with 1 Axes>"
      ]
     },
     "metadata": {
      "needs_background": "light"
     },
     "output_type": "display_data"
    }
   ],
   "source": [
    "# import the plot_importance function to visualize the feature importance\n",
    "from xgboost import plot_importance\n",
    "# plot_importance(model)\n",
    "# plt.show()\n",
    "\n",
    "fig, ax = plt.subplots(figsize=(10, 20))\n",
    "plot_importance(model, ax=ax)\n",
    "plt.show()"
   ]
  },
  {
   "cell_type": "code",
   "execution_count": 21,
   "id": "7cdb13b6",
   "metadata": {},
   "outputs": [
    {
     "name": "stdout",
     "output_type": "stream",
     "text": [
      "Requirement already satisfied: graphviz in /opt/conda/lib/python3.7/site-packages (0.8.2)\n"
     ]
    }
   ],
   "source": [
    "!pip install graphviz"
   ]
  },
  {
   "cell_type": "code",
   "execution_count": 22,
   "id": "9926128e",
   "metadata": {},
   "outputs": [
    {
     "data": {
      "text/plain": [
       "<Figure size 864x864 with 0 Axes>"
      ]
     },
     "metadata": {},
     "output_type": "display_data"
    },
    {
     "data": {
      "image/png": "[encoded data removed]",
      "text/plain": [
       "<Figure size 432x288 with 1 Axes>"
      ]
     },
     "metadata": {
      "needs_background": "light"
     },
     "output_type": "display_data"
    }
   ],
   "source": [
    "from xgboost import plot_tree\n",
    "from matplotlib.pylab import rcParams\n",
    "\n",
    "plt.figure(figsize=(12, 12))\n",
    "plot_tree(model, num_trees = 1)\n",
    "plt.title(\"max_depth = 100, with gamma = 10\")\n",
    "plt.savefig(\"plot_tree_xgboost_norm_all_features\", dpi = 300)"
   ]
  },
  {
   "cell_type": "code",
   "execution_count": null,
   "id": "e48dff06",
   "metadata": {},
   "outputs": [],
   "source": []
  }
 ],
 "metadata": {
  "kernelspec": {
   "display_name": "Python 3 (ipykernel)",
   "language": "python",
   "name": "python3"
  },
  "language_info": {
   "codemirror_mode": {
    "name": "ipython",
    "version": 3
   },
   "file_extension": ".py",
   "mimetype": "text/x-python",
   "name": "python",
   "nbconvert_exporter": "python",
   "pygments_lexer": "ipython3",
   "version": "3.7.12"
  }
 },
 "nbformat": 4,
 "nbformat_minor": 5
}
