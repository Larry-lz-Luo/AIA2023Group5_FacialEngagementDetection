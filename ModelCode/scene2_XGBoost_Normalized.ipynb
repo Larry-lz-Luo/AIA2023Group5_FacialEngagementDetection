{
 "cells": [
  {
   "cell_type": "code",
   "execution_count": 1,
   "metadata": {
    "colab": {
     "base_uri": "https://localhost:8080/"
    },
    "executionInfo": {
     "elapsed": 2711,
     "status": "ok",
     "timestamp": 1683134156932,
     "user": {
      "displayName": "洪啟豪",
      "userId": "08277187360257942838"
     },
     "user_tz": -480
    },
    "id": "a_02Aqmvm22h",
    "outputId": "7ee8ae1a-b701-4473-f60a-32a709cd7633"
   },
   "outputs": [
    {
     "name": "stdout",
     "output_type": "stream",
     "text": [
      "Populating the interactive namespace from numpy and matplotlib\n"
     ]
    }
   ],
   "source": [
    "from xgboost import XGBClassifier\n",
    "from sklearn.model_selection import train_test_split\n",
    "from sklearn.metrics import accuracy_score\n",
    "import pandas as pd\n",
    "import matplotlib.pyplot as plt\n",
    "%pylab inline"
   ]
  },
  {
   "cell_type": "markdown",
   "metadata": {
    "id": "EXdjv-qYnqdl"
   },
   "source": [
    "## 載入資料集"
   ]
  },
  {
   "cell_type": "code",
   "execution_count": 2,
   "metadata": {
    "id": "X7ybsCSfnPbD"
   },
   "outputs": [
    {
     "name": "stdout",
     "output_type": "stream",
     "text": [
      "/project/xt121-group5/scene2_data_01equal/alice/2023-05-01 232058.csv\n",
      "/project/xt121-group5/scene2_data_01equal/alice/2023-05-01 231925.csv\n",
      "/project/xt121-group5/scene2_data_01equal/alice/.ipynb_checkpoints/2023-05-01 232058-checkpoint.csv\n",
      "/project/xt121-group5/scene2_data_01equal/alice/.ipynb_checkpoints/2023-05-01 231925-checkpoint.csv\n",
      "/project/xt121-group5/scene2_data_01equal/larry/2023-05-01 232448.csv\n",
      "/project/xt121-group5/scene2_data_01equal/larry/2023-05-01 232329.csv\n",
      "/project/xt121-group5/scene2_data_01equal/larry/.ipynb_checkpoints/2023-05-01 232448-checkpoint.csv\n",
      "/project/xt121-group5/scene2_data_01equal/larry/.ipynb_checkpoints/2023-05-01 232329-checkpoint.csv\n",
      "/project/xt121-group5/scene2_data_01equal/charlie/2023-05-05 103150_c.csv\n",
      "/project/xt121-group5/scene2_data_01equal/charlie/2023-05-05 103233_nc.csv\n",
      "/project/xt121-group5/scene2_data_01equal/charlie/.ipynb_checkpoints/2023-05-05 103150_c-checkpoint.csv\n",
      "/project/xt121-group5/scene2_data_01equal/charlie/.ipynb_checkpoints/2023-05-05 103233_nc-checkpoint.csv\n",
      "/project/xt121-group5/scene2_data_01equal/jason/2023-05-05 1.csv\n",
      "/project/xt121-group5/scene2_data_01equal/jason/2023-05-05 0.csv\n",
      "/project/xt121-group5/scene2_data_01equal/jason/.ipynb_checkpoints/2023-05-05 1-checkpoint.csv\n",
      "/project/xt121-group5/scene2_data_01equal/jason/.ipynb_checkpoints/2023-05-05 0-checkpoint.csv\n"
     ]
    }
   ],
   "source": [
    "import os\n",
    "df_train = pd.core.frame.DataFrame()\n",
    "for dirname, _, filenames in os.walk('/project/xt121-group5/scene2_data_01equal/'):\n",
    "    for filename in filenames:\n",
    "        if dirname.split('/')[-1] != 'test_data':\n",
    "            print(os.path.join(dirname, filename))\n",
    "            df_train2 = pd.read_csv(os.path.join(dirname, filename))\n",
    "            df_train = pd.concat([df_train, df_train2])\n",
    "        \n",
    "df_train = df_train.drop(labels = ['RecordTime'], axis = 1) # 移除 RecordTime"
   ]
  },
  {
   "cell_type": "code",
   "execution_count": 3,
   "metadata": {
    "colab": {
     "base_uri": "https://localhost:8080/"
    },
    "executionInfo": {
     "elapsed": 504,
     "status": "ok",
     "timestamp": 1683134191466,
     "user": {
      "displayName": "洪啟豪",
      "userId": "08277187360257942838"
     },
     "user_tz": -480
    },
    "id": "h93qCpsSnWfz",
    "outputId": "7d802664-f27d-4f03-ee8e-c014eec2244d"
   },
   "outputs": [
    {
     "name": "stdout",
     "output_type": "stream",
     "text": [
      "(10876, 103)\n"
     ]
    }
   ],
   "source": [
    "print(df_train.shape)"
   ]
  },
  {
   "cell_type": "markdown",
   "metadata": {},
   "source": [
    "## 資料前處理"
   ]
  },
  {
   "cell_type": "markdown",
   "metadata": {},
   "source": [
    "### 前處理－臉部特徵座標平移"
   ]
  },
  {
   "cell_type": "code",
   "execution_count": 4,
   "metadata": {},
   "outputs": [],
   "source": [
    "def FaceLandmarksPreprocessing(df_data, verbose = False):\n",
    "    for col_name in df_data.columns.to_list():\n",
    "        if col_name.find('FaceLandmarks_') == 0:\n",
    "            if col_name.find('_X') == len(col_name) - 2:\n",
    "                df_data[col_name] = df_data[col_name] - df_data['FaceBoundingBox_X']\n",
    "                if verbose:\n",
    "                    print(f'Column {col_name} is subtracted by FaceBoundingBox_X.')\n",
    "            elif col_name.find('_Y') == len(col_name) - 2:\n",
    "                df_data[col_name] = df_data[col_name] - df_data['FaceBoundingBox_Y']\n",
    "                if verbose:\n",
    "                    print(f'Column {col_name} is subtracted by FaceBoundingBox_Y.')\n",
    "            else:\n",
    "#                 print(f'Ignore column {col_name}.')\n",
    "                pass\n",
    "        else:\n",
    "#             print(f'Ignore column {col_name}')\n",
    "            pass\n",
    "    return df_data"
   ]
  },
  {
   "cell_type": "code",
   "execution_count": 5,
   "metadata": {},
   "outputs": [
    {
     "name": "stdout",
     "output_type": "stream",
     "text": [
      "Column FaceLandmarks_1_X is subtracted by FaceBoundingBox_X.\n",
      "Column FaceLandmarks_1_Y is subtracted by FaceBoundingBox_Y.\n",
      "Column FaceLandmarks_2_X is subtracted by FaceBoundingBox_X.\n",
      "Column FaceLandmarks_2_Y is subtracted by FaceBoundingBox_Y.\n",
      "Column FaceLandmarks_3_X is subtracted by FaceBoundingBox_X.\n",
      "Column FaceLandmarks_3_Y is subtracted by FaceBoundingBox_Y.\n",
      "Column FaceLandmarks_4_X is subtracted by FaceBoundingBox_X.\n",
      "Column FaceLandmarks_4_Y is subtracted by FaceBoundingBox_Y.\n",
      "Column FaceLandmarks_5_X is subtracted by FaceBoundingBox_X.\n",
      "Column FaceLandmarks_5_Y is subtracted by FaceBoundingBox_Y.\n",
      "Column FaceLandmarks_6_X is subtracted by FaceBoundingBox_X.\n",
      "Column FaceLandmarks_6_Y is subtracted by FaceBoundingBox_Y.\n",
      "Column FaceLandmarks_7_X is subtracted by FaceBoundingBox_X.\n",
      "Column FaceLandmarks_7_Y is subtracted by FaceBoundingBox_Y.\n",
      "Column FaceLandmarks_8_X is subtracted by FaceBoundingBox_X.\n",
      "Column FaceLandmarks_8_Y is subtracted by FaceBoundingBox_Y.\n",
      "Column FaceLandmarks_9_X is subtracted by FaceBoundingBox_X.\n",
      "Column FaceLandmarks_9_Y is subtracted by FaceBoundingBox_Y.\n",
      "Column FaceLandmarks_10_X is subtracted by FaceBoundingBox_X.\n",
      "Column FaceLandmarks_10_Y is subtracted by FaceBoundingBox_Y.\n",
      "Column FaceLandmarks_11_X is subtracted by FaceBoundingBox_X.\n",
      "Column FaceLandmarks_11_Y is subtracted by FaceBoundingBox_Y.\n",
      "Column FaceLandmarks_12_X is subtracted by FaceBoundingBox_X.\n",
      "Column FaceLandmarks_12_Y is subtracted by FaceBoundingBox_Y.\n",
      "Column FaceLandmarks_13_X is subtracted by FaceBoundingBox_X.\n",
      "Column FaceLandmarks_13_Y is subtracted by FaceBoundingBox_Y.\n",
      "Column FaceLandmarks_14_X is subtracted by FaceBoundingBox_X.\n",
      "Column FaceLandmarks_14_Y is subtracted by FaceBoundingBox_Y.\n",
      "Column FaceLandmarks_15_X is subtracted by FaceBoundingBox_X.\n",
      "Column FaceLandmarks_15_Y is subtracted by FaceBoundingBox_Y.\n",
      "Column FaceLandmarks_16_X is subtracted by FaceBoundingBox_X.\n",
      "Column FaceLandmarks_16_Y is subtracted by FaceBoundingBox_Y.\n",
      "Column FaceLandmarks_17_X is subtracted by FaceBoundingBox_X.\n",
      "Column FaceLandmarks_17_Y is subtracted by FaceBoundingBox_Y.\n",
      "Column FaceLandmarks_18_X is subtracted by FaceBoundingBox_X.\n",
      "Column FaceLandmarks_18_Y is subtracted by FaceBoundingBox_Y.\n",
      "Column FaceLandmarks_19_X is subtracted by FaceBoundingBox_X.\n",
      "Column FaceLandmarks_19_Y is subtracted by FaceBoundingBox_Y.\n",
      "Column FaceLandmarks_20_X is subtracted by FaceBoundingBox_X.\n",
      "Column FaceLandmarks_20_Y is subtracted by FaceBoundingBox_Y.\n",
      "Column FaceLandmarks_21_X is subtracted by FaceBoundingBox_X.\n",
      "Column FaceLandmarks_21_Y is subtracted by FaceBoundingBox_Y.\n",
      "Column FaceLandmarks_22_X is subtracted by FaceBoundingBox_X.\n",
      "Column FaceLandmarks_22_Y is subtracted by FaceBoundingBox_Y.\n",
      "Column FaceLandmarks_23_X is subtracted by FaceBoundingBox_X.\n",
      "Column FaceLandmarks_23_Y is subtracted by FaceBoundingBox_Y.\n",
      "Column FaceLandmarks_24_X is subtracted by FaceBoundingBox_X.\n",
      "Column FaceLandmarks_24_Y is subtracted by FaceBoundingBox_Y.\n",
      "Column FaceLandmarks_25_X is subtracted by FaceBoundingBox_X.\n",
      "Column FaceLandmarks_25_Y is subtracted by FaceBoundingBox_Y.\n",
      "Column FaceLandmarks_26_X is subtracted by FaceBoundingBox_X.\n",
      "Column FaceLandmarks_26_Y is subtracted by FaceBoundingBox_Y.\n",
      "Column FaceLandmarks_27_X is subtracted by FaceBoundingBox_X.\n",
      "Column FaceLandmarks_27_Y is subtracted by FaceBoundingBox_Y.\n",
      "Column FaceLandmarks_28_X is subtracted by FaceBoundingBox_X.\n",
      "Column FaceLandmarks_28_Y is subtracted by FaceBoundingBox_Y.\n",
      "Column FaceLandmarks_29_X is subtracted by FaceBoundingBox_X.\n",
      "Column FaceLandmarks_29_Y is subtracted by FaceBoundingBox_Y.\n",
      "Column FaceLandmarks_30_X is subtracted by FaceBoundingBox_X.\n",
      "Column FaceLandmarks_30_Y is subtracted by FaceBoundingBox_Y.\n",
      "Column FaceLandmarks_31_X is subtracted by FaceBoundingBox_X.\n",
      "Column FaceLandmarks_31_Y is subtracted by FaceBoundingBox_Y.\n",
      "Column FaceLandmarks_32_X is subtracted by FaceBoundingBox_X.\n",
      "Column FaceLandmarks_32_Y is subtracted by FaceBoundingBox_Y.\n",
      "Column FaceLandmarks_33_X is subtracted by FaceBoundingBox_X.\n",
      "Column FaceLandmarks_33_Y is subtracted by FaceBoundingBox_Y.\n",
      "Column FaceLandmarks_34_X is subtracted by FaceBoundingBox_X.\n",
      "Column FaceLandmarks_34_Y is subtracted by FaceBoundingBox_Y.\n",
      "Column FaceLandmarks_35_X is subtracted by FaceBoundingBox_X.\n",
      "Column FaceLandmarks_35_Y is subtracted by FaceBoundingBox_Y.\n"
     ]
    }
   ],
   "source": [
    "df_train = FaceLandmarksPreprocessing(df_train, True)"
   ]
  },
  {
   "cell_type": "code",
   "execution_count": 6,
   "metadata": {},
   "outputs": [
    {
     "name": "stdout",
     "output_type": "stream",
     "text": [
      "   FaceBoundingBox_X  FaceBoundingBox_Y  FaceBoundingBox_W  FaceBoundingBox_H  \\\n",
      "0                524                166                253                253   \n",
      "1                525                161                255                255   \n",
      "2                525                163                255                255   \n",
      "3                526                168                255                255   \n",
      "4                530                174                249                249   \n",
      "\n",
      "   FaceLandmarks_1_X  FaceLandmarks_1_Y  FaceLandmarks_2_X  FaceLandmarks_2_Y  \\\n",
      "0                108                 91                 78                 89   \n",
      "1                109                 93                 78                 91   \n",
      "2                109                 93                 79                 92   \n",
      "3                113                100                 86                 98   \n",
      "4                112                102                 88                100   \n",
      "\n",
      "   FaceLandmarks_3_X  FaceLandmarks_3_Y  ...  EyeLandmarks_4_X  \\\n",
      "0                155                 92  ...               708   \n",
      "1                156                 93  ...               711   \n",
      "2                156                 93  ...               710   \n",
      "3                155                100  ...               707   \n",
      "4                148                101  ...               701   \n",
      "\n",
      "   EyeLandmarks_4_Y  LeftEyeMidPoint_X  LeftEyeMidPoint_Y  RightEyeMidPoint_X  \\\n",
      "0               256              617.0              256.0               693.5   \n",
      "1               252              618.5              253.0               696.0   \n",
      "2               254              619.0              255.5               695.5   \n",
      "3               266              625.5              267.0               694.0   \n",
      "4               272              630.0              275.0               689.5   \n",
      "\n",
      "   RightEyeMidPoint_Y  GazeVector_X  GazeVector_Y  GazeVector_Z  RecordType  \n",
      "0               257.0     -0.094805     -0.014327     -0.995393           0  \n",
      "1               253.0     -0.047574     -0.034673     -0.998266           0  \n",
      "2               255.0      0.012142     -0.065674     -0.997767           0  \n",
      "3               267.0     -0.003677     -0.079957     -0.996792           0  \n",
      "4               273.5      0.000000      0.000000      0.000000           0  \n",
      "\n",
      "[5 rows x 103 columns]\n"
     ]
    }
   ],
   "source": [
    "print(df_train.head())"
   ]
  },
  {
   "cell_type": "markdown",
   "metadata": {
    "id": "CdJVL8ygnnyv"
   },
   "source": [
    "### 前處理－檢查缺失值"
   ]
  },
  {
   "cell_type": "code",
   "execution_count": 7,
   "metadata": {
    "colab": {
     "base_uri": "https://localhost:8080/"
    },
    "executionInfo": {
     "elapsed": 4,
     "status": "ok",
     "timestamp": 1683134238809,
     "user": {
      "displayName": "洪啟豪",
      "userId": "08277187360257942838"
     },
     "user_tz": -480
    },
    "id": "lByl9PTOnY-F",
    "outputId": "0119a5ec-e6ab-44ab-9e39-205e1ce81646"
   },
   "outputs": [
    {
     "name": "stdout",
     "output_type": "stream",
     "text": [
      "Before data clean(NAN mount): 0\n"
     ]
    }
   ],
   "source": [
    "# checked missing data\n",
    "print(\"Before data clean(NAN mount):\", len(np.where(np.isnan(df_train)==1)[0]))"
   ]
  },
  {
   "cell_type": "code",
   "execution_count": 8,
   "metadata": {
    "id": "JPd8gtYOnk1F"
   },
   "outputs": [],
   "source": [
    "# Find columns with only unique value.\n",
    "# unique_col = []\n",
    "# for i in df_train.columns:\n",
    "#     if np.unique(df_train[i]).shape[0]==1:\n",
    "#         print(f'Get column {i} with only unique value.')\n",
    "#         unique_col.append(i) "
   ]
  },
  {
   "cell_type": "code",
   "execution_count": 9,
   "metadata": {
    "id": "wgFEqJtqn0iz"
   },
   "outputs": [],
   "source": [
    "# print(unique_col)"
   ]
  },
  {
   "cell_type": "code",
   "execution_count": 10,
   "metadata": {
    "id": "YdvZ779Dn20X"
   },
   "outputs": [],
   "source": [
    "# df_train.describe()[unique_col]"
   ]
  },
  {
   "cell_type": "code",
   "execution_count": 11,
   "metadata": {
    "id": "4Be2lkSkn4MD"
   },
   "outputs": [],
   "source": [
    "# Drop columns with only unique value.\n",
    "# df_train = df_train.drop(unique_col, axis=1)"
   ]
  },
  {
   "cell_type": "markdown",
   "metadata": {},
   "source": [
    "### 前處理－保留重要特徵"
   ]
  },
  {
   "cell_type": "code",
   "execution_count": 12,
   "metadata": {
    "id": "GIqFHaOSn5oF"
   },
   "outputs": [
    {
     "name": "stdout",
     "output_type": "stream",
     "text": [
      "['HeadPoseAngles_Z', 'EyeState_Right', 'FaceLandmarks_17_X', 'FaceLandmarks_16_X', 'RightEyeBoundingBox_X', 'EyeState_Left', 'FaceBoundingBox_Y', 'GazeVector_Z', 'HeadPoseAngles_Y', 'FaceLandmarks_14_Y', 'LeftEyeBoundingBox_Y', 'FaceLandmarks_13_Y', 'FaceLandmarks_15_Y', 'FaceLandmarks_16_Y', 'FaceLandmarks_19_Y', 'FaceLandmarks_17_Y', 'FaceLandmarks_2_Y', 'EyeLandmarks_2_Y', 'LeftEyeMidPoint_Y', 'RightEyeBoundingBox_Y']\n"
     ]
    }
   ],
   "source": [
    "# 列出重要的特徵。\n",
    "## 正相關特徵\n",
    "col_positive = ['HeadPoseAngles_Z', 'EyeState_Right', 'FaceLandmarks_17_X', 'FaceLandmarks_16_X', 'RightEyeBoundingBox_X', \n",
    "               'EyeState_Left']\n",
    "\n",
    "## 負相關特徵\n",
    "col_negative = ['FaceBoundingBox_Y', 'GazeVector_Z', 'HeadPoseAngles_Y', 'FaceLandmarks_14_Y', 'LeftEyeBoundingBox_Y', \n",
    "               'FaceLandmarks_13_Y', 'FaceLandmarks_15_Y', 'FaceLandmarks_16_Y', 'FaceLandmarks_19_Y', 'FaceLandmarks_17_Y', \n",
    "               'FaceLandmarks_2_Y', 'EyeLandmarks_2_Y', 'LeftEyeMidPoint_Y', 'RightEyeBoundingBox_Y']\n",
    "\n",
    "## 所有重要特徵－正相關特徵 + 負相關特徵\n",
    "col_reserved = []\n",
    "for col_name in col_positive:\n",
    "    col_reserved.append(col_name)\n",
    "for col_name in col_negative:\n",
    "    col_reserved.append(col_name)\n",
    "\n",
    "print(col_reserved)"
   ]
  },
  {
   "cell_type": "code",
   "execution_count": 13,
   "metadata": {
    "id": "VFcIvO6FofFD"
   },
   "outputs": [
    {
     "name": "stdout",
     "output_type": "stream",
     "text": [
      "(10876,)\n"
     ]
    }
   ],
   "source": [
    "# 取目標值。\n",
    "y = df_train['RecordType'].values\n",
    "print(y.shape)"
   ]
  },
  {
   "cell_type": "code",
   "execution_count": 14,
   "metadata": {
    "id": "ykVqh8LsoCgk"
   },
   "outputs": [],
   "source": [
    "# 刪除沒有被列在重要特徵列表的特徵。\n",
    "def ReserveImportColumns(df_data, col_import):\n",
    "    for col_name in df_data.columns.to_list():\n",
    "        if col_name not in col_import:\n",
    "            df_data = df_data.drop(col_name, axis = 1)\n",
    "    return df_data"
   ]
  },
  {
   "cell_type": "code",
   "execution_count": 15,
   "metadata": {},
   "outputs": [
    {
     "name": "stdout",
     "output_type": "stream",
     "text": [
      "(10876, 20)\n",
      "Index(['FaceBoundingBox_Y', 'FaceLandmarks_2_Y', 'FaceLandmarks_13_Y',\n",
      "       'FaceLandmarks_14_Y', 'FaceLandmarks_15_Y', 'FaceLandmarks_16_X',\n",
      "       'FaceLandmarks_16_Y', 'FaceLandmarks_17_X', 'FaceLandmarks_17_Y',\n",
      "       'FaceLandmarks_19_Y', 'HeadPoseAngles_Y', 'HeadPoseAngles_Z',\n",
      "       'EyeState_Left', 'EyeState_Right', 'LeftEyeBoundingBox_Y',\n",
      "       'RightEyeBoundingBox_X', 'RightEyeBoundingBox_Y', 'EyeLandmarks_2_Y',\n",
      "       'LeftEyeMidPoint_Y', 'GazeVector_Z'],\n",
      "      dtype='object')\n"
     ]
    }
   ],
   "source": [
    "df_train = ReserveImportColumns(df_train, col_reserved)\n",
    "    \n",
    "print(shape(df_train))\n",
    "print(df_train.columns)"
   ]
  },
  {
   "cell_type": "code",
   "execution_count": 16,
   "metadata": {
    "id": "fRDtN4THoFaT"
   },
   "outputs": [],
   "source": [
    "# from sklearn.preprocessing import StandardScaler\n",
    "# from sklearn.preprocessing import MinMaxScaler"
   ]
  },
  {
   "cell_type": "code",
   "execution_count": 17,
   "metadata": {
    "id": "s5RxZZWkoGuM"
   },
   "outputs": [],
   "source": [
    "# def data_preprocessing(df_input, train=True, sc=None):\n",
    "#     # numeric feature standardization\n",
    "#     if train:\n",
    "#         sc = StandardScaler()\n",
    "# #         sc = MinMaxScaler()\n",
    "#         df = sc.fit_transform(df_input.iloc[:, 0:-1])\n",
    "#     else:\n",
    "#         df = sc.transform(df_input)\n",
    "#     return df, sc"
   ]
  },
  {
   "cell_type": "code",
   "execution_count": 18,
   "metadata": {
    "id": "5SLy0ziNoNa1"
   },
   "outputs": [],
   "source": [
    "# X, train_sc = data_preprocessing(df_train)"
   ]
  },
  {
   "cell_type": "code",
   "execution_count": 19,
   "metadata": {
    "id": "YD5cLbO2oQWH"
   },
   "outputs": [],
   "source": [
    "# print(X.shape)"
   ]
  },
  {
   "cell_type": "code",
   "execution_count": 20,
   "metadata": {
    "id": "Ne9F-x99oZY9"
   },
   "outputs": [],
   "source": [
    "# print(train_sc.mean_)"
   ]
  },
  {
   "cell_type": "code",
   "execution_count": 21,
   "metadata": {
    "id": "wQN9qy2iocZX"
   },
   "outputs": [],
   "source": [
    "# print(train_sc.var_)"
   ]
  },
  {
   "cell_type": "code",
   "execution_count": 22,
   "metadata": {
    "colab": {
     "base_uri": "https://localhost:8080/"
    },
    "executionInfo": {
     "elapsed": 4,
     "status": "ok",
     "timestamp": 1683134509554,
     "user": {
      "displayName": "洪啟豪",
      "userId": "08277187360257942838"
     },
     "user_tz": -480
    },
    "id": "y6Ne7Y_8ojln",
    "outputId": "ff4b155a-1e69-4c06-dcea-bb34a167f23d"
   },
   "outputs": [
    {
     "name": "stdout",
     "output_type": "stream",
     "text": [
      "[0 0 0 ... 0 0 0]\n"
     ]
    }
   ],
   "source": [
    "np.unique(y)\n",
    "print(y)"
   ]
  },
  {
   "cell_type": "code",
   "execution_count": 23,
   "metadata": {},
   "outputs": [],
   "source": [
    "# # Columns 順序轉換－先 GazeVector X, Y, Z, 然後 HeadPosAngles X, Y, Z 最後 FaceLandmarks 1~35 X, Y\n",
    "# cols_1 = df_train_1.columns.tolist()\n",
    "# print(f'Before 6 features column order change: {cols_1}')\n",
    "# # print(df_train_1.head())\n",
    "# cols_1 = cols_1[3:] + cols_1[:3]\n",
    "# df_train_1 = df_train_1[cols_1]\n",
    "# print(f'After 6 features column order change: {cols_1}')\n",
    "# print(df_train_1.head())\n",
    "\n",
    "# cols_2 = df_train_2.columns.tolist()\n",
    "# print(len(cols_2))\n",
    "# print(f'Before 76 features column order change: {cols_2}')\n",
    "# # print(df_train_2.head())\n",
    "# cols_2 = cols_2[-3:] + cols_2[-6:-3] + cols_2[:70]\n",
    "# print(f'After 76 features column order change: {cols_2}')\n",
    "# assert len(cols_2) == 76\n",
    "# df_train_2 = df_train_2[cols_2]\n",
    "# print(cols_2)\n",
    "# print(df_train_2.head())"
   ]
  },
  {
   "cell_type": "markdown",
   "metadata": {
    "id": "xE8GmGCOpenc"
   },
   "source": [
    "## 切割訓練集"
   ]
  },
  {
   "cell_type": "code",
   "execution_count": 24,
   "metadata": {},
   "outputs": [
    {
     "name": "stdout",
     "output_type": "stream",
     "text": [
      "Numpy training datatype: float64\n"
     ]
    }
   ],
   "source": [
    "# Convert data from DataFrame to numpy.ndarray\n",
    "npa_train = df_train.to_numpy()\n",
    "print(f'Numpy training datatype: {npa_train.dtype}')"
   ]
  },
  {
   "cell_type": "code",
   "execution_count": 25,
   "metadata": {
    "id": "tghkbwmwopjK"
   },
   "outputs": [],
   "source": [
    "x_train, x_valid, y_train, y_valid = train_test_split(npa_train, y, test_size=0.25, random_state = 17, stratify = y)"
   ]
  },
  {
   "cell_type": "markdown",
   "metadata": {},
   "source": [
    "## 訓練模型"
   ]
  },
  {
   "cell_type": "code",
   "execution_count": 26,
   "metadata": {
    "colab": {
     "base_uri": "https://localhost:8080/",
     "height": 612
    },
    "executionInfo": {
     "elapsed": 643,
     "status": "ok",
     "timestamp": 1683134874585,
     "user": {
      "displayName": "洪啟豪",
      "userId": "08277187360257942838"
     },
     "user_tz": -480
    },
    "id": "20eJyXYepj93",
    "outputId": "a04b2eee-d94c-4679-c066-93bdb9ba2026"
   },
   "outputs": [
    {
     "name": "stdout",
     "output_type": "stream",
     "text": [
      "<class 'numpy.ndarray'>\n",
      "<class 'numpy.ndarray'>\n",
      "[0]\tvalidation_0-auc:0.968378\n",
      "[1]\tvalidation_0-auc:0.970765\n",
      "[2]\tvalidation_0-auc:0.974854\n",
      "[3]\tvalidation_0-auc:0.987462\n",
      "[4]\tvalidation_0-auc:0.989208\n",
      "[5]\tvalidation_0-auc:0.992717\n",
      "[6]\tvalidation_0-auc:0.993034\n",
      "[7]\tvalidation_0-auc:0.993159\n",
      "[8]\tvalidation_0-auc:0.992939\n",
      "[9]\tvalidation_0-auc:0.993425\n",
      "[10]\tvalidation_0-auc:0.993529\n",
      "[11]\tvalidation_0-auc:0.993672\n",
      "[12]\tvalidation_0-auc:0.99483\n",
      "[13]\tvalidation_0-auc:0.995702\n",
      "[14]\tvalidation_0-auc:0.996091\n",
      "[15]\tvalidation_0-auc:0.996463\n",
      "[16]\tvalidation_0-auc:0.99653\n",
      "[17]\tvalidation_0-auc:0.996812\n",
      "[18]\tvalidation_0-auc:0.996838\n",
      "[19]\tvalidation_0-auc:0.997021\n",
      "[20]\tvalidation_0-auc:0.997103\n",
      "[21]\tvalidation_0-auc:0.997138\n",
      "[22]\tvalidation_0-auc:0.997461\n",
      "[23]\tvalidation_0-auc:0.997521\n",
      "[24]\tvalidation_0-auc:0.997647\n",
      "[25]\tvalidation_0-auc:0.997698\n",
      "[26]\tvalidation_0-auc:0.997866\n",
      "[27]\tvalidation_0-auc:0.998012\n",
      "[28]\tvalidation_0-auc:0.998275\n",
      "[29]\tvalidation_0-auc:0.998359\n",
      "[30]\tvalidation_0-auc:0.998409\n",
      "[31]\tvalidation_0-auc:0.998479\n",
      "[32]\tvalidation_0-auc:0.998601\n",
      "[33]\tvalidation_0-auc:0.998597\n",
      "[34]\tvalidation_0-auc:0.998668\n",
      "[35]\tvalidation_0-auc:0.998753\n",
      "[36]\tvalidation_0-auc:0.998829\n",
      "[37]\tvalidation_0-auc:0.998835\n",
      "[38]\tvalidation_0-auc:0.998888\n",
      "[39]\tvalidation_0-auc:0.998894\n",
      "[40]\tvalidation_0-auc:0.998955\n",
      "[41]\tvalidation_0-auc:0.998966\n",
      "[42]\tvalidation_0-auc:0.999127\n",
      "[43]\tvalidation_0-auc:0.999167\n",
      "[44]\tvalidation_0-auc:0.999166\n",
      "[45]\tvalidation_0-auc:0.999243\n",
      "[46]\tvalidation_0-auc:0.999277\n",
      "[47]\tvalidation_0-auc:0.999273\n",
      "[48]\tvalidation_0-auc:0.999295\n",
      "[49]\tvalidation_0-auc:0.999302\n",
      "[50]\tvalidation_0-auc:0.999313\n",
      "[51]\tvalidation_0-auc:0.99934\n",
      "[52]\tvalidation_0-auc:0.999355\n",
      "[53]\tvalidation_0-auc:0.999387\n",
      "[54]\tvalidation_0-auc:0.999408\n",
      "[55]\tvalidation_0-auc:0.999459\n",
      "[56]\tvalidation_0-auc:0.999458\n",
      "[57]\tvalidation_0-auc:0.999485\n",
      "[58]\tvalidation_0-auc:0.999529\n",
      "[59]\tvalidation_0-auc:0.999547\n",
      "[60]\tvalidation_0-auc:0.999601\n",
      "[61]\tvalidation_0-auc:0.999616\n",
      "[62]\tvalidation_0-auc:0.999687\n",
      "[63]\tvalidation_0-auc:0.999708\n",
      "[64]\tvalidation_0-auc:0.999756\n",
      "[65]\tvalidation_0-auc:0.999757\n",
      "[66]\tvalidation_0-auc:0.999768\n",
      "[67]\tvalidation_0-auc:0.999771\n",
      "[68]\tvalidation_0-auc:0.999781\n",
      "[69]\tvalidation_0-auc:0.999791\n",
      "[70]\tvalidation_0-auc:0.999791\n",
      "[71]\tvalidation_0-auc:0.999806\n",
      "[72]\tvalidation_0-auc:0.999818\n",
      "[73]\tvalidation_0-auc:0.999833\n",
      "[74]\tvalidation_0-auc:0.99984\n",
      "[75]\tvalidation_0-auc:0.999842\n",
      "[76]\tvalidation_0-auc:0.999854\n",
      "[77]\tvalidation_0-auc:0.99986\n",
      "[78]\tvalidation_0-auc:0.999862\n",
      "[79]\tvalidation_0-auc:0.999873\n",
      "[80]\tvalidation_0-auc:0.999883\n",
      "[81]\tvalidation_0-auc:0.999885\n",
      "[82]\tvalidation_0-auc:0.999893\n",
      "[83]\tvalidation_0-auc:0.999897\n",
      "[84]\tvalidation_0-auc:0.9999\n",
      "[85]\tvalidation_0-auc:0.999904\n",
      "[86]\tvalidation_0-auc:0.999904\n",
      "[87]\tvalidation_0-auc:0.999912\n",
      "[88]\tvalidation_0-auc:0.999912\n",
      "[89]\tvalidation_0-auc:0.999915\n",
      "[90]\tvalidation_0-auc:0.999919\n",
      "[91]\tvalidation_0-auc:0.99992\n",
      "[92]\tvalidation_0-auc:0.99992\n",
      "[93]\tvalidation_0-auc:0.99992\n",
      "[94]\tvalidation_0-auc:0.999925\n",
      "[95]\tvalidation_0-auc:0.999925\n",
      "[96]\tvalidation_0-auc:0.99993\n",
      "[97]\tvalidation_0-auc:0.999929\n",
      "[98]\tvalidation_0-auc:0.999933\n",
      "[99]\tvalidation_0-auc:0.999935\n"
     ]
    },
    {
     "data": {
      "text/plain": [
       "XGBClassifier(base_score=0.5, booster='gbtree', colsample_bylevel=1,\n",
       "              colsample_bynode=1, colsample_bytree=1, early_stopping_rounds=10,\n",
       "              eval_metric='auc', gamma=0, learning_rate=0.1, max_delta_step=0,\n",
       "              max_depth=3, min_child_weight=1, missing=None, n_estimators=100,\n",
       "              n_jobs=1, nthread=None, objective='binary:logistic',\n",
       "              random_state=0, reg_alpha=0, reg_lambda=1, scale_pos_weight=1,\n",
       "              seed=None, silent=None, subsample=1, verbosity=1)"
      ]
     },
     "execution_count": 26,
     "metadata": {},
     "output_type": "execute_result"
    }
   ],
   "source": [
    "# eval_metrics can selecy rmse, logloss, error,\\\n",
    "# auc, merror, mlogloss or custom define\n",
    "eval_set = [(x_valid, y_valid)]\n",
    "model = XGBClassifier(early_stopping_rounds = 10, \n",
    "                      eval_metric = \"auc\")\n",
    "print(type(x_train))\n",
    "print(type(y_train))\n",
    "model.fit(x_train, \n",
    "            y_train, \n",
    "            eval_set = eval_set, \n",
    "            verbose = True)"
   ]
  },
  {
   "cell_type": "code",
   "execution_count": 27,
   "metadata": {
    "colab": {
     "base_uri": "https://localhost:8080/"
    },
    "executionInfo": {
     "elapsed": 3,
     "status": "ok",
     "timestamp": 1683134910280,
     "user": {
      "displayName": "洪啟豪",
      "userId": "08277187360257942838"
     },
     "user_tz": -480
    },
    "id": "njTW4TC-p_3y",
    "outputId": "5830effb-a8c5-4cfa-fd7f-311773337001"
   },
   "outputs": [
    {
     "data": {
      "text/plain": [
       "array([[0.00229204, 0.99770796],\n",
       "       [0.22160184, 0.77839816],\n",
       "       [0.99644697, 0.003553  ],\n",
       "       [0.99766845, 0.00233154],\n",
       "       [0.97147447, 0.02852552]], dtype=float32)"
      ]
     },
     "execution_count": 27,
     "metadata": {},
     "output_type": "execute_result"
    }
   ],
   "source": [
    "# model.predict_proba will return the probility\n",
    "# model.predict will return the predict label (use 0.5 as threshold)\n",
    "y_pred = model.predict_proba(x_valid)\n",
    "y_pred[:5]"
   ]
  },
  {
   "cell_type": "code",
   "execution_count": 28,
   "metadata": {
    "colab": {
     "base_uri": "https://localhost:8080/"
    },
    "executionInfo": {
     "elapsed": 3,
     "status": "ok",
     "timestamp": 1683134942359,
     "user": {
      "displayName": "洪啟豪",
      "userId": "08277187360257942838"
     },
     "user_tz": -480
    },
    "id": "Oso8thXbqIg5",
    "outputId": "78a780da-d518-450a-8754-2727f3941633"
   },
   "outputs": [
    {
     "name": "stdout",
     "output_type": "stream",
     "text": [
      "Accuracy: 99.67%\n"
     ]
    }
   ],
   "source": [
    "# we use model.predict to get the label\n",
    "y_pred = model.predict(x_valid)\n",
    "accuracy = accuracy_score(y_valid, y_pred)\n",
    "print(\"Accuracy: %.2f%%\" % (accuracy * 100.0))"
   ]
  },
  {
   "cell_type": "code",
   "execution_count": 29,
   "metadata": {
    "colab": {
     "base_uri": "https://localhost:8080/"
    },
    "executionInfo": {
     "elapsed": 4,
     "status": "ok",
     "timestamp": 1683134951978,
     "user": {
      "displayName": "洪啟豪",
      "userId": "08277187360257942838"
     },
     "user_tz": -480
    },
    "id": "l9UbyLg5qQNp",
    "outputId": "f6c6523e-4243-410d-e324-a2286fc0f5b1"
   },
   "outputs": [
    {
     "name": "stdout",
     "output_type": "stream",
     "text": [
      "[0.07899396 0.00599439 0.01066587 0.01063329 0.1239312  0.05086352\n",
      " 0.00878292 0.05691812 0.08375897 0.00645521 0.06479713 0.02374508\n",
      " 0.01276498 0.         0.03827694 0.04212372 0.00696204 0.03589188\n",
      " 0.08719821 0.25124255]\n"
     ]
    }
   ],
   "source": [
    "# we can show the feature importances for our features\n",
    "print(model.feature_importances_)"
   ]
  },
  {
   "cell_type": "code",
   "execution_count": 30,
   "metadata": {
    "colab": {
     "base_uri": "https://localhost:8080/",
     "height": 472
    },
    "executionInfo": {
     "elapsed": 421,
     "status": "ok",
     "timestamp": 1683134977043,
     "user": {
      "displayName": "洪啟豪",
      "userId": "08277187360257942838"
     },
     "user_tz": -480
    },
    "id": "cRSb2yIAqS0u",
    "outputId": "adedcae8-6d48-45c5-fc86-437dc960b788"
   },
   "outputs": [
    {
     "data": {
      "image/png": "[encoded data removed]",
      "text/plain": [
       "<Figure size 432x288 with 1 Axes>"
      ]
     },
     "metadata": {
      "needs_background": "light"
     },
     "output_type": "display_data"
    }
   ],
   "source": [
    "# import the plot_importance function to visualize the feature importance\n",
    "from xgboost import plot_importance\n",
    "plot_importance(model)\n",
    "plt.show()"
   ]
  },
  {
   "cell_type": "code",
   "execution_count": 31,
   "metadata": {},
   "outputs": [
    {
     "name": "stdout",
     "output_type": "stream",
     "text": [
      "Requirement already satisfied: graphviz in /opt/conda/lib/python3.7/site-packages (0.8.2)\n"
     ]
    }
   ],
   "source": [
    "!pip install graphviz"
   ]
  },
  {
   "cell_type": "code",
   "execution_count": 32,
   "metadata": {},
   "outputs": [
    {
     "data": {
      "text/plain": [
       "<matplotlib.axes._subplots.AxesSubplot at 0x7f2c48a383d0>"
      ]
     },
     "execution_count": 32,
     "metadata": {},
     "output_type": "execute_result"
    },
    {
     "data": {
      "image/png": "[encoded data removed]",
      "text/plain": [
       "<Figure size 432x288 with 1 Axes>"
      ]
     },
     "metadata": {
      "needs_background": "light"
     },
     "output_type": "display_data"
    }
   ],
   "source": [
    "from xgboost import plot_tree\n",
    "from matplotlib.pylab import rcParams\n",
    "\n",
    "plot_tree(model, num_trees = 1)\n",
    "# plt.title(\"max_depth = 100, with gamma = 10\")\n",
    "# plt.savefig(\"tree_with_max_depth_gamma\", dpi = 700)"
   ]
  },
  {
   "cell_type": "markdown",
   "metadata": {
    "id": "tlkxP6ExqiBs"
   },
   "source": [
    "## 模型測試"
   ]
  },
  {
   "cell_type": "code",
   "execution_count": 33,
   "metadata": {
    "id": "5_HZfqeiqY3_"
   },
   "outputs": [],
   "source": [
    "# Test\n",
    "# 測試一個答案全部為1的資料。\n",
    "df_test = pd.read_csv('/project/xt121-group5/scene2_data/test_data/2023-05-06 135830_c.csv')\n",
    "df_test = FaceLandmarksPreprocessing(df_test)\n",
    "df_test = ReserveImportColumns(df_test, col_reserved)\n",
    "# test, _ = data_preprocessing(df_test, train=False, sc=train_sc)"
   ]
  },
  {
   "cell_type": "code",
   "execution_count": 34,
   "metadata": {
    "colab": {
     "base_uri": "https://localhost:8080/"
    },
    "executionInfo": {
     "elapsed": 2,
     "status": "ok",
     "timestamp": 1683135170048,
     "user": {
      "displayName": "洪啟豪",
      "userId": "08277187360257942838"
     },
     "user_tz": -480
    },
    "id": "PjsKhuRRqv3I",
    "outputId": "b3b686d0-d546-4139-e281-d627e6e8b043"
   },
   "outputs": [
    {
     "name": "stdout",
     "output_type": "stream",
     "text": [
      "Index(['FaceBoundingBox_Y', 'FaceLandmarks_2_Y', 'FaceLandmarks_13_Y',\n",
      "       'FaceLandmarks_14_Y', 'FaceLandmarks_15_Y', 'FaceLandmarks_16_X',\n",
      "       'FaceLandmarks_16_Y', 'FaceLandmarks_17_X', 'FaceLandmarks_17_Y',\n",
      "       'FaceLandmarks_19_Y', 'HeadPoseAngles_Y', 'HeadPoseAngles_Z',\n",
      "       'EyeState_Left', 'EyeState_Right', 'LeftEyeBoundingBox_Y',\n",
      "       'RightEyeBoundingBox_X', 'RightEyeBoundingBox_Y', 'EyeLandmarks_2_Y',\n",
      "       'LeftEyeMidPoint_Y', 'GazeVector_Z'],\n",
      "      dtype='object')\n",
      "(280,)\n",
      "<class 'numpy.ndarray'>\n"
     ]
    }
   ],
   "source": [
    "print(df_test.columns)\n",
    "npa_test = df_test.to_numpy()\n",
    "pred = model.predict(npa_test)\n",
    "print(pred.shape)\n",
    "print(type(pred))"
   ]
  },
  {
   "cell_type": "code",
   "execution_count": 35,
   "metadata": {
    "colab": {
     "base_uri": "https://localhost:8080/"
    },
    "executionInfo": {
     "elapsed": 2,
     "status": "ok",
     "timestamp": 1683135172225,
     "user": {
      "displayName": "洪啟豪",
      "userId": "08277187360257942838"
     },
     "user_tz": -480
    },
    "id": "wVYu5vY6qwdR",
    "outputId": "a8978941-8fbd-4e84-9406-f87e5746206f"
   },
   "outputs": [
    {
     "name": "stdout",
     "output_type": "stream",
     "text": [
      "[1 1 1 1 1 1 1 1 1 1 1 1 1 1 1 1 1 1 1 1 1 1 1 1 1 1 1 1 1 1 1 1 1 1 1 1 1\n",
      " 1 1 1 1 1 1 1 1 1 1 1 1 1 1 1 1 1 1 1 1 1 1 1 1 1 1 1 1 1 1 1 1 1 1 1 1 1\n",
      " 1 1 1 1 1 1 1 1 1 1 1 1 1 1 1 1 1 1 1 1 1 1 1 1 1 1 1 1 1 1 1 1 1 1 1 1 1\n",
      " 1 1 1 1 1 1 1 1 1 1 1 1 1 1 1 1 1 1 1 1 1 1 1 1 1 1 1 1 1 1 1 1 1 1 1 1 1\n",
      " 1 1 1 1 1 1 1 1 1 1 1 1 1 1 1 1 1 1 1 1 1 1 1 1 1 1 1 1 1 1 1 1 1 1 1 1 1\n",
      " 1 1 1 1 1 1 1 1 1 1 1 1 1 1 1 1 1 0 0 1 1 0 0 0 0 0 0 0 1 1 1 1 1 1 1 1 0\n",
      " 0 0 0 0 0 0 0 0 0 0 0 0 0 0 0 1 1 0 0 1 1 0 0 0 1 0 0 0 0 0 1 0 0 1 1 0 1\n",
      " 0 0 0 0 0 1 1 1 1 0 1 0 0 0 0 0 0 0 0 0 0]\n"
     ]
    }
   ],
   "source": [
    "print(pred)"
   ]
  },
  {
   "cell_type": "code",
   "execution_count": 36,
   "metadata": {
    "id": "-ngdGic-q5pr"
   },
   "outputs": [],
   "source": [
    "# Test\n",
    "# 測試一個答案全部為0的資料。\n",
    "df_test = pd.read_csv('/project/xt121-group5/scene2_data/test_data/2023-05-06 135847_nc.csv')\n",
    "df_test = FaceLandmarksPreprocessing(df_test)\n",
    "df_test = ReserveImportColumns(df_test, col_reserved)\n",
    "# test, _ = data_preprocessing(df_test, train=False, sc=train_sc)"
   ]
  },
  {
   "cell_type": "code",
   "execution_count": 37,
   "metadata": {
    "colab": {
     "base_uri": "https://localhost:8080/"
    },
    "executionInfo": {
     "elapsed": 278,
     "status": "ok",
     "timestamp": 1683135222297,
     "user": {
      "displayName": "洪啟豪",
      "userId": "08277187360257942838"
     },
     "user_tz": -480
    },
    "id": "KbbnQFEsrPsF",
    "outputId": "86a1c541-fe4d-4f8b-9c82-44d843bf14dc"
   },
   "outputs": [
    {
     "name": "stdout",
     "output_type": "stream",
     "text": [
      "[0 0 0 0 0 0 0 0 0 0 0 0 0 0 0 0 0 0 0 0 0 0 0 0 0 0 0 0 0 0 0 0 0 0 0 0 0\n",
      " 0 0 0 0 0 0 0 0 0 0 0 0 0 0 0 0 0 0 0 0 0 0 0 0 0 0 0 0 0 0 0 0 0 0 0 0 0\n",
      " 0 0 0 0 0 0 0 0 0 0 0 0 0 0 0 0 0 0 0 0 0 0 0 0 0 0 0 0 0 0 0 0 0 0 0 0 0\n",
      " 0 0 0 0 0 0 0 0 0 0 0 0 0 0 0 0 0 0 0 0 0 0 0 0 0 0 0 0 0 0 0 0 0 0 0 0 0\n",
      " 0 0 0 0 0 0 0 0 0 0 0 0 0 0 0 0 0 0 0 0 0 0 0 0 0 0 0 0 0 0 0 0 0 0 0 0 0\n",
      " 0 0 0 0 0 0 0 0 0 0 0 0 0 0 0 0 0 0 0 0 0 0 0 0 0 0 0 0 0 0 0 0 0 0 0 0 0\n",
      " 0 0 0 0 0 0 0 0 0 0 0 0 0 0 0 0 0 0 0 0 0 0 0 0 0 0 0 0 0 0 0 0 0 0 0 0 0\n",
      " 0 0 0 0 0 0 0 0 0 0 0 0 0 0 0 0 0 0 0 0 0 0 0 0 0 0 0 0 0 0 0 0 0 0 0 0 0\n",
      " 0 0 0 0 0 0 0 0 0 0 0 0 0 0 0 0 0 0 0 0 0 0 0 0 0 0 0 0 0 0 0]\n"
     ]
    }
   ],
   "source": [
    "npa_test = df_test.to_numpy()\n",
    "pred = model.predict(npa_test)\n",
    "print(pred)"
   ]
  },
  {
   "cell_type": "markdown",
   "metadata": {},
   "source": [
    "## 儲存模型"
   ]
  },
  {
   "cell_type": "markdown",
   "metadata": {},
   "source": [
    "### 方法1. joblib"
   ]
  },
  {
   "cell_type": "code",
   "execution_count": 38,
   "metadata": {},
   "outputs": [
    {
     "name": "stdout",
     "output_type": "stream",
     "text": [
      "[0 0 0 0 0 0 0 0 0 0 0 0 0 0 0 0 0 0 0 0 0 0 0 0 0 0 0 0 0 0 0 0 0 0 0 0 0\n",
      " 0 0 0 0 0 0 0 0 0 0 0 0 0 0 0 0 0 0 0 0 0 0 0 0 0 0 0 0 0 0 0 0 0 0 0 0 0\n",
      " 0 0 0 0 0 0 0 0 0 0 0 0 0 0 0 0 0 0 0 0 0 0 0 0 0 0 0 0 0 0 0 0 0 0 0 0 0\n",
      " 0 0 0 0 0 0 0 0 0 0 0 0 0 0 0 0 0 0 0 0 0 0 0 0 0 0 0 0 0 0 0 0 0 0 0 0 0\n",
      " 0 0 0 0 0 0 0 0 0 0 0 0 0 0 0 0 0 0 0 0 0 0 0 0 0 0 0 0 0 0 0 0 0 0 0 0 0\n",
      " 0 0 0 0 0 0 0 0 0 0 0 0 0 0 0 0 0 0 0 0 0 0 0 0 0 0 0 0 0 0 0 0 0 0 0 0 0\n",
      " 0 0 0 0 0 0 0 0 0 0 0 0 0 0 0 0 0 0 0 0 0 0 0 0 0 0 0 0 0 0 0 0 0 0 0 0 0\n",
      " 0 0 0 0 0 0 0 0 0 0 0 0 0 0 0 0 0 0 0 0 0 0 0 0 0 0 0 0 0 0 0 0 0 0 0 0 0\n",
      " 0 0 0 0 0 0 0 0 0 0 0 0 0 0 0 0 0 0 0 0 0 0 0 0 0 0 0 0 0 0 0]\n"
     ]
    }
   ],
   "source": [
    "# Save model\n",
    "import joblib\n",
    "joblib.dump(model, './XGB_joblib_normalized_model')\n",
    "\n",
    "# Load model\n",
    "loaded_xgb_model = joblib.load('./XGB_joblib_normalized_model')\n",
    "pred = loaded_xgb_model.predict(npa_test)\n",
    "print(pred)"
   ]
  },
  {
   "cell_type": "markdown",
   "metadata": {},
   "source": [
    "### 方法2. save_model"
   ]
  },
  {
   "cell_type": "code",
   "execution_count": 39,
   "metadata": {},
   "outputs": [
    {
     "name": "stdout",
     "output_type": "stream",
     "text": [
      "[0.13311328 0.13311328 0.083754   0.13311328 0.13311328 0.11452087\n",
      " 0.13311328 0.13311328 0.13311328 0.11452087 0.13311328 0.13311328\n",
      " 0.11452087 0.06294501 0.02009403 0.03813965 0.05099014 0.05099014\n",
      " 0.03869672 0.01474633 0.02315925 0.01957768 0.01391761 0.02244143\n",
      " 0.01677941 0.02244143 0.00880792 0.01233091 0.00551406 0.00476721\n",
      " 0.007798   0.007798   0.00648968 0.00521684 0.00521684 0.0032169\n",
      " 0.00436698 0.00617562 0.00237152 0.00341137 0.00091284 0.00190153\n",
      " 0.00190153 0.00227268 0.00139512 0.00190153 0.00190153 0.0001478\n",
      " 0.00072828 0.00190153 0.00084109 0.00072828 0.00072828 0.0001478\n",
      " 0.00072828 0.00084109 0.0001478  0.0001478  0.00565747 0.00250768\n",
      " 0.00174136 0.00565747 0.00565747 0.00238826 0.00175246 0.000203\n",
      " 0.00297125 0.00172067 0.00052118 0.00052118 0.02952554 0.03488466\n",
      " 0.00096501 0.00321092 0.01860912 0.00190376 0.01705762 0.02309418\n",
      " 0.0055388  0.02111826 0.08819006 0.05338687 0.00104355 0.02127962\n",
      " 0.00658517 0.00129517 0.02441166 0.02901358 0.00486404 0.00681947\n",
      " 0.00681947 0.00129771 0.00533074 0.0045314  0.00673087 0.00164031\n",
      " 0.00153193 0.00164031 0.00787919 0.00164031 0.00153193 0.0030999\n",
      " 0.00224017 0.00164031 0.00153193 0.00635558 0.00339204 0.00584132\n",
      " 0.00584132 0.00584132 0.00584132 0.0007827  0.00052124 0.00028998\n",
      " 0.0003217  0.00028998 0.00028998 0.00028998 0.00051761 0.00028998\n",
      " 0.00051761 0.00028998 0.00048233 0.00056522 0.00048233 0.0002702\n",
      " 0.00048233 0.0002702  0.00080064 0.0002702  0.00060868 0.00077511\n",
      " 0.00080064 0.00026158 0.00086695 0.00086695 0.00077511 0.00026158\n",
      " 0.0002702  0.00077511 0.00077511 0.00077511 0.00080064 0.00026158\n",
      " 0.00026158 0.00026158 0.0002702  0.00022385 0.00066336 0.00066336\n",
      " 0.004274   0.00365963 0.00365963 0.0039909  0.00497061 0.0039909\n",
      " 0.00073292 0.00527473 0.00527473 0.00404209 0.00382612 0.00404209\n",
      " 0.00503959 0.0054951  0.0054951  0.00382612 0.0054951  0.00497061\n",
      " 0.00503959 0.00091453 0.00503959 0.0054951  0.00548933 0.00548933\n",
      " 0.00894808 0.03161963 0.09066336 0.0918316  0.0918316  0.09377267\n",
      " 0.03714781 0.03714781 0.03714781 0.03714781 0.03714781 0.01922444\n",
      " 0.01922444 0.00680154 0.00219546 0.00800225 0.00337677 0.00237183\n",
      " 0.00086812 0.00086812 0.0027072  0.00041668 0.00034608 0.00039601\n",
      " 0.00036606 0.00044157 0.00107609 0.00121452 0.00121452 0.00146202\n",
      " 0.00121452 0.00158626 0.00158626 0.00158626 0.00158626 0.00158626\n",
      " 0.00459429 0.00992639 0.00777572 0.00777572 0.00359469 0.00359469\n",
      " 0.00743026 0.00372172 0.00372172 0.00291545 0.00235977 0.0017754\n",
      " 0.0017754  0.00152865 0.00152865 0.00152865 0.00191808 0.00191808\n",
      " 0.00191808 0.00235977 0.00152865 0.00152865 0.00149386 0.0011363\n",
      " 0.00110867 0.0015206  0.00262574 0.00149386 0.001735   0.00264289\n",
      " 0.0015206  0.00149386 0.0015206  0.00149386 0.00149386 0.00149386\n",
      " 0.0017754  0.00149386 0.00110867 0.00110867 0.00110867 0.00110867\n",
      " 0.00110867 0.0015206  0.00110867 0.0011363  0.00110867 0.0015206\n",
      " 0.00101967 0.00149386 0.0017754  0.00291545 0.04248394 0.02910414\n",
      " 0.00400216 0.00400216 0.00458915 0.0016836  0.00231928 0.00146644\n",
      " 0.00231928 0.00113079 0.0026664  0.01016279 0.00275989 0.00275989\n",
      " 0.00243502 0.00251388 0.01003934 0.00875387 0.00218987 0.00069921\n",
      " 0.00226649 0.00226649 0.0042312  0.00226649 0.04462397 0.00226649\n",
      " 0.01092959 0.01436399 0.01436399 0.01888787 0.01195851 0.0280347\n",
      " 0.00044763 0.00363986 0.00751522 0.00060273 0.00028054 0.00028054\n",
      " 0.00028054 0.00080348 0.00869448 0.01230203 0.02303764 0.0918316\n",
      " 0.06459006 0.00365963 0.00497061 0.00365963 0.0008592  0.00028998\n",
      " 0.00028998 0.00028998 0.00025533 0.00025533 0.00038717 0.00025533\n",
      " 0.00025533 0.00025533 0.00025533 0.00025533 0.00038717 0.00025533\n",
      " 0.00025533 0.00025533 0.00025533]\n"
     ]
    }
   ],
   "source": [
    "# Save model\n",
    "model.save_model('XGB_normalized_model.json')\n",
    "\n",
    "# Load model\n",
    "import xgboost as xgb\n",
    "model_xgb = xgb.XGBRegressor()\n",
    "model_xgb.load_model('XGB_normalized_model.json')\n",
    "pred = model_xgb.predict(npa_test)\n",
    "print(pred)"
   ]
  },
  {
   "cell_type": "code",
   "execution_count": 40,
   "metadata": {},
   "outputs": [
    {
     "data": {
      "text/plain": [
       "'0.90'"
      ]
     },
     "execution_count": 40,
     "metadata": {},
     "output_type": "execute_result"
    }
   ],
   "source": [
    "import xgboost\n",
    "xgboost.__version__"
   ]
  },
  {
   "cell_type": "code",
   "execution_count": 41,
   "metadata": {},
   "outputs": [
    {
     "name": "stdout",
     "output_type": "stream",
     "text": [
      "[0 0 0 0 0 0 0 0 0 0 0 0 0 0 0 0 0 0 0 0 0 0 0 0 0 0 0 0 0 0 0 0 0 0 0 0 0\n",
      " 0 0 0 0 0 0 0 0 0 0 0 0 0 0 0 0 0 0 0 0 0 0 0 0 0 0 0 0 0 0 0 0 0 0 0 0 0\n",
      " 0 0 0 0 0 0 0 0 0 0 0 0 0 0 0 0 0 0 0 0 0 0 0 0 0 0 0 0 0 0 0 0 0 0 0 0 0\n",
      " 0 0 0 0 0 0 0 0 0 0 0 0 0 0 0 0 0 0 0 0 0 0 0 0 0 0 0 0 0 0 0 0 0 0 0 0 0\n",
      " 0 0 0 0 0 0 0 0 0 0 0 0 0 0 0 0 0 0 0 0 0 0 0 0 0 0 0 0 0 0 0 0 0 0 0 0 0\n",
      " 0 0 0 0 0 0 0 0 0 0 0 0 0 0 0 0 0 0 0 0 0 0 0 0 0 0 0 0 0 0 0 0 0 0 0 0 0\n",
      " 0 0 0 0 0 0 0 0 0 0 0 0 0 0 0 0 0 0 0 0 0 0 0 0 0 0 0 0 0 0 0 0 0 0 0 0 0\n",
      " 0 0 0 0 0 0 0 0 0 0 0 0 0 0 0 0 0 0 0 0 0 0 0 0 0 0 0 0 0 0 0 0 0 0 0 0 0\n",
      " 0 0 0 0]\n"
     ]
    }
   ],
   "source": [
    "# Test\n",
    "# 測試一個答案全部為0的資料。\n",
    "data_path = '/project/xt121-group5/DAiSEE/0/1100131017.csv'\n",
    "df_test = pd.read_csv(data_path)\n",
    "df_test = FaceLandmarksPreprocessing(df_test)\n",
    "df_test = ReserveImportColumns(df_test, col_reserved)\n",
    "# test, _ = data_preprocessing(df_test, train=False, sc=train_sc)\n",
    "\n",
    "npa_test = df_test.to_numpy()\n",
    "pred = model.predict(npa_test)\n",
    "print(pred)"
   ]
  },
  {
   "cell_type": "code",
   "execution_count": 42,
   "metadata": {},
   "outputs": [
    {
     "name": "stdout",
     "output_type": "stream",
     "text": [
      "0.0\n"
     ]
    }
   ],
   "source": [
    "mean_a = pred.mean()\n",
    "print(mean_a)"
   ]
  },
  {
   "cell_type": "code",
   "execution_count": 43,
   "metadata": {},
   "outputs": [
    {
     "name": "stdout",
     "output_type": "stream",
     "text": [
      "0.0\n",
      "0.0\n",
      "0.0\n",
      "0.0\n",
      "0.0\n",
      "0.0\n",
      "0.0\n",
      "0.0\n",
      "0.0\n",
      "0.0\n",
      "0.0\n",
      "0.0\n",
      "0.0\n",
      "0.0\n",
      "0.0\n",
      "0.0\n",
      "0.0\n",
      "0.0\n",
      "0.0\n",
      "0.0\n",
      "0.0\n",
      "0.0\n",
      "0.0\n",
      "0.0\n",
      "0.0\n",
      "0.0\n",
      "0.0\n",
      "0.0\n",
      "0.0\n",
      "0.0\n",
      "0.0\n",
      "0.0\n",
      "0.0\n",
      "0.0\n",
      "0.0\n",
      "0.0\n",
      "0.0\n",
      "0.0\n",
      "0.0\n",
      "0.0\n",
      "0.0\n",
      "0.0\n",
      "0.0\n",
      "0.0\n",
      "0.0\n",
      "0.0\n",
      "0.0\n",
      "0.0\n",
      "0.0\n",
      "0.0\n",
      "0.0\n",
      "0.0\n",
      "0.0\n",
      "0.0\n",
      "0.0\n",
      "0.0\n",
      "0.0\n",
      "0.0\n",
      "0.0\n",
      "Total acc: 1.0\n"
     ]
    }
   ],
   "source": [
    "data_dir = '/project/xt121-group5/DAiSEE/0'\n",
    "\n",
    "amount = 0\n",
    "acc = 0\n",
    "for dirname, _, filenames in os.walk(data_dir):\n",
    "    for filename in filenames:\n",
    "        if dirname.split('/')[-1] != 'test_data':\n",
    "            #print(os.path.join(dirname, filename))\n",
    "            testdata = os.path.join(dirname, filename)\n",
    "            df_test = pd.read_csv(testdata)\n",
    "            df_test = FaceLandmarksPreprocessing(df_test)\n",
    "            df_test = ReserveImportColumns(df_test, col_reserved)\n",
    "            # test, _ = data_preprocessing(df_test, train=False, sc=train_sc)\n",
    "            npa_test = df_test.to_numpy()\n",
    "            pred = model.predict(npa_test)\n",
    "            mean_a = pred.mean()\n",
    "            print(mean_a)\n",
    "            amount += 1\n",
    "            if mean_a < 0.5:\n",
    "                acc += 1\n",
    "print(f'Total acc: {acc / amount}')"
   ]
  },
  {
   "cell_type": "code",
   "execution_count": null,
   "metadata": {},
   "outputs": [],
   "source": []
  }
 ],
 "metadata": {
  "colab": {
   "authorship_tag": "ABX9TyNM9v33kYP6sSnew95Pq3Qh",
   "provenance": [
    {
     "file_id": "1r3PRKI1cL9c21w7R3Yr1n_1p7UumEbvh",
     "timestamp": 1683210991768
    }
   ]
  },
  "kernelspec": {
   "display_name": "Python 3 (ipykernel)",
   "language": "python",
   "name": "python3"
  },
  "language_info": {
   "codemirror_mode": {
    "name": "ipython",
    "version": 3
   },
   "file_extension": ".py",
   "mimetype": "text/x-python",
   "name": "python",
   "nbconvert_exporter": "python",
   "pygments_lexer": "ipython3",
   "version": "3.7.12"
  }
 },
 "nbformat": 4,
 "nbformat_minor": 4
}
