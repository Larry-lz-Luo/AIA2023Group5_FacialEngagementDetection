{
 "cells": [
  {
   "cell_type": "code",
   "execution_count": 1,
   "metadata": {
    "colab": {
     "base_uri": "https://localhost:8080/"
    },
    "executionInfo": {
     "elapsed": 2711,
     "status": "ok",
     "timestamp": 1683134156932,
     "user": {
      "displayName": "洪啟豪",
      "userId": "08277187360257942838"
     },
     "user_tz": -480
    },
    "id": "a_02Aqmvm22h",
    "outputId": "7ee8ae1a-b701-4473-f60a-32a709cd7633"
   },
   "outputs": [
    {
     "name": "stdout",
     "output_type": "stream",
     "text": [
      "Populating the interactive namespace from numpy and matplotlib\n"
     ]
    }
   ],
   "source": [
    "from xgboost import XGBClassifier\n",
    "from sklearn.model_selection import train_test_split\n",
    "from sklearn.metrics import accuracy_score\n",
    "from sklearn.metrics import f1_score\n",
    "import pandas as pd\n",
    "import matplotlib.pyplot as plt\n",
    "%pylab inline"
   ]
  },
  {
   "cell_type": "markdown",
   "metadata": {
    "id": "EXdjv-qYnqdl"
   },
   "source": [
    "## 載入資料集"
   ]
  },
  {
   "cell_type": "code",
   "execution_count": 2,
   "metadata": {
    "id": "X7ybsCSfnPbD"
   },
   "outputs": [
    {
     "name": "stdout",
     "output_type": "stream",
     "text": [
      "/project/xt121-group5/scene2_data_01equal/alice/2023-05-01 232058.csv\n",
      "/project/xt121-group5/scene2_data_01equal/alice/2023-05-01 231925.csv\n",
      "/project/xt121-group5/scene2_data_01equal/alice/.ipynb_checkpoints/2023-05-01 232058-checkpoint.csv\n",
      "/project/xt121-group5/scene2_data_01equal/alice/.ipynb_checkpoints/2023-05-01 231925-checkpoint.csv\n",
      "/project/xt121-group5/scene2_data_01equal/pinsian/2023-05-13 142553_c.csv\n",
      "/project/xt121-group5/scene2_data_01equal/pinsian/2023-05-13 142611 nc.csv\n",
      "/project/xt121-group5/scene2_data_01equal/larry/2023-05-01 232448.csv\n",
      "/project/xt121-group5/scene2_data_01equal/larry/2023-05-01 232329.csv\n",
      "/project/xt121-group5/scene2_data_01equal/larry/.ipynb_checkpoints/2023-05-01 232448-checkpoint.csv\n",
      "/project/xt121-group5/scene2_data_01equal/larry/.ipynb_checkpoints/2023-05-01 232329-checkpoint.csv\n",
      "/project/xt121-group5/scene2_data_01equal/charlie/2023-05-05 103150_c.csv\n",
      "/project/xt121-group5/scene2_data_01equal/charlie/2023-05-05 103233_nc.csv\n",
      "/project/xt121-group5/scene2_data_01equal/charlie/.ipynb_checkpoints/2023-05-05 103150_c-checkpoint.csv\n",
      "/project/xt121-group5/scene2_data_01equal/charlie/.ipynb_checkpoints/2023-05-05 103233_nc-checkpoint.csv\n",
      "/project/xt121-group5/scene2_data_01equal/jason/2023-05-05 1.csv\n",
      "/project/xt121-group5/scene2_data_01equal/jason/2023-05-05 0.csv\n",
      "/project/xt121-group5/scene2_data_01equal/jason/.ipynb_checkpoints/2023-05-05 1-checkpoint.csv\n",
      "/project/xt121-group5/scene2_data_01equal/jason/.ipynb_checkpoints/2023-05-05 0-checkpoint.csv\n"
     ]
    }
   ],
   "source": [
    "import os\n",
    "df_train = pd.core.frame.DataFrame()\n",
    "for dirname, _, filenames in os.walk('/project/xt121-group5/scene2_data_01equal/'):\n",
    "    for filename in filenames:\n",
    "        if dirname.split('/')[-1] != 'test_data':\n",
    "            print(os.path.join(dirname, filename))\n",
    "            df_train2 = pd.read_csv(os.path.join(dirname, filename))\n",
    "            df_train = pd.concat([df_train, df_train2])\n",
    "        \n",
    "df_train = df_train.drop(labels = ['RecordTime'], axis = 1) # 移除 RecordTime"
   ]
  },
  {
   "cell_type": "code",
   "execution_count": 3,
   "metadata": {
    "colab": {
     "base_uri": "https://localhost:8080/"
    },
    "executionInfo": {
     "elapsed": 504,
     "status": "ok",
     "timestamp": 1683134191466,
     "user": {
      "displayName": "洪啟豪",
      "userId": "08277187360257942838"
     },
     "user_tz": -480
    },
    "id": "h93qCpsSnWfz",
    "outputId": "7d802664-f27d-4f03-ee8e-c014eec2244d"
   },
   "outputs": [
    {
     "name": "stdout",
     "output_type": "stream",
     "text": [
      "(11436, 103)\n"
     ]
    }
   ],
   "source": [
    "print(df_train.shape)"
   ]
  },
  {
   "cell_type": "markdown",
   "metadata": {},
   "source": [
    "## 資料前處理"
   ]
  },
  {
   "cell_type": "markdown",
   "metadata": {},
   "source": [
    "### 前處理－臉部特徵座標平移"
   ]
  },
  {
   "cell_type": "code",
   "execution_count": 4,
   "metadata": {},
   "outputs": [],
   "source": [
    "def FaceLandmarksPreprocessing(df_data, verbose = False):\n",
    "    for col_name in df_data.columns.to_list():\n",
    "        if col_name.find('FaceLandmarks_') == 0 or \\\n",
    "        col_name.find('EyeLandmarks_') == 0 or \\\n",
    "        col_name.find('LeftEyeBoundingBox_') == 0 or \\\n",
    "        col_name.find('RightEyeBoundingBox_') == 0 or \\\n",
    "        col_name.find('LeftEyeMidPoint_') == 0 or \\\n",
    "        col_name.find('RightEyeMidPoint_') == 0:\n",
    "            if col_name.find('_X') == len(col_name) - 2:\n",
    "                df_data[col_name] = df_data[col_name] - df_data['FaceBoundingBox_X']\n",
    "                if verbose:\n",
    "                    print(f'Column {col_name} is subtracted by FaceBoundingBox_X.')\n",
    "            elif col_name.find('_Y') == len(col_name) - 2:\n",
    "                df_data[col_name] = df_data[col_name] - df_data['FaceBoundingBox_Y']\n",
    "                if verbose:\n",
    "                    print(f'Column {col_name} is subtracted by FaceBoundingBox_Y.')\n",
    "            else:\n",
    "#                 print(f'Ignore column {col_name}.')\n",
    "                pass\n",
    "        else:\n",
    "#             print(f'Ignore column {col_name}')\n",
    "            pass\n",
    "    return df_data"
   ]
  },
  {
   "cell_type": "code",
   "execution_count": 5,
   "metadata": {},
   "outputs": [
    {
     "name": "stdout",
     "output_type": "stream",
     "text": [
      "   FaceBoundingBox_X  FaceBoundingBox_Y  FaceBoundingBox_W  FaceBoundingBox_H  \\\n",
      "0                524                166                253                253   \n",
      "1                525                161                255                255   \n",
      "2                525                163                255                255   \n",
      "3                526                168                255                255   \n",
      "4                530                174                249                249   \n",
      "\n",
      "   FaceLandmarks_1_X  FaceLandmarks_1_Y  FaceLandmarks_2_X  FaceLandmarks_2_Y  \\\n",
      "0                632                257                602                255   \n",
      "1                634                254                603                252   \n",
      "2                634                256                604                255   \n",
      "3                639                268                612                266   \n",
      "4                642                276                618                274   \n",
      "\n",
      "   FaceLandmarks_3_X  FaceLandmarks_3_Y  ...  EyeLandmarks_4_X  \\\n",
      "0                679                258  ...               708   \n",
      "1                681                254  ...               711   \n",
      "2                681                256  ...               710   \n",
      "3                681                268  ...               707   \n",
      "4                678                275  ...               701   \n",
      "\n",
      "   EyeLandmarks_4_Y  LeftEyeMidPoint_X  LeftEyeMidPoint_Y  RightEyeMidPoint_X  \\\n",
      "0               256              617.0              256.0               693.5   \n",
      "1               252              618.5              253.0               696.0   \n",
      "2               254              619.0              255.5               695.5   \n",
      "3               266              625.5              267.0               694.0   \n",
      "4               272              630.0              275.0               689.5   \n",
      "\n",
      "   RightEyeMidPoint_Y  GazeVector_X  GazeVector_Y  GazeVector_Z  RecordType  \n",
      "0               257.0     -0.094805     -0.014327     -0.995393           0  \n",
      "1               253.0     -0.047574     -0.034673     -0.998266           0  \n",
      "2               255.0      0.012142     -0.065674     -0.997767           0  \n",
      "3               267.0     -0.003677     -0.079957     -0.996792           0  \n",
      "4               273.5      0.000000      0.000000      0.000000           0  \n",
      "\n",
      "[5 rows x 103 columns]\n"
     ]
    }
   ],
   "source": [
    "print(df_train.head())"
   ]
  },
  {
   "cell_type": "code",
   "execution_count": 6,
   "metadata": {},
   "outputs": [
    {
     "name": "stdout",
     "output_type": "stream",
     "text": [
      "Column FaceLandmarks_1_X is subtracted by FaceBoundingBox_X.\n",
      "Column FaceLandmarks_1_Y is subtracted by FaceBoundingBox_Y.\n",
      "Column FaceLandmarks_2_X is subtracted by FaceBoundingBox_X.\n",
      "Column FaceLandmarks_2_Y is subtracted by FaceBoundingBox_Y.\n",
      "Column FaceLandmarks_3_X is subtracted by FaceBoundingBox_X.\n",
      "Column FaceLandmarks_3_Y is subtracted by FaceBoundingBox_Y.\n",
      "Column FaceLandmarks_4_X is subtracted by FaceBoundingBox_X.\n",
      "Column FaceLandmarks_4_Y is subtracted by FaceBoundingBox_Y.\n",
      "Column FaceLandmarks_5_X is subtracted by FaceBoundingBox_X.\n",
      "Column FaceLandmarks_5_Y is subtracted by FaceBoundingBox_Y.\n",
      "Column FaceLandmarks_6_X is subtracted by FaceBoundingBox_X.\n",
      "Column FaceLandmarks_6_Y is subtracted by FaceBoundingBox_Y.\n",
      "Column FaceLandmarks_7_X is subtracted by FaceBoundingBox_X.\n",
      "Column FaceLandmarks_7_Y is subtracted by FaceBoundingBox_Y.\n",
      "Column FaceLandmarks_8_X is subtracted by FaceBoundingBox_X.\n",
      "Column FaceLandmarks_8_Y is subtracted by FaceBoundingBox_Y.\n",
      "Column FaceLandmarks_9_X is subtracted by FaceBoundingBox_X.\n",
      "Column FaceLandmarks_9_Y is subtracted by FaceBoundingBox_Y.\n",
      "Column FaceLandmarks_10_X is subtracted by FaceBoundingBox_X.\n",
      "Column FaceLandmarks_10_Y is subtracted by FaceBoundingBox_Y.\n",
      "Column FaceLandmarks_11_X is subtracted by FaceBoundingBox_X.\n",
      "Column FaceLandmarks_11_Y is subtracted by FaceBoundingBox_Y.\n",
      "Column FaceLandmarks_12_X is subtracted by FaceBoundingBox_X.\n",
      "Column FaceLandmarks_12_Y is subtracted by FaceBoundingBox_Y.\n",
      "Column FaceLandmarks_13_X is subtracted by FaceBoundingBox_X.\n",
      "Column FaceLandmarks_13_Y is subtracted by FaceBoundingBox_Y.\n",
      "Column FaceLandmarks_14_X is subtracted by FaceBoundingBox_X.\n",
      "Column FaceLandmarks_14_Y is subtracted by FaceBoundingBox_Y.\n",
      "Column FaceLandmarks_15_X is subtracted by FaceBoundingBox_X.\n",
      "Column FaceLandmarks_15_Y is subtracted by FaceBoundingBox_Y.\n",
      "Column FaceLandmarks_16_X is subtracted by FaceBoundingBox_X.\n",
      "Column FaceLandmarks_16_Y is subtracted by FaceBoundingBox_Y.\n",
      "Column FaceLandmarks_17_X is subtracted by FaceBoundingBox_X.\n",
      "Column FaceLandmarks_17_Y is subtracted by FaceBoundingBox_Y.\n",
      "Column FaceLandmarks_18_X is subtracted by FaceBoundingBox_X.\n",
      "Column FaceLandmarks_18_Y is subtracted by FaceBoundingBox_Y.\n",
      "Column FaceLandmarks_19_X is subtracted by FaceBoundingBox_X.\n",
      "Column FaceLandmarks_19_Y is subtracted by FaceBoundingBox_Y.\n",
      "Column FaceLandmarks_20_X is subtracted by FaceBoundingBox_X.\n",
      "Column FaceLandmarks_20_Y is subtracted by FaceBoundingBox_Y.\n",
      "Column FaceLandmarks_21_X is subtracted by FaceBoundingBox_X.\n",
      "Column FaceLandmarks_21_Y is subtracted by FaceBoundingBox_Y.\n",
      "Column FaceLandmarks_22_X is subtracted by FaceBoundingBox_X.\n",
      "Column FaceLandmarks_22_Y is subtracted by FaceBoundingBox_Y.\n",
      "Column FaceLandmarks_23_X is subtracted by FaceBoundingBox_X.\n",
      "Column FaceLandmarks_23_Y is subtracted by FaceBoundingBox_Y.\n",
      "Column FaceLandmarks_24_X is subtracted by FaceBoundingBox_X.\n",
      "Column FaceLandmarks_24_Y is subtracted by FaceBoundingBox_Y.\n",
      "Column FaceLandmarks_25_X is subtracted by FaceBoundingBox_X.\n",
      "Column FaceLandmarks_25_Y is subtracted by FaceBoundingBox_Y.\n",
      "Column FaceLandmarks_26_X is subtracted by FaceBoundingBox_X.\n",
      "Column FaceLandmarks_26_Y is subtracted by FaceBoundingBox_Y.\n",
      "Column FaceLandmarks_27_X is subtracted by FaceBoundingBox_X.\n",
      "Column FaceLandmarks_27_Y is subtracted by FaceBoundingBox_Y.\n",
      "Column FaceLandmarks_28_X is subtracted by FaceBoundingBox_X.\n",
      "Column FaceLandmarks_28_Y is subtracted by FaceBoundingBox_Y.\n",
      "Column FaceLandmarks_29_X is subtracted by FaceBoundingBox_X.\n",
      "Column FaceLandmarks_29_Y is subtracted by FaceBoundingBox_Y.\n",
      "Column FaceLandmarks_30_X is subtracted by FaceBoundingBox_X.\n",
      "Column FaceLandmarks_30_Y is subtracted by FaceBoundingBox_Y.\n",
      "Column FaceLandmarks_31_X is subtracted by FaceBoundingBox_X.\n",
      "Column FaceLandmarks_31_Y is subtracted by FaceBoundingBox_Y.\n",
      "Column FaceLandmarks_32_X is subtracted by FaceBoundingBox_X.\n",
      "Column FaceLandmarks_32_Y is subtracted by FaceBoundingBox_Y.\n",
      "Column FaceLandmarks_33_X is subtracted by FaceBoundingBox_X.\n",
      "Column FaceLandmarks_33_Y is subtracted by FaceBoundingBox_Y.\n",
      "Column FaceLandmarks_34_X is subtracted by FaceBoundingBox_X.\n",
      "Column FaceLandmarks_34_Y is subtracted by FaceBoundingBox_Y.\n",
      "Column FaceLandmarks_35_X is subtracted by FaceBoundingBox_X.\n",
      "Column FaceLandmarks_35_Y is subtracted by FaceBoundingBox_Y.\n",
      "Column LeftEyeBoundingBox_X is subtracted by FaceBoundingBox_X.\n",
      "Column LeftEyeBoundingBox_Y is subtracted by FaceBoundingBox_Y.\n",
      "Column RightEyeBoundingBox_X is subtracted by FaceBoundingBox_X.\n",
      "Column RightEyeBoundingBox_Y is subtracted by FaceBoundingBox_Y.\n",
      "Column EyeLandmarks_1_X is subtracted by FaceBoundingBox_X.\n",
      "Column EyeLandmarks_1_Y is subtracted by FaceBoundingBox_Y.\n",
      "Column EyeLandmarks_2_X is subtracted by FaceBoundingBox_X.\n",
      "Column EyeLandmarks_2_Y is subtracted by FaceBoundingBox_Y.\n",
      "Column EyeLandmarks_3_X is subtracted by FaceBoundingBox_X.\n",
      "Column EyeLandmarks_3_Y is subtracted by FaceBoundingBox_Y.\n",
      "Column EyeLandmarks_4_X is subtracted by FaceBoundingBox_X.\n",
      "Column EyeLandmarks_4_Y is subtracted by FaceBoundingBox_Y.\n",
      "Column LeftEyeMidPoint_X is subtracted by FaceBoundingBox_X.\n",
      "Column LeftEyeMidPoint_Y is subtracted by FaceBoundingBox_Y.\n",
      "Column RightEyeMidPoint_X is subtracted by FaceBoundingBox_X.\n",
      "Column RightEyeMidPoint_Y is subtracted by FaceBoundingBox_Y.\n"
     ]
    }
   ],
   "source": [
    "df_train = FaceLandmarksPreprocessing(df_train, True)"
   ]
  },
  {
   "cell_type": "code",
   "execution_count": 7,
   "metadata": {},
   "outputs": [
    {
     "name": "stdout",
     "output_type": "stream",
     "text": [
      "   FaceBoundingBox_X  FaceBoundingBox_Y  FaceBoundingBox_W  FaceBoundingBox_H  \\\n",
      "0                524                166                253                253   \n",
      "1                525                161                255                255   \n",
      "2                525                163                255                255   \n",
      "3                526                168                255                255   \n",
      "4                530                174                249                249   \n",
      "\n",
      "   FaceLandmarks_1_X  FaceLandmarks_1_Y  FaceLandmarks_2_X  FaceLandmarks_2_Y  \\\n",
      "0                108                 91                 78                 89   \n",
      "1                109                 93                 78                 91   \n",
      "2                109                 93                 79                 92   \n",
      "3                113                100                 86                 98   \n",
      "4                112                102                 88                100   \n",
      "\n",
      "   FaceLandmarks_3_X  FaceLandmarks_3_Y  ...  EyeLandmarks_4_X  \\\n",
      "0                155                 92  ...               184   \n",
      "1                156                 93  ...               186   \n",
      "2                156                 93  ...               185   \n",
      "3                155                100  ...               181   \n",
      "4                148                101  ...               171   \n",
      "\n",
      "   EyeLandmarks_4_Y  LeftEyeMidPoint_X  LeftEyeMidPoint_Y  RightEyeMidPoint_X  \\\n",
      "0                90               93.0               90.0               169.5   \n",
      "1                91               93.5               92.0               171.0   \n",
      "2                91               94.0               92.5               170.5   \n",
      "3                98               99.5               99.0               168.0   \n",
      "4                98              100.0              101.0               159.5   \n",
      "\n",
      "   RightEyeMidPoint_Y  GazeVector_X  GazeVector_Y  GazeVector_Z  RecordType  \n",
      "0                91.0     -0.094805     -0.014327     -0.995393           0  \n",
      "1                92.0     -0.047574     -0.034673     -0.998266           0  \n",
      "2                92.0      0.012142     -0.065674     -0.997767           0  \n",
      "3                99.0     -0.003677     -0.079957     -0.996792           0  \n",
      "4                99.5      0.000000      0.000000      0.000000           0  \n",
      "\n",
      "[5 rows x 103 columns]\n"
     ]
    }
   ],
   "source": [
    "print(df_train.head())"
   ]
  },
  {
   "cell_type": "markdown",
   "metadata": {
    "id": "CdJVL8ygnnyv"
   },
   "source": [
    "### 前處理－檢查缺失值"
   ]
  },
  {
   "cell_type": "code",
   "execution_count": 8,
   "metadata": {
    "colab": {
     "base_uri": "https://localhost:8080/"
    },
    "executionInfo": {
     "elapsed": 4,
     "status": "ok",
     "timestamp": 1683134238809,
     "user": {
      "displayName": "洪啟豪",
      "userId": "08277187360257942838"
     },
     "user_tz": -480
    },
    "id": "lByl9PTOnY-F",
    "outputId": "0119a5ec-e6ab-44ab-9e39-205e1ce81646"
   },
   "outputs": [
    {
     "name": "stdout",
     "output_type": "stream",
     "text": [
      "Before data clean(NAN mount): 0\n"
     ]
    }
   ],
   "source": [
    "# checked missing data\n",
    "print(\"Before data clean(NAN mount):\", len(np.where(np.isnan(df_train)==1)[0]))"
   ]
  },
  {
   "cell_type": "code",
   "execution_count": 9,
   "metadata": {
    "id": "JPd8gtYOnk1F"
   },
   "outputs": [],
   "source": [
    "# Find columns with only unique value.\n",
    "# unique_col = []\n",
    "# for i in df_train.columns:\n",
    "#     if np.unique(df_train[i]).shape[0]==1:\n",
    "#         print(f'Get column {i} with only unique value.')\n",
    "#         unique_col.append(i) "
   ]
  },
  {
   "cell_type": "code",
   "execution_count": 10,
   "metadata": {
    "id": "wgFEqJtqn0iz"
   },
   "outputs": [],
   "source": [
    "# print(unique_col)"
   ]
  },
  {
   "cell_type": "code",
   "execution_count": 11,
   "metadata": {
    "id": "YdvZ779Dn20X"
   },
   "outputs": [],
   "source": [
    "# df_train.describe()[unique_col]"
   ]
  },
  {
   "cell_type": "code",
   "execution_count": 12,
   "metadata": {
    "id": "4Be2lkSkn4MD"
   },
   "outputs": [],
   "source": [
    "# Drop columns with only unique value.\n",
    "# df_train = df_train.drop(unique_col, axis=1)"
   ]
  },
  {
   "cell_type": "markdown",
   "metadata": {},
   "source": [
    "### 前處理－保留重要特徵"
   ]
  },
  {
   "cell_type": "code",
   "execution_count": 13,
   "metadata": {
    "id": "GIqFHaOSn5oF"
   },
   "outputs": [
    {
     "name": "stdout",
     "output_type": "stream",
     "text": [
      "['HeadPoseAngles_Z', 'EyeState_Right', 'FaceLandmarks_17_X', 'FaceLandmarks_16_X', 'RightEyeBoundingBox_X', 'EyeState_Left', 'FaceBoundingBox_Y', 'GazeVector_Z', 'HeadPoseAngles_Y', 'FaceLandmarks_14_Y', 'LeftEyeBoundingBox_Y', 'FaceLandmarks_13_Y']\n"
     ]
    }
   ],
   "source": [
    "# 列出重要的特徵。\n",
    "## 正相關特徵\n",
    "col_positive = ['HeadPoseAngles_Z', 'EyeState_Right', 'FaceLandmarks_17_X', 'FaceLandmarks_16_X', 'RightEyeBoundingBox_X', \n",
    "               'EyeState_Left']\n",
    "\n",
    "## 負相關特徵\n",
    "col_negative = ['FaceBoundingBox_Y', 'GazeVector_Z', 'HeadPoseAngles_Y', 'FaceLandmarks_14_Y', 'LeftEyeBoundingBox_Y', \n",
    "               'FaceLandmarks_13_Y']\n",
    "# col_negative = ['FaceBoundingBox_Y', 'GazeVector_Z', 'HeadPoseAngles_Y', 'FaceLandmarks_14_Y', 'LeftEyeBoundingBox_Y', \n",
    "#                'FaceLandmarks_13_Y', 'FaceLandmarks_15_Y', 'FaceLandmarks_16_Y', 'FaceLandmarks_19_Y', 'FaceLandmarks_17_Y', \n",
    "#                'FaceLandmarks_2_Y', 'EyeLandmarks_2_Y', 'LeftEyeMidPoint_Y', 'RightEyeBoundingBox_Y']\n",
    "\n",
    "## 所有重要特徵－正相關特徵 + 負相關特徵\n",
    "col_reserved = []\n",
    "for col_name in col_positive:\n",
    "    col_reserved.append(col_name)\n",
    "for col_name in col_negative:\n",
    "    col_reserved.append(col_name)\n",
    "\n",
    "print(col_reserved)"
   ]
  },
  {
   "cell_type": "code",
   "execution_count": 14,
   "metadata": {
    "id": "VFcIvO6FofFD"
   },
   "outputs": [
    {
     "name": "stdout",
     "output_type": "stream",
     "text": [
      "(11436,)\n"
     ]
    }
   ],
   "source": [
    "# 取目標值。\n",
    "y = df_train['RecordType'].values\n",
    "print(y.shape)"
   ]
  },
  {
   "cell_type": "code",
   "execution_count": 15,
   "metadata": {
    "id": "ykVqh8LsoCgk"
   },
   "outputs": [],
   "source": [
    "# 刪除沒有被列在重要特徵列表的特徵。\n",
    "def ReserveImportColumns(df_data, col_import):\n",
    "    for col_name in df_data.columns.to_list():\n",
    "        if col_name not in col_import:\n",
    "            df_data = df_data.drop(col_name, axis = 1)\n",
    "    return df_data"
   ]
  },
  {
   "cell_type": "code",
   "execution_count": 16,
   "metadata": {},
   "outputs": [
    {
     "name": "stdout",
     "output_type": "stream",
     "text": [
      "(11436, 12)\n",
      "Index(['FaceBoundingBox_Y', 'FaceLandmarks_13_Y', 'FaceLandmarks_14_Y',\n",
      "       'FaceLandmarks_16_X', 'FaceLandmarks_17_X', 'HeadPoseAngles_Y',\n",
      "       'HeadPoseAngles_Z', 'EyeState_Left', 'EyeState_Right',\n",
      "       'LeftEyeBoundingBox_Y', 'RightEyeBoundingBox_X', 'GazeVector_Z'],\n",
      "      dtype='object')\n"
     ]
    }
   ],
   "source": [
    "df_train = ReserveImportColumns(df_train, col_reserved)\n",
    "    \n",
    "print(shape(df_train))\n",
    "print(df_train.columns)"
   ]
  },
  {
   "cell_type": "code",
   "execution_count": 17,
   "metadata": {
    "id": "fRDtN4THoFaT"
   },
   "outputs": [],
   "source": [
    "# from sklearn.preprocessing import StandardScaler\n",
    "# from sklearn.preprocessing import MinMaxScaler"
   ]
  },
  {
   "cell_type": "code",
   "execution_count": 18,
   "metadata": {
    "id": "s5RxZZWkoGuM"
   },
   "outputs": [],
   "source": [
    "# def data_preprocessing(df_input, train=True, sc=None):\n",
    "#     # numeric feature standardization\n",
    "#     if train:\n",
    "#         sc = StandardScaler()\n",
    "# #         sc = MinMaxScaler()\n",
    "#         df = sc.fit_transform(df_input.iloc[:, 0:-1])\n",
    "#     else:\n",
    "#         df = sc.transform(df_input)\n",
    "#     return df, sc"
   ]
  },
  {
   "cell_type": "code",
   "execution_count": 19,
   "metadata": {
    "id": "5SLy0ziNoNa1"
   },
   "outputs": [],
   "source": [
    "# X, train_sc = data_preprocessing(df_train)"
   ]
  },
  {
   "cell_type": "code",
   "execution_count": 20,
   "metadata": {
    "id": "YD5cLbO2oQWH"
   },
   "outputs": [],
   "source": [
    "# print(X.shape)"
   ]
  },
  {
   "cell_type": "code",
   "execution_count": 21,
   "metadata": {
    "id": "Ne9F-x99oZY9"
   },
   "outputs": [],
   "source": [
    "# print(train_sc.mean_)"
   ]
  },
  {
   "cell_type": "code",
   "execution_count": 22,
   "metadata": {
    "id": "wQN9qy2iocZX"
   },
   "outputs": [],
   "source": [
    "# print(train_sc.var_)"
   ]
  },
  {
   "cell_type": "code",
   "execution_count": 23,
   "metadata": {
    "colab": {
     "base_uri": "https://localhost:8080/"
    },
    "executionInfo": {
     "elapsed": 4,
     "status": "ok",
     "timestamp": 1683134509554,
     "user": {
      "displayName": "洪啟豪",
      "userId": "08277187360257942838"
     },
     "user_tz": -480
    },
    "id": "y6Ne7Y_8ojln",
    "outputId": "ff4b155a-1e69-4c06-dcea-bb34a167f23d"
   },
   "outputs": [
    {
     "name": "stdout",
     "output_type": "stream",
     "text": [
      "[0 0 0 ... 0 0 0]\n"
     ]
    }
   ],
   "source": [
    "np.unique(y)\n",
    "print(y)"
   ]
  },
  {
   "cell_type": "code",
   "execution_count": 24,
   "metadata": {},
   "outputs": [],
   "source": [
    "# # Columns 順序轉換－先 GazeVector X, Y, Z, 然後 HeadPosAngles X, Y, Z 最後 FaceLandmarks 1~35 X, Y\n",
    "# cols_1 = df_train_1.columns.tolist()\n",
    "# print(f'Before 6 features column order change: {cols_1}')\n",
    "# # print(df_train_1.head())\n",
    "# cols_1 = cols_1[3:] + cols_1[:3]\n",
    "# df_train_1 = df_train_1[cols_1]\n",
    "# print(f'After 6 features column order change: {cols_1}')\n",
    "# print(df_train_1.head())\n",
    "\n",
    "# cols_2 = df_train_2.columns.tolist()\n",
    "# print(len(cols_2))\n",
    "# print(f'Before 76 features column order change: {cols_2}')\n",
    "# # print(df_train_2.head())\n",
    "# cols_2 = cols_2[-3:] + cols_2[-6:-3] + cols_2[:70]\n",
    "# print(f'After 76 features column order change: {cols_2}')\n",
    "# assert len(cols_2) == 76\n",
    "# df_train_2 = df_train_2[cols_2]\n",
    "# print(cols_2)\n",
    "# print(df_train_2.head())"
   ]
  },
  {
   "cell_type": "markdown",
   "metadata": {
    "id": "xE8GmGCOpenc"
   },
   "source": [
    "## 切割訓練集"
   ]
  },
  {
   "cell_type": "code",
   "execution_count": 25,
   "metadata": {
    "id": "tghkbwmwopjK"
   },
   "outputs": [],
   "source": [
    "x_train, x_valid, y_train, y_valid = train_test_split(df_train, y, test_size=0.25, random_state = 17, stratify = y)"
   ]
  },
  {
   "cell_type": "markdown",
   "metadata": {},
   "source": [
    "## 訓練模型"
   ]
  },
  {
   "cell_type": "code",
   "execution_count": 26,
   "metadata": {
    "colab": {
     "base_uri": "https://localhost:8080/",
     "height": 612
    },
    "executionInfo": {
     "elapsed": 643,
     "status": "ok",
     "timestamp": 1683134874585,
     "user": {
      "displayName": "洪啟豪",
      "userId": "08277187360257942838"
     },
     "user_tz": -480
    },
    "id": "20eJyXYepj93",
    "outputId": "a04b2eee-d94c-4679-c066-93bdb9ba2026"
   },
   "outputs": [
    {
     "name": "stdout",
     "output_type": "stream",
     "text": [
      "<class 'pandas.core.frame.DataFrame'>\n",
      "<class 'numpy.ndarray'>\n",
      "[0]\tvalidation_0-auc:0.964874\n",
      "[1]\tvalidation_0-auc:0.964434\n",
      "[2]\tvalidation_0-auc:0.965602\n",
      "[3]\tvalidation_0-auc:0.966429\n",
      "[4]\tvalidation_0-auc:0.972209\n",
      "[5]\tvalidation_0-auc:0.973171\n",
      "[6]\tvalidation_0-auc:0.974174\n",
      "[7]\tvalidation_0-auc:0.983434\n",
      "[8]\tvalidation_0-auc:0.983496\n",
      "[9]\tvalidation_0-auc:0.984387\n",
      "[10]\tvalidation_0-auc:0.988642\n",
      "[11]\tvalidation_0-auc:0.988623\n",
      "[12]\tvalidation_0-auc:0.990079\n",
      "[13]\tvalidation_0-auc:0.990601\n",
      "[14]\tvalidation_0-auc:0.99141\n",
      "[15]\tvalidation_0-auc:0.992001\n",
      "[16]\tvalidation_0-auc:0.992747\n",
      "[17]\tvalidation_0-auc:0.992916\n",
      "[18]\tvalidation_0-auc:0.99342\n",
      "[19]\tvalidation_0-auc:0.993476\n",
      "[20]\tvalidation_0-auc:0.993512\n",
      "[21]\tvalidation_0-auc:0.993735\n",
      "[22]\tvalidation_0-auc:0.993761\n",
      "[23]\tvalidation_0-auc:0.993795\n",
      "[24]\tvalidation_0-auc:0.99368\n",
      "[25]\tvalidation_0-auc:0.993977\n",
      "[26]\tvalidation_0-auc:0.99461\n",
      "[27]\tvalidation_0-auc:0.995177\n",
      "[28]\tvalidation_0-auc:0.995472\n",
      "[29]\tvalidation_0-auc:0.995604\n",
      "[30]\tvalidation_0-auc:0.995922\n",
      "[31]\tvalidation_0-auc:0.996177\n",
      "[32]\tvalidation_0-auc:0.996266\n",
      "[33]\tvalidation_0-auc:0.99655\n",
      "[34]\tvalidation_0-auc:0.99666\n",
      "[35]\tvalidation_0-auc:0.996772\n",
      "[36]\tvalidation_0-auc:0.996805\n",
      "[37]\tvalidation_0-auc:0.996876\n",
      "[38]\tvalidation_0-auc:0.996936\n",
      "[39]\tvalidation_0-auc:0.997195\n",
      "[40]\tvalidation_0-auc:0.997223\n",
      "[41]\tvalidation_0-auc:0.997459\n",
      "[42]\tvalidation_0-auc:0.997482\n",
      "[43]\tvalidation_0-auc:0.997595\n",
      "[44]\tvalidation_0-auc:0.9978\n",
      "[45]\tvalidation_0-auc:0.99776\n",
      "[46]\tvalidation_0-auc:0.997796\n",
      "[47]\tvalidation_0-auc:0.997914\n",
      "[48]\tvalidation_0-auc:0.998177\n",
      "[49]\tvalidation_0-auc:0.998183\n",
      "[50]\tvalidation_0-auc:0.998259\n",
      "[51]\tvalidation_0-auc:0.998352\n",
      "[52]\tvalidation_0-auc:0.998479\n",
      "[53]\tvalidation_0-auc:0.99857\n",
      "[54]\tvalidation_0-auc:0.998567\n",
      "[55]\tvalidation_0-auc:0.998592\n",
      "[56]\tvalidation_0-auc:0.998629\n",
      "[57]\tvalidation_0-auc:0.998707\n",
      "[58]\tvalidation_0-auc:0.998752\n",
      "[59]\tvalidation_0-auc:0.998745\n",
      "[60]\tvalidation_0-auc:0.998785\n",
      "[61]\tvalidation_0-auc:0.998805\n",
      "[62]\tvalidation_0-auc:0.99885\n",
      "[63]\tvalidation_0-auc:0.99881\n",
      "[64]\tvalidation_0-auc:0.998833\n",
      "[65]\tvalidation_0-auc:0.998863\n",
      "[66]\tvalidation_0-auc:0.998864\n",
      "[67]\tvalidation_0-auc:0.998899\n",
      "[68]\tvalidation_0-auc:0.998893\n",
      "[69]\tvalidation_0-auc:0.998958\n",
      "[70]\tvalidation_0-auc:0.99909\n",
      "[71]\tvalidation_0-auc:0.999011\n",
      "[72]\tvalidation_0-auc:0.999032\n",
      "[73]\tvalidation_0-auc:0.99904\n",
      "[74]\tvalidation_0-auc:0.999155\n",
      "[75]\tvalidation_0-auc:0.999167\n",
      "[76]\tvalidation_0-auc:0.999188\n",
      "[77]\tvalidation_0-auc:0.999264\n",
      "[78]\tvalidation_0-auc:0.999272\n",
      "[79]\tvalidation_0-auc:0.999285\n",
      "[80]\tvalidation_0-auc:0.99931\n",
      "[81]\tvalidation_0-auc:0.99932\n",
      "[82]\tvalidation_0-auc:0.999334\n",
      "[83]\tvalidation_0-auc:0.999334\n",
      "[84]\tvalidation_0-auc:0.999327\n",
      "[85]\tvalidation_0-auc:0.999336\n",
      "[86]\tvalidation_0-auc:0.999353\n",
      "[87]\tvalidation_0-auc:0.999364\n",
      "[88]\tvalidation_0-auc:0.999373\n",
      "[89]\tvalidation_0-auc:0.999397\n",
      "[90]\tvalidation_0-auc:0.999391\n",
      "[91]\tvalidation_0-auc:0.999389\n",
      "[92]\tvalidation_0-auc:0.999411\n",
      "[93]\tvalidation_0-auc:0.999419\n",
      "[94]\tvalidation_0-auc:0.999427\n",
      "[95]\tvalidation_0-auc:0.99943\n",
      "[96]\tvalidation_0-auc:0.999477\n",
      "[97]\tvalidation_0-auc:0.999481\n",
      "[98]\tvalidation_0-auc:0.999483\n",
      "[99]\tvalidation_0-auc:0.999486\n"
     ]
    },
    {
     "data": {
      "text/plain": [
       "XGBClassifier(base_score=0.5, booster='gbtree', colsample_bylevel=1,\n",
       "              colsample_bynode=1, colsample_bytree=1, early_stopping_rounds=10,\n",
       "              eval_metric='auc', gamma=0, learning_rate=0.1, max_delta_step=0,\n",
       "              max_depth=3, min_child_weight=1, missing=None, n_estimators=100,\n",
       "              n_jobs=1, nthread=None, objective='binary:logistic',\n",
       "              random_state=0, reg_alpha=0, reg_lambda=1, scale_pos_weight=1,\n",
       "              seed=None, silent=None, subsample=1, verbosity=1)"
      ]
     },
     "execution_count": 26,
     "metadata": {},
     "output_type": "execute_result"
    }
   ],
   "source": [
    "# eval_metrics can selecy rmse, logloss, error,\\\n",
    "# auc, merror, mlogloss or custom define\n",
    "eval_set = [(x_valid, y_valid)]\n",
    "model = XGBClassifier(early_stopping_rounds = 10, \n",
    "                      eval_metric = \"auc\")\n",
    "print(type(x_train))\n",
    "print(type(y_train))\n",
    "model.fit(x_train, \n",
    "          y_train, \n",
    "          eval_set = eval_set, \n",
    "          verbose = True)"
   ]
  },
  {
   "cell_type": "code",
   "execution_count": 27,
   "metadata": {
    "colab": {
     "base_uri": "https://localhost:8080/"
    },
    "executionInfo": {
     "elapsed": 3,
     "status": "ok",
     "timestamp": 1683134910280,
     "user": {
      "displayName": "洪啟豪",
      "userId": "08277187360257942838"
     },
     "user_tz": -480
    },
    "id": "njTW4TC-p_3y",
    "outputId": "5830effb-a8c5-4cfa-fd7f-311773337001"
   },
   "outputs": [
    {
     "data": {
      "text/plain": [
       "array([[0.00858057, 0.99141943],\n",
       "       [0.00564009, 0.9943599 ],\n",
       "       [0.05538201, 0.944618  ],\n",
       "       [0.9915477 , 0.0084523 ],\n",
       "       [0.0513038 , 0.9486962 ]], dtype=float32)"
      ]
     },
     "execution_count": 27,
     "metadata": {},
     "output_type": "execute_result"
    }
   ],
   "source": [
    "# model.predict_proba will return the probility\n",
    "# model.predict will return the predict label (use 0.5 as threshold)\n",
    "y_pred = model.predict_proba(x_valid)\n",
    "y_pred[:5]"
   ]
  },
  {
   "cell_type": "code",
   "execution_count": 28,
   "metadata": {
    "colab": {
     "base_uri": "https://localhost:8080/"
    },
    "executionInfo": {
     "elapsed": 3,
     "status": "ok",
     "timestamp": 1683134942359,
     "user": {
      "displayName": "洪啟豪",
      "userId": "08277187360257942838"
     },
     "user_tz": -480
    },
    "id": "Oso8thXbqIg5",
    "outputId": "78a780da-d518-450a-8754-2727f3941633"
   },
   "outputs": [
    {
     "name": "stdout",
     "output_type": "stream",
     "text": [
      "Accuracy: 98.85%\n"
     ]
    }
   ],
   "source": [
    "# we use model.predict to get the label\n",
    "y_pred = model.predict(x_valid)\n",
    "accuracy = accuracy_score(y_valid, y_pred)\n",
    "print(\"Accuracy: %.2f%%\" % (accuracy * 100.0))"
   ]
  },
  {
   "cell_type": "code",
   "execution_count": 29,
   "metadata": {},
   "outputs": [
    {
     "name": "stdout",
     "output_type": "stream",
     "text": [
      "f1-score: 98.85%\n"
     ]
    }
   ],
   "source": [
    "# f1-score\n",
    "accuracy_f1 = f1_score(y_valid, y_pred)\n",
    "print(\"f1-score: %.2f%%\" % (accuracy * 100.0))"
   ]
  },
  {
   "cell_type": "code",
   "execution_count": 30,
   "metadata": {
    "colab": {
     "base_uri": "https://localhost:8080/"
    },
    "executionInfo": {
     "elapsed": 4,
     "status": "ok",
     "timestamp": 1683134951978,
     "user": {
      "displayName": "洪啟豪",
      "userId": "08277187360257942838"
     },
     "user_tz": -480
    },
    "id": "l9UbyLg5qQNp",
    "outputId": "f6c6523e-4243-410d-e324-a2286fc0f5b1"
   },
   "outputs": [
    {
     "name": "stdout",
     "output_type": "stream",
     "text": [
      "[0.06811281 0.05605854 0.08756219 0.02707793 0.04261282 0.10142211\n",
      " 0.04071822 0.01158819 0.01294131 0.0163599  0.14593379 0.38961223]\n"
     ]
    }
   ],
   "source": [
    "# we can show the feature importances for our features\n",
    "print(model.feature_importances_)"
   ]
  },
  {
   "cell_type": "code",
   "execution_count": 31,
   "metadata": {
    "colab": {
     "base_uri": "https://localhost:8080/",
     "height": 472
    },
    "executionInfo": {
     "elapsed": 421,
     "status": "ok",
     "timestamp": 1683134977043,
     "user": {
      "displayName": "洪啟豪",
      "userId": "08277187360257942838"
     },
     "user_tz": -480
    },
    "id": "cRSb2yIAqS0u",
    "outputId": "adedcae8-6d48-45c5-fc86-437dc960b788"
   },
   "outputs": [
    {
     "data": {
      "image/png": "[encoded data removed]",
      "text/plain": [
       "<Figure size 432x288 with 1 Axes>"
      ]
     },
     "metadata": {
      "needs_background": "light"
     },
     "output_type": "display_data"
    }
   ],
   "source": [
    "# import the plot_importance function to visualize the feature importance\n",
    "from xgboost import plot_importance\n",
    "plot_importance(model)\n",
    "plt.show()"
   ]
  },
  {
   "cell_type": "code",
   "execution_count": 32,
   "metadata": {},
   "outputs": [
    {
     "name": "stdout",
     "output_type": "stream",
     "text": [
      "Requirement already satisfied: graphviz in /opt/conda/lib/python3.7/site-packages (0.8.2)\n"
     ]
    }
   ],
   "source": [
    "!pip install graphviz"
   ]
  },
  {
   "cell_type": "code",
   "execution_count": 33,
   "metadata": {},
   "outputs": [
    {
     "data": {
      "text/plain": [
       "<Figure size 864x864 with 0 Axes>"
      ]
     },
     "metadata": {},
     "output_type": "display_data"
    },
    {
     "data": {
      "image/png": "[encoded data removed]",
      "text/plain": [
       "<Figure size 432x288 with 1 Axes>"
      ]
     },
     "metadata": {
      "needs_background": "light"
     },
     "output_type": "display_data"
    }
   ],
   "source": [
    "from xgboost import plot_tree\n",
    "from matplotlib.pylab import rcParams\n",
    "\n",
    "plt.figure(figsize=(12,12))\n",
    "plot_tree(model, num_trees = 1)\n",
    "plt.title(\"max_depth = 100, with gamma = 10\")\n",
    "plt.savefig(\"plot_tree_xgboost_norm\", dpi = 300)"
   ]
  },
  {
   "cell_type": "markdown",
   "metadata": {
    "id": "tlkxP6ExqiBs"
   },
   "source": [
    "## 模型測試"
   ]
  },
  {
   "cell_type": "code",
   "execution_count": 34,
   "metadata": {
    "id": "5_HZfqeiqY3_"
   },
   "outputs": [],
   "source": [
    "# Test\n",
    "# 測試一個答案全部為1的資料。\n",
    "# df_test = pd.read_csv('/project/xt121-group5/scene2_data/test_data/2023-05-06 135830_c.csv')\n",
    "df_test = pd.read_csv('/project/xt121-group5/scene2_data_01equal/larry/2023-05-01 232329.csv')\n",
    "df_test = FaceLandmarksPreprocessing(df_test)\n",
    "df_test = ReserveImportColumns(df_test, col_reserved)\n",
    "# test, _ = data_preprocessing(df_test, train=False, sc=train_sc)"
   ]
  },
  {
   "cell_type": "code",
   "execution_count": 35,
   "metadata": {
    "colab": {
     "base_uri": "https://localhost:8080/"
    },
    "executionInfo": {
     "elapsed": 2,
     "status": "ok",
     "timestamp": 1683135170048,
     "user": {
      "displayName": "洪啟豪",
      "userId": "08277187360257942838"
     },
     "user_tz": -480
    },
    "id": "PjsKhuRRqv3I",
    "outputId": "b3b686d0-d546-4139-e281-d627e6e8b043"
   },
   "outputs": [
    {
     "name": "stdout",
     "output_type": "stream",
     "text": [
      "Index(['FaceBoundingBox_Y', 'FaceLandmarks_13_Y', 'FaceLandmarks_14_Y',\n",
      "       'FaceLandmarks_16_X', 'FaceLandmarks_17_X', 'HeadPoseAngles_Y',\n",
      "       'HeadPoseAngles_Z', 'EyeState_Left', 'EyeState_Right',\n",
      "       'LeftEyeBoundingBox_Y', 'RightEyeBoundingBox_X', 'GazeVector_Z'],\n",
      "      dtype='object')\n",
      "(305,)\n",
      "<class 'numpy.ndarray'>\n"
     ]
    }
   ],
   "source": [
    "print(df_test.columns)\n",
    "pred = model.predict(df_test)\n",
    "print(pred.shape)\n",
    "print(type(pred))"
   ]
  },
  {
   "cell_type": "code",
   "execution_count": 36,
   "metadata": {
    "colab": {
     "base_uri": "https://localhost:8080/"
    },
    "executionInfo": {
     "elapsed": 2,
     "status": "ok",
     "timestamp": 1683135172225,
     "user": {
      "displayName": "洪啟豪",
      "userId": "08277187360257942838"
     },
     "user_tz": -480
    },
    "id": "wVYu5vY6qwdR",
    "outputId": "a8978941-8fbd-4e84-9406-f87e5746206f"
   },
   "outputs": [
    {
     "name": "stdout",
     "output_type": "stream",
     "text": [
      "[1 1 1 1 1 1 1 1 1 1 1 1 1 1 1 1 1 1 1 1 1 1 1 1 1 1 1 1 1 1 1 1 1 1 1 1 1\n",
      " 1 1 1 1 1 1 1 1 1 1 1 1 1 1 1 1 1 1 1 1 1 1 1 1 1 1 1 1 1 1 1 1 1 1 1 1 1\n",
      " 1 1 1 1 1 1 1 1 1 1 1 0 0 1 1 1 1 1 1 1 1 1 1 1 1 1 1 1 1 1 1 1 1 1 1 1 1\n",
      " 1 1 1 1 1 1 1 1 1 1 1 1 1 1 1 1 1 1 1 1 1 1 1 1 1 1 1 1 1 1 1 1 1 1 1 1 1\n",
      " 1 1 1 1 1 1 1 1 1 1 1 1 1 1 1 1 1 1 1 1 1 1 1 1 1 1 1 0 1 1 1 1 1 1 1 1 1\n",
      " 1 1 1 1 1 1 1 1 1 1 1 1 1 1 1 1 1 1 1 1 1 1 1 1 1 1 1 1 1 1 1 1 1 1 1 1 1\n",
      " 1 1 1 1 1 1 1 1 1 1 1 1 1 1 1 1 1 1 1 1 1 1 1 1 1 1 1 1 1 1 1 1 1 1 1 1 1\n",
      " 1 1 1 1 1 1 1 1 1 1 1 1 1 1 1 1 1 1 1 1 1 1 1 1 1 1 1 1 1 1 1 1 1 1 1 1 1\n",
      " 1 1 1 0 1 1 1 1 1]\n"
     ]
    }
   ],
   "source": [
    "print(pred)"
   ]
  },
  {
   "cell_type": "code",
   "execution_count": 37,
   "metadata": {
    "id": "-ngdGic-q5pr"
   },
   "outputs": [],
   "source": [
    "# Test\n",
    "# 測試一個答案全部為0的資料。\n",
    "# df_test = pd.read_csv('/project/xt121-group5/scene2_data/test_data/2023-05-06 135847_nc.csv')\n",
    "df_test = pd.read_csv('/project/xt121-group5/scene2_data/test_data/2023-05-06 135847_nc.csv')\n",
    "df_test = FaceLandmarksPreprocessing(df_test)\n",
    "df_test = ReserveImportColumns(df_test, col_reserved)\n",
    "# test, _ = data_preprocessing(df_test, train=False, sc=train_sc)"
   ]
  },
  {
   "cell_type": "code",
   "execution_count": 38,
   "metadata": {
    "colab": {
     "base_uri": "https://localhost:8080/"
    },
    "executionInfo": {
     "elapsed": 278,
     "status": "ok",
     "timestamp": 1683135222297,
     "user": {
      "displayName": "洪啟豪",
      "userId": "08277187360257942838"
     },
     "user_tz": -480
    },
    "id": "KbbnQFEsrPsF",
    "outputId": "86a1c541-fe4d-4f8b-9c82-44d843bf14dc"
   },
   "outputs": [
    {
     "name": "stdout",
     "output_type": "stream",
     "text": [
      "[0 0 0 0 0 0 0 0 0 0 0 0 0 0 0 0 0 0 0 0 0 0 0 0 0 0 0 0 0 0 0 0 0 0 0 0 0\n",
      " 0 0 0 0 0 0 0 0 0 0 0 0 0 0 0 0 0 0 0 0 0 0 0 0 0 0 0 0 0 0 0 0 0 0 0 0 0\n",
      " 0 0 0 0 0 0 0 0 0 0 0 0 0 0 0 0 0 0 0 0 0 0 0 0 0 0 0 0 0 0 0 0 0 0 0 0 0\n",
      " 0 0 0 0 0 0 0 0 0 0 0 0 0 0 0 0 0 0 0 0 0 0 0 0 0 0 0 0 0 0 0 0 0 0 0 0 0\n",
      " 0 0 0 0 0 0 0 0 0 0 0 0 0 0 0 0 0 0 0 0 0 0 0 0 0 0 0 0 0 0 0 0 0 0 0 0 0\n",
      " 0 0 0 0 0 0 0 0 0 0 0 0 0 0 0 0 0 0 0 0 0 0 0 0 0 0 0 0 0 0 0 0 0 0 0 0 0\n",
      " 0 0 0 0 0 0 0 0 0 0 0 0 0 0 0 0 0 0 0 0 0 0 0 0 0 0 0 0 0 0 0 0 0 0 0 0 0\n",
      " 0 0 0 0 0 0 0 0 0 0 0 0 0 0 0 0 0 0 0 0 0 0 0 0 0 0 0 0 0 0 0 0 0 0 0 0 0\n",
      " 0 0 0 0 0 0 0 0 0 0 0 0 0 0 0 0 0 0 0 0 0 0 0 0 0 0 0 0 0 0 0]\n"
     ]
    }
   ],
   "source": [
    "pred = model.predict(df_test)\n",
    "print(pred)"
   ]
  },
  {
   "cell_type": "markdown",
   "metadata": {},
   "source": [
    "## 儲存模型"
   ]
  },
  {
   "cell_type": "markdown",
   "metadata": {},
   "source": [
    "### 方法1. joblib"
   ]
  },
  {
   "cell_type": "code",
   "execution_count": 39,
   "metadata": {},
   "outputs": [
    {
     "name": "stdout",
     "output_type": "stream",
     "text": [
      "[0 0 0 0 0 0 0 0 0 0 0 0 0 0 0 0 0 0 0 0 0 0 0 0 0 0 0 0 0 0 0 0 0 0 0 0 0\n",
      " 0 0 0 0 0 0 0 0 0 0 0 0 0 0 0 0 0 0 0 0 0 0 0 0 0 0 0 0 0 0 0 0 0 0 0 0 0\n",
      " 0 0 0 0 0 0 0 0 0 0 0 0 0 0 0 0 0 0 0 0 0 0 0 0 0 0 0 0 0 0 0 0 0 0 0 0 0\n",
      " 0 0 0 0 0 0 0 0 0 0 0 0 0 0 0 0 0 0 0 0 0 0 0 0 0 0 0 0 0 0 0 0 0 0 0 0 0\n",
      " 0 0 0 0 0 0 0 0 0 0 0 0 0 0 0 0 0 0 0 0 0 0 0 0 0 0 0 0 0 0 0 0 0 0 0 0 0\n",
      " 0 0 0 0 0 0 0 0 0 0 0 0 0 0 0 0 0 0 0 0 0 0 0 0 0 0 0 0 0 0 0 0 0 0 0 0 0\n",
      " 0 0 0 0 0 0 0 0 0 0 0 0 0 0 0 0 0 0 0 0 0 0 0 0 0 0 0 0 0 0 0 0 0 0 0 0 0\n",
      " 0 0 0 0 0 0 0 0 0 0 0 0 0 0 0 0 0 0 0 0 0 0 0 0 0 0 0 0 0 0 0 0 0 0 0 0 0\n",
      " 0 0 0 0 0 0 0 0 0 0 0 0 0 0 0 0 0 0 0 0 0 0 0 0 0 0 0 0 0 0 0]\n"
     ]
    }
   ],
   "source": [
    "# Save model\n",
    "import joblib\n",
    "joblib.dump(model, './XGB_joblib_normalized_model')\n",
    "\n",
    "# Load model\n",
    "loaded_xgb_model = joblib.load('./XGB_joblib_normalized_model')\n",
    "pred = loaded_xgb_model.predict(df_test)\n",
    "print(pred)"
   ]
  },
  {
   "cell_type": "markdown",
   "metadata": {},
   "source": [
    "### 方法2. save_model"
   ]
  },
  {
   "cell_type": "code",
   "execution_count": 40,
   "metadata": {},
   "outputs": [
    {
     "name": "stdout",
     "output_type": "stream",
     "text": [
      "[1.03051485e-02 1.03051485e-02 3.88191058e-03 4.17602668e-03\n",
      " 4.17602668e-03 1.03051485e-02 1.09183304e-02 4.17602668e-03\n",
      " 1.17392829e-02 1.09183304e-02 9.58351605e-03 9.58351605e-03\n",
      " 1.09183304e-02 5.27329138e-03 1.39626267e-03 1.65498641e-03\n",
      " 1.88690913e-03 2.13174126e-03 1.99200609e-03 5.27329138e-03\n",
      " 1.44944049e-03 1.44944049e-03 3.88191058e-03 3.88191058e-03\n",
      " 3.88191058e-03 3.88191058e-03 3.88191058e-03 4.67029773e-03\n",
      " 2.13048980e-03 4.42613754e-03 3.88191058e-03 3.88191058e-03\n",
      " 4.42613754e-03 3.88191058e-03 3.88191058e-03 3.88191058e-03\n",
      " 3.88191058e-03 3.88191058e-03 1.75997859e-03 9.58351605e-03\n",
      " 9.02199070e-04 1.65498641e-03 1.65498641e-03 1.65498641e-03\n",
      " 1.65498641e-03 1.65498641e-03 1.65498641e-03 1.48579420e-04\n",
      " 7.49421073e-04 2.89617479e-03 1.65498641e-03 7.49421073e-04\n",
      " 7.49421073e-04 1.61251242e-04 7.49421073e-04 1.65498641e-03\n",
      " 1.61251242e-04 1.89354541e-04 4.38855849e-02 1.94573030e-02\n",
      " 7.80221121e-03 4.38855849e-02 4.38855849e-02 7.80221121e-03\n",
      " 6.34528929e-03 6.20877487e-04 2.03433875e-02 7.80221121e-03\n",
      " 4.09769081e-03 4.44567529e-03 3.59522961e-02 3.59522961e-02\n",
      " 1.19223131e-03 4.87421919e-03 4.38855849e-02 2.01507262e-03\n",
      " 2.31418367e-02 3.60789187e-02 9.65634827e-03 4.38855849e-02\n",
      " 4.38855849e-02 4.08375636e-02 1.25665334e-03 2.03433875e-02\n",
      " 6.64217258e-03 1.25284865e-03 1.86557993e-02 1.09026255e-02\n",
      " 3.57296807e-03 8.01580842e-04 9.52628267e-04 9.86893545e-04\n",
      " 8.62515240e-04 4.90324746e-04 1.72272371e-03 1.46653107e-03\n",
      " 1.10471761e-03 1.72272371e-03 1.67786621e-03 2.23382562e-03\n",
      " 1.49204349e-03 2.83587584e-03 2.29329313e-03 2.29329313e-03\n",
      " 1.48483901e-03 6.63427287e-04 3.62125778e-04 3.36530647e-04\n",
      " 3.62125778e-04 3.36530647e-04 3.62125778e-04 4.08297405e-04\n",
      " 2.61938461e-04 2.59309250e-04 1.88817256e-04 1.88817256e-04\n",
      " 3.11884680e-04 2.75540660e-04 3.71105823e-04 2.32499457e-04\n",
      " 2.24675416e-04 2.46819283e-04 3.71105823e-04 3.71105823e-04\n",
      " 3.71105823e-04 3.11884680e-04 3.71105823e-04 5.58545406e-04\n",
      " 6.57238241e-04 3.95442301e-04 3.11884680e-04 6.57238241e-04\n",
      " 5.53537102e-04 2.75540660e-04 3.12907295e-03 2.63638655e-03\n",
      " 8.06120923e-04 3.95442301e-04 3.95442301e-04 5.53537102e-04\n",
      " 5.53537102e-04 5.53537102e-04 5.53537102e-04 3.95442301e-04\n",
      " 4.85049735e-04 3.82564613e-04 4.85049735e-04 3.95442301e-04\n",
      " 8.06120923e-04 1.00062788e-03 3.19943135e-03 3.19943135e-03\n",
      " 4.88309516e-03 4.32773819e-03 4.32773819e-03 4.32773819e-03\n",
      " 8.86432652e-04 1.47165626e-03 5.32626826e-03 5.72918728e-03\n",
      " 5.72918728e-03 5.72918728e-03 5.72918728e-03 5.25266631e-03\n",
      " 5.72918728e-03 5.72918728e-03 5.25266631e-03 5.25266631e-03\n",
      " 5.72918728e-03 1.07667712e-03 5.25266631e-03 5.25266631e-03\n",
      " 3.69385676e-03 4.65547480e-03 3.95248383e-02 3.38000692e-02\n",
      " 6.35341331e-02 6.35341331e-02 7.68312812e-02 2.27542773e-01\n",
      " 7.10093454e-02 8.32278877e-02 8.32278877e-02 1.21876337e-01\n",
      " 7.94389471e-02 7.94389471e-02 6.78466484e-02 7.33102337e-02\n",
      " 7.24780327e-03 5.83044104e-02 8.37555714e-03 5.21082850e-03\n",
      " 2.23479187e-03 2.74005323e-03 5.48227690e-02 2.87176892e-02\n",
      " 2.95871627e-02 7.18869129e-03 7.18869129e-03 4.32150066e-03\n",
      " 4.32150066e-03 5.02199121e-03 1.12155033e-02 6.84914971e-03\n",
      " 1.01644658e-02 5.36152571e-02 7.95367956e-02 2.46056374e-02\n",
      " 1.17695872e-02 1.33791892e-02 2.65715644e-02 2.65715644e-02\n",
      " 4.36857641e-02 4.36857641e-02 9.75116808e-03 2.54219421e-03\n",
      " 1.53141504e-03 4.18987533e-04 8.29145429e-04 8.29145429e-04\n",
      " 4.18987533e-04 5.83874178e-04 5.83874178e-04 5.83874178e-04\n",
      " 6.69300731e-04 6.69300731e-04 4.80301154e-04 4.18987533e-04\n",
      " 4.18987533e-04 4.18987533e-04 6.69300731e-04 6.69300731e-04\n",
      " 5.16627450e-04 3.43224907e-04 3.08208750e-04 5.16627450e-04\n",
      " 4.50678694e-04 5.16627450e-04 4.50678694e-04 4.50678694e-04\n",
      " 5.16627450e-04 5.16627450e-04 5.16627450e-04 5.16627450e-04\n",
      " 5.16627450e-04 5.16627450e-04 5.83874178e-04 5.16627450e-04\n",
      " 3.08208750e-04 3.08208750e-04 3.08208750e-04 3.08208750e-04\n",
      " 3.08208750e-04 5.16627450e-04 3.08208750e-04 3.43224907e-04\n",
      " 3.08208750e-04 5.16627450e-04 1.51163971e-04 4.50678694e-04\n",
      " 1.01203925e-03 8.29145429e-04 3.22865811e-03 1.43897440e-03\n",
      " 1.60470642e-02 1.07166646e-02 7.35537382e-03 5.44203073e-03\n",
      " 3.02275969e-03 4.50904574e-03 5.00600226e-03 3.78016918e-03\n",
      " 4.60552191e-03 4.60763536e-02 2.75805895e-03 2.08887854e-03\n",
      " 1.42477069e-03 1.11974487e-02 3.06823589e-02 1.44459112e-02\n",
      " 6.30809646e-03 1.65582891e-03 1.09362137e-02 1.21921059e-02\n",
      " 9.68534313e-03 1.38954576e-02 1.31883547e-01 1.41319307e-02\n",
      " 7.96008036e-02 1.52049080e-01 7.75655434e-02 9.73424613e-02\n",
      " 2.54353702e-01 2.34063804e-01 8.05881689e-04 8.02482478e-03\n",
      " 7.73980543e-02 2.23479187e-03 1.07806060e-03 2.44656182e-03\n",
      " 1.78516947e-03 1.12045521e-03 4.21217037e-03 7.91339111e-03\n",
      " 2.45424025e-02 1.19023882e-01 1.19023882e-01 4.32773819e-03\n",
      " 3.19943135e-03 4.32773819e-03 1.63846766e-03 1.04699447e-03\n",
      " 5.84754394e-04 4.20696713e-04 3.82564613e-04 3.82564613e-04\n",
      " 3.09056166e-04 3.11884680e-04 3.11884680e-04 2.32499457e-04\n",
      " 3.82564613e-04 6.14854798e-04 4.55200672e-04 2.32499457e-04\n",
      " 3.11884680e-04 3.11884680e-04 3.11884680e-04]\n"
     ]
    }
   ],
   "source": [
    "# Save model\n",
    "model.save_model('XGB_normalized_6pos6neg_model.json')\n",
    "\n",
    "# Load model\n",
    "import xgboost as xgb\n",
    "model_xgb = xgb.XGBRegressor()\n",
    "model_xgb.load_model('XGB_normalized_6pos6neg_model.json')\n",
    "pred = model_xgb.predict(df_test)\n",
    "print(pred)"
   ]
  },
  {
   "cell_type": "code",
   "execution_count": 41,
   "metadata": {},
   "outputs": [
    {
     "data": {
      "text/plain": [
       "'0.90'"
      ]
     },
     "execution_count": 41,
     "metadata": {},
     "output_type": "execute_result"
    }
   ],
   "source": [
    "import xgboost\n",
    "xgboost.__version__"
   ]
  },
  {
   "cell_type": "code",
   "execution_count": 42,
   "metadata": {},
   "outputs": [
    {
     "name": "stdout",
     "output_type": "stream",
     "text": [
      "[0 0 0 0 0 0 0 0 0 0 0 0 0 0 0 0 0 0 0 0 0 0 0 0 0 0 0 0 0 0 0 0 0 0 0 0 0\n",
      " 0 0 0 0 0 0 0 0 0 0 0 0 0 0 0 0 0 0 0 0 0 0 0 0 0 0 0 0 0 0 0 0 0 0 0 0 0\n",
      " 0 0 0 0 0 0 0 0 0 0 0 0 0 0 0 0 0 0 0 0 0 0 0 0 0 0 0 0 0 0 0 0 0 0 0 0 0\n",
      " 0 0 0 0 0 0 0 0 0 0 0 0 0 0 0 0 0 0 0 0 0 0 0 0 0 0 0 0 0 0 0 0 0 0 0 0 0\n",
      " 0 0 0 0 0 0 0 0 0 0 0 0 0 0 0 0 0 0 0 0 0 0 0 0 0 0 0 0 0 0 0 0 0 0 0 0 0\n",
      " 0 0 0 0 0 0 0 0 0 0 0 0 0 0 0 0 0 0 0 0 0 0 0 0 0 0 0 0 0 0 0 0 0 0 0 0 0\n",
      " 0 0 0 0 0 0 0 0 0 0 0 0 0 0 0 0 0 0 0 0 0 0 0 0 0 0 0 0 0 0 0 0 0 0 0 0 0\n",
      " 0 0 0 0 0 0 0 0 0 0 0 0 0 0 0 0 0 0 0 0 0 0 0 0 0 0 0 0 0 0 0 0 0 0 0 0 0\n",
      " 0 0 0 0]\n"
     ]
    }
   ],
   "source": [
    "# Test\n",
    "# 測試一個答案全部為0的資料。\n",
    "data_path = '/project/xt121-group5/DAiSEE/0/1100131017.csv'\n",
    "df_test = pd.read_csv(data_path)\n",
    "df_test = FaceLandmarksPreprocessing(df_test)\n",
    "df_test = ReserveImportColumns(df_test, col_reserved)\n",
    "# test, _ = data_preprocessing(df_test, train=False, sc=train_sc)\n",
    "\n",
    "pred = model.predict(df_test)\n",
    "print(pred)"
   ]
  },
  {
   "cell_type": "code",
   "execution_count": 43,
   "metadata": {},
   "outputs": [
    {
     "name": "stdout",
     "output_type": "stream",
     "text": [
      "0.0\n"
     ]
    }
   ],
   "source": [
    "mean_a = pred.mean()\n",
    "print(mean_a)"
   ]
  },
  {
   "cell_type": "code",
   "execution_count": 44,
   "metadata": {},
   "outputs": [
    {
     "name": "stdout",
     "output_type": "stream",
     "text": [
      "0.0\n",
      "0.0\n",
      "0.0\n",
      "0.0\n",
      "0.0\n",
      "0.0\n",
      "0.0\n",
      "0.0\n",
      "0.0\n",
      "0.0\n",
      "0.0\n",
      "0.0\n",
      "0.0\n",
      "0.0\n",
      "0.0\n",
      "0.0\n",
      "0.0\n",
      "0.03\n",
      "0.0\n",
      "0.6\n",
      "0.0\n",
      "0.0\n",
      "0.0\n",
      "0.0\n",
      "0.26\n",
      "0.0\n",
      "0.0\n",
      "0.0\n",
      "0.4033333333333333\n",
      "0.0\n",
      "0.0\n",
      "0.0\n",
      "0.0\n",
      "0.0\n",
      "0.0\n",
      "0.0\n",
      "0.0\n",
      "0.0033333333333333335\n",
      "0.0\n",
      "0.0\n",
      "0.06315789473684211\n",
      "0.03666666666666667\n",
      "0.0\n",
      "0.0\n",
      "0.0\n",
      "0.0\n",
      "0.0\n",
      "0.0\n",
      "0.0\n",
      "0.0\n",
      "0.0\n",
      "0.0\n",
      "0.0\n",
      "0.0\n",
      "0.30666666666666664\n",
      "0.0\n",
      "0.0\n",
      "0.0\n",
      "0.0\n",
      "Total acc: 0.9830508474576272\n"
     ]
    }
   ],
   "source": [
    "data_dir = '/project/xt121-group5/DAiSEE/0'\n",
    "\n",
    "amount = 0\n",
    "acc = 0\n",
    "for dirname, _, filenames in os.walk(data_dir):\n",
    "    for filename in filenames:\n",
    "        if dirname.split('/')[-1] != 'test_data':\n",
    "            #print(os.path.join(dirname, filename))\n",
    "            testdata = os.path.join(dirname, filename)\n",
    "            df_test = pd.read_csv(testdata)\n",
    "            df_test = FaceLandmarksPreprocessing(df_test)\n",
    "            df_test = ReserveImportColumns(df_test, col_reserved)\n",
    "            # test, _ = data_preprocessing(df_test, train=False, sc=train_sc)\n",
    "            pred = model.predict(df_test)\n",
    "            mean_a = pred.mean()\n",
    "            print(mean_a)\n",
    "            amount += 1\n",
    "            if mean_a < 0.5:\n",
    "                acc += 1\n",
    "print(f'Total acc: {acc / amount}')"
   ]
  },
  {
   "cell_type": "code",
   "execution_count": null,
   "metadata": {},
   "outputs": [],
   "source": []
  }
 ],
 "metadata": {
  "colab": {
   "authorship_tag": "ABX9TyNM9v33kYP6sSnew95Pq3Qh",
   "provenance": [
    {
     "file_id": "1r3PRKI1cL9c21w7R3Yr1n_1p7UumEbvh",
     "timestamp": 1683210991768
    }
   ]
  },
  "kernelspec": {
   "display_name": "Python 3 (ipykernel)",
   "language": "python",
   "name": "python3"
  },
  "language_info": {
   "codemirror_mode": {
    "name": "ipython",
    "version": 3
   },
   "file_extension": ".py",
   "mimetype": "text/x-python",
   "name": "python",
   "nbconvert_exporter": "python",
   "pygments_lexer": "ipython3",
   "version": "3.7.12"
  }
 },
 "nbformat": 4,
 "nbformat_minor": 4
}
