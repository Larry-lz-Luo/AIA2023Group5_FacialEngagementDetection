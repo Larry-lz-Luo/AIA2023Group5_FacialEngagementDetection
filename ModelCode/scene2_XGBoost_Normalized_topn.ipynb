{
 "cells": [
  {
   "cell_type": "code",
   "execution_count": 1,
   "metadata": {
    "colab": {
     "base_uri": "https://localhost:8080/"
    },
    "executionInfo": {
     "elapsed": 2711,
     "status": "ok",
     "timestamp": 1683134156932,
     "user": {
      "displayName": "洪啟豪",
      "userId": "08277187360257942838"
     },
     "user_tz": -480
    },
    "id": "a_02Aqmvm22h",
    "outputId": "7ee8ae1a-b701-4473-f60a-32a709cd7633"
   },
   "outputs": [
    {
     "name": "stdout",
     "output_type": "stream",
     "text": [
      "Populating the interactive namespace from numpy and matplotlib\n"
     ]
    }
   ],
   "source": [
    "from xgboost import XGBClassifier\n",
    "from sklearn.model_selection import train_test_split\n",
    "from sklearn.metrics import accuracy_score\n",
    "from sklearn.metrics import f1_score\n",
    "import pandas as pd\n",
    "import matplotlib.pyplot as plt\n",
    "%pylab inline"
   ]
  },
  {
   "cell_type": "markdown",
   "metadata": {
    "id": "EXdjv-qYnqdl"
   },
   "source": [
    "## 載入資料集"
   ]
  },
  {
   "cell_type": "code",
   "execution_count": 2,
   "metadata": {
    "id": "X7ybsCSfnPbD"
   },
   "outputs": [
    {
     "name": "stdout",
     "output_type": "stream",
     "text": [
      "/project/xt121-group5/scene2_data_01equal/alice/2023-05-01 232058.csv\n",
      "/project/xt121-group5/scene2_data_01equal/alice/2023-05-01 231925.csv\n",
      "/project/xt121-group5/scene2_data_01equal/alice/.ipynb_checkpoints/2023-05-01 232058-checkpoint.csv\n",
      "/project/xt121-group5/scene2_data_01equal/alice/.ipynb_checkpoints/2023-05-01 231925-checkpoint.csv\n",
      "/project/xt121-group5/scene2_data_01equal/pinsian/2023-05-13 142553_c.csv\n",
      "/project/xt121-group5/scene2_data_01equal/pinsian/2023-05-13 142611 nc.csv\n",
      "/project/xt121-group5/scene2_data_01equal/larry/2023-05-01 232448.csv\n",
      "/project/xt121-group5/scene2_data_01equal/larry/2023-05-01 232329.csv\n",
      "/project/xt121-group5/scene2_data_01equal/larry/.ipynb_checkpoints/2023-05-01 232448-checkpoint.csv\n",
      "/project/xt121-group5/scene2_data_01equal/larry/.ipynb_checkpoints/2023-05-01 232329-checkpoint.csv\n",
      "/project/xt121-group5/scene2_data_01equal/charlie/2023-05-05 103150_c.csv\n",
      "/project/xt121-group5/scene2_data_01equal/charlie/2023-05-05 103233_nc.csv\n",
      "/project/xt121-group5/scene2_data_01equal/charlie/.ipynb_checkpoints/2023-05-05 103150_c-checkpoint.csv\n",
      "/project/xt121-group5/scene2_data_01equal/charlie/.ipynb_checkpoints/2023-05-05 103233_nc-checkpoint.csv\n",
      "/project/xt121-group5/scene2_data_01equal/jason/2023-05-05 1.csv\n",
      "/project/xt121-group5/scene2_data_01equal/jason/2023-05-05 0.csv\n",
      "/project/xt121-group5/scene2_data_01equal/jason/.ipynb_checkpoints/2023-05-05 1-checkpoint.csv\n",
      "/project/xt121-group5/scene2_data_01equal/jason/.ipynb_checkpoints/2023-05-05 0-checkpoint.csv\n"
     ]
    }
   ],
   "source": [
    "import os\n",
    "df_train = pd.core.frame.DataFrame()\n",
    "for dirname, _, filenames in os.walk('/project/xt121-group5/scene2_data_01equal/'):\n",
    "    for filename in filenames:\n",
    "        if dirname.split('/')[-1] != 'test_data':\n",
    "            print(os.path.join(dirname, filename))\n",
    "            df_train2 = pd.read_csv(os.path.join(dirname, filename))\n",
    "            df_train = pd.concat([df_train, df_train2])\n",
    "        \n",
    "df_train = df_train.drop(labels = ['RecordTime'], axis = 1) # 移除 RecordTime"
   ]
  },
  {
   "cell_type": "code",
   "execution_count": 3,
   "metadata": {
    "colab": {
     "base_uri": "https://localhost:8080/"
    },
    "executionInfo": {
     "elapsed": 504,
     "status": "ok",
     "timestamp": 1683134191466,
     "user": {
      "displayName": "洪啟豪",
      "userId": "08277187360257942838"
     },
     "user_tz": -480
    },
    "id": "h93qCpsSnWfz",
    "outputId": "7d802664-f27d-4f03-ee8e-c014eec2244d"
   },
   "outputs": [
    {
     "name": "stdout",
     "output_type": "stream",
     "text": [
      "(11436, 103)\n"
     ]
    }
   ],
   "source": [
    "print(df_train.shape)"
   ]
  },
  {
   "cell_type": "markdown",
   "metadata": {},
   "source": [
    "## 資料前處理"
   ]
  },
  {
   "cell_type": "markdown",
   "metadata": {},
   "source": [
    "### 前處理－臉部特徵座標平移"
   ]
  },
  {
   "cell_type": "code",
   "execution_count": 4,
   "metadata": {},
   "outputs": [],
   "source": [
    "def FaceLandmarksPreprocessing(df_data, verbose = False):\n",
    "    for col_name in df_data.columns.to_list():\n",
    "        if col_name.find('FaceLandmarks_') == 0 or \\\n",
    "        col_name.find('EyeLandmarks_') == 0 or \\\n",
    "        col_name.find('LeftEyeBoundingBox_') == 0 or \\\n",
    "        col_name.find('RightEyeBoundingBox_') == 0 or \\\n",
    "        col_name.find('LeftEyeMidPoint_') == 0 or \\\n",
    "        col_name.find('RightEyeMidPoint_') == 0:\n",
    "            if col_name.find('_X') == len(col_name) - 2:\n",
    "                df_data[col_name] = df_data[col_name] - df_data['FaceBoundingBox_X']\n",
    "                if verbose:\n",
    "                    print(f'Column {col_name} is subtracted by FaceBoundingBox_X.')\n",
    "            elif col_name.find('_Y') == len(col_name) - 2:\n",
    "                df_data[col_name] = df_data[col_name] - df_data['FaceBoundingBox_Y']\n",
    "                if verbose:\n",
    "                    print(f'Column {col_name} is subtracted by FaceBoundingBox_Y.')\n",
    "            else:\n",
    "#                 print(f'Ignore column {col_name}.')\n",
    "                pass\n",
    "        else:\n",
    "#             print(f'Ignore column {col_name}')\n",
    "            pass\n",
    "    return df_data"
   ]
  },
  {
   "cell_type": "code",
   "execution_count": 5,
   "metadata": {},
   "outputs": [
    {
     "name": "stdout",
     "output_type": "stream",
     "text": [
      "   FaceBoundingBox_X  FaceBoundingBox_Y  FaceBoundingBox_W  FaceBoundingBox_H  \\\n",
      "0                524                166                253                253   \n",
      "1                525                161                255                255   \n",
      "2                525                163                255                255   \n",
      "3                526                168                255                255   \n",
      "4                530                174                249                249   \n",
      "\n",
      "   FaceLandmarks_1_X  FaceLandmarks_1_Y  FaceLandmarks_2_X  FaceLandmarks_2_Y  \\\n",
      "0                632                257                602                255   \n",
      "1                634                254                603                252   \n",
      "2                634                256                604                255   \n",
      "3                639                268                612                266   \n",
      "4                642                276                618                274   \n",
      "\n",
      "   FaceLandmarks_3_X  FaceLandmarks_3_Y  ...  EyeLandmarks_4_X  \\\n",
      "0                679                258  ...               708   \n",
      "1                681                254  ...               711   \n",
      "2                681                256  ...               710   \n",
      "3                681                268  ...               707   \n",
      "4                678                275  ...               701   \n",
      "\n",
      "   EyeLandmarks_4_Y  LeftEyeMidPoint_X  LeftEyeMidPoint_Y  RightEyeMidPoint_X  \\\n",
      "0               256              617.0              256.0               693.5   \n",
      "1               252              618.5              253.0               696.0   \n",
      "2               254              619.0              255.5               695.5   \n",
      "3               266              625.5              267.0               694.0   \n",
      "4               272              630.0              275.0               689.5   \n",
      "\n",
      "   RightEyeMidPoint_Y  GazeVector_X  GazeVector_Y  GazeVector_Z  RecordType  \n",
      "0               257.0     -0.094805     -0.014327     -0.995393           0  \n",
      "1               253.0     -0.047574     -0.034673     -0.998266           0  \n",
      "2               255.0      0.012142     -0.065674     -0.997767           0  \n",
      "3               267.0     -0.003677     -0.079957     -0.996792           0  \n",
      "4               273.5      0.000000      0.000000      0.000000           0  \n",
      "\n",
      "[5 rows x 103 columns]\n"
     ]
    }
   ],
   "source": [
    "print(df_train.head())"
   ]
  },
  {
   "cell_type": "code",
   "execution_count": 6,
   "metadata": {},
   "outputs": [
    {
     "name": "stdout",
     "output_type": "stream",
     "text": [
      "Column FaceLandmarks_1_X is subtracted by FaceBoundingBox_X.\n",
      "Column FaceLandmarks_1_Y is subtracted by FaceBoundingBox_Y.\n",
      "Column FaceLandmarks_2_X is subtracted by FaceBoundingBox_X.\n",
      "Column FaceLandmarks_2_Y is subtracted by FaceBoundingBox_Y.\n",
      "Column FaceLandmarks_3_X is subtracted by FaceBoundingBox_X.\n",
      "Column FaceLandmarks_3_Y is subtracted by FaceBoundingBox_Y.\n",
      "Column FaceLandmarks_4_X is subtracted by FaceBoundingBox_X.\n",
      "Column FaceLandmarks_4_Y is subtracted by FaceBoundingBox_Y.\n",
      "Column FaceLandmarks_5_X is subtracted by FaceBoundingBox_X.\n",
      "Column FaceLandmarks_5_Y is subtracted by FaceBoundingBox_Y.\n",
      "Column FaceLandmarks_6_X is subtracted by FaceBoundingBox_X.\n",
      "Column FaceLandmarks_6_Y is subtracted by FaceBoundingBox_Y.\n",
      "Column FaceLandmarks_7_X is subtracted by FaceBoundingBox_X.\n",
      "Column FaceLandmarks_7_Y is subtracted by FaceBoundingBox_Y.\n",
      "Column FaceLandmarks_8_X is subtracted by FaceBoundingBox_X.\n",
      "Column FaceLandmarks_8_Y is subtracted by FaceBoundingBox_Y.\n",
      "Column FaceLandmarks_9_X is subtracted by FaceBoundingBox_X.\n",
      "Column FaceLandmarks_9_Y is subtracted by FaceBoundingBox_Y.\n",
      "Column FaceLandmarks_10_X is subtracted by FaceBoundingBox_X.\n",
      "Column FaceLandmarks_10_Y is subtracted by FaceBoundingBox_Y.\n",
      "Column FaceLandmarks_11_X is subtracted by FaceBoundingBox_X.\n",
      "Column FaceLandmarks_11_Y is subtracted by FaceBoundingBox_Y.\n",
      "Column FaceLandmarks_12_X is subtracted by FaceBoundingBox_X.\n",
      "Column FaceLandmarks_12_Y is subtracted by FaceBoundingBox_Y.\n",
      "Column FaceLandmarks_13_X is subtracted by FaceBoundingBox_X.\n",
      "Column FaceLandmarks_13_Y is subtracted by FaceBoundingBox_Y.\n",
      "Column FaceLandmarks_14_X is subtracted by FaceBoundingBox_X.\n",
      "Column FaceLandmarks_14_Y is subtracted by FaceBoundingBox_Y.\n",
      "Column FaceLandmarks_15_X is subtracted by FaceBoundingBox_X.\n",
      "Column FaceLandmarks_15_Y is subtracted by FaceBoundingBox_Y.\n",
      "Column FaceLandmarks_16_X is subtracted by FaceBoundingBox_X.\n",
      "Column FaceLandmarks_16_Y is subtracted by FaceBoundingBox_Y.\n",
      "Column FaceLandmarks_17_X is subtracted by FaceBoundingBox_X.\n",
      "Column FaceLandmarks_17_Y is subtracted by FaceBoundingBox_Y.\n",
      "Column FaceLandmarks_18_X is subtracted by FaceBoundingBox_X.\n",
      "Column FaceLandmarks_18_Y is subtracted by FaceBoundingBox_Y.\n",
      "Column FaceLandmarks_19_X is subtracted by FaceBoundingBox_X.\n",
      "Column FaceLandmarks_19_Y is subtracted by FaceBoundingBox_Y.\n",
      "Column FaceLandmarks_20_X is subtracted by FaceBoundingBox_X.\n",
      "Column FaceLandmarks_20_Y is subtracted by FaceBoundingBox_Y.\n",
      "Column FaceLandmarks_21_X is subtracted by FaceBoundingBox_X.\n",
      "Column FaceLandmarks_21_Y is subtracted by FaceBoundingBox_Y.\n",
      "Column FaceLandmarks_22_X is subtracted by FaceBoundingBox_X.\n",
      "Column FaceLandmarks_22_Y is subtracted by FaceBoundingBox_Y.\n",
      "Column FaceLandmarks_23_X is subtracted by FaceBoundingBox_X.\n",
      "Column FaceLandmarks_23_Y is subtracted by FaceBoundingBox_Y.\n",
      "Column FaceLandmarks_24_X is subtracted by FaceBoundingBox_X.\n",
      "Column FaceLandmarks_24_Y is subtracted by FaceBoundingBox_Y.\n",
      "Column FaceLandmarks_25_X is subtracted by FaceBoundingBox_X.\n",
      "Column FaceLandmarks_25_Y is subtracted by FaceBoundingBox_Y.\n",
      "Column FaceLandmarks_26_X is subtracted by FaceBoundingBox_X.\n",
      "Column FaceLandmarks_26_Y is subtracted by FaceBoundingBox_Y.\n",
      "Column FaceLandmarks_27_X is subtracted by FaceBoundingBox_X.\n",
      "Column FaceLandmarks_27_Y is subtracted by FaceBoundingBox_Y.\n",
      "Column FaceLandmarks_28_X is subtracted by FaceBoundingBox_X.\n",
      "Column FaceLandmarks_28_Y is subtracted by FaceBoundingBox_Y.\n",
      "Column FaceLandmarks_29_X is subtracted by FaceBoundingBox_X.\n",
      "Column FaceLandmarks_29_Y is subtracted by FaceBoundingBox_Y.\n",
      "Column FaceLandmarks_30_X is subtracted by FaceBoundingBox_X.\n",
      "Column FaceLandmarks_30_Y is subtracted by FaceBoundingBox_Y.\n",
      "Column FaceLandmarks_31_X is subtracted by FaceBoundingBox_X.\n",
      "Column FaceLandmarks_31_Y is subtracted by FaceBoundingBox_Y.\n",
      "Column FaceLandmarks_32_X is subtracted by FaceBoundingBox_X.\n",
      "Column FaceLandmarks_32_Y is subtracted by FaceBoundingBox_Y.\n",
      "Column FaceLandmarks_33_X is subtracted by FaceBoundingBox_X.\n",
      "Column FaceLandmarks_33_Y is subtracted by FaceBoundingBox_Y.\n",
      "Column FaceLandmarks_34_X is subtracted by FaceBoundingBox_X.\n",
      "Column FaceLandmarks_34_Y is subtracted by FaceBoundingBox_Y.\n",
      "Column FaceLandmarks_35_X is subtracted by FaceBoundingBox_X.\n",
      "Column FaceLandmarks_35_Y is subtracted by FaceBoundingBox_Y.\n",
      "Column LeftEyeBoundingBox_X is subtracted by FaceBoundingBox_X.\n",
      "Column LeftEyeBoundingBox_Y is subtracted by FaceBoundingBox_Y.\n",
      "Column RightEyeBoundingBox_X is subtracted by FaceBoundingBox_X.\n",
      "Column RightEyeBoundingBox_Y is subtracted by FaceBoundingBox_Y.\n",
      "Column EyeLandmarks_1_X is subtracted by FaceBoundingBox_X.\n",
      "Column EyeLandmarks_1_Y is subtracted by FaceBoundingBox_Y.\n",
      "Column EyeLandmarks_2_X is subtracted by FaceBoundingBox_X.\n",
      "Column EyeLandmarks_2_Y is subtracted by FaceBoundingBox_Y.\n",
      "Column EyeLandmarks_3_X is subtracted by FaceBoundingBox_X.\n",
      "Column EyeLandmarks_3_Y is subtracted by FaceBoundingBox_Y.\n",
      "Column EyeLandmarks_4_X is subtracted by FaceBoundingBox_X.\n",
      "Column EyeLandmarks_4_Y is subtracted by FaceBoundingBox_Y.\n",
      "Column LeftEyeMidPoint_X is subtracted by FaceBoundingBox_X.\n",
      "Column LeftEyeMidPoint_Y is subtracted by FaceBoundingBox_Y.\n",
      "Column RightEyeMidPoint_X is subtracted by FaceBoundingBox_X.\n",
      "Column RightEyeMidPoint_Y is subtracted by FaceBoundingBox_Y.\n"
     ]
    }
   ],
   "source": [
    "df_train = FaceLandmarksPreprocessing(df_train, True)"
   ]
  },
  {
   "cell_type": "code",
   "execution_count": 7,
   "metadata": {},
   "outputs": [
    {
     "name": "stdout",
     "output_type": "stream",
     "text": [
      "   FaceBoundingBox_X  FaceBoundingBox_Y  FaceBoundingBox_W  FaceBoundingBox_H  \\\n",
      "0                524                166                253                253   \n",
      "1                525                161                255                255   \n",
      "2                525                163                255                255   \n",
      "3                526                168                255                255   \n",
      "4                530                174                249                249   \n",
      "\n",
      "   FaceLandmarks_1_X  FaceLandmarks_1_Y  FaceLandmarks_2_X  FaceLandmarks_2_Y  \\\n",
      "0                108                 91                 78                 89   \n",
      "1                109                 93                 78                 91   \n",
      "2                109                 93                 79                 92   \n",
      "3                113                100                 86                 98   \n",
      "4                112                102                 88                100   \n",
      "\n",
      "   FaceLandmarks_3_X  FaceLandmarks_3_Y  ...  EyeLandmarks_4_X  \\\n",
      "0                155                 92  ...               184   \n",
      "1                156                 93  ...               186   \n",
      "2                156                 93  ...               185   \n",
      "3                155                100  ...               181   \n",
      "4                148                101  ...               171   \n",
      "\n",
      "   EyeLandmarks_4_Y  LeftEyeMidPoint_X  LeftEyeMidPoint_Y  RightEyeMidPoint_X  \\\n",
      "0                90               93.0               90.0               169.5   \n",
      "1                91               93.5               92.0               171.0   \n",
      "2                91               94.0               92.5               170.5   \n",
      "3                98               99.5               99.0               168.0   \n",
      "4                98              100.0              101.0               159.5   \n",
      "\n",
      "   RightEyeMidPoint_Y  GazeVector_X  GazeVector_Y  GazeVector_Z  RecordType  \n",
      "0                91.0     -0.094805     -0.014327     -0.995393           0  \n",
      "1                92.0     -0.047574     -0.034673     -0.998266           0  \n",
      "2                92.0      0.012142     -0.065674     -0.997767           0  \n",
      "3                99.0     -0.003677     -0.079957     -0.996792           0  \n",
      "4                99.5      0.000000      0.000000      0.000000           0  \n",
      "\n",
      "[5 rows x 103 columns]\n"
     ]
    }
   ],
   "source": [
    "print(df_train.head())"
   ]
  },
  {
   "cell_type": "markdown",
   "metadata": {
    "id": "CdJVL8ygnnyv"
   },
   "source": [
    "### 前處理－檢查缺失值"
   ]
  },
  {
   "cell_type": "code",
   "execution_count": 8,
   "metadata": {
    "colab": {
     "base_uri": "https://localhost:8080/"
    },
    "executionInfo": {
     "elapsed": 4,
     "status": "ok",
     "timestamp": 1683134238809,
     "user": {
      "displayName": "洪啟豪",
      "userId": "08277187360257942838"
     },
     "user_tz": -480
    },
    "id": "lByl9PTOnY-F",
    "outputId": "0119a5ec-e6ab-44ab-9e39-205e1ce81646"
   },
   "outputs": [
    {
     "name": "stdout",
     "output_type": "stream",
     "text": [
      "Before data clean(NAN mount): 0\n"
     ]
    }
   ],
   "source": [
    "# checked missing data\n",
    "print(\"Before data clean(NAN mount):\", len(np.where(np.isnan(df_train)==1)[0]))"
   ]
  },
  {
   "cell_type": "code",
   "execution_count": 9,
   "metadata": {
    "id": "JPd8gtYOnk1F"
   },
   "outputs": [],
   "source": [
    "# Find columns with only unique value.\n",
    "# unique_col = []\n",
    "# for i in df_train.columns:\n",
    "#     if np.unique(df_train[i]).shape[0]==1:\n",
    "#         print(f'Get column {i} with only unique value.')\n",
    "#         unique_col.append(i) "
   ]
  },
  {
   "cell_type": "code",
   "execution_count": 10,
   "metadata": {
    "id": "wgFEqJtqn0iz"
   },
   "outputs": [],
   "source": [
    "# print(unique_col)"
   ]
  },
  {
   "cell_type": "code",
   "execution_count": 11,
   "metadata": {
    "id": "YdvZ779Dn20X"
   },
   "outputs": [],
   "source": [
    "# df_train.describe()[unique_col]"
   ]
  },
  {
   "cell_type": "code",
   "execution_count": 12,
   "metadata": {
    "id": "4Be2lkSkn4MD"
   },
   "outputs": [],
   "source": [
    "# Drop columns with only unique value.\n",
    "# df_train = df_train.drop(unique_col, axis=1)"
   ]
  },
  {
   "cell_type": "markdown",
   "metadata": {},
   "source": [
    "### 前處理－保留重要特徵"
   ]
  },
  {
   "cell_type": "code",
   "execution_count": 13,
   "metadata": {
    "id": "GIqFHaOSn5oF"
   },
   "outputs": [],
   "source": [
    "# 列出重要的特徵。\n",
    "col_high_rel = ['HeadPoseAngles_Y', 'GazeVector_X', 'GazeVector_Z', 'GazeVector_Y', 'HeadPoseAngles_Z']\n",
    "col_deleted = ['FaceBoundingBox_X', 'FaceBoundingBox_Y']"
   ]
  },
  {
   "cell_type": "code",
   "execution_count": 14,
   "metadata": {
    "id": "VFcIvO6FofFD"
   },
   "outputs": [
    {
     "name": "stdout",
     "output_type": "stream",
     "text": [
      "(11436,)\n"
     ]
    }
   ],
   "source": [
    "# 取目標值。\n",
    "y = df_train['RecordType'].values\n",
    "print(y.shape)"
   ]
  },
  {
   "cell_type": "code",
   "execution_count": 15,
   "metadata": {
    "id": "ykVqh8LsoCgk"
   },
   "outputs": [],
   "source": [
    "# 刪除沒有被列在重要特徵列表的特徵。\n",
    "def ReserveImportColumns(df_data, col_reserved):\n",
    "    for col_name in df_data.columns.to_list():\n",
    "        if col_name not in col_reserved:\n",
    "            df_data = df_data.drop(col_name, axis = 1)\n",
    "    return df_data"
   ]
  },
  {
   "cell_type": "code",
   "execution_count": 16,
   "metadata": {},
   "outputs": [
    {
     "name": "stdout",
     "output_type": "stream",
     "text": [
      "(11436, 5)\n",
      "Index(['HeadPoseAngles_Y', 'HeadPoseAngles_Z', 'GazeVector_X', 'GazeVector_Y',\n",
      "       'GazeVector_Z'],\n",
      "      dtype='object')\n"
     ]
    }
   ],
   "source": [
    "df_train.drop(col_deleted, axis = 1)\n",
    "df_train = ReserveImportColumns(df_train, col_high_rel)\n",
    "\n",
    "print(shape(df_train))\n",
    "print(df_train.columns)"
   ]
  },
  {
   "cell_type": "code",
   "execution_count": 17,
   "metadata": {
    "id": "fRDtN4THoFaT"
   },
   "outputs": [],
   "source": [
    "# from sklearn.preprocessing import StandardScaler\n",
    "# from sklearn.preprocessing import MinMaxScaler"
   ]
  },
  {
   "cell_type": "code",
   "execution_count": 18,
   "metadata": {
    "id": "s5RxZZWkoGuM"
   },
   "outputs": [],
   "source": [
    "# def data_preprocessing(df_input, train=True, sc=None):\n",
    "#     # numeric feature standardization\n",
    "#     if train:\n",
    "#         sc = StandardScaler()\n",
    "# #         sc = MinMaxScaler()\n",
    "#         df = sc.fit_transform(df_input.iloc[:, 0:-1])\n",
    "#     else:\n",
    "#         df = sc.transform(df_input)\n",
    "#     return df, sc"
   ]
  },
  {
   "cell_type": "code",
   "execution_count": 19,
   "metadata": {
    "id": "5SLy0ziNoNa1"
   },
   "outputs": [],
   "source": [
    "# X, train_sc = data_preprocessing(df_train)"
   ]
  },
  {
   "cell_type": "code",
   "execution_count": 20,
   "metadata": {
    "id": "YD5cLbO2oQWH"
   },
   "outputs": [],
   "source": [
    "# print(X.shape)"
   ]
  },
  {
   "cell_type": "code",
   "execution_count": 21,
   "metadata": {
    "id": "Ne9F-x99oZY9"
   },
   "outputs": [],
   "source": [
    "# print(train_sc.mean_)"
   ]
  },
  {
   "cell_type": "code",
   "execution_count": 22,
   "metadata": {
    "id": "wQN9qy2iocZX"
   },
   "outputs": [],
   "source": [
    "# print(train_sc.var_)"
   ]
  },
  {
   "cell_type": "code",
   "execution_count": 23,
   "metadata": {
    "colab": {
     "base_uri": "https://localhost:8080/"
    },
    "executionInfo": {
     "elapsed": 4,
     "status": "ok",
     "timestamp": 1683134509554,
     "user": {
      "displayName": "洪啟豪",
      "userId": "08277187360257942838"
     },
     "user_tz": -480
    },
    "id": "y6Ne7Y_8ojln",
    "outputId": "ff4b155a-1e69-4c06-dcea-bb34a167f23d"
   },
   "outputs": [
    {
     "name": "stdout",
     "output_type": "stream",
     "text": [
      "[0 0 0 ... 0 0 0]\n"
     ]
    }
   ],
   "source": [
    "np.unique(y)\n",
    "print(y)"
   ]
  },
  {
   "cell_type": "code",
   "execution_count": 24,
   "metadata": {},
   "outputs": [],
   "source": [
    "# # Columns 順序轉換－先 GazeVector X, Y, Z, 然後 HeadPosAngles X, Y, Z 最後 FaceLandmarks 1~35 X, Y\n",
    "# cols_1 = df_train_1.columns.tolist()\n",
    "# print(f'Before 6 features column order change: {cols_1}')\n",
    "# # print(df_train_1.head())\n",
    "# cols_1 = cols_1[3:] + cols_1[:3]\n",
    "# df_train_1 = df_train_1[cols_1]\n",
    "# print(f'After 6 features column order change: {cols_1}')\n",
    "# print(df_train_1.head())\n",
    "\n",
    "# cols_2 = df_train_2.columns.tolist()\n",
    "# print(len(cols_2))\n",
    "# print(f'Before 76 features column order change: {cols_2}')\n",
    "# # print(df_train_2.head())\n",
    "# cols_2 = cols_2[-3:] + cols_2[-6:-3] + cols_2[:70]\n",
    "# print(f'After 76 features column order change: {cols_2}')\n",
    "# assert len(cols_2) == 76\n",
    "# df_train_2 = df_train_2[cols_2]\n",
    "# print(cols_2)\n",
    "# print(df_train_2.head())"
   ]
  },
  {
   "cell_type": "markdown",
   "metadata": {
    "id": "xE8GmGCOpenc"
   },
   "source": [
    "## 切割訓練集"
   ]
  },
  {
   "cell_type": "code",
   "execution_count": 25,
   "metadata": {
    "id": "tghkbwmwopjK"
   },
   "outputs": [],
   "source": [
    "x_train, x_valid, y_train, y_valid = train_test_split(df_train, y, test_size = 0.25, random_state = 17, stratify = y)"
   ]
  },
  {
   "cell_type": "markdown",
   "metadata": {},
   "source": [
    "## 訓練模型"
   ]
  },
  {
   "cell_type": "code",
   "execution_count": 26,
   "metadata": {
    "colab": {
     "base_uri": "https://localhost:8080/",
     "height": 612
    },
    "executionInfo": {
     "elapsed": 643,
     "status": "ok",
     "timestamp": 1683134874585,
     "user": {
      "displayName": "洪啟豪",
      "userId": "08277187360257942838"
     },
     "user_tz": -480
    },
    "id": "20eJyXYepj93",
    "outputId": "a04b2eee-d94c-4679-c066-93bdb9ba2026"
   },
   "outputs": [
    {
     "name": "stdout",
     "output_type": "stream",
     "text": [
      "<class 'pandas.core.frame.DataFrame'>\n",
      "<class 'numpy.ndarray'>\n",
      "[0]\tvalidation_0-auc:0.959818\n",
      "[1]\tvalidation_0-auc:0.964576\n",
      "[2]\tvalidation_0-auc:0.968967\n",
      "[3]\tvalidation_0-auc:0.971108\n",
      "[4]\tvalidation_0-auc:0.972538\n",
      "[5]\tvalidation_0-auc:0.981279\n",
      "[6]\tvalidation_0-auc:0.981268\n",
      "[7]\tvalidation_0-auc:0.981218\n",
      "[8]\tvalidation_0-auc:0.981446\n",
      "[9]\tvalidation_0-auc:0.9826\n",
      "[10]\tvalidation_0-auc:0.982845\n",
      "[11]\tvalidation_0-auc:0.983788\n",
      "[12]\tvalidation_0-auc:0.984867\n",
      "[13]\tvalidation_0-auc:0.985042\n",
      "[14]\tvalidation_0-auc:0.985103\n",
      "[15]\tvalidation_0-auc:0.985794\n",
      "[16]\tvalidation_0-auc:0.986065\n",
      "[17]\tvalidation_0-auc:0.986565\n",
      "[18]\tvalidation_0-auc:0.986692\n",
      "[19]\tvalidation_0-auc:0.986928\n",
      "[20]\tvalidation_0-auc:0.988415\n",
      "[21]\tvalidation_0-auc:0.988913\n",
      "[22]\tvalidation_0-auc:0.989413\n",
      "[23]\tvalidation_0-auc:0.989681\n",
      "[24]\tvalidation_0-auc:0.98982\n",
      "[25]\tvalidation_0-auc:0.990016\n",
      "[26]\tvalidation_0-auc:0.990102\n",
      "[27]\tvalidation_0-auc:0.990494\n",
      "[28]\tvalidation_0-auc:0.990499\n",
      "[29]\tvalidation_0-auc:0.990613\n",
      "[30]\tvalidation_0-auc:0.990631\n",
      "[31]\tvalidation_0-auc:0.991059\n",
      "[32]\tvalidation_0-auc:0.9912\n",
      "[33]\tvalidation_0-auc:0.99134\n",
      "[34]\tvalidation_0-auc:0.991493\n",
      "[35]\tvalidation_0-auc:0.991507\n",
      "[36]\tvalidation_0-auc:0.991534\n",
      "[37]\tvalidation_0-auc:0.991619\n",
      "[38]\tvalidation_0-auc:0.991673\n",
      "[39]\tvalidation_0-auc:0.991783\n",
      "[40]\tvalidation_0-auc:0.991901\n",
      "[41]\tvalidation_0-auc:0.991996\n",
      "[42]\tvalidation_0-auc:0.992053\n",
      "[43]\tvalidation_0-auc:0.992093\n",
      "[44]\tvalidation_0-auc:0.99216\n",
      "[45]\tvalidation_0-auc:0.992187\n",
      "[46]\tvalidation_0-auc:0.992197\n",
      "[47]\tvalidation_0-auc:0.992534\n",
      "[48]\tvalidation_0-auc:0.992581\n",
      "[49]\tvalidation_0-auc:0.992795\n",
      "[50]\tvalidation_0-auc:0.992835\n",
      "[51]\tvalidation_0-auc:0.993005\n",
      "[52]\tvalidation_0-auc:0.992974\n",
      "[53]\tvalidation_0-auc:0.993121\n",
      "[54]\tvalidation_0-auc:0.993137\n",
      "[55]\tvalidation_0-auc:0.993182\n",
      "[56]\tvalidation_0-auc:0.993207\n",
      "[57]\tvalidation_0-auc:0.993272\n",
      "[58]\tvalidation_0-auc:0.993361\n",
      "[59]\tvalidation_0-auc:0.993395\n",
      "[60]\tvalidation_0-auc:0.993392\n",
      "[61]\tvalidation_0-auc:0.993453\n",
      "[62]\tvalidation_0-auc:0.993543\n",
      "[63]\tvalidation_0-auc:0.993621\n",
      "[64]\tvalidation_0-auc:0.993623\n",
      "[65]\tvalidation_0-auc:0.993606\n",
      "[66]\tvalidation_0-auc:0.993785\n",
      "[67]\tvalidation_0-auc:0.9937\n",
      "[68]\tvalidation_0-auc:0.993661\n",
      "[69]\tvalidation_0-auc:0.993739\n",
      "[70]\tvalidation_0-auc:0.993776\n",
      "[71]\tvalidation_0-auc:0.993837\n",
      "[72]\tvalidation_0-auc:0.993875\n",
      "[73]\tvalidation_0-auc:0.994044\n",
      "[74]\tvalidation_0-auc:0.993998\n",
      "[75]\tvalidation_0-auc:0.994031\n",
      "[76]\tvalidation_0-auc:0.994052\n",
      "[77]\tvalidation_0-auc:0.994092\n",
      "[78]\tvalidation_0-auc:0.994083\n",
      "[79]\tvalidation_0-auc:0.994097\n",
      "[80]\tvalidation_0-auc:0.994142\n",
      "[81]\tvalidation_0-auc:0.99421\n",
      "[82]\tvalidation_0-auc:0.994278\n",
      "[83]\tvalidation_0-auc:0.994265\n",
      "[84]\tvalidation_0-auc:0.994281\n",
      "[85]\tvalidation_0-auc:0.994307\n",
      "[86]\tvalidation_0-auc:0.994396\n",
      "[87]\tvalidation_0-auc:0.994535\n",
      "[88]\tvalidation_0-auc:0.994853\n",
      "[89]\tvalidation_0-auc:0.994855\n",
      "[90]\tvalidation_0-auc:0.994962\n",
      "[91]\tvalidation_0-auc:0.995029\n",
      "[92]\tvalidation_0-auc:0.995029\n",
      "[93]\tvalidation_0-auc:0.994991\n",
      "[94]\tvalidation_0-auc:0.995179\n",
      "[95]\tvalidation_0-auc:0.995196\n",
      "[96]\tvalidation_0-auc:0.995247\n",
      "[97]\tvalidation_0-auc:0.995265\n",
      "[98]\tvalidation_0-auc:0.995255\n",
      "[99]\tvalidation_0-auc:0.995242\n"
     ]
    },
    {
     "data": {
      "text/plain": [
       "XGBClassifier(base_score=0.5, booster='gbtree', colsample_bylevel=1,\n",
       "              colsample_bynode=1, colsample_bytree=1, early_stopping_rounds=10,\n",
       "              eval_metric='auc', gamma=0, learning_rate=0.1, max_delta_step=0,\n",
       "              max_depth=3, min_child_weight=1, missing=None, n_estimators=100,\n",
       "              n_jobs=1, nthread=None, objective='binary:logistic',\n",
       "              random_state=0, reg_alpha=0, reg_lambda=1, scale_pos_weight=1,\n",
       "              seed=None, silent=None, subsample=1, verbosity=1)"
      ]
     },
     "execution_count": 26,
     "metadata": {},
     "output_type": "execute_result"
    }
   ],
   "source": [
    "# eval_metrics can selecy rmse, logloss, error,\\\n",
    "# auc, merror, mlogloss or custom define\n",
    "eval_set = [(x_valid, y_valid)]\n",
    "model = XGBClassifier(early_stopping_rounds = 10, \n",
    "                      eval_metric = \"auc\")\n",
    "print(type(x_train))\n",
    "print(type(y_train))\n",
    "model.fit(x_train, \n",
    "          y_train, \n",
    "          eval_set = eval_set, \n",
    "          verbose = True)"
   ]
  },
  {
   "cell_type": "code",
   "execution_count": 27,
   "metadata": {
    "colab": {
     "base_uri": "https://localhost:8080/"
    },
    "executionInfo": {
     "elapsed": 3,
     "status": "ok",
     "timestamp": 1683134910280,
     "user": {
      "displayName": "洪啟豪",
      "userId": "08277187360257942838"
     },
     "user_tz": -480
    },
    "id": "njTW4TC-p_3y",
    "outputId": "5830effb-a8c5-4cfa-fd7f-311773337001"
   },
   "outputs": [
    {
     "data": {
      "text/plain": [
       "array([[0.01764965, 0.98235035],\n",
       "       [0.01115566, 0.98884434],\n",
       "       [0.50526774, 0.49473226],\n",
       "       [0.99027926, 0.00972075],\n",
       "       [0.12086481, 0.8791352 ]], dtype=float32)"
      ]
     },
     "execution_count": 27,
     "metadata": {},
     "output_type": "execute_result"
    }
   ],
   "source": [
    "# model.predict_proba will return the probility\n",
    "# model.predict will return the predict label (use 0.5 as threshold)\n",
    "y_pred = model.predict_proba(x_valid)\n",
    "y_pred[:5]"
   ]
  },
  {
   "cell_type": "code",
   "execution_count": 28,
   "metadata": {
    "colab": {
     "base_uri": "https://localhost:8080/"
    },
    "executionInfo": {
     "elapsed": 3,
     "status": "ok",
     "timestamp": 1683134942359,
     "user": {
      "displayName": "洪啟豪",
      "userId": "08277187360257942838"
     },
     "user_tz": -480
    },
    "id": "Oso8thXbqIg5",
    "outputId": "78a780da-d518-450a-8754-2727f3941633"
   },
   "outputs": [
    {
     "name": "stdout",
     "output_type": "stream",
     "text": [
      "Accuracy: 97.34%\n"
     ]
    }
   ],
   "source": [
    "# we use model.predict to get the label\n",
    "y_pred = model.predict(x_valid)\n",
    "accuracy = accuracy_score(y_valid, y_pred)\n",
    "print(\"Accuracy: %.2f%%\" % (accuracy * 100.0))"
   ]
  },
  {
   "cell_type": "code",
   "execution_count": 29,
   "metadata": {},
   "outputs": [
    {
     "name": "stdout",
     "output_type": "stream",
     "text": [
      "f1-score: 97.34%\n"
     ]
    }
   ],
   "source": [
    "# f1-score\n",
    "accuracy_f1 = f1_score(y_valid, y_pred)\n",
    "print(\"f1-score: %.2f%%\" % (accuracy * 100.0))"
   ]
  },
  {
   "cell_type": "code",
   "execution_count": 30,
   "metadata": {
    "colab": {
     "base_uri": "https://localhost:8080/"
    },
    "executionInfo": {
     "elapsed": 4,
     "status": "ok",
     "timestamp": 1683134951978,
     "user": {
      "displayName": "洪啟豪",
      "userId": "08277187360257942838"
     },
     "user_tz": -480
    },
    "id": "l9UbyLg5qQNp",
    "outputId": "f6c6523e-4243-410d-e324-a2286fc0f5b1"
   },
   "outputs": [
    {
     "name": "stdout",
     "output_type": "stream",
     "text": [
      "[0.18138313 0.0828472  0.05401893 0.05967807 0.62207264]\n"
     ]
    }
   ],
   "source": [
    "# we can show the feature importances for our features\n",
    "print(model.feature_importances_)"
   ]
  },
  {
   "cell_type": "code",
   "execution_count": 31,
   "metadata": {
    "colab": {
     "base_uri": "https://localhost:8080/",
     "height": 472
    },
    "executionInfo": {
     "elapsed": 421,
     "status": "ok",
     "timestamp": 1683134977043,
     "user": {
      "displayName": "洪啟豪",
      "userId": "08277187360257942838"
     },
     "user_tz": -480
    },
    "id": "cRSb2yIAqS0u",
    "outputId": "adedcae8-6d48-45c5-fc86-437dc960b788"
   },
   "outputs": [
    {
     "data": {
      "image/png": "[encoded data removed]",
      "text/plain": [
       "<Figure size 432x288 with 1 Axes>"
      ]
     },
     "metadata": {
      "needs_background": "light"
     },
     "output_type": "display_data"
    }
   ],
   "source": [
    "# import the plot_importance function to visualize the feature importance\n",
    "from xgboost import plot_importance\n",
    "plot_importance(model)\n",
    "plt.show()"
   ]
  },
  {
   "cell_type": "code",
   "execution_count": 32,
   "metadata": {},
   "outputs": [
    {
     "name": "stdout",
     "output_type": "stream",
     "text": [
      "Requirement already satisfied: graphviz in /opt/conda/lib/python3.7/site-packages (0.8.2)\n"
     ]
    }
   ],
   "source": [
    "!pip install graphviz"
   ]
  },
  {
   "cell_type": "code",
   "execution_count": 33,
   "metadata": {},
   "outputs": [
    {
     "data": {
      "text/plain": [
       "<Figure size 864x864 with 0 Axes>"
      ]
     },
     "metadata": {},
     "output_type": "display_data"
    },
    {
     "data": {
      "image/png": "[encoded data removed]",
      "text/plain": [
       "<Figure size 432x288 with 1 Axes>"
      ]
     },
     "metadata": {
      "needs_background": "light"
     },
     "output_type": "display_data"
    }
   ],
   "source": [
    "from xgboost import plot_tree\n",
    "from matplotlib.pylab import rcParams\n",
    "\n",
    "plt.figure(figsize=(12,12))\n",
    "plot_tree(model, num_trees = 1)\n",
    "plt.title(\"max_depth = 100, with gamma = 10\")\n",
    "plt.savefig(\"plot_tree_xgboost_norm_topn\", dpi = 300)"
   ]
  },
  {
   "cell_type": "markdown",
   "metadata": {
    "id": "tlkxP6ExqiBs"
   },
   "source": [
    "## 模型測試"
   ]
  },
  {
   "cell_type": "code",
   "execution_count": 34,
   "metadata": {
    "id": "5_HZfqeiqY3_"
   },
   "outputs": [],
   "source": [
    "# Test\n",
    "# 測試一個答案全部為1的資料。\n",
    "# df_test = pd.read_csv('/project/xt121-group5/scene2_data/test_data/2023-05-06 135830_c.csv')\n",
    "df_test = pd.read_csv('/project/xt121-group5/scene2_data_01equal/larry/2023-05-01 232329.csv')\n",
    "df_test = FaceLandmarksPreprocessing(df_test)\n",
    "df_test = df_test.drop(col_deleted, axis = 1)\n",
    "df_test = ReserveImportColumns(df_test, col_high_rel)\n",
    "# test, _ = data_preprocessing(df_test, train=False, sc=train_sc)"
   ]
  },
  {
   "cell_type": "code",
   "execution_count": 35,
   "metadata": {
    "colab": {
     "base_uri": "https://localhost:8080/"
    },
    "executionInfo": {
     "elapsed": 2,
     "status": "ok",
     "timestamp": 1683135170048,
     "user": {
      "displayName": "洪啟豪",
      "userId": "08277187360257942838"
     },
     "user_tz": -480
    },
    "id": "PjsKhuRRqv3I",
    "outputId": "b3b686d0-d546-4139-e281-d627e6e8b043"
   },
   "outputs": [
    {
     "name": "stdout",
     "output_type": "stream",
     "text": [
      "Index(['HeadPoseAngles_Y', 'HeadPoseAngles_Z', 'GazeVector_X', 'GazeVector_Y',\n",
      "       'GazeVector_Z'],\n",
      "      dtype='object')\n",
      "(305,)\n",
      "<class 'numpy.ndarray'>\n"
     ]
    }
   ],
   "source": [
    "print(df_test.columns)\n",
    "pred = model.predict(df_test)\n",
    "print(pred.shape)\n",
    "print(type(pred))"
   ]
  },
  {
   "cell_type": "code",
   "execution_count": 36,
   "metadata": {
    "colab": {
     "base_uri": "https://localhost:8080/"
    },
    "executionInfo": {
     "elapsed": 2,
     "status": "ok",
     "timestamp": 1683135172225,
     "user": {
      "displayName": "洪啟豪",
      "userId": "08277187360257942838"
     },
     "user_tz": -480
    },
    "id": "wVYu5vY6qwdR",
    "outputId": "a8978941-8fbd-4e84-9406-f87e5746206f"
   },
   "outputs": [
    {
     "name": "stdout",
     "output_type": "stream",
     "text": [
      "[1 1 1 1 1 1 1 1 1 1 1 1 1 1 1 1 1 1 1 1 1 1 1 1 1 1 1 1 1 1 1 1 1 1 1 1 1\n",
      " 1 1 1 1 1 1 1 1 1 1 1 1 1 1 1 1 1 1 1 1 1 1 1 1 1 1 1 1 1 1 1 1 1 1 1 1 1\n",
      " 1 1 1 1 1 1 1 1 1 1 1 1 1 1 1 1 1 1 1 1 1 1 1 1 1 1 1 1 1 1 1 1 1 1 1 1 1\n",
      " 1 1 1 1 1 1 1 1 1 1 1 1 1 1 1 1 1 1 1 1 1 1 1 1 1 1 1 1 1 1 1 1 1 1 1 1 1\n",
      " 1 1 1 1 1 1 1 1 1 1 1 1 1 1 1 1 1 1 1 1 1 1 1 1 1 1 1 1 1 1 1 1 1 1 1 1 1\n",
      " 1 1 1 1 1 1 1 1 1 1 1 1 1 1 1 1 1 1 1 1 1 1 1 1 1 1 1 1 1 1 1 1 1 1 1 1 1\n",
      " 1 1 1 1 1 1 1 1 1 1 1 1 1 1 1 1 1 1 1 1 1 1 1 1 1 1 1 1 1 1 1 1 0 1 1 1 1\n",
      " 1 1 1 1 1 1 1 1 1 1 1 1 1 1 1 1 1 1 1 1 1 1 1 1 1 1 1 1 1 1 1 1 1 1 1 1 1\n",
      " 1 1 1 0 1 1 1 1 1]\n"
     ]
    }
   ],
   "source": [
    "print(pred)"
   ]
  },
  {
   "cell_type": "code",
   "execution_count": 37,
   "metadata": {
    "id": "-ngdGic-q5pr"
   },
   "outputs": [],
   "source": [
    "# Test\n",
    "# 測試一個答案全部為0的資料。\n",
    "# df_test = pd.read_csv('/project/xt121-group5/scene2_data/test_data/2023-05-06 135847_nc.csv')\n",
    "df_test = pd.read_csv('/project/xt121-group5/scene2_data/test_data/2023-05-06 135847_nc.csv')\n",
    "df_test = FaceLandmarksPreprocessing(df_test)\n",
    "df_test = df_test.drop(col_deleted, axis = 1)\n",
    "df_test = ReserveImportColumns(df_test, col_high_rel)\n",
    "# test, _ = data_preprocessing(df_test, train=False, sc=train_sc)"
   ]
  },
  {
   "cell_type": "code",
   "execution_count": 38,
   "metadata": {
    "colab": {
     "base_uri": "https://localhost:8080/"
    },
    "executionInfo": {
     "elapsed": 278,
     "status": "ok",
     "timestamp": 1683135222297,
     "user": {
      "displayName": "洪啟豪",
      "userId": "08277187360257942838"
     },
     "user_tz": -480
    },
    "id": "KbbnQFEsrPsF",
    "outputId": "86a1c541-fe4d-4f8b-9c82-44d843bf14dc"
   },
   "outputs": [
    {
     "name": "stdout",
     "output_type": "stream",
     "text": [
      "[1 1 0 1 1 1 1 1 1 1 1 1 1 0 0 1 0 0 1 0 0 0 1 0 0 1 0 0 0 0 0 0 0 0 0 0 0\n",
      " 0 0 0 0 0 0 0 0 0 0 0 0 0 0 0 0 0 0 0 0 0 0 0 0 0 0 0 0 0 0 0 0 0 0 0 0 0\n",
      " 0 0 0 0 0 0 0 0 0 0 0 0 0 0 0 0 0 0 0 0 0 0 0 0 0 0 0 0 0 0 0 0 0 0 0 0 0\n",
      " 0 0 0 0 0 0 0 0 0 0 0 0 0 0 0 0 0 0 0 0 0 0 0 0 0 0 0 0 0 0 0 0 0 0 0 0 0\n",
      " 0 0 0 0 0 0 0 0 0 0 0 0 0 0 0 0 0 0 0 0 0 0 0 0 0 0 0 0 0 0 0 0 0 0 0 0 0\n",
      " 0 0 0 0 0 0 0 0 0 0 0 0 0 0 0 0 0 0 0 0 0 0 0 0 0 0 0 0 0 0 0 0 0 0 0 0 0\n",
      " 0 0 0 0 0 0 0 0 0 0 0 0 0 0 0 0 0 0 0 0 0 0 0 0 0 0 0 0 0 0 0 0 0 0 0 0 0\n",
      " 0 0 0 0 0 0 0 0 0 0 0 0 0 0 0 0 0 0 0 0 0 0 0 0 0 0 0 1 0 0 1 1 0 1 1 0 0\n",
      " 0 0 0 0 0 0 0 0 0 0 0 0 0 0 0 0 0 0 0 0 0 0 0 0 0 0 0 0 0 0 0]\n"
     ]
    }
   ],
   "source": [
    "pred = model.predict(df_test)\n",
    "print(pred)"
   ]
  },
  {
   "cell_type": "markdown",
   "metadata": {},
   "source": [
    "## 儲存模型"
   ]
  },
  {
   "cell_type": "markdown",
   "metadata": {},
   "source": [
    "### 方法1. joblib"
   ]
  },
  {
   "cell_type": "code",
   "execution_count": 39,
   "metadata": {},
   "outputs": [
    {
     "name": "stdout",
     "output_type": "stream",
     "text": [
      "[1 1 0 1 1 1 1 1 1 1 1 1 1 0 0 1 0 0 1 0 0 0 1 0 0 1 0 0 0 0 0 0 0 0 0 0 0\n",
      " 0 0 0 0 0 0 0 0 0 0 0 0 0 0 0 0 0 0 0 0 0 0 0 0 0 0 0 0 0 0 0 0 0 0 0 0 0\n",
      " 0 0 0 0 0 0 0 0 0 0 0 0 0 0 0 0 0 0 0 0 0 0 0 0 0 0 0 0 0 0 0 0 0 0 0 0 0\n",
      " 0 0 0 0 0 0 0 0 0 0 0 0 0 0 0 0 0 0 0 0 0 0 0 0 0 0 0 0 0 0 0 0 0 0 0 0 0\n",
      " 0 0 0 0 0 0 0 0 0 0 0 0 0 0 0 0 0 0 0 0 0 0 0 0 0 0 0 0 0 0 0 0 0 0 0 0 0\n",
      " 0 0 0 0 0 0 0 0 0 0 0 0 0 0 0 0 0 0 0 0 0 0 0 0 0 0 0 0 0 0 0 0 0 0 0 0 0\n",
      " 0 0 0 0 0 0 0 0 0 0 0 0 0 0 0 0 0 0 0 0 0 0 0 0 0 0 0 0 0 0 0 0 0 0 0 0 0\n",
      " 0 0 0 0 0 0 0 0 0 0 0 0 0 0 0 0 0 0 0 0 0 0 0 0 0 0 0 1 0 0 1 1 0 1 1 0 0\n",
      " 0 0 0 0 0 0 0 0 0 0 0 0 0 0 0 0 0 0 0 0 0 0 0 0 0 0 0 0 0 0 0]\n"
     ]
    }
   ],
   "source": [
    "# Save model\n",
    "import joblib\n",
    "joblib.dump(model, './XGB_joblib_normalized_model')\n",
    "\n",
    "# Load model\n",
    "loaded_xgb_model = joblib.load('./XGB_joblib_normalized_model')\n",
    "pred = loaded_xgb_model.predict(df_test)\n",
    "print(pred)"
   ]
  },
  {
   "cell_type": "markdown",
   "metadata": {},
   "source": [
    "### 方法2. save_model"
   ]
  },
  {
   "cell_type": "code",
   "execution_count": 40,
   "metadata": {},
   "outputs": [
    {
     "name": "stdout",
     "output_type": "stream",
     "text": [
      "[7.8109914e-01 7.8109914e-01 4.8341340e-01 7.8109914e-01 6.8279213e-01\n",
      " 6.9796896e-01 8.0258614e-01 7.4860126e-01 7.9891568e-01 7.4611604e-01\n",
      " 5.8738369e-01 5.7253915e-01 8.2414228e-01 1.5495272e-02 7.4166581e-02\n",
      " 5.7215017e-01 1.5495272e-02 4.0918298e-02 6.4417219e-01 2.0133967e-02\n",
      " 1.2348074e-02 1.2348074e-02 7.0468193e-01 3.5959798e-01 3.4189314e-01\n",
      " 5.6418455e-01 2.0121711e-01 3.9733914e-01 1.3338348e-03 3.4048295e-01\n",
      " 1.6779280e-01 1.6779280e-01 4.5375603e-01 1.2471709e-01 1.2471709e-01\n",
      " 1.6779280e-01 1.6779280e-01 2.8145871e-01 1.6779280e-01 3.3025679e-01\n",
      " 4.6061489e-01 3.3025679e-01 2.9590276e-01 2.6416814e-01 2.8768688e-01\n",
      " 1.3856094e-01 1.6839005e-01 4.5228552e-02 1.6779280e-01 1.8209121e-01\n",
      " 1.6779280e-01 1.6779280e-01 1.6779280e-01 4.5228552e-02 1.6779280e-01\n",
      " 1.6779280e-01 4.5228552e-02 6.5849289e-02 6.9172555e-03 1.4705222e-02\n",
      " 6.9172555e-03 1.4705222e-02 1.4705222e-02 1.3548027e-02 1.3548027e-02\n",
      " 1.5913639e-03 1.4705222e-02 1.4705222e-02 1.7290793e-03 1.7290793e-03\n",
      " 1.4705222e-02 5.4223191e-02 1.3581514e-03 1.7290793e-03 1.4705222e-02\n",
      " 1.7290793e-03 2.8057632e-01 1.4705222e-02 5.0549787e-03 1.4705222e-02\n",
      " 4.0259790e-02 1.0792134e-02 2.1927919e-02 1.4705222e-02 5.0549787e-03\n",
      " 8.8204350e-04 1.2704530e-01 1.7523766e-01 2.6656408e-02 2.4291535e-03\n",
      " 2.3662546e-03 2.4658965e-03 6.8823376e-04 2.4523504e-02 5.2239182e-03\n",
      " 1.0703544e-03 6.4663024e-04 8.6334127e-04 9.8505244e-04 1.7016189e-02\n",
      " 9.7207474e-03 1.4086667e-02 4.8091915e-03 4.8091915e-03 7.5756884e-03\n",
      " 3.7961345e-02 1.6491847e-03 2.0326239e-03 5.4007926e-04 5.4007926e-04\n",
      " 5.4007926e-04 2.9449799e-04 3.9471616e-04 2.6762465e-04 5.2984420e-04\n",
      " 5.2984420e-04 4.2185970e-04 9.4716315e-04 8.9038158e-04 8.8786037e-04\n",
      " 5.2984420e-04 1.1824995e-03 1.8488527e-03 1.4700888e-03 1.8488527e-03\n",
      " 1.8488527e-03 1.4451349e-03 3.8168540e-03 6.5803383e-03 2.2607474e-03\n",
      " 1.5030039e-03 6.5803383e-03 6.5803383e-03 1.6471344e-03 5.3133341e-03\n",
      " 6.5803383e-03 1.0654793e-02 2.1751327e-03 2.6958406e-03 6.5803383e-03\n",
      " 6.5803383e-03 5.3133341e-03 6.5803383e-03 2.2607474e-03 3.1613715e-03\n",
      " 2.2847382e-03 3.0843196e-03 2.2607474e-03 1.0654793e-02 7.2420309e-03\n",
      " 1.0048907e-01 1.0048907e-01 8.9920446e-02 1.0048907e-01 1.0048907e-01\n",
      " 1.0048907e-01 8.1805559e-03 2.1173904e-02 6.9367297e-02 8.9920446e-02\n",
      " 7.6069668e-02 8.9920446e-02 8.9920446e-02 8.9920446e-02 8.9920446e-02\n",
      " 8.9920446e-02 8.9920446e-02 1.4302853e-02 8.9920446e-02 1.4180872e-03\n",
      " 1.8871546e-02 1.8871546e-02 2.7288554e-02 1.8871546e-02 2.1284869e-02\n",
      " 6.2319618e-03 7.1769189e-03 1.4812653e-02 1.3533581e-02 2.4999077e-03\n",
      " 1.2690699e-02 7.2218189e-03 1.1670911e-02 9.2060333e-03 1.2690699e-02\n",
      " 4.9559367e-03 1.7020280e-03 4.9559367e-03 5.2788836e-04 9.2060333e-03\n",
      " 1.1293606e-03 5.2788836e-04 2.9230596e-02 5.0550409e-02 4.3555447e-03\n",
      " 2.3051032e-03 2.9829254e-03 1.8212149e-02 2.9276604e-02 2.9276604e-02\n",
      " 3.2260608e-02 1.9784181e-03 3.7757382e-03 2.7567793e-03 3.4171911e-03\n",
      " 3.7757382e-03 3.7757382e-03 2.1374119e-03 1.2842690e-03 1.4282715e-03\n",
      " 1.0609430e-03 6.4984284e-04 1.3271139e-03 1.3271139e-03 1.3271139e-03\n",
      " 1.3271139e-03 1.3271139e-03 1.3840478e-03 1.9613861e-03 2.2038710e-03\n",
      " 1.0427500e-03 6.0095885e-03 1.5578727e-03 1.5578727e-03 6.0095885e-03\n",
      " 3.4523518e-03 6.0095885e-03 6.0095885e-03 6.0095885e-03 6.0095885e-03\n",
      " 6.0095885e-03 2.1009652e-03 6.0095885e-03 6.0095885e-03 6.0095885e-03\n",
      " 6.0095885e-03 2.1009652e-03 6.0095885e-03 6.0095885e-03 2.1009652e-03\n",
      " 6.0095885e-03 6.0095885e-03 6.0095885e-03 6.0095885e-03 6.0095885e-03\n",
      " 6.0095885e-03 6.0095885e-03 6.0095885e-03 6.0095885e-03 6.0095885e-03\n",
      " 6.0095885e-03 6.0095885e-03 6.2654419e-03 6.0095885e-03 6.0095885e-03\n",
      " 6.0095885e-03 6.0095885e-03 6.0095885e-03 1.5578727e-03 2.2038710e-03\n",
      " 1.5578727e-03 2.2038710e-03 4.5395307e-03 9.1405073e-03 1.5058216e-03\n",
      " 1.8212149e-02 3.9939242e-04 1.8212149e-02 1.8212149e-02 3.2260608e-02\n",
      " 3.2260608e-02 1.3385639e-03 4.3074805e-01 1.3594441e-01 4.6599734e-01\n",
      " 4.6599734e-01 5.6921314e-02 3.1617575e-03 2.7991448e-02 1.8263133e-02\n",
      " 4.8859785e-03 9.3840174e-03 8.7806238e-03 1.4278753e-02 8.7806238e-03\n",
      " 1.4278753e-02 6.3379693e-01 2.4523504e-02 2.9452246e-01 5.2507180e-01\n",
      " 5.7951969e-01 4.0602857e-01 6.1666006e-01 6.1666006e-01 1.1818744e-02\n",
      " 3.2655258e-02 3.5194182e-01 2.9686539e-04 1.9340246e-04 4.0498172e-04\n",
      " 1.7429802e-04 1.0024613e-04 1.1047312e-03 3.6678049e-03 1.8196987e-02\n",
      " 7.1697049e-02 7.1697049e-02 1.0048907e-01 1.0048907e-01 1.0048907e-01\n",
      " 2.9258329e-01 7.0223580e-03 3.3698475e-03 3.3698475e-03 1.8105255e-03\n",
      " 4.5925295e-03 3.9447043e-03 4.9080706e-04 3.9583756e-04 3.9471616e-04\n",
      " 1.0742530e-03 2.6475352e-03 1.0742530e-03 4.4218515e-04 5.4007926e-04\n",
      " 4.3557989e-04 4.4344136e-04]\n"
     ]
    }
   ],
   "source": [
    "# Save model\n",
    "model.save_model('XGB_normalized_topn_model.json')\n",
    "\n",
    "# Load model\n",
    "import xgboost as xgb\n",
    "model_xgb = xgb.XGBRegressor()\n",
    "model_xgb.load_model('XGB_normalized_topn_model.json')\n",
    "pred = model_xgb.predict(df_test)\n",
    "print(pred)"
   ]
  },
  {
   "cell_type": "code",
   "execution_count": 41,
   "metadata": {},
   "outputs": [
    {
     "data": {
      "text/plain": [
       "'0.90'"
      ]
     },
     "execution_count": 41,
     "metadata": {},
     "output_type": "execute_result"
    }
   ],
   "source": [
    "import xgboost\n",
    "xgboost.__version__"
   ]
  },
  {
   "cell_type": "code",
   "execution_count": 42,
   "metadata": {},
   "outputs": [
    {
     "name": "stdout",
     "output_type": "stream",
     "text": [
      "[0 0 0 0 0 0 0 0 0 0 0 0 0 0 0 0 0 0 0 0 0 0 0 0 0 0 0 0 0 0 0 0 0 0 0 0 0\n",
      " 0 0 0 0 0 0 0 0 0 0 0 0 0 0 0 0 0 0 0 0 0 0 0 0 0 0 0 0 0 0 0 0 0 0 0 1 1\n",
      " 0 1 1 1 1 1 1 1 0 0 0 0 1 1 1 0 0 1 1 0 0 1 0 0 0 0 0 0 0 1 1 0 1 1 0 1 0\n",
      " 0 1 1 1 1 1 1 1 1 1 1 0 0 0 0 0 0 0 1 1 0 1 0 0 0 0 0 0 0 0 0 0 0 1 0 0 0\n",
      " 0 0 0 0 0 0 0 0 0 0 0 0 0 0 0 0 0 0 0 0 0 0 0 0 0 0 0 0 0 0 0 0 0 0 0 0 0\n",
      " 0 0 0 0 0 0 0 0 0 0 0 0 0 0 0 0 0 0 0 0 0 0 0 0 0 0 0 0 0 0 0 0 0 0 0 0 0\n",
      " 0 0 0 0 0 0 0 0 0 0 0 0 0 0 0 0 0 0 0 0 0 0 0 0 0 0 0 0 0 0 0 0 0 0 0 0 0\n",
      " 0 0 0 0 0 0 0 0 0 0 0 0 0 0 0 0 0 0 0 0 0 0 0 0 0 0 0 0 0 0 0 0 0 0 0 0 0\n",
      " 0 0 0 0]\n"
     ]
    }
   ],
   "source": [
    "# Test\n",
    "# 測試一個答案全部為0的資料。\n",
    "data_path = '/project/xt121-group5/DAiSEE/0/1100131017.csv'\n",
    "df_test = pd.read_csv(data_path)\n",
    "df_test = FaceLandmarksPreprocessing(df_test)\n",
    "df_test = ReserveImportColumns(df_test, col_high_rel)\n",
    "# test, _ = data_preprocessing(df_test, train=False, sc=train_sc)\n",
    "\n",
    "pred = model.predict(df_test)\n",
    "print(pred)"
   ]
  },
  {
   "cell_type": "code",
   "execution_count": 43,
   "metadata": {},
   "outputs": [
    {
     "name": "stdout",
     "output_type": "stream",
     "text": [
      "0.11333333333333333\n"
     ]
    }
   ],
   "source": [
    "mean_a = pred.mean()\n",
    "print(mean_a)"
   ]
  },
  {
   "cell_type": "code",
   "execution_count": 44,
   "metadata": {},
   "outputs": [
    {
     "name": "stdout",
     "output_type": "stream",
     "text": [
      "0.06\n",
      "0.7133333333333334\n",
      "0.41\n",
      "0.043333333333333335\n",
      "0.0\n",
      "0.0\n",
      "0.07333333333333333\n",
      "0.0\n",
      "0.38\n",
      "0.0\n",
      "0.0\n",
      "0.0\n",
      "0.0\n",
      "0.09\n",
      "0.0\n",
      "0.0\n",
      "0.14333333333333334\n",
      "0.0\n",
      "0.0\n",
      "0.0\n",
      "0.006666666666666667\n",
      "0.45\n",
      "0.0033333333333333335\n",
      "0.0\n",
      "0.0033333333333333335\n",
      "0.006666666666666667\n",
      "0.0\n",
      "0.04666666666666667\n",
      "0.0\n",
      "0.37666666666666665\n",
      "0.006666666666666667\n",
      "0.15666666666666668\n",
      "0.056666666666666664\n",
      "0.23\n",
      "0.02666666666666667\n",
      "0.11333333333333333\n",
      "0.13\n",
      "0.5966666666666667\n",
      "0.13\n",
      "0.52\n",
      "0.02456140350877193\n",
      "0.04666666666666667\n",
      "0.0\n",
      "0.15333333333333332\n",
      "0.0\n",
      "0.0\n",
      "0.12666666666666668\n",
      "0.0547945205479452\n",
      "0.42\n",
      "0.0\n",
      "0.0\n",
      "0.0\n",
      "0.016666666666666666\n",
      "0.0\n",
      "0.0\n",
      "0.0\n",
      "0.0\n",
      "0.056666666666666664\n",
      "0.11333333333333333\n",
      "Total acc: 0.9491525423728814\n"
     ]
    }
   ],
   "source": [
    "data_dir = '/project/xt121-group5/DAiSEE/0'\n",
    "\n",
    "amount = 0\n",
    "acc = 0\n",
    "for dirname, _, filenames in os.walk(data_dir):\n",
    "    for filename in filenames:\n",
    "        if dirname.split('/')[-1] != 'test_data':\n",
    "            #print(os.path.join(dirname, filename))\n",
    "            testdata = os.path.join(dirname, filename)\n",
    "            df_test = pd.read_csv(testdata)\n",
    "            df_test = FaceLandmarksPreprocessing(df_test)\n",
    "            df_test = df_test.drop(col_deleted, axis = 1)\n",
    "            df_test = ReserveImportColumns(df_test, col_high_rel)\n",
    "            # test, _ = data_preprocessing(df_test, train=False, sc=train_sc)\n",
    "            pred = model.predict(df_test)\n",
    "            mean_a = pred.mean()\n",
    "            print(mean_a)\n",
    "            amount += 1\n",
    "            if mean_a < 0.5:\n",
    "                acc += 1\n",
    "print(f'Total acc: {acc / amount}')"
   ]
  },
  {
   "cell_type": "code",
   "execution_count": null,
   "metadata": {},
   "outputs": [],
   "source": []
  }
 ],
 "metadata": {
  "colab": {
   "authorship_tag": "ABX9TyNM9v33kYP6sSnew95Pq3Qh",
   "provenance": [
    {
     "file_id": "1r3PRKI1cL9c21w7R3Yr1n_1p7UumEbvh",
     "timestamp": 1683210991768
    }
   ]
  },
  "kernelspec": {
   "display_name": "Python 3 (ipykernel)",
   "language": "python",
   "name": "python3"
  },
  "language_info": {
   "codemirror_mode": {
    "name": "ipython",
    "version": 3
   },
   "file_extension": ".py",
   "mimetype": "text/x-python",
   "name": "python",
   "nbconvert_exporter": "python",
   "pygments_lexer": "ipython3",
   "version": "3.7.12"
  }
 },
 "nbformat": 4,
 "nbformat_minor": 4
}
